{
 "cells": [
  {
   "cell_type": "markdown",
   "metadata": {},
   "source": [
    "# Interconnect  - Churn prediction of clients\n",
    "\n",
    "The telecom operator Interconnect would like to be able to forecast their churn of clients. If it's discovered that a user is planning to leave, they will be offered promotional codes and special plan options. Interconnect's marketing team has collected some of their clientele's personal data, including information about their plans and contracts.\n",
    "\n",
    "\n",
    "### Data Description\n",
    "\n",
    "The data consists of files obtained from different sources:\n",
    "\n",
    "- `contract.csv` — contract information\n",
    "- `personal.csv` — the client's personal data\n",
    "- `internet.csv` — information about Internet services\n",
    "- `phone.csv` — information about telephone services\n",
    "\n",
    "In each file, the column `customerID` contains a unique code assigned to each client.\n",
    "\n",
    "The contract information is valid as of February 1, 2020.\n",
    "\n",
    "### Task:\n",
    "\n",
    "Analyze the data and build a model to forecast Interconnect clients' churn - in order to contact them in advance with promotions and keep them longer as clients."
   ]
  },
  {
   "cell_type": "code",
   "execution_count": 1,
   "metadata": {},
   "outputs": [
    {
     "name": "stdout",
     "output_type": "stream",
     "text": [
      "Requirement already satisfied: seaborn in c:\\users\\ory_s\\anaconda3_new\\lib\\site-packages (0.11.2)\n",
      "Requirement already satisfied: numpy>=1.15 in c:\\users\\ory_s\\anaconda3_new\\lib\\site-packages (from seaborn) (1.20.3)\n",
      "Requirement already satisfied: scipy>=1.0 in c:\\users\\ory_s\\anaconda3_new\\lib\\site-packages (from seaborn) (1.7.1)\n",
      "Requirement already satisfied: pandas>=0.23 in c:\\users\\ory_s\\anaconda3_new\\lib\\site-packages (from seaborn) (1.3.4)\n",
      "Requirement already satisfied: matplotlib>=2.2 in c:\\users\\ory_s\\anaconda3_new\\lib\\site-packages (from seaborn) (3.4.3)\n",
      "Requirement already satisfied: python-dateutil>=2.7 in c:\\users\\ory_s\\anaconda3_new\\lib\\site-packages (from matplotlib>=2.2->seaborn) (2.8.2)\n",
      "Requirement already satisfied: pyparsing>=2.2.1 in c:\\users\\ory_s\\anaconda3_new\\lib\\site-packages (from matplotlib>=2.2->seaborn) (3.0.4)\n",
      "Requirement already satisfied: kiwisolver>=1.0.1 in c:\\users\\ory_s\\anaconda3_new\\lib\\site-packages (from matplotlib>=2.2->seaborn) (1.3.1)\n",
      "Requirement already satisfied: pillow>=6.2.0 in c:\\users\\ory_s\\anaconda3_new\\lib\\site-packages (from matplotlib>=2.2->seaborn) (8.4.0)\n",
      "Requirement already satisfied: cycler>=0.10 in c:\\users\\ory_s\\anaconda3_new\\lib\\site-packages (from matplotlib>=2.2->seaborn) (0.10.0)\n",
      "Requirement already satisfied: six in c:\\users\\ory_s\\anaconda3_new\\lib\\site-packages (from cycler>=0.10->matplotlib>=2.2->seaborn) (1.16.0)\n",
      "Requirement already satisfied: pytz>=2017.3 in c:\\users\\ory_s\\anaconda3_new\\lib\\site-packages (from pandas>=0.23->seaborn) (2021.3)\n"
     ]
    }
   ],
   "source": [
    "!pip install -U seaborn"
   ]
  },
  {
   "cell_type": "code",
   "execution_count": 2,
   "metadata": {},
   "outputs": [],
   "source": [
    "#importing libraries:\n",
    "import pandas as pd\n",
    "import seaborn as sns\n",
    "import matplotlib.pyplot as plt\n",
    "from scipy import stats as st\n",
    "\n",
    "import numpy as np\n",
    "import math as mth\n",
    "\n",
    "from IPython.display import display\n",
    "import warnings\n",
    "warnings.filterwarnings(\"ignore\")\n",
    "import re\n",
    "\n",
    "#importing models:\n",
    "from sklearn.linear_model import LinearRegression\n",
    "\n",
    "#importing metrics,scaler and models methods:\n",
    "import joblib\n",
    "from sklearn.model_selection import train_test_split\n",
    "from sklearn.metrics import make_scorer, mean_absolute_error as mae\n",
    "from sklearn.preprocessing import StandardScaler\n",
    "from sklearn.model_selection import GridSearchCV\n",
    "\n",
    "\n"
   ]
  },
  {
   "cell_type": "code",
   "execution_count": 3,
   "metadata": {},
   "outputs": [],
   "source": [
    "#importing the data:\n",
    "\n",
    "try:\n",
    "    contract = pd.read_csv('C:\\\\Users\\\\ory_s\\\\Practicum100\\\\final_provider\\\\final_provider\\\\contract.csv')\n",
    "    personal = pd.read_csv('C:\\\\Users\\\\ory_s\\\\Practicum100\\\\final_provider\\\\final_provider\\\\personal.csv')\n",
    "    internet = pd.read_csv('C:\\\\Users\\\\ory_s\\\\Practicum100\\\\final_provider\\\\final_provider\\\\internet.csv')\n",
    "    phone = pd.read_csv('C:\\\\Users\\\\ory_s\\\\Practicum100\\\\final_provider\\\\final_provider\\\\phone.csv')\n",
    "    \n",
    "except:\n",
    "    contract = pd.read_csv('/datasets/final_provider/contract.csv')\n",
    "    personal = pd.read_csv('/datasets/final_provider/personal.csv')\n",
    "    internet = pd.read_csv('/datasets/final_provider/internet.csv')\n",
    "    phone = pd.read_csv('/datasets/final_provider/phone.csv')\n",
    "\n"
   ]
  },
  {
   "cell_type": "code",
   "execution_count": 4,
   "metadata": {},
   "outputs": [],
   "source": [
    "#creating a function to help with the exploration of the datasets:\n",
    "def explore(df):\n",
    "    display(df.info())\n",
    "    display(df.describe())\n",
    "    display(df.head())\n",
    "    display(df.isna().sum())\n",
    "    display('number of duplicates:', df.duplicated().sum())"
   ]
  },
  {
   "cell_type": "markdown",
   "metadata": {},
   "source": [
    "### contract df:"
   ]
  },
  {
   "cell_type": "code",
   "execution_count": 5,
   "metadata": {},
   "outputs": [
    {
     "name": "stdout",
     "output_type": "stream",
     "text": [
      "<class 'pandas.core.frame.DataFrame'>\n",
      "RangeIndex: 7043 entries, 0 to 7042\n",
      "Data columns (total 8 columns):\n",
      " #   Column            Non-Null Count  Dtype  \n",
      "---  ------            --------------  -----  \n",
      " 0   customerID        7043 non-null   object \n",
      " 1   BeginDate         7043 non-null   object \n",
      " 2   EndDate           7043 non-null   object \n",
      " 3   Type              7043 non-null   object \n",
      " 4   PaperlessBilling  7043 non-null   object \n",
      " 5   PaymentMethod     7043 non-null   object \n",
      " 6   MonthlyCharges    7043 non-null   float64\n",
      " 7   TotalCharges      7043 non-null   object \n",
      "dtypes: float64(1), object(7)\n",
      "memory usage: 440.3+ KB\n"
     ]
    },
    {
     "data": {
      "text/plain": [
       "None"
      ]
     },
     "metadata": {},
     "output_type": "display_data"
    },
    {
     "data": {
      "text/html": [
       "<div>\n",
       "<style scoped>\n",
       "    .dataframe tbody tr th:only-of-type {\n",
       "        vertical-align: middle;\n",
       "    }\n",
       "\n",
       "    .dataframe tbody tr th {\n",
       "        vertical-align: top;\n",
       "    }\n",
       "\n",
       "    .dataframe thead th {\n",
       "        text-align: right;\n",
       "    }\n",
       "</style>\n",
       "<table border=\"1\" class=\"dataframe\">\n",
       "  <thead>\n",
       "    <tr style=\"text-align: right;\">\n",
       "      <th></th>\n",
       "      <th>MonthlyCharges</th>\n",
       "    </tr>\n",
       "  </thead>\n",
       "  <tbody>\n",
       "    <tr>\n",
       "      <th>count</th>\n",
       "      <td>7043.000000</td>\n",
       "    </tr>\n",
       "    <tr>\n",
       "      <th>mean</th>\n",
       "      <td>64.761692</td>\n",
       "    </tr>\n",
       "    <tr>\n",
       "      <th>std</th>\n",
       "      <td>30.090047</td>\n",
       "    </tr>\n",
       "    <tr>\n",
       "      <th>min</th>\n",
       "      <td>18.250000</td>\n",
       "    </tr>\n",
       "    <tr>\n",
       "      <th>25%</th>\n",
       "      <td>35.500000</td>\n",
       "    </tr>\n",
       "    <tr>\n",
       "      <th>50%</th>\n",
       "      <td>70.350000</td>\n",
       "    </tr>\n",
       "    <tr>\n",
       "      <th>75%</th>\n",
       "      <td>89.850000</td>\n",
       "    </tr>\n",
       "    <tr>\n",
       "      <th>max</th>\n",
       "      <td>118.750000</td>\n",
       "    </tr>\n",
       "  </tbody>\n",
       "</table>\n",
       "</div>"
      ],
      "text/plain": [
       "       MonthlyCharges\n",
       "count     7043.000000\n",
       "mean        64.761692\n",
       "std         30.090047\n",
       "min         18.250000\n",
       "25%         35.500000\n",
       "50%         70.350000\n",
       "75%         89.850000\n",
       "max        118.750000"
      ]
     },
     "metadata": {},
     "output_type": "display_data"
    },
    {
     "data": {
      "text/html": [
       "<div>\n",
       "<style scoped>\n",
       "    .dataframe tbody tr th:only-of-type {\n",
       "        vertical-align: middle;\n",
       "    }\n",
       "\n",
       "    .dataframe tbody tr th {\n",
       "        vertical-align: top;\n",
       "    }\n",
       "\n",
       "    .dataframe thead th {\n",
       "        text-align: right;\n",
       "    }\n",
       "</style>\n",
       "<table border=\"1\" class=\"dataframe\">\n",
       "  <thead>\n",
       "    <tr style=\"text-align: right;\">\n",
       "      <th></th>\n",
       "      <th>customerID</th>\n",
       "      <th>BeginDate</th>\n",
       "      <th>EndDate</th>\n",
       "      <th>Type</th>\n",
       "      <th>PaperlessBilling</th>\n",
       "      <th>PaymentMethod</th>\n",
       "      <th>MonthlyCharges</th>\n",
       "      <th>TotalCharges</th>\n",
       "    </tr>\n",
       "  </thead>\n",
       "  <tbody>\n",
       "    <tr>\n",
       "      <th>0</th>\n",
       "      <td>7590-VHVEG</td>\n",
       "      <td>2020-01-01</td>\n",
       "      <td>No</td>\n",
       "      <td>Month-to-month</td>\n",
       "      <td>Yes</td>\n",
       "      <td>Electronic check</td>\n",
       "      <td>29.85</td>\n",
       "      <td>29.85</td>\n",
       "    </tr>\n",
       "    <tr>\n",
       "      <th>1</th>\n",
       "      <td>5575-GNVDE</td>\n",
       "      <td>2017-04-01</td>\n",
       "      <td>No</td>\n",
       "      <td>One year</td>\n",
       "      <td>No</td>\n",
       "      <td>Mailed check</td>\n",
       "      <td>56.95</td>\n",
       "      <td>1889.5</td>\n",
       "    </tr>\n",
       "    <tr>\n",
       "      <th>2</th>\n",
       "      <td>3668-QPYBK</td>\n",
       "      <td>2019-10-01</td>\n",
       "      <td>2019-12-01 00:00:00</td>\n",
       "      <td>Month-to-month</td>\n",
       "      <td>Yes</td>\n",
       "      <td>Mailed check</td>\n",
       "      <td>53.85</td>\n",
       "      <td>108.15</td>\n",
       "    </tr>\n",
       "    <tr>\n",
       "      <th>3</th>\n",
       "      <td>7795-CFOCW</td>\n",
       "      <td>2016-05-01</td>\n",
       "      <td>No</td>\n",
       "      <td>One year</td>\n",
       "      <td>No</td>\n",
       "      <td>Bank transfer (automatic)</td>\n",
       "      <td>42.30</td>\n",
       "      <td>1840.75</td>\n",
       "    </tr>\n",
       "    <tr>\n",
       "      <th>4</th>\n",
       "      <td>9237-HQITU</td>\n",
       "      <td>2019-09-01</td>\n",
       "      <td>2019-11-01 00:00:00</td>\n",
       "      <td>Month-to-month</td>\n",
       "      <td>Yes</td>\n",
       "      <td>Electronic check</td>\n",
       "      <td>70.70</td>\n",
       "      <td>151.65</td>\n",
       "    </tr>\n",
       "  </tbody>\n",
       "</table>\n",
       "</div>"
      ],
      "text/plain": [
       "   customerID   BeginDate              EndDate            Type  \\\n",
       "0  7590-VHVEG  2020-01-01                   No  Month-to-month   \n",
       "1  5575-GNVDE  2017-04-01                   No        One year   \n",
       "2  3668-QPYBK  2019-10-01  2019-12-01 00:00:00  Month-to-month   \n",
       "3  7795-CFOCW  2016-05-01                   No        One year   \n",
       "4  9237-HQITU  2019-09-01  2019-11-01 00:00:00  Month-to-month   \n",
       "\n",
       "  PaperlessBilling              PaymentMethod  MonthlyCharges TotalCharges  \n",
       "0              Yes           Electronic check           29.85        29.85  \n",
       "1               No               Mailed check           56.95       1889.5  \n",
       "2              Yes               Mailed check           53.85       108.15  \n",
       "3               No  Bank transfer (automatic)           42.30      1840.75  \n",
       "4              Yes           Electronic check           70.70       151.65  "
      ]
     },
     "metadata": {},
     "output_type": "display_data"
    },
    {
     "data": {
      "text/plain": [
       "customerID          0\n",
       "BeginDate           0\n",
       "EndDate             0\n",
       "Type                0\n",
       "PaperlessBilling    0\n",
       "PaymentMethod       0\n",
       "MonthlyCharges      0\n",
       "TotalCharges        0\n",
       "dtype: int64"
      ]
     },
     "metadata": {},
     "output_type": "display_data"
    },
    {
     "data": {
      "text/plain": [
       "'number of duplicates:'"
      ]
     },
     "metadata": {},
     "output_type": "display_data"
    },
    {
     "data": {
      "text/plain": [
       "0"
      ]
     },
     "metadata": {},
     "output_type": "display_data"
    }
   ],
   "source": [
    "explore(contract)"
   ]
  },
  {
   "cell_type": "markdown",
   "metadata": {},
   "source": [
    "- TotalCharges should be numerical - currently an object type.\n",
    "- BeginDate can be casted as Datetime format\n",
    "- PaperlessBilling is binary - can be transformed to 0/1\n",
    "- Type and PaymentMethod: categorical (non ordinal)\n",
    "- EndDate could be as Datatime - after dealing with 'No' entries"
   ]
  },
  {
   "cell_type": "markdown",
   "metadata": {},
   "source": [
    "Changing the 'TotalCharges' to float didn't work. There might be some other characters:"
   ]
  },
  {
   "cell_type": "code",
   "execution_count": 6,
   "metadata": {},
   "outputs": [
    {
     "data": {
      "text/html": [
       "<div>\n",
       "<style scoped>\n",
       "    .dataframe tbody tr th:only-of-type {\n",
       "        vertical-align: middle;\n",
       "    }\n",
       "\n",
       "    .dataframe tbody tr th {\n",
       "        vertical-align: top;\n",
       "    }\n",
       "\n",
       "    .dataframe thead th {\n",
       "        text-align: right;\n",
       "    }\n",
       "</style>\n",
       "<table border=\"1\" class=\"dataframe\">\n",
       "  <thead>\n",
       "    <tr style=\"text-align: right;\">\n",
       "      <th></th>\n",
       "      <th>customerID</th>\n",
       "      <th>BeginDate</th>\n",
       "      <th>EndDate</th>\n",
       "      <th>Type</th>\n",
       "      <th>PaperlessBilling</th>\n",
       "      <th>PaymentMethod</th>\n",
       "      <th>MonthlyCharges</th>\n",
       "      <th>TotalCharges</th>\n",
       "    </tr>\n",
       "  </thead>\n",
       "  <tbody>\n",
       "    <tr>\n",
       "      <th>488</th>\n",
       "      <td>4472-LVYGI</td>\n",
       "      <td>2020-02-01</td>\n",
       "      <td>No</td>\n",
       "      <td>Two year</td>\n",
       "      <td>Yes</td>\n",
       "      <td>Bank transfer (automatic)</td>\n",
       "      <td>52.55</td>\n",
       "      <td></td>\n",
       "    </tr>\n",
       "    <tr>\n",
       "      <th>753</th>\n",
       "      <td>3115-CZMZD</td>\n",
       "      <td>2020-02-01</td>\n",
       "      <td>No</td>\n",
       "      <td>Two year</td>\n",
       "      <td>No</td>\n",
       "      <td>Mailed check</td>\n",
       "      <td>20.25</td>\n",
       "      <td></td>\n",
       "    </tr>\n",
       "    <tr>\n",
       "      <th>936</th>\n",
       "      <td>5709-LVOEQ</td>\n",
       "      <td>2020-02-01</td>\n",
       "      <td>No</td>\n",
       "      <td>Two year</td>\n",
       "      <td>No</td>\n",
       "      <td>Mailed check</td>\n",
       "      <td>80.85</td>\n",
       "      <td></td>\n",
       "    </tr>\n",
       "    <tr>\n",
       "      <th>1082</th>\n",
       "      <td>4367-NUYAO</td>\n",
       "      <td>2020-02-01</td>\n",
       "      <td>No</td>\n",
       "      <td>Two year</td>\n",
       "      <td>No</td>\n",
       "      <td>Mailed check</td>\n",
       "      <td>25.75</td>\n",
       "      <td></td>\n",
       "    </tr>\n",
       "    <tr>\n",
       "      <th>1340</th>\n",
       "      <td>1371-DWPAZ</td>\n",
       "      <td>2020-02-01</td>\n",
       "      <td>No</td>\n",
       "      <td>Two year</td>\n",
       "      <td>No</td>\n",
       "      <td>Credit card (automatic)</td>\n",
       "      <td>56.05</td>\n",
       "      <td></td>\n",
       "    </tr>\n",
       "    <tr>\n",
       "      <th>3331</th>\n",
       "      <td>7644-OMVMY</td>\n",
       "      <td>2020-02-01</td>\n",
       "      <td>No</td>\n",
       "      <td>Two year</td>\n",
       "      <td>No</td>\n",
       "      <td>Mailed check</td>\n",
       "      <td>19.85</td>\n",
       "      <td></td>\n",
       "    </tr>\n",
       "    <tr>\n",
       "      <th>3826</th>\n",
       "      <td>3213-VVOLG</td>\n",
       "      <td>2020-02-01</td>\n",
       "      <td>No</td>\n",
       "      <td>Two year</td>\n",
       "      <td>No</td>\n",
       "      <td>Mailed check</td>\n",
       "      <td>25.35</td>\n",
       "      <td></td>\n",
       "    </tr>\n",
       "    <tr>\n",
       "      <th>4380</th>\n",
       "      <td>2520-SGTTA</td>\n",
       "      <td>2020-02-01</td>\n",
       "      <td>No</td>\n",
       "      <td>Two year</td>\n",
       "      <td>No</td>\n",
       "      <td>Mailed check</td>\n",
       "      <td>20.00</td>\n",
       "      <td></td>\n",
       "    </tr>\n",
       "    <tr>\n",
       "      <th>5218</th>\n",
       "      <td>2923-ARZLG</td>\n",
       "      <td>2020-02-01</td>\n",
       "      <td>No</td>\n",
       "      <td>One year</td>\n",
       "      <td>Yes</td>\n",
       "      <td>Mailed check</td>\n",
       "      <td>19.70</td>\n",
       "      <td></td>\n",
       "    </tr>\n",
       "    <tr>\n",
       "      <th>6670</th>\n",
       "      <td>4075-WKNIU</td>\n",
       "      <td>2020-02-01</td>\n",
       "      <td>No</td>\n",
       "      <td>Two year</td>\n",
       "      <td>No</td>\n",
       "      <td>Mailed check</td>\n",
       "      <td>73.35</td>\n",
       "      <td></td>\n",
       "    </tr>\n",
       "    <tr>\n",
       "      <th>6754</th>\n",
       "      <td>2775-SEFEE</td>\n",
       "      <td>2020-02-01</td>\n",
       "      <td>No</td>\n",
       "      <td>Two year</td>\n",
       "      <td>Yes</td>\n",
       "      <td>Bank transfer (automatic)</td>\n",
       "      <td>61.90</td>\n",
       "      <td></td>\n",
       "    </tr>\n",
       "  </tbody>\n",
       "</table>\n",
       "</div>"
      ],
      "text/plain": [
       "      customerID   BeginDate EndDate      Type PaperlessBilling  \\\n",
       "488   4472-LVYGI  2020-02-01      No  Two year              Yes   \n",
       "753   3115-CZMZD  2020-02-01      No  Two year               No   \n",
       "936   5709-LVOEQ  2020-02-01      No  Two year               No   \n",
       "1082  4367-NUYAO  2020-02-01      No  Two year               No   \n",
       "1340  1371-DWPAZ  2020-02-01      No  Two year               No   \n",
       "3331  7644-OMVMY  2020-02-01      No  Two year               No   \n",
       "3826  3213-VVOLG  2020-02-01      No  Two year               No   \n",
       "4380  2520-SGTTA  2020-02-01      No  Two year               No   \n",
       "5218  2923-ARZLG  2020-02-01      No  One year              Yes   \n",
       "6670  4075-WKNIU  2020-02-01      No  Two year               No   \n",
       "6754  2775-SEFEE  2020-02-01      No  Two year              Yes   \n",
       "\n",
       "                  PaymentMethod  MonthlyCharges TotalCharges  \n",
       "488   Bank transfer (automatic)           52.55               \n",
       "753                Mailed check           20.25               \n",
       "936                Mailed check           80.85               \n",
       "1082               Mailed check           25.75               \n",
       "1340    Credit card (automatic)           56.05               \n",
       "3331               Mailed check           19.85               \n",
       "3826               Mailed check           25.35               \n",
       "4380               Mailed check           20.00               \n",
       "5218               Mailed check           19.70               \n",
       "6670               Mailed check           73.35               \n",
       "6754  Bank transfer (automatic)           61.90               "
      ]
     },
     "execution_count": 6,
     "metadata": {},
     "output_type": "execute_result"
    }
   ],
   "source": [
    "contract[contract['TotalCharges'].str.contains(r'[ ]')]\n"
   ]
  },
  {
   "cell_type": "markdown",
   "metadata": {},
   "source": [
    "- Some rows are missing data in the 'TotalCharges' column (currently filled with ' '). Those can be filled with '0' instead, as all those clients are new from February 1st 2020, and there weren't any charges yet at that time. "
   ]
  },
  {
   "cell_type": "code",
   "execution_count": 7,
   "metadata": {},
   "outputs": [],
   "source": [
    "#replacing all ' ' with '0':\n",
    "contract['TotalCharges'] = contract['TotalCharges'].str.replace(r'[ ]','0')\n",
    "\n",
    "#casting the column as float:\n",
    "contract['TotalCharges'] = contract['TotalCharges'].astype(float)"
   ]
  },
  {
   "cell_type": "code",
   "execution_count": 8,
   "metadata": {},
   "outputs": [
    {
     "data": {
      "text/html": [
       "<div>\n",
       "<style scoped>\n",
       "    .dataframe tbody tr th:only-of-type {\n",
       "        vertical-align: middle;\n",
       "    }\n",
       "\n",
       "    .dataframe tbody tr th {\n",
       "        vertical-align: top;\n",
       "    }\n",
       "\n",
       "    .dataframe thead th {\n",
       "        text-align: right;\n",
       "    }\n",
       "</style>\n",
       "<table border=\"1\" class=\"dataframe\">\n",
       "  <thead>\n",
       "    <tr style=\"text-align: right;\">\n",
       "      <th></th>\n",
       "      <th>MonthlyCharges</th>\n",
       "      <th>TotalCharges</th>\n",
       "    </tr>\n",
       "  </thead>\n",
       "  <tbody>\n",
       "    <tr>\n",
       "      <th>count</th>\n",
       "      <td>7043.000000</td>\n",
       "      <td>7043.000000</td>\n",
       "    </tr>\n",
       "    <tr>\n",
       "      <th>mean</th>\n",
       "      <td>64.761692</td>\n",
       "      <td>2279.734304</td>\n",
       "    </tr>\n",
       "    <tr>\n",
       "      <th>std</th>\n",
       "      <td>30.090047</td>\n",
       "      <td>2266.794470</td>\n",
       "    </tr>\n",
       "    <tr>\n",
       "      <th>min</th>\n",
       "      <td>18.250000</td>\n",
       "      <td>0.000000</td>\n",
       "    </tr>\n",
       "    <tr>\n",
       "      <th>25%</th>\n",
       "      <td>35.500000</td>\n",
       "      <td>398.550000</td>\n",
       "    </tr>\n",
       "    <tr>\n",
       "      <th>50%</th>\n",
       "      <td>70.350000</td>\n",
       "      <td>1394.550000</td>\n",
       "    </tr>\n",
       "    <tr>\n",
       "      <th>75%</th>\n",
       "      <td>89.850000</td>\n",
       "      <td>3786.600000</td>\n",
       "    </tr>\n",
       "    <tr>\n",
       "      <th>max</th>\n",
       "      <td>118.750000</td>\n",
       "      <td>8684.800000</td>\n",
       "    </tr>\n",
       "  </tbody>\n",
       "</table>\n",
       "</div>"
      ],
      "text/plain": [
       "       MonthlyCharges  TotalCharges\n",
       "count     7043.000000   7043.000000\n",
       "mean        64.761692   2279.734304\n",
       "std         30.090047   2266.794470\n",
       "min         18.250000      0.000000\n",
       "25%         35.500000    398.550000\n",
       "50%         70.350000   1394.550000\n",
       "75%         89.850000   3786.600000\n",
       "max        118.750000   8684.800000"
      ]
     },
     "execution_count": 8,
     "metadata": {},
     "output_type": "execute_result"
    }
   ],
   "source": [
    "contract.describe()"
   ]
  },
  {
   "cell_type": "code",
   "execution_count": 9,
   "metadata": {},
   "outputs": [
    {
     "data": {
      "text/plain": [
       "array(['Yes', 'No'], dtype=object)"
      ]
     },
     "metadata": {},
     "output_type": "display_data"
    },
    {
     "data": {
      "text/plain": [
       "array(['Electronic check', 'Mailed check', 'Bank transfer (automatic)',\n",
       "       'Credit card (automatic)'], dtype=object)"
      ]
     },
     "metadata": {},
     "output_type": "display_data"
    },
    {
     "data": {
      "text/plain": [
       "array(['Month-to-month', 'One year', 'Two year'], dtype=object)"
      ]
     },
     "metadata": {},
     "output_type": "display_data"
    }
   ],
   "source": [
    "#looking at the unique categories entries:\n",
    "categoric = ['PaperlessBilling', 'PaymentMethod','Type']\n",
    "\n",
    "for cat in categoric:\n",
    "    display(contract[cat].unique())"
   ]
  },
  {
   "cell_type": "code",
   "execution_count": 10,
   "metadata": {},
   "outputs": [],
   "source": [
    "#casting 'BeginDate' as datetime:\n",
    "contract['BeginDate'] = pd.to_datetime(contract['BeginDate'])"
   ]
  },
  {
   "cell_type": "markdown",
   "metadata": {},
   "source": [
    "### Personal df:"
   ]
  },
  {
   "cell_type": "code",
   "execution_count": 11,
   "metadata": {},
   "outputs": [
    {
     "name": "stdout",
     "output_type": "stream",
     "text": [
      "<class 'pandas.core.frame.DataFrame'>\n",
      "RangeIndex: 7043 entries, 0 to 7042\n",
      "Data columns (total 5 columns):\n",
      " #   Column         Non-Null Count  Dtype \n",
      "---  ------         --------------  ----- \n",
      " 0   customerID     7043 non-null   object\n",
      " 1   gender         7043 non-null   object\n",
      " 2   SeniorCitizen  7043 non-null   int64 \n",
      " 3   Partner        7043 non-null   object\n",
      " 4   Dependents     7043 non-null   object\n",
      "dtypes: int64(1), object(4)\n",
      "memory usage: 275.2+ KB\n"
     ]
    },
    {
     "data": {
      "text/plain": [
       "None"
      ]
     },
     "metadata": {},
     "output_type": "display_data"
    },
    {
     "data": {
      "text/html": [
       "<div>\n",
       "<style scoped>\n",
       "    .dataframe tbody tr th:only-of-type {\n",
       "        vertical-align: middle;\n",
       "    }\n",
       "\n",
       "    .dataframe tbody tr th {\n",
       "        vertical-align: top;\n",
       "    }\n",
       "\n",
       "    .dataframe thead th {\n",
       "        text-align: right;\n",
       "    }\n",
       "</style>\n",
       "<table border=\"1\" class=\"dataframe\">\n",
       "  <thead>\n",
       "    <tr style=\"text-align: right;\">\n",
       "      <th></th>\n",
       "      <th>SeniorCitizen</th>\n",
       "    </tr>\n",
       "  </thead>\n",
       "  <tbody>\n",
       "    <tr>\n",
       "      <th>count</th>\n",
       "      <td>7043.000000</td>\n",
       "    </tr>\n",
       "    <tr>\n",
       "      <th>mean</th>\n",
       "      <td>0.162147</td>\n",
       "    </tr>\n",
       "    <tr>\n",
       "      <th>std</th>\n",
       "      <td>0.368612</td>\n",
       "    </tr>\n",
       "    <tr>\n",
       "      <th>min</th>\n",
       "      <td>0.000000</td>\n",
       "    </tr>\n",
       "    <tr>\n",
       "      <th>25%</th>\n",
       "      <td>0.000000</td>\n",
       "    </tr>\n",
       "    <tr>\n",
       "      <th>50%</th>\n",
       "      <td>0.000000</td>\n",
       "    </tr>\n",
       "    <tr>\n",
       "      <th>75%</th>\n",
       "      <td>0.000000</td>\n",
       "    </tr>\n",
       "    <tr>\n",
       "      <th>max</th>\n",
       "      <td>1.000000</td>\n",
       "    </tr>\n",
       "  </tbody>\n",
       "</table>\n",
       "</div>"
      ],
      "text/plain": [
       "       SeniorCitizen\n",
       "count    7043.000000\n",
       "mean        0.162147\n",
       "std         0.368612\n",
       "min         0.000000\n",
       "25%         0.000000\n",
       "50%         0.000000\n",
       "75%         0.000000\n",
       "max         1.000000"
      ]
     },
     "metadata": {},
     "output_type": "display_data"
    },
    {
     "data": {
      "text/html": [
       "<div>\n",
       "<style scoped>\n",
       "    .dataframe tbody tr th:only-of-type {\n",
       "        vertical-align: middle;\n",
       "    }\n",
       "\n",
       "    .dataframe tbody tr th {\n",
       "        vertical-align: top;\n",
       "    }\n",
       "\n",
       "    .dataframe thead th {\n",
       "        text-align: right;\n",
       "    }\n",
       "</style>\n",
       "<table border=\"1\" class=\"dataframe\">\n",
       "  <thead>\n",
       "    <tr style=\"text-align: right;\">\n",
       "      <th></th>\n",
       "      <th>customerID</th>\n",
       "      <th>gender</th>\n",
       "      <th>SeniorCitizen</th>\n",
       "      <th>Partner</th>\n",
       "      <th>Dependents</th>\n",
       "    </tr>\n",
       "  </thead>\n",
       "  <tbody>\n",
       "    <tr>\n",
       "      <th>0</th>\n",
       "      <td>7590-VHVEG</td>\n",
       "      <td>Female</td>\n",
       "      <td>0</td>\n",
       "      <td>Yes</td>\n",
       "      <td>No</td>\n",
       "    </tr>\n",
       "    <tr>\n",
       "      <th>1</th>\n",
       "      <td>5575-GNVDE</td>\n",
       "      <td>Male</td>\n",
       "      <td>0</td>\n",
       "      <td>No</td>\n",
       "      <td>No</td>\n",
       "    </tr>\n",
       "    <tr>\n",
       "      <th>2</th>\n",
       "      <td>3668-QPYBK</td>\n",
       "      <td>Male</td>\n",
       "      <td>0</td>\n",
       "      <td>No</td>\n",
       "      <td>No</td>\n",
       "    </tr>\n",
       "    <tr>\n",
       "      <th>3</th>\n",
       "      <td>7795-CFOCW</td>\n",
       "      <td>Male</td>\n",
       "      <td>0</td>\n",
       "      <td>No</td>\n",
       "      <td>No</td>\n",
       "    </tr>\n",
       "    <tr>\n",
       "      <th>4</th>\n",
       "      <td>9237-HQITU</td>\n",
       "      <td>Female</td>\n",
       "      <td>0</td>\n",
       "      <td>No</td>\n",
       "      <td>No</td>\n",
       "    </tr>\n",
       "  </tbody>\n",
       "</table>\n",
       "</div>"
      ],
      "text/plain": [
       "   customerID  gender  SeniorCitizen Partner Dependents\n",
       "0  7590-VHVEG  Female              0     Yes         No\n",
       "1  5575-GNVDE    Male              0      No         No\n",
       "2  3668-QPYBK    Male              0      No         No\n",
       "3  7795-CFOCW    Male              0      No         No\n",
       "4  9237-HQITU  Female              0      No         No"
      ]
     },
     "metadata": {},
     "output_type": "display_data"
    },
    {
     "data": {
      "text/plain": [
       "customerID       0\n",
       "gender           0\n",
       "SeniorCitizen    0\n",
       "Partner          0\n",
       "Dependents       0\n",
       "dtype: int64"
      ]
     },
     "metadata": {},
     "output_type": "display_data"
    },
    {
     "data": {
      "text/plain": [
       "'number of duplicates:'"
      ]
     },
     "metadata": {},
     "output_type": "display_data"
    },
    {
     "data": {
      "text/plain": [
       "0"
      ]
     },
     "metadata": {},
     "output_type": "display_data"
    }
   ],
   "source": [
    "explore(personal)"
   ]
  },
  {
   "cell_type": "code",
   "execution_count": 12,
   "metadata": {},
   "outputs": [
    {
     "data": {
      "text/plain": [
       "array(['Female', 'Male'], dtype=object)"
      ]
     },
     "metadata": {},
     "output_type": "display_data"
    },
    {
     "data": {
      "text/plain": [
       "array([0, 1], dtype=int64)"
      ]
     },
     "metadata": {},
     "output_type": "display_data"
    },
    {
     "data": {
      "text/plain": [
       "array(['Yes', 'No'], dtype=object)"
      ]
     },
     "metadata": {},
     "output_type": "display_data"
    },
    {
     "data": {
      "text/plain": [
       "array(['No', 'Yes'], dtype=object)"
      ]
     },
     "metadata": {},
     "output_type": "display_data"
    }
   ],
   "source": [
    "for col in personal.columns[1:]:\n",
    "    display(personal[col].unique())"
   ]
  },
  {
   "cell_type": "markdown",
   "metadata": {},
   "source": [
    "**Conclusion:**\n",
    "- Same number of rows as in the contracts df. \n",
    "- Columns can be transformed as binary\n"
   ]
  },
  {
   "cell_type": "markdown",
   "metadata": {},
   "source": [
    "### Internet df:"
   ]
  },
  {
   "cell_type": "code",
   "execution_count": 13,
   "metadata": {},
   "outputs": [
    {
     "name": "stdout",
     "output_type": "stream",
     "text": [
      "<class 'pandas.core.frame.DataFrame'>\n",
      "RangeIndex: 5517 entries, 0 to 5516\n",
      "Data columns (total 8 columns):\n",
      " #   Column            Non-Null Count  Dtype \n",
      "---  ------            --------------  ----- \n",
      " 0   customerID        5517 non-null   object\n",
      " 1   InternetService   5517 non-null   object\n",
      " 2   OnlineSecurity    5517 non-null   object\n",
      " 3   OnlineBackup      5517 non-null   object\n",
      " 4   DeviceProtection  5517 non-null   object\n",
      " 5   TechSupport       5517 non-null   object\n",
      " 6   StreamingTV       5517 non-null   object\n",
      " 7   StreamingMovies   5517 non-null   object\n",
      "dtypes: object(8)\n",
      "memory usage: 344.9+ KB\n"
     ]
    },
    {
     "data": {
      "text/plain": [
       "None"
      ]
     },
     "metadata": {},
     "output_type": "display_data"
    },
    {
     "data": {
      "text/html": [
       "<div>\n",
       "<style scoped>\n",
       "    .dataframe tbody tr th:only-of-type {\n",
       "        vertical-align: middle;\n",
       "    }\n",
       "\n",
       "    .dataframe tbody tr th {\n",
       "        vertical-align: top;\n",
       "    }\n",
       "\n",
       "    .dataframe thead th {\n",
       "        text-align: right;\n",
       "    }\n",
       "</style>\n",
       "<table border=\"1\" class=\"dataframe\">\n",
       "  <thead>\n",
       "    <tr style=\"text-align: right;\">\n",
       "      <th></th>\n",
       "      <th>customerID</th>\n",
       "      <th>InternetService</th>\n",
       "      <th>OnlineSecurity</th>\n",
       "      <th>OnlineBackup</th>\n",
       "      <th>DeviceProtection</th>\n",
       "      <th>TechSupport</th>\n",
       "      <th>StreamingTV</th>\n",
       "      <th>StreamingMovies</th>\n",
       "    </tr>\n",
       "  </thead>\n",
       "  <tbody>\n",
       "    <tr>\n",
       "      <th>count</th>\n",
       "      <td>5517</td>\n",
       "      <td>5517</td>\n",
       "      <td>5517</td>\n",
       "      <td>5517</td>\n",
       "      <td>5517</td>\n",
       "      <td>5517</td>\n",
       "      <td>5517</td>\n",
       "      <td>5517</td>\n",
       "    </tr>\n",
       "    <tr>\n",
       "      <th>unique</th>\n",
       "      <td>5517</td>\n",
       "      <td>2</td>\n",
       "      <td>2</td>\n",
       "      <td>2</td>\n",
       "      <td>2</td>\n",
       "      <td>2</td>\n",
       "      <td>2</td>\n",
       "      <td>2</td>\n",
       "    </tr>\n",
       "    <tr>\n",
       "      <th>top</th>\n",
       "      <td>7590-VHVEG</td>\n",
       "      <td>Fiber optic</td>\n",
       "      <td>No</td>\n",
       "      <td>No</td>\n",
       "      <td>No</td>\n",
       "      <td>No</td>\n",
       "      <td>No</td>\n",
       "      <td>No</td>\n",
       "    </tr>\n",
       "    <tr>\n",
       "      <th>freq</th>\n",
       "      <td>1</td>\n",
       "      <td>3096</td>\n",
       "      <td>3498</td>\n",
       "      <td>3088</td>\n",
       "      <td>3095</td>\n",
       "      <td>3473</td>\n",
       "      <td>2810</td>\n",
       "      <td>2785</td>\n",
       "    </tr>\n",
       "  </tbody>\n",
       "</table>\n",
       "</div>"
      ],
      "text/plain": [
       "        customerID InternetService OnlineSecurity OnlineBackup  \\\n",
       "count         5517            5517           5517         5517   \n",
       "unique        5517               2              2            2   \n",
       "top     7590-VHVEG     Fiber optic             No           No   \n",
       "freq             1            3096           3498         3088   \n",
       "\n",
       "       DeviceProtection TechSupport StreamingTV StreamingMovies  \n",
       "count              5517        5517        5517            5517  \n",
       "unique                2           2           2               2  \n",
       "top                  No          No          No              No  \n",
       "freq               3095        3473        2810            2785  "
      ]
     },
     "metadata": {},
     "output_type": "display_data"
    },
    {
     "data": {
      "text/html": [
       "<div>\n",
       "<style scoped>\n",
       "    .dataframe tbody tr th:only-of-type {\n",
       "        vertical-align: middle;\n",
       "    }\n",
       "\n",
       "    .dataframe tbody tr th {\n",
       "        vertical-align: top;\n",
       "    }\n",
       "\n",
       "    .dataframe thead th {\n",
       "        text-align: right;\n",
       "    }\n",
       "</style>\n",
       "<table border=\"1\" class=\"dataframe\">\n",
       "  <thead>\n",
       "    <tr style=\"text-align: right;\">\n",
       "      <th></th>\n",
       "      <th>customerID</th>\n",
       "      <th>InternetService</th>\n",
       "      <th>OnlineSecurity</th>\n",
       "      <th>OnlineBackup</th>\n",
       "      <th>DeviceProtection</th>\n",
       "      <th>TechSupport</th>\n",
       "      <th>StreamingTV</th>\n",
       "      <th>StreamingMovies</th>\n",
       "    </tr>\n",
       "  </thead>\n",
       "  <tbody>\n",
       "    <tr>\n",
       "      <th>0</th>\n",
       "      <td>7590-VHVEG</td>\n",
       "      <td>DSL</td>\n",
       "      <td>No</td>\n",
       "      <td>Yes</td>\n",
       "      <td>No</td>\n",
       "      <td>No</td>\n",
       "      <td>No</td>\n",
       "      <td>No</td>\n",
       "    </tr>\n",
       "    <tr>\n",
       "      <th>1</th>\n",
       "      <td>5575-GNVDE</td>\n",
       "      <td>DSL</td>\n",
       "      <td>Yes</td>\n",
       "      <td>No</td>\n",
       "      <td>Yes</td>\n",
       "      <td>No</td>\n",
       "      <td>No</td>\n",
       "      <td>No</td>\n",
       "    </tr>\n",
       "    <tr>\n",
       "      <th>2</th>\n",
       "      <td>3668-QPYBK</td>\n",
       "      <td>DSL</td>\n",
       "      <td>Yes</td>\n",
       "      <td>Yes</td>\n",
       "      <td>No</td>\n",
       "      <td>No</td>\n",
       "      <td>No</td>\n",
       "      <td>No</td>\n",
       "    </tr>\n",
       "    <tr>\n",
       "      <th>3</th>\n",
       "      <td>7795-CFOCW</td>\n",
       "      <td>DSL</td>\n",
       "      <td>Yes</td>\n",
       "      <td>No</td>\n",
       "      <td>Yes</td>\n",
       "      <td>Yes</td>\n",
       "      <td>No</td>\n",
       "      <td>No</td>\n",
       "    </tr>\n",
       "    <tr>\n",
       "      <th>4</th>\n",
       "      <td>9237-HQITU</td>\n",
       "      <td>Fiber optic</td>\n",
       "      <td>No</td>\n",
       "      <td>No</td>\n",
       "      <td>No</td>\n",
       "      <td>No</td>\n",
       "      <td>No</td>\n",
       "      <td>No</td>\n",
       "    </tr>\n",
       "  </tbody>\n",
       "</table>\n",
       "</div>"
      ],
      "text/plain": [
       "   customerID InternetService OnlineSecurity OnlineBackup DeviceProtection  \\\n",
       "0  7590-VHVEG             DSL             No          Yes               No   \n",
       "1  5575-GNVDE             DSL            Yes           No              Yes   \n",
       "2  3668-QPYBK             DSL            Yes          Yes               No   \n",
       "3  7795-CFOCW             DSL            Yes           No              Yes   \n",
       "4  9237-HQITU     Fiber optic             No           No               No   \n",
       "\n",
       "  TechSupport StreamingTV StreamingMovies  \n",
       "0          No          No              No  \n",
       "1          No          No              No  \n",
       "2          No          No              No  \n",
       "3         Yes          No              No  \n",
       "4          No          No              No  "
      ]
     },
     "metadata": {},
     "output_type": "display_data"
    },
    {
     "data": {
      "text/plain": [
       "customerID          0\n",
       "InternetService     0\n",
       "OnlineSecurity      0\n",
       "OnlineBackup        0\n",
       "DeviceProtection    0\n",
       "TechSupport         0\n",
       "StreamingTV         0\n",
       "StreamingMovies     0\n",
       "dtype: int64"
      ]
     },
     "metadata": {},
     "output_type": "display_data"
    },
    {
     "data": {
      "text/plain": [
       "'number of duplicates:'"
      ]
     },
     "metadata": {},
     "output_type": "display_data"
    },
    {
     "data": {
      "text/plain": [
       "0"
      ]
     },
     "metadata": {},
     "output_type": "display_data"
    }
   ],
   "source": [
    "explore(internet)"
   ]
  },
  {
   "cell_type": "code",
   "execution_count": 14,
   "metadata": {},
   "outputs": [
    {
     "data": {
      "text/plain": [
       "array(['DSL', 'Fiber optic'], dtype=object)"
      ]
     },
     "metadata": {},
     "output_type": "display_data"
    },
    {
     "data": {
      "text/plain": [
       "array(['No', 'Yes'], dtype=object)"
      ]
     },
     "metadata": {},
     "output_type": "display_data"
    },
    {
     "data": {
      "text/plain": [
       "array(['Yes', 'No'], dtype=object)"
      ]
     },
     "metadata": {},
     "output_type": "display_data"
    },
    {
     "data": {
      "text/plain": [
       "array(['No', 'Yes'], dtype=object)"
      ]
     },
     "metadata": {},
     "output_type": "display_data"
    },
    {
     "data": {
      "text/plain": [
       "array(['No', 'Yes'], dtype=object)"
      ]
     },
     "metadata": {},
     "output_type": "display_data"
    },
    {
     "data": {
      "text/plain": [
       "array(['No', 'Yes'], dtype=object)"
      ]
     },
     "metadata": {},
     "output_type": "display_data"
    },
    {
     "data": {
      "text/plain": [
       "array(['No', 'Yes'], dtype=object)"
      ]
     },
     "metadata": {},
     "output_type": "display_data"
    }
   ],
   "source": [
    "for col in internet.columns[1:]:\n",
    "    display(internet[col].unique())"
   ]
  },
  {
   "cell_type": "markdown",
   "metadata": {},
   "source": [
    "**Conclusion:**\n",
    "- Mostly binary columns\n",
    "- only 5517 rows (not all customers have the info available)"
   ]
  },
  {
   "cell_type": "markdown",
   "metadata": {},
   "source": [
    "### phone df:"
   ]
  },
  {
   "cell_type": "code",
   "execution_count": 15,
   "metadata": {},
   "outputs": [
    {
     "name": "stdout",
     "output_type": "stream",
     "text": [
      "<class 'pandas.core.frame.DataFrame'>\n",
      "RangeIndex: 6361 entries, 0 to 6360\n",
      "Data columns (total 2 columns):\n",
      " #   Column         Non-Null Count  Dtype \n",
      "---  ------         --------------  ----- \n",
      " 0   customerID     6361 non-null   object\n",
      " 1   MultipleLines  6361 non-null   object\n",
      "dtypes: object(2)\n",
      "memory usage: 99.5+ KB\n"
     ]
    },
    {
     "data": {
      "text/plain": [
       "None"
      ]
     },
     "metadata": {},
     "output_type": "display_data"
    },
    {
     "data": {
      "text/html": [
       "<div>\n",
       "<style scoped>\n",
       "    .dataframe tbody tr th:only-of-type {\n",
       "        vertical-align: middle;\n",
       "    }\n",
       "\n",
       "    .dataframe tbody tr th {\n",
       "        vertical-align: top;\n",
       "    }\n",
       "\n",
       "    .dataframe thead th {\n",
       "        text-align: right;\n",
       "    }\n",
       "</style>\n",
       "<table border=\"1\" class=\"dataframe\">\n",
       "  <thead>\n",
       "    <tr style=\"text-align: right;\">\n",
       "      <th></th>\n",
       "      <th>customerID</th>\n",
       "      <th>MultipleLines</th>\n",
       "    </tr>\n",
       "  </thead>\n",
       "  <tbody>\n",
       "    <tr>\n",
       "      <th>count</th>\n",
       "      <td>6361</td>\n",
       "      <td>6361</td>\n",
       "    </tr>\n",
       "    <tr>\n",
       "      <th>unique</th>\n",
       "      <td>6361</td>\n",
       "      <td>2</td>\n",
       "    </tr>\n",
       "    <tr>\n",
       "      <th>top</th>\n",
       "      <td>5575-GNVDE</td>\n",
       "      <td>No</td>\n",
       "    </tr>\n",
       "    <tr>\n",
       "      <th>freq</th>\n",
       "      <td>1</td>\n",
       "      <td>3390</td>\n",
       "    </tr>\n",
       "  </tbody>\n",
       "</table>\n",
       "</div>"
      ],
      "text/plain": [
       "        customerID MultipleLines\n",
       "count         6361          6361\n",
       "unique        6361             2\n",
       "top     5575-GNVDE            No\n",
       "freq             1          3390"
      ]
     },
     "metadata": {},
     "output_type": "display_data"
    },
    {
     "data": {
      "text/html": [
       "<div>\n",
       "<style scoped>\n",
       "    .dataframe tbody tr th:only-of-type {\n",
       "        vertical-align: middle;\n",
       "    }\n",
       "\n",
       "    .dataframe tbody tr th {\n",
       "        vertical-align: top;\n",
       "    }\n",
       "\n",
       "    .dataframe thead th {\n",
       "        text-align: right;\n",
       "    }\n",
       "</style>\n",
       "<table border=\"1\" class=\"dataframe\">\n",
       "  <thead>\n",
       "    <tr style=\"text-align: right;\">\n",
       "      <th></th>\n",
       "      <th>customerID</th>\n",
       "      <th>MultipleLines</th>\n",
       "    </tr>\n",
       "  </thead>\n",
       "  <tbody>\n",
       "    <tr>\n",
       "      <th>0</th>\n",
       "      <td>5575-GNVDE</td>\n",
       "      <td>No</td>\n",
       "    </tr>\n",
       "    <tr>\n",
       "      <th>1</th>\n",
       "      <td>3668-QPYBK</td>\n",
       "      <td>No</td>\n",
       "    </tr>\n",
       "    <tr>\n",
       "      <th>2</th>\n",
       "      <td>9237-HQITU</td>\n",
       "      <td>No</td>\n",
       "    </tr>\n",
       "    <tr>\n",
       "      <th>3</th>\n",
       "      <td>9305-CDSKC</td>\n",
       "      <td>Yes</td>\n",
       "    </tr>\n",
       "    <tr>\n",
       "      <th>4</th>\n",
       "      <td>1452-KIOVK</td>\n",
       "      <td>Yes</td>\n",
       "    </tr>\n",
       "  </tbody>\n",
       "</table>\n",
       "</div>"
      ],
      "text/plain": [
       "   customerID MultipleLines\n",
       "0  5575-GNVDE            No\n",
       "1  3668-QPYBK            No\n",
       "2  9237-HQITU            No\n",
       "3  9305-CDSKC           Yes\n",
       "4  1452-KIOVK           Yes"
      ]
     },
     "metadata": {},
     "output_type": "display_data"
    },
    {
     "data": {
      "text/plain": [
       "customerID       0\n",
       "MultipleLines    0\n",
       "dtype: int64"
      ]
     },
     "metadata": {},
     "output_type": "display_data"
    },
    {
     "data": {
      "text/plain": [
       "'number of duplicates:'"
      ]
     },
     "metadata": {},
     "output_type": "display_data"
    },
    {
     "data": {
      "text/plain": [
       "0"
      ]
     },
     "metadata": {},
     "output_type": "display_data"
    }
   ],
   "source": [
    "explore(phone)"
   ]
  },
  {
   "cell_type": "code",
   "execution_count": 16,
   "metadata": {},
   "outputs": [
    {
     "data": {
      "text/plain": [
       "array(['No', 'Yes'], dtype=object)"
      ]
     },
     "metadata": {},
     "output_type": "display_data"
    }
   ],
   "source": [
    "for col in phone.columns[1:]:\n",
    "    display(phone[col].unique())"
   ]
  },
  {
   "cell_type": "markdown",
   "metadata": {},
   "source": [
    "**Conclusion:**\n",
    "- only one binary column, not all customers have information (6361 only). That means that not all clients use phone services and therefore, there are 3 types of clients: those who don't have any phone lines, those with a single line and those with multiple lines. As that imply that there's certain numerical order in the categorical values, I'll consider this column as an ordinal category with values from 0 to 2 when transforming later the data to the model."
   ]
  },
  {
   "cell_type": "markdown",
   "metadata": {},
   "source": [
    "### Merging the data:"
   ]
  },
  {
   "cell_type": "markdown",
   "metadata": {},
   "source": [
    "Next, I'll merge all the available data into one df (will create NaN values as not all clients appear in all datasets):"
   ]
  },
  {
   "cell_type": "code",
   "execution_count": 17,
   "metadata": {},
   "outputs": [],
   "source": [
    "df = contract.merge(personal, on='customerID')"
   ]
  },
  {
   "cell_type": "code",
   "execution_count": 18,
   "metadata": {},
   "outputs": [],
   "source": [
    "df = df.merge(internet, on='customerID', how='left')"
   ]
  },
  {
   "cell_type": "code",
   "execution_count": 19,
   "metadata": {},
   "outputs": [],
   "source": [
    "df = df.merge(phone, on='customerID', how='left')"
   ]
  },
  {
   "cell_type": "code",
   "execution_count": 20,
   "metadata": {},
   "outputs": [
    {
     "data": {
      "text/html": [
       "<div>\n",
       "<style scoped>\n",
       "    .dataframe tbody tr th:only-of-type {\n",
       "        vertical-align: middle;\n",
       "    }\n",
       "\n",
       "    .dataframe tbody tr th {\n",
       "        vertical-align: top;\n",
       "    }\n",
       "\n",
       "    .dataframe thead th {\n",
       "        text-align: right;\n",
       "    }\n",
       "</style>\n",
       "<table border=\"1\" class=\"dataframe\">\n",
       "  <thead>\n",
       "    <tr style=\"text-align: right;\">\n",
       "      <th></th>\n",
       "      <th>customerID</th>\n",
       "      <th>BeginDate</th>\n",
       "      <th>EndDate</th>\n",
       "      <th>Type</th>\n",
       "      <th>PaperlessBilling</th>\n",
       "      <th>PaymentMethod</th>\n",
       "      <th>MonthlyCharges</th>\n",
       "      <th>TotalCharges</th>\n",
       "      <th>gender</th>\n",
       "      <th>SeniorCitizen</th>\n",
       "      <th>Partner</th>\n",
       "      <th>Dependents</th>\n",
       "      <th>InternetService</th>\n",
       "      <th>OnlineSecurity</th>\n",
       "      <th>OnlineBackup</th>\n",
       "      <th>DeviceProtection</th>\n",
       "      <th>TechSupport</th>\n",
       "      <th>StreamingTV</th>\n",
       "      <th>StreamingMovies</th>\n",
       "      <th>MultipleLines</th>\n",
       "    </tr>\n",
       "  </thead>\n",
       "  <tbody>\n",
       "    <tr>\n",
       "      <th>0</th>\n",
       "      <td>7590-VHVEG</td>\n",
       "      <td>2020-01-01</td>\n",
       "      <td>No</td>\n",
       "      <td>Month-to-month</td>\n",
       "      <td>Yes</td>\n",
       "      <td>Electronic check</td>\n",
       "      <td>29.85</td>\n",
       "      <td>29.85</td>\n",
       "      <td>Female</td>\n",
       "      <td>0</td>\n",
       "      <td>Yes</td>\n",
       "      <td>No</td>\n",
       "      <td>DSL</td>\n",
       "      <td>No</td>\n",
       "      <td>Yes</td>\n",
       "      <td>No</td>\n",
       "      <td>No</td>\n",
       "      <td>No</td>\n",
       "      <td>No</td>\n",
       "      <td>NaN</td>\n",
       "    </tr>\n",
       "    <tr>\n",
       "      <th>1</th>\n",
       "      <td>5575-GNVDE</td>\n",
       "      <td>2017-04-01</td>\n",
       "      <td>No</td>\n",
       "      <td>One year</td>\n",
       "      <td>No</td>\n",
       "      <td>Mailed check</td>\n",
       "      <td>56.95</td>\n",
       "      <td>1889.50</td>\n",
       "      <td>Male</td>\n",
       "      <td>0</td>\n",
       "      <td>No</td>\n",
       "      <td>No</td>\n",
       "      <td>DSL</td>\n",
       "      <td>Yes</td>\n",
       "      <td>No</td>\n",
       "      <td>Yes</td>\n",
       "      <td>No</td>\n",
       "      <td>No</td>\n",
       "      <td>No</td>\n",
       "      <td>No</td>\n",
       "    </tr>\n",
       "    <tr>\n",
       "      <th>2</th>\n",
       "      <td>3668-QPYBK</td>\n",
       "      <td>2019-10-01</td>\n",
       "      <td>2019-12-01 00:00:00</td>\n",
       "      <td>Month-to-month</td>\n",
       "      <td>Yes</td>\n",
       "      <td>Mailed check</td>\n",
       "      <td>53.85</td>\n",
       "      <td>108.15</td>\n",
       "      <td>Male</td>\n",
       "      <td>0</td>\n",
       "      <td>No</td>\n",
       "      <td>No</td>\n",
       "      <td>DSL</td>\n",
       "      <td>Yes</td>\n",
       "      <td>Yes</td>\n",
       "      <td>No</td>\n",
       "      <td>No</td>\n",
       "      <td>No</td>\n",
       "      <td>No</td>\n",
       "      <td>No</td>\n",
       "    </tr>\n",
       "    <tr>\n",
       "      <th>3</th>\n",
       "      <td>7795-CFOCW</td>\n",
       "      <td>2016-05-01</td>\n",
       "      <td>No</td>\n",
       "      <td>One year</td>\n",
       "      <td>No</td>\n",
       "      <td>Bank transfer (automatic)</td>\n",
       "      <td>42.30</td>\n",
       "      <td>1840.75</td>\n",
       "      <td>Male</td>\n",
       "      <td>0</td>\n",
       "      <td>No</td>\n",
       "      <td>No</td>\n",
       "      <td>DSL</td>\n",
       "      <td>Yes</td>\n",
       "      <td>No</td>\n",
       "      <td>Yes</td>\n",
       "      <td>Yes</td>\n",
       "      <td>No</td>\n",
       "      <td>No</td>\n",
       "      <td>NaN</td>\n",
       "    </tr>\n",
       "    <tr>\n",
       "      <th>4</th>\n",
       "      <td>9237-HQITU</td>\n",
       "      <td>2019-09-01</td>\n",
       "      <td>2019-11-01 00:00:00</td>\n",
       "      <td>Month-to-month</td>\n",
       "      <td>Yes</td>\n",
       "      <td>Electronic check</td>\n",
       "      <td>70.70</td>\n",
       "      <td>151.65</td>\n",
       "      <td>Female</td>\n",
       "      <td>0</td>\n",
       "      <td>No</td>\n",
       "      <td>No</td>\n",
       "      <td>Fiber optic</td>\n",
       "      <td>No</td>\n",
       "      <td>No</td>\n",
       "      <td>No</td>\n",
       "      <td>No</td>\n",
       "      <td>No</td>\n",
       "      <td>No</td>\n",
       "      <td>No</td>\n",
       "    </tr>\n",
       "  </tbody>\n",
       "</table>\n",
       "</div>"
      ],
      "text/plain": [
       "   customerID  BeginDate              EndDate            Type  \\\n",
       "0  7590-VHVEG 2020-01-01                   No  Month-to-month   \n",
       "1  5575-GNVDE 2017-04-01                   No        One year   \n",
       "2  3668-QPYBK 2019-10-01  2019-12-01 00:00:00  Month-to-month   \n",
       "3  7795-CFOCW 2016-05-01                   No        One year   \n",
       "4  9237-HQITU 2019-09-01  2019-11-01 00:00:00  Month-to-month   \n",
       "\n",
       "  PaperlessBilling              PaymentMethod  MonthlyCharges  TotalCharges  \\\n",
       "0              Yes           Electronic check           29.85         29.85   \n",
       "1               No               Mailed check           56.95       1889.50   \n",
       "2              Yes               Mailed check           53.85        108.15   \n",
       "3               No  Bank transfer (automatic)           42.30       1840.75   \n",
       "4              Yes           Electronic check           70.70        151.65   \n",
       "\n",
       "   gender  SeniorCitizen Partner Dependents InternetService OnlineSecurity  \\\n",
       "0  Female              0     Yes         No             DSL             No   \n",
       "1    Male              0      No         No             DSL            Yes   \n",
       "2    Male              0      No         No             DSL            Yes   \n",
       "3    Male              0      No         No             DSL            Yes   \n",
       "4  Female              0      No         No     Fiber optic             No   \n",
       "\n",
       "  OnlineBackup DeviceProtection TechSupport StreamingTV StreamingMovies  \\\n",
       "0          Yes               No          No          No              No   \n",
       "1           No              Yes          No          No              No   \n",
       "2          Yes               No          No          No              No   \n",
       "3           No              Yes         Yes          No              No   \n",
       "4           No               No          No          No              No   \n",
       "\n",
       "  MultipleLines  \n",
       "0           NaN  \n",
       "1            No  \n",
       "2            No  \n",
       "3           NaN  \n",
       "4            No  "
      ]
     },
     "execution_count": 20,
     "metadata": {},
     "output_type": "execute_result"
    }
   ],
   "source": [
    "df.head()"
   ]
  },
  {
   "cell_type": "markdown",
   "metadata": {},
   "source": [
    "In order to proceed to the EDA part, I'll first divide the merged df into the current clients and those who have left already (having 'No' in the EndDate Column). That will help to differentiate and analyze the differences of the 2 groups:"
   ]
  },
  {
   "cell_type": "code",
   "execution_count": 21,
   "metadata": {},
   "outputs": [],
   "source": [
    "left = df.query('EndDate!=\"No\"')\n",
    "\n",
    "current = df.query('EndDate==\"No\"')"
   ]
  },
  {
   "cell_type": "code",
   "execution_count": 22,
   "metadata": {},
   "outputs": [
    {
     "data": {
      "text/html": [
       "<div>\n",
       "<style scoped>\n",
       "    .dataframe tbody tr th:only-of-type {\n",
       "        vertical-align: middle;\n",
       "    }\n",
       "\n",
       "    .dataframe tbody tr th {\n",
       "        vertical-align: top;\n",
       "    }\n",
       "\n",
       "    .dataframe thead th {\n",
       "        text-align: right;\n",
       "    }\n",
       "</style>\n",
       "<table border=\"1\" class=\"dataframe\">\n",
       "  <thead>\n",
       "    <tr style=\"text-align: right;\">\n",
       "      <th></th>\n",
       "      <th>customerID</th>\n",
       "      <th>BeginDate</th>\n",
       "      <th>EndDate</th>\n",
       "      <th>Type</th>\n",
       "      <th>PaperlessBilling</th>\n",
       "      <th>PaymentMethod</th>\n",
       "      <th>MonthlyCharges</th>\n",
       "      <th>TotalCharges</th>\n",
       "      <th>gender</th>\n",
       "      <th>SeniorCitizen</th>\n",
       "      <th>Partner</th>\n",
       "      <th>Dependents</th>\n",
       "      <th>InternetService</th>\n",
       "      <th>OnlineSecurity</th>\n",
       "      <th>OnlineBackup</th>\n",
       "      <th>DeviceProtection</th>\n",
       "      <th>TechSupport</th>\n",
       "      <th>StreamingTV</th>\n",
       "      <th>StreamingMovies</th>\n",
       "      <th>MultipleLines</th>\n",
       "    </tr>\n",
       "  </thead>\n",
       "  <tbody>\n",
       "    <tr>\n",
       "      <th>0</th>\n",
       "      <td>7590-VHVEG</td>\n",
       "      <td>2020-01-01</td>\n",
       "      <td>No</td>\n",
       "      <td>Month-to-month</td>\n",
       "      <td>Yes</td>\n",
       "      <td>Electronic check</td>\n",
       "      <td>29.85</td>\n",
       "      <td>29.85</td>\n",
       "      <td>Female</td>\n",
       "      <td>0</td>\n",
       "      <td>Yes</td>\n",
       "      <td>No</td>\n",
       "      <td>DSL</td>\n",
       "      <td>No</td>\n",
       "      <td>Yes</td>\n",
       "      <td>No</td>\n",
       "      <td>No</td>\n",
       "      <td>No</td>\n",
       "      <td>No</td>\n",
       "      <td>NaN</td>\n",
       "    </tr>\n",
       "  </tbody>\n",
       "</table>\n",
       "</div>"
      ],
      "text/plain": [
       "   customerID  BeginDate EndDate            Type PaperlessBilling  \\\n",
       "0  7590-VHVEG 2020-01-01      No  Month-to-month              Yes   \n",
       "\n",
       "      PaymentMethod  MonthlyCharges  TotalCharges  gender  SeniorCitizen  \\\n",
       "0  Electronic check           29.85         29.85  Female              0   \n",
       "\n",
       "  Partner Dependents InternetService OnlineSecurity OnlineBackup  \\\n",
       "0     Yes         No             DSL             No          Yes   \n",
       "\n",
       "  DeviceProtection TechSupport StreamingTV StreamingMovies MultipleLines  \n",
       "0               No          No          No              No           NaN  "
      ]
     },
     "execution_count": 22,
     "metadata": {},
     "output_type": "execute_result"
    }
   ],
   "source": [
    "df.head(1)"
   ]
  },
  {
   "cell_type": "code",
   "execution_count": 23,
   "metadata": {},
   "outputs": [],
   "source": [
    "#creating lists of types of columns (categorical, numerical, binary):\n",
    "categorical = ['Type','PaymentMethod','gender','InternetService']\n",
    "numeric = ['TotalCharges', 'MonthlyCharges']\n",
    "\n",
    "\n",
    "binary = list(df.columns[3:])\n",
    "\n",
    "for cat in categorical:\n",
    "    binary.remove(cat)\n",
    "    \n",
    "for num in numeric:\n",
    "    binary.remove(num)"
   ]
  },
  {
   "cell_type": "code",
   "execution_count": 24,
   "metadata": {},
   "outputs": [
    {
     "data": {
      "text/plain": [
       "['PaperlessBilling',\n",
       " 'SeniorCitizen',\n",
       " 'Partner',\n",
       " 'Dependents',\n",
       " 'OnlineSecurity',\n",
       " 'OnlineBackup',\n",
       " 'DeviceProtection',\n",
       " 'TechSupport',\n",
       " 'StreamingTV',\n",
       " 'StreamingMovies',\n",
       " 'MultipleLines']"
      ]
     },
     "execution_count": 24,
     "metadata": {},
     "output_type": "execute_result"
    }
   ],
   "source": [
    "binary"
   ]
  },
  {
   "cell_type": "markdown",
   "metadata": {},
   "source": [
    "### EDA:\n",
    "\n",
    "#### Categorical columns:"
   ]
  },
  {
   "cell_type": "code",
   "execution_count": 25,
   "metadata": {},
   "outputs": [
    {
     "data": {
      "image/png": "[encoded data removed]",
      "text/plain": [
       "<Figure size 1152x288 with 2 Axes>"
      ]
     },
     "metadata": {
      "needs_background": "light"
     },
     "output_type": "display_data"
    },
    {
     "data": {
      "image/png": "[encoded data removed]",
      "text/plain": [
       "<Figure size 1152x288 with 2 Axes>"
      ]
     },
     "metadata": {
      "needs_background": "light"
     },
     "output_type": "display_data"
    },
    {
     "data": {
      "image/png": "[encoded data removed]",
      "text/plain": [
       "<Figure size 1152x288 with 2 Axes>"
      ]
     },
     "metadata": {
      "needs_background": "light"
     },
     "output_type": "display_data"
    },
    {
     "data": {
      "image/png": "[encoded data removed]",
      "text/plain": [
       "<Figure size 1152x288 with 2 Axes>"
      ]
     },
     "metadata": {
      "needs_background": "light"
     },
     "output_type": "display_data"
    }
   ],
   "source": [
    "for cat in categorical:\n",
    "    fig, (ax1,ax2) = plt.subplots(1,2,figsize=(16,4))\n",
    "    df1 = left[cat].value_counts(normalize=True)\n",
    "    df1 = df1.mul(100)\n",
    "    df1 = df1.rename('percent').reset_index()\n",
    "    \n",
    "    df2 = current[cat].value_counts(normalize=True)\n",
    "    df2 = df2.mul(100)\n",
    "    df2 = df2.rename('percent').reset_index()\n",
    "    \n",
    "    #ax1:\n",
    "    \n",
    "    ax1 = sns.barplot(x='index',y='percent',data=df1,ax=ax1)\n",
    "    ax1.set_title(f'Distribution of {cat} of clients who left')\n",
    "    ax1.set_ylim(0,df1.percent.max()+10)\n",
    "    \n",
    "    #annotations for ax1:\n",
    "    for p in ax1.patches:\n",
    "        txt = str(p.get_height().round(2)) + '%'\n",
    "        txt_y = p.get_height()+1\n",
    "        txt_x = p.get_x() + p.get_width()/2\n",
    "        ax1.text(txt_x,txt_y,txt,ha='center')  \n",
    "        \n",
    "        \n",
    "    #ax2:\n",
    "    \n",
    "    ax2 = sns.barplot(x='index',y='percent',data=df2,ax=ax2)\n",
    "    ax2.set_title(f'Distribution of {cat} of current clients')\n",
    "    ax2.set_ylim(0,df2.percent.max()+10)\n",
    "\n",
    "    \n",
    "    #annotations for ax1:\n",
    "    for p in ax2.patches:\n",
    "        txt = str(p.get_height().round(2)) + '%'\n",
    "        txt_y = p.get_height()+1\n",
    "        txt_x = p.get_x() + p.get_width()/2\n",
    "        ax2.text(txt_x,txt_y,txt,ha='center')  \n",
    "    \n",
    "    if cat=='PaymentMethod':\n",
    "        ax1.set_xticklabels(df1['index'],rotation=45)\n",
    "        ax2.set_xticklabels(df2['index'],rotation=45)\n",
    "\n",
    "    plt.show()"
   ]
  },
  {
   "cell_type": "markdown",
   "metadata": {},
   "source": [
    "**Conclusions:**\n",
    "\n",
    "We can see clearly the differences in the categories between clients who left and those who are still clients:\n",
    "- while for the current clients their proportions in the data is rather similar for the InternetService and PaymentMethod categories, the proportions in the clients who left are very different: most clients who left used Fiber Optics (probably it's more expensive and more common these days) and the big majority who left used to have an electronic check. Only 12% and 14% left when having sort of automatic payments.\n",
    "\n",
    "- The type of contract the client has seem to have a significant impact: almost 90% of all clients who left used a month-to-month type of contract. Seems like the tendency to leave is much smaller when the client has a 1 year or even better 2 year contract. Among the current clients the proportions are different and that's probably a good indicator to whom might want to leave soon.\n",
    "\n",
    "- Gender doesn't seem to matter much. Among those who left there was just a slight difference of about 0.5% between the genders. The proprtions on the current clients are just slightly different, with more males than females, also this difference is very little (1.5%). "
   ]
  },
  {
   "cell_type": "markdown",
   "metadata": {},
   "source": [
    "#### EDA Numerical columns:"
   ]
  },
  {
   "cell_type": "code",
   "execution_count": 26,
   "metadata": {},
   "outputs": [
    {
     "data": {
      "image/png": "[encoded data removed]",
      "text/plain": [
       "<Figure size 1152x288 with 1 Axes>"
      ]
     },
     "metadata": {
      "needs_background": "light"
     },
     "output_type": "display_data"
    },
    {
     "data": {
      "image/png": "[encoded data removed]",
      "text/plain": [
       "<Figure size 1152x288 with 2 Axes>"
      ]
     },
     "metadata": {
      "needs_background": "light"
     },
     "output_type": "display_data"
    },
    {
     "data": {
      "image/png": "[encoded data removed]",
      "text/plain": [
       "<Figure size 1152x288 with 1 Axes>"
      ]
     },
     "metadata": {
      "needs_background": "light"
     },
     "output_type": "display_data"
    },
    {
     "data": {
      "image/png": "[encoded data removed]",
      "text/plain": [
       "<Figure size 1152x288 with 2 Axes>"
      ]
     },
     "metadata": {
      "needs_background": "light"
     },
     "output_type": "display_data"
    }
   ],
   "source": [
    "for col in numeric:\n",
    "    plt.figure(figsize=(16,4))\n",
    "    ax1 = sns.distplot(left[col], label='left',norm_hist=True)\n",
    "    plt.title(f'Distribution of {col} of clients who left vs. current clients')\n",
    "    \n",
    "    ax2 = sns.distplot(current[col], label='current', norm_hist=True)\n",
    "    plt.legend()\n",
    "    \n",
    "    plt.show()\n",
    "    \n",
    "    \n",
    "    fig, (ax1,ax2) = plt.subplots(1,2,figsize=(16,4))\n",
    "    median1 = left[col].median()\n",
    "    mean1 = left[col].mean()\n",
    "    ax1 = sns.boxplot(left[col],ax=ax1)\n",
    "\n",
    "    ax1.set_title(f'Boxplot of {col} of clients who left')\n",
    "    ax1.text(0.85, 0.15, 'median: {:.2f} \\n mean: {:.2f}'.format(median1, mean1), horizontalalignment='center', verticalalignment='top', transform=ax1.transAxes)\n",
    "\n",
    "    ax2 = sns.boxplot(current[col],ax=ax2,color='orange')\n",
    "    mean2 = current[col].mean()\n",
    "    median2 = current[col].median()\n",
    "    ax2.text(0.85, 0.15, 'median: {:.2f} \\n mean: {:.2f}'.format(median2, mean2), horizontalalignment='center', verticalalignment='top', transform=ax2.transAxes)\n",
    "\n",
    "    ax2.set_title(f'Boxplot of {col} of current clients')\n",
    "    \n",
    "    \n",
    "    plt.show()"
   ]
  },
  {
   "cell_type": "markdown",
   "metadata": {},
   "source": [
    "**Conclusions:**\n",
    "- Looking at the first histogram, it's seem like those who leave choose to do that rather quickly, having quite a small amount of total charges. Those who are still clients have payed so far more.\n",
    "- The boxplots confirm that, showing that the big majority who left had median total charges of 703 vs. 1679 for the current clients. The boxplot also shows some outliers for those for left and payed above around 5800 (they are therefore really not typical).\n",
    "\n",
    "\n",
    "- Looking at the 2nd histogram, we can learn that those who had, the majority had rather high monthly payments, between 65 to 110. From the current clients it seems like the big majority have rather low monthly charges of around 20-25, and then still many clients in between 40-120. \n",
    "- Also here the boxplots confirm the above: the median monthly charges of those who left were almost 80, and the current clients have around 65."
   ]
  },
  {
   "cell_type": "markdown",
   "metadata": {},
   "source": [
    "#### EDA Binary columns:"
   ]
  },
  {
   "cell_type": "code",
   "execution_count": 27,
   "metadata": {
    "scrolled": false
   },
   "outputs": [
    {
     "data": {
      "image/png": "[encoded data removed]",
      "text/plain": [
       "<Figure size 1152x288 with 2 Axes>"
      ]
     },
     "metadata": {
      "needs_background": "light"
     },
     "output_type": "display_data"
    },
    {
     "data": {
      "image/png": "[encoded data removed]",
      "text/plain": [
       "<Figure size 1152x288 with 2 Axes>"
      ]
     },
     "metadata": {
      "needs_background": "light"
     },
     "output_type": "display_data"
    },
    {
     "data": {
      "image/png": "[encoded data removed]",
      "text/plain": [
       "<Figure size 1152x288 with 2 Axes>"
      ]
     },
     "metadata": {
      "needs_background": "light"
     },
     "output_type": "display_data"
    },
    {
     "data": {
      "image/png": "[encoded data removed]",
      "text/plain": [
       "<Figure size 1152x288 with 2 Axes>"
      ]
     },
     "metadata": {
      "needs_background": "light"
     },
     "output_type": "display_data"
    },
    {
     "data": {
      "image/png": "[encoded data removed]",
      "text/plain": [
       "<Figure size 1152x288 with 2 Axes>"
      ]
     },
     "metadata": {
      "needs_background": "light"
     },
     "output_type": "display_data"
    },
    {
     "data": {
      "image/png": "[encoded data removed]",
      "text/plain": [
       "<Figure size 1152x288 with 2 Axes>"
      ]
     },
     "metadata": {
      "needs_background": "light"
     },
     "output_type": "display_data"
    },
    {
     "data": {
      "image/png": "[encoded data removed]",
      "text/plain": [
       "<Figure size 1152x288 with 2 Axes>"
      ]
     },
     "metadata": {
      "needs_background": "light"
     },
     "output_type": "display_data"
    },
    {
     "data": {
      "image/png": "[encoded data removed]",
      "text/plain": [
       "<Figure size 1152x288 with 2 Axes>"
      ]
     },
     "metadata": {
      "needs_background": "light"
     },
     "output_type": "display_data"
    },
    {
     "data": {
      "image/png": "[encoded data removed]",
      "text/plain": [
       "<Figure size 1152x288 with 2 Axes>"
      ]
     },
     "metadata": {
      "needs_background": "light"
     },
     "output_type": "display_data"
    },
    {
     "data": {
      "image/png": "[encoded data removed]",
      "text/plain": [
       "<Figure size 1152x288 with 2 Axes>"
      ]
     },
     "metadata": {
      "needs_background": "light"
     },
     "output_type": "display_data"
    },
    {
     "data": {
      "image/png": "[encoded data removed]",
      "text/plain": [
       "<Figure size 1152x288 with 2 Axes>"
      ]
     },
     "metadata": {
      "needs_background": "light"
     },
     "output_type": "display_data"
    }
   ],
   "source": [
    "for col in binary:\n",
    "    fig, (ax1,ax2) = plt.subplots(1,2,figsize=(16,4))\n",
    "    df1 = left[col].value_counts(normalize=True)\n",
    "    df1 = df1.mul(100)\n",
    "    df1 = df1.rename('percent').reset_index()\n",
    "    \n",
    "    df2 = current[col].value_counts(normalize=True)\n",
    "    df2 = df2.mul(100)\n",
    "    df2 = df2.rename('percent').reset_index()\n",
    "    \n",
    "    #ax1:\n",
    "    \n",
    "    ax1 = sns.barplot(x='index',y='percent',data=df1,ax=ax1)\n",
    "    ax1.set_title(f'Distribution of {col} of clients who left')\n",
    "    ax1.set_ylim(0,df1.percent.max()+10)\n",
    "    ax1.set_xlabel(col)\n",
    "    \n",
    "    #annotations for ax1:\n",
    "    for p in ax1.patches:\n",
    "        txt = str(p.get_height().round(2)) + '%'\n",
    "        txt_y = p.get_height()+1\n",
    "        txt_x = p.get_x() + p.get_width()/2\n",
    "        ax1.text(txt_x,txt_y,txt,ha='center')  \n",
    "        \n",
    "        \n",
    "    #ax2:\n",
    "    \n",
    "    ax2 = sns.barplot(x='index',y='percent',data=df2,ax=ax2)\n",
    "    ax2.set_title(f'Distribution of {col} of current clients')\n",
    "    ax2.set_ylim(0,df2.percent.max()+10)\n",
    "    ax2.set_xlabel(col)\n",
    "\n",
    "    \n",
    "    #annotations for ax1:\n",
    "    for p in ax2.patches:\n",
    "        txt = str(p.get_height().round(2)) + '%'\n",
    "        txt_y = p.get_height()+1\n",
    "        txt_x = p.get_x() + p.get_width()/2\n",
    "        ax2.text(txt_x,txt_y,txt,ha='center')  \n",
    "    \n",
    "    if cat=='PaymentMethod':\n",
    "        ax1.set_xticklabels(left[cat],rotation=45)\n",
    "        ax2.set_xticklabels(current[cat],rotation=45)\n",
    "\n",
    "    plt.show()"
   ]
  },
  {
   "cell_type": "markdown",
   "metadata": {},
   "source": [
    "**Conclusions:**\n",
    "\n",
    "I believe it's possible to divide the binary columns into columns that have significant differences for the clients who left and those that shows ambigious importance:\n",
    "\n",
    "- Columns with significant differences:\n",
    "    - TechSupport: most clients who left didn't use it.\n",
    "    - DeviceProtection: most clients who left didn't use it.\n",
    "    - OnlineBackup: most clients who left didn't use it.\n",
    "    - OnlineSecurity: most clients who left didn't use it.\n",
    "    - PaperlessBilling: Most clients who left did use this option (75%)\n",
    "    \n",
    "    In general, I could say that it seems like the extra services offered were not the main reason for the clients leaving, as in all of those 4 categories above, the majority of clients who left didn't use those services.\n",
    "    \n",
    "The next 3 categories are for the demographics of the clients:\n",
    "    \n",
    "    - Dependents: 82% of the clients who left have no dependents.\n",
    "    - Partner: 64% have no partner (=singles)\n",
    "    - SeniorCitizen: Almost 75% who left were not senior citizens.\n",
    "    \n",
    "**In the data unfortunately there's no exact age of the client, but nevertheless it seems like clients who are singles, without kids and who are not senior citizens might tend to terminate their contracts. They are most probably also the group which is more technological and therefore prefer to get a paperless bill. The extra services offered don't seem to be the reason in the majority of the cases to terminate the contracts.**\n",
    "\n",
    "\n",
    "- Columns with ambigious signifiance:\n",
    "    - MultipleLines: 50%-50%. Seems like having more lines or just one is not affecting whether someone stays or leaves.\n",
    "    - StreamingMovies: 53%-47% - Most do not use it, but still a big part from those who leave do use this service.\n",
    "    - StreamingTV: 54%-46% - Most do not use it, but still a big part from those who leave do use this service."
   ]
  },
  {
   "cell_type": "code",
   "execution_count": 28,
   "metadata": {},
   "outputs": [
    {
     "data": {
      "text/plain": [
       "'The clients who left represent 26.54% of all clients'"
      ]
     },
     "metadata": {},
     "output_type": "display_data"
    },
    {
     "data": {
      "text/plain": [
       "'The current clients represent 73.46% of all clients'"
      ]
     },
     "metadata": {},
     "output_type": "display_data"
    }
   ],
   "source": [
    "display(f'The clients who left represent {len(left)*100/len(df):.2f}% of all clients')\n",
    "display(f'The current clients represent {len(current)*100/len(df):.2f}% of all clients')\n"
   ]
  },
  {
   "cell_type": "markdown",
   "metadata": {},
   "source": [
    "**Conclusion:**\n",
    "- The data is unbalanced: There are much more current clients than those who left. "
   ]
  },
  {
   "cell_type": "markdown",
   "metadata": {},
   "source": [
    "The merge of the 4 datasets has created missing values:"
   ]
  },
  {
   "cell_type": "code",
   "execution_count": 29,
   "metadata": {},
   "outputs": [
    {
     "data": {
      "text/plain": [
       "customerID             0\n",
       "BeginDate              0\n",
       "EndDate                0\n",
       "Type                   0\n",
       "PaperlessBilling       0\n",
       "PaymentMethod          0\n",
       "MonthlyCharges         0\n",
       "TotalCharges           0\n",
       "gender                 0\n",
       "SeniorCitizen          0\n",
       "Partner                0\n",
       "Dependents             0\n",
       "InternetService     1526\n",
       "OnlineSecurity      1526\n",
       "OnlineBackup        1526\n",
       "DeviceProtection    1526\n",
       "TechSupport         1526\n",
       "StreamingTV         1526\n",
       "StreamingMovies     1526\n",
       "MultipleLines        682\n",
       "dtype: int64"
      ]
     },
     "execution_count": 29,
     "metadata": {},
     "output_type": "execute_result"
    }
   ],
   "source": [
    "df.isna().sum()"
   ]
  },
  {
   "cell_type": "markdown",
   "metadata": {},
   "source": [
    "### Feature engineering:"
   ]
  },
  {
   "cell_type": "markdown",
   "metadata": {},
   "source": [
    "We have the date the clients started their contract and also the end date (if terminated the contract) or 'no' if still a client. As passing dates to build the model is problematic, I'd rather create an extra columns with the period of time the client is/was a client (in days). If 'No' is the value in the EndDate column, then it could be replaced with today's date (February 1, 2020)."
   ]
  },
  {
   "cell_type": "code",
   "execution_count": 30,
   "metadata": {},
   "outputs": [],
   "source": [
    "df['EndDate_dt'] = pd.to_datetime(df['EndDate'].apply(lambda x:'2020-02-01 00:00:00' if x=='No' else x))"
   ]
  },
  {
   "cell_type": "code",
   "execution_count": 31,
   "metadata": {},
   "outputs": [],
   "source": [
    "df['ContractDays'] = df['EndDate_dt'] - df['BeginDate']\n",
    "df['ContractDays'] = (df['ContractDays'] / np.timedelta64(1, 'D')).astype(int)"
   ]
  },
  {
   "cell_type": "code",
   "execution_count": 32,
   "metadata": {},
   "outputs": [
    {
     "data": {
      "text/html": [
       "<div>\n",
       "<style scoped>\n",
       "    .dataframe tbody tr th:only-of-type {\n",
       "        vertical-align: middle;\n",
       "    }\n",
       "\n",
       "    .dataframe tbody tr th {\n",
       "        vertical-align: top;\n",
       "    }\n",
       "\n",
       "    .dataframe thead th {\n",
       "        text-align: right;\n",
       "    }\n",
       "</style>\n",
       "<table border=\"1\" class=\"dataframe\">\n",
       "  <thead>\n",
       "    <tr style=\"text-align: right;\">\n",
       "      <th></th>\n",
       "      <th>customerID</th>\n",
       "      <th>BeginDate</th>\n",
       "      <th>EndDate</th>\n",
       "      <th>Type</th>\n",
       "      <th>PaperlessBilling</th>\n",
       "      <th>PaymentMethod</th>\n",
       "      <th>MonthlyCharges</th>\n",
       "      <th>TotalCharges</th>\n",
       "      <th>gender</th>\n",
       "      <th>SeniorCitizen</th>\n",
       "      <th>...</th>\n",
       "      <th>InternetService</th>\n",
       "      <th>OnlineSecurity</th>\n",
       "      <th>OnlineBackup</th>\n",
       "      <th>DeviceProtection</th>\n",
       "      <th>TechSupport</th>\n",
       "      <th>StreamingTV</th>\n",
       "      <th>StreamingMovies</th>\n",
       "      <th>MultipleLines</th>\n",
       "      <th>EndDate_dt</th>\n",
       "      <th>ContractDays</th>\n",
       "    </tr>\n",
       "  </thead>\n",
       "  <tbody>\n",
       "    <tr>\n",
       "      <th>0</th>\n",
       "      <td>7590-VHVEG</td>\n",
       "      <td>2020-01-01</td>\n",
       "      <td>No</td>\n",
       "      <td>Month-to-month</td>\n",
       "      <td>Yes</td>\n",
       "      <td>Electronic check</td>\n",
       "      <td>29.85</td>\n",
       "      <td>29.85</td>\n",
       "      <td>Female</td>\n",
       "      <td>0</td>\n",
       "      <td>...</td>\n",
       "      <td>DSL</td>\n",
       "      <td>No</td>\n",
       "      <td>Yes</td>\n",
       "      <td>No</td>\n",
       "      <td>No</td>\n",
       "      <td>No</td>\n",
       "      <td>No</td>\n",
       "      <td>NaN</td>\n",
       "      <td>2020-02-01</td>\n",
       "      <td>31</td>\n",
       "    </tr>\n",
       "    <tr>\n",
       "      <th>1</th>\n",
       "      <td>5575-GNVDE</td>\n",
       "      <td>2017-04-01</td>\n",
       "      <td>No</td>\n",
       "      <td>One year</td>\n",
       "      <td>No</td>\n",
       "      <td>Mailed check</td>\n",
       "      <td>56.95</td>\n",
       "      <td>1889.50</td>\n",
       "      <td>Male</td>\n",
       "      <td>0</td>\n",
       "      <td>...</td>\n",
       "      <td>DSL</td>\n",
       "      <td>Yes</td>\n",
       "      <td>No</td>\n",
       "      <td>Yes</td>\n",
       "      <td>No</td>\n",
       "      <td>No</td>\n",
       "      <td>No</td>\n",
       "      <td>No</td>\n",
       "      <td>2020-02-01</td>\n",
       "      <td>1036</td>\n",
       "    </tr>\n",
       "    <tr>\n",
       "      <th>2</th>\n",
       "      <td>3668-QPYBK</td>\n",
       "      <td>2019-10-01</td>\n",
       "      <td>2019-12-01 00:00:00</td>\n",
       "      <td>Month-to-month</td>\n",
       "      <td>Yes</td>\n",
       "      <td>Mailed check</td>\n",
       "      <td>53.85</td>\n",
       "      <td>108.15</td>\n",
       "      <td>Male</td>\n",
       "      <td>0</td>\n",
       "      <td>...</td>\n",
       "      <td>DSL</td>\n",
       "      <td>Yes</td>\n",
       "      <td>Yes</td>\n",
       "      <td>No</td>\n",
       "      <td>No</td>\n",
       "      <td>No</td>\n",
       "      <td>No</td>\n",
       "      <td>No</td>\n",
       "      <td>2019-12-01</td>\n",
       "      <td>61</td>\n",
       "    </tr>\n",
       "    <tr>\n",
       "      <th>3</th>\n",
       "      <td>7795-CFOCW</td>\n",
       "      <td>2016-05-01</td>\n",
       "      <td>No</td>\n",
       "      <td>One year</td>\n",
       "      <td>No</td>\n",
       "      <td>Bank transfer (automatic)</td>\n",
       "      <td>42.30</td>\n",
       "      <td>1840.75</td>\n",
       "      <td>Male</td>\n",
       "      <td>0</td>\n",
       "      <td>...</td>\n",
       "      <td>DSL</td>\n",
       "      <td>Yes</td>\n",
       "      <td>No</td>\n",
       "      <td>Yes</td>\n",
       "      <td>Yes</td>\n",
       "      <td>No</td>\n",
       "      <td>No</td>\n",
       "      <td>NaN</td>\n",
       "      <td>2020-02-01</td>\n",
       "      <td>1371</td>\n",
       "    </tr>\n",
       "    <tr>\n",
       "      <th>4</th>\n",
       "      <td>9237-HQITU</td>\n",
       "      <td>2019-09-01</td>\n",
       "      <td>2019-11-01 00:00:00</td>\n",
       "      <td>Month-to-month</td>\n",
       "      <td>Yes</td>\n",
       "      <td>Electronic check</td>\n",
       "      <td>70.70</td>\n",
       "      <td>151.65</td>\n",
       "      <td>Female</td>\n",
       "      <td>0</td>\n",
       "      <td>...</td>\n",
       "      <td>Fiber optic</td>\n",
       "      <td>No</td>\n",
       "      <td>No</td>\n",
       "      <td>No</td>\n",
       "      <td>No</td>\n",
       "      <td>No</td>\n",
       "      <td>No</td>\n",
       "      <td>No</td>\n",
       "      <td>2019-11-01</td>\n",
       "      <td>61</td>\n",
       "    </tr>\n",
       "  </tbody>\n",
       "</table>\n",
       "<p>5 rows × 22 columns</p>\n",
       "</div>"
      ],
      "text/plain": [
       "   customerID  BeginDate              EndDate            Type  \\\n",
       "0  7590-VHVEG 2020-01-01                   No  Month-to-month   \n",
       "1  5575-GNVDE 2017-04-01                   No        One year   \n",
       "2  3668-QPYBK 2019-10-01  2019-12-01 00:00:00  Month-to-month   \n",
       "3  7795-CFOCW 2016-05-01                   No        One year   \n",
       "4  9237-HQITU 2019-09-01  2019-11-01 00:00:00  Month-to-month   \n",
       "\n",
       "  PaperlessBilling              PaymentMethod  MonthlyCharges  TotalCharges  \\\n",
       "0              Yes           Electronic check           29.85         29.85   \n",
       "1               No               Mailed check           56.95       1889.50   \n",
       "2              Yes               Mailed check           53.85        108.15   \n",
       "3               No  Bank transfer (automatic)           42.30       1840.75   \n",
       "4              Yes           Electronic check           70.70        151.65   \n",
       "\n",
       "   gender  SeniorCitizen  ... InternetService OnlineSecurity OnlineBackup  \\\n",
       "0  Female              0  ...             DSL             No          Yes   \n",
       "1    Male              0  ...             DSL            Yes           No   \n",
       "2    Male              0  ...             DSL            Yes          Yes   \n",
       "3    Male              0  ...             DSL            Yes           No   \n",
       "4  Female              0  ...     Fiber optic             No           No   \n",
       "\n",
       "  DeviceProtection TechSupport StreamingTV StreamingMovies MultipleLines  \\\n",
       "0               No          No          No              No           NaN   \n",
       "1              Yes          No          No              No            No   \n",
       "2               No          No          No              No            No   \n",
       "3              Yes         Yes          No              No           NaN   \n",
       "4               No          No          No              No            No   \n",
       "\n",
       "  EndDate_dt ContractDays  \n",
       "0 2020-02-01           31  \n",
       "1 2020-02-01         1036  \n",
       "2 2019-12-01           61  \n",
       "3 2020-02-01         1371  \n",
       "4 2019-11-01           61  \n",
       "\n",
       "[5 rows x 22 columns]"
      ]
     },
     "execution_count": 32,
     "metadata": {},
     "output_type": "execute_result"
    }
   ],
   "source": [
    "df.head()"
   ]
  },
  {
   "cell_type": "markdown",
   "metadata": {},
   "source": [
    "#### Creating the target column:\n",
    "\n",
    "I'd like to flag the clients who are in risk of terminating their contract and leave the company, therefore, for creating a model I'll create a target churn column that will mark these clients as 1 and all the rest as 0:"
   ]
  },
  {
   "cell_type": "code",
   "execution_count": 33,
   "metadata": {},
   "outputs": [
    {
     "data": {
      "text/html": [
       "<div>\n",
       "<style scoped>\n",
       "    .dataframe tbody tr th:only-of-type {\n",
       "        vertical-align: middle;\n",
       "    }\n",
       "\n",
       "    .dataframe tbody tr th {\n",
       "        vertical-align: top;\n",
       "    }\n",
       "\n",
       "    .dataframe thead th {\n",
       "        text-align: right;\n",
       "    }\n",
       "</style>\n",
       "<table border=\"1\" class=\"dataframe\">\n",
       "  <thead>\n",
       "    <tr style=\"text-align: right;\">\n",
       "      <th></th>\n",
       "      <th>customerID</th>\n",
       "      <th>BeginDate</th>\n",
       "      <th>EndDate</th>\n",
       "      <th>Type</th>\n",
       "      <th>PaperlessBilling</th>\n",
       "      <th>PaymentMethod</th>\n",
       "      <th>MonthlyCharges</th>\n",
       "      <th>TotalCharges</th>\n",
       "      <th>gender</th>\n",
       "      <th>SeniorCitizen</th>\n",
       "      <th>...</th>\n",
       "      <th>OnlineSecurity</th>\n",
       "      <th>OnlineBackup</th>\n",
       "      <th>DeviceProtection</th>\n",
       "      <th>TechSupport</th>\n",
       "      <th>StreamingTV</th>\n",
       "      <th>StreamingMovies</th>\n",
       "      <th>MultipleLines</th>\n",
       "      <th>EndDate_dt</th>\n",
       "      <th>ContractDays</th>\n",
       "      <th>churn</th>\n",
       "    </tr>\n",
       "  </thead>\n",
       "  <tbody>\n",
       "    <tr>\n",
       "      <th>0</th>\n",
       "      <td>7590-VHVEG</td>\n",
       "      <td>2020-01-01</td>\n",
       "      <td>No</td>\n",
       "      <td>Month-to-month</td>\n",
       "      <td>Yes</td>\n",
       "      <td>Electronic check</td>\n",
       "      <td>29.85</td>\n",
       "      <td>29.85</td>\n",
       "      <td>Female</td>\n",
       "      <td>0</td>\n",
       "      <td>...</td>\n",
       "      <td>No</td>\n",
       "      <td>Yes</td>\n",
       "      <td>No</td>\n",
       "      <td>No</td>\n",
       "      <td>No</td>\n",
       "      <td>No</td>\n",
       "      <td>NaN</td>\n",
       "      <td>2020-02-01</td>\n",
       "      <td>31</td>\n",
       "      <td>0</td>\n",
       "    </tr>\n",
       "    <tr>\n",
       "      <th>1</th>\n",
       "      <td>5575-GNVDE</td>\n",
       "      <td>2017-04-01</td>\n",
       "      <td>No</td>\n",
       "      <td>One year</td>\n",
       "      <td>No</td>\n",
       "      <td>Mailed check</td>\n",
       "      <td>56.95</td>\n",
       "      <td>1889.50</td>\n",
       "      <td>Male</td>\n",
       "      <td>0</td>\n",
       "      <td>...</td>\n",
       "      <td>Yes</td>\n",
       "      <td>No</td>\n",
       "      <td>Yes</td>\n",
       "      <td>No</td>\n",
       "      <td>No</td>\n",
       "      <td>No</td>\n",
       "      <td>No</td>\n",
       "      <td>2020-02-01</td>\n",
       "      <td>1036</td>\n",
       "      <td>0</td>\n",
       "    </tr>\n",
       "    <tr>\n",
       "      <th>2</th>\n",
       "      <td>3668-QPYBK</td>\n",
       "      <td>2019-10-01</td>\n",
       "      <td>2019-12-01 00:00:00</td>\n",
       "      <td>Month-to-month</td>\n",
       "      <td>Yes</td>\n",
       "      <td>Mailed check</td>\n",
       "      <td>53.85</td>\n",
       "      <td>108.15</td>\n",
       "      <td>Male</td>\n",
       "      <td>0</td>\n",
       "      <td>...</td>\n",
       "      <td>Yes</td>\n",
       "      <td>Yes</td>\n",
       "      <td>No</td>\n",
       "      <td>No</td>\n",
       "      <td>No</td>\n",
       "      <td>No</td>\n",
       "      <td>No</td>\n",
       "      <td>2019-12-01</td>\n",
       "      <td>61</td>\n",
       "      <td>1</td>\n",
       "    </tr>\n",
       "    <tr>\n",
       "      <th>3</th>\n",
       "      <td>7795-CFOCW</td>\n",
       "      <td>2016-05-01</td>\n",
       "      <td>No</td>\n",
       "      <td>One year</td>\n",
       "      <td>No</td>\n",
       "      <td>Bank transfer (automatic)</td>\n",
       "      <td>42.30</td>\n",
       "      <td>1840.75</td>\n",
       "      <td>Male</td>\n",
       "      <td>0</td>\n",
       "      <td>...</td>\n",
       "      <td>Yes</td>\n",
       "      <td>No</td>\n",
       "      <td>Yes</td>\n",
       "      <td>Yes</td>\n",
       "      <td>No</td>\n",
       "      <td>No</td>\n",
       "      <td>NaN</td>\n",
       "      <td>2020-02-01</td>\n",
       "      <td>1371</td>\n",
       "      <td>0</td>\n",
       "    </tr>\n",
       "    <tr>\n",
       "      <th>4</th>\n",
       "      <td>9237-HQITU</td>\n",
       "      <td>2019-09-01</td>\n",
       "      <td>2019-11-01 00:00:00</td>\n",
       "      <td>Month-to-month</td>\n",
       "      <td>Yes</td>\n",
       "      <td>Electronic check</td>\n",
       "      <td>70.70</td>\n",
       "      <td>151.65</td>\n",
       "      <td>Female</td>\n",
       "      <td>0</td>\n",
       "      <td>...</td>\n",
       "      <td>No</td>\n",
       "      <td>No</td>\n",
       "      <td>No</td>\n",
       "      <td>No</td>\n",
       "      <td>No</td>\n",
       "      <td>No</td>\n",
       "      <td>No</td>\n",
       "      <td>2019-11-01</td>\n",
       "      <td>61</td>\n",
       "      <td>1</td>\n",
       "    </tr>\n",
       "  </tbody>\n",
       "</table>\n",
       "<p>5 rows × 23 columns</p>\n",
       "</div>"
      ],
      "text/plain": [
       "   customerID  BeginDate              EndDate            Type  \\\n",
       "0  7590-VHVEG 2020-01-01                   No  Month-to-month   \n",
       "1  5575-GNVDE 2017-04-01                   No        One year   \n",
       "2  3668-QPYBK 2019-10-01  2019-12-01 00:00:00  Month-to-month   \n",
       "3  7795-CFOCW 2016-05-01                   No        One year   \n",
       "4  9237-HQITU 2019-09-01  2019-11-01 00:00:00  Month-to-month   \n",
       "\n",
       "  PaperlessBilling              PaymentMethod  MonthlyCharges  TotalCharges  \\\n",
       "0              Yes           Electronic check           29.85         29.85   \n",
       "1               No               Mailed check           56.95       1889.50   \n",
       "2              Yes               Mailed check           53.85        108.15   \n",
       "3               No  Bank transfer (automatic)           42.30       1840.75   \n",
       "4              Yes           Electronic check           70.70        151.65   \n",
       "\n",
       "   gender  SeniorCitizen  ... OnlineSecurity OnlineBackup DeviceProtection  \\\n",
       "0  Female              0  ...             No          Yes               No   \n",
       "1    Male              0  ...            Yes           No              Yes   \n",
       "2    Male              0  ...            Yes          Yes               No   \n",
       "3    Male              0  ...            Yes           No              Yes   \n",
       "4  Female              0  ...             No           No               No   \n",
       "\n",
       "  TechSupport StreamingTV StreamingMovies MultipleLines EndDate_dt  \\\n",
       "0          No          No              No           NaN 2020-02-01   \n",
       "1          No          No              No            No 2020-02-01   \n",
       "2          No          No              No            No 2019-12-01   \n",
       "3         Yes          No              No           NaN 2020-02-01   \n",
       "4          No          No              No            No 2019-11-01   \n",
       "\n",
       "  ContractDays churn  \n",
       "0           31     0  \n",
       "1         1036     0  \n",
       "2           61     1  \n",
       "3         1371     0  \n",
       "4           61     1  \n",
       "\n",
       "[5 rows x 23 columns]"
      ]
     },
     "execution_count": 33,
     "metadata": {},
     "output_type": "execute_result"
    }
   ],
   "source": [
    "df['churn'] = df['EndDate'].apply(lambda x:0 if x=='No' else 1)\n",
    "df.head()"
   ]
  },
  {
   "cell_type": "code",
   "execution_count": 34,
   "metadata": {},
   "outputs": [
    {
     "data": {
      "image/png": "[encoded data removed]",
      "text/plain": [
       "<Figure size 864x288 with 1 Axes>"
      ]
     },
     "metadata": {
      "needs_background": "light"
     },
     "output_type": "display_data"
    },
    {
     "data": {
      "image/png": "[encoded data removed]",
      "text/plain": [
       "<Figure size 648x288 with 1 Axes>"
      ]
     },
     "metadata": {
      "needs_background": "light"
     },
     "output_type": "display_data"
    }
   ],
   "source": [
    "#plotting histograms and boxplots with the ContractDays feature:\n",
    "sns.displot(data=df, x='ContractDays',label='Clients', bins='auto', hue='churn',kde=True,height=4, aspect=3,legend=False)\n",
    "plt.xlim(0)\n",
    "plt.legend(['1:left','0:current'])\n",
    "plt.title('Distribution of contract length (in days) of current vs. left clients')\n",
    "plt.show()\n",
    "\n",
    "plt.figure(figsize=(9,4))\n",
    "box = sns.boxplot(data=df, y='ContractDays',x='churn')\n",
    "\n",
    "\n",
    "medians = df.groupby(['churn'])['ContractDays'].median()\n",
    "vertical_offset = df['ContractDays'].median() * 0.05 # offset from median for display\n",
    "\n",
    "for xtick in box.get_xticks():\n",
    "    box.text(xtick,medians[xtick] + vertical_offset,medians[xtick], \n",
    "            horizontalalignment='center',size='medium',color='w',weight='semibold')\n",
    "    \n",
    "    \n",
    "plt.title('Boxplots of length of contract of current vs. clients who left')\n",
    "plt.show()"
   ]
  },
  {
   "cell_type": "markdown",
   "metadata": {},
   "source": [
    "Now that we have the length of contract, we can compare as well how long it typically takes for those who leave: the longer one has a contract the least they leave. From the boxplots we can also see that the median period for a client who left is 304 days while among the current client the median is 1157 days. \n",
    "\n",
    "There are just few outliers in the churn=1 group (clients who left) and they represent very rare clients who left after extremely long time as a client (above 2000 days)."
   ]
  },
  {
   "cell_type": "markdown",
   "metadata": {},
   "source": [
    "### Final EDA conclusions and next steps for modelling:\n",
    "\n",
    "I've received 4 datasets with various information about current and previous clients of the telecom operator Interconnect. After a quick investigation of the 4 datasets I concluded that I could merge the 4 into 1 extended dataset, based on the unique ClientID provided in all datasets.\n",
    "\n",
    "My task is to identify current clients who might want to leave the company soon, in order to contact them in advance, offering them various promotions in order to keep them longer and prevent them from leaving.\n",
    "\n",
    "After merging the data I could investigate further the full data and could reach some key conclusions, by analyzing the data of the clients who left vs. the current clients and build a type of a persona who has higher potential to want to leave the company:\n",
    "- clients with month-to-month contracts, singles, non seniors who are probably more tech-oriented (paperless bills), with electronic check and rather low monthly fees and relateively new clients tend to terminate they contracts earlier. \n",
    "- there are some features in the data that seems to not have much affect such as gender and having multiple lines.\n",
    "\n",
    "#### Next steps: preparation for modelling:\n",
    "\n",
    "In order the create a model, I'd need a model that would flag those clients who might be soon leaving. That would be a binary classification where 0 are the clients who stay and 1 the clients who would leave. I'll try various types of models and believe one type that might be very useful in our case would be using a KNN model - as it finds neighboring samples and could help detecting similar clients to those who left already.\n",
    "\n",
    "As we saw earlier, the data is not balanced and there might be a need to down/upscale the data. The data will therefore be splitted into stratified training/testing datasets (stratify in order to keep the original balance in the datasets).\n",
    "Few columns will be dropped as well (the datetime columns and the ClientID).\n",
    "\n",
    "For the modelling the next steps will be necessary and will be all implemented through a pipeline:\n",
    "- Removing outliers (ideally would try building with/without the outliers noticed earlier to see if there's any effect)\n",
    "- Imputing missing values\n",
    "- normalizing the numerical features\n",
    "- transforming the categorical features into numbers (One-Hot-Encoding or get_dummies)\n",
    "- transforming all binary features into numbers (Binary encoding)\n",
    "- cross-validation on few simple models to assess which model does better\n",
    "- cross-validation with down/upscaled data as well\n",
    "- GridSearchCV/RandomizedSearchCV/BayessearchCV for tuning various hyperparameters and improving the model.\n",
    "\n",
    "- creating a dummy model to be able to compare the results with the most basic dummy model.\n",
    "\n",
    "**Metrics to be used:** As we have an unbalanced classification problem 'accuracy' might be not realible for assessing the results. Therefore, roc-auc score will be primarily used, together with 'accuracy' and f1 score. \n",
    "\n",
    "\n"
   ]
  },
  {
   "cell_type": "markdown",
   "metadata": {},
   "source": [
    "### Modelling:"
   ]
  },
  {
   "cell_type": "code",
   "execution_count": 35,
   "metadata": {},
   "outputs": [
    {
     "name": "stdout",
     "output_type": "stream",
     "text": [
      "Requirement already satisfied: category_encoders in c:\\users\\ory_s\\anaconda3_new\\lib\\site-packages (2.3.0)\n",
      "Requirement already satisfied: numpy>=1.14.0 in c:\\users\\ory_s\\anaconda3_new\\lib\\site-packages (from category_encoders) (1.20.3)\n",
      "Requirement already satisfied: statsmodels>=0.9.0 in c:\\users\\ory_s\\anaconda3_new\\lib\\site-packages (from category_encoders) (0.12.2)\n",
      "Requirement already satisfied: scikit-learn>=0.20.0 in c:\\users\\ory_s\\anaconda3_new\\lib\\site-packages (from category_encoders) (1.0.2)\n",
      "Requirement already satisfied: scipy>=1.0.0 in c:\\users\\ory_s\\anaconda3_new\\lib\\site-packages (from category_encoders) (1.7.1)\n",
      "Requirement already satisfied: pandas>=0.21.1 in c:\\users\\ory_s\\anaconda3_new\\lib\\site-packages (from category_encoders) (1.3.4)\n",
      "Requirement already satisfied: patsy>=0.5.1 in c:\\users\\ory_s\\anaconda3_new\\lib\\site-packages (from category_encoders) (0.5.2)\n",
      "Requirement already satisfied: python-dateutil>=2.7.3 in c:\\users\\ory_s\\anaconda3_new\\lib\\site-packages (from pandas>=0.21.1->category_encoders) (2.8.2)\n",
      "Requirement already satisfied: pytz>=2017.3 in c:\\users\\ory_s\\anaconda3_new\\lib\\site-packages (from pandas>=0.21.1->category_encoders) (2021.3)\n",
      "Requirement already satisfied: six in c:\\users\\ory_s\\anaconda3_new\\lib\\site-packages (from patsy>=0.5.1->category_encoders) (1.16.0)\n",
      "Requirement already satisfied: threadpoolctl>=2.0.0 in c:\\users\\ory_s\\anaconda3_new\\lib\\site-packages (from scikit-learn>=0.20.0->category_encoders) (2.2.0)\n",
      "Requirement already satisfied: joblib>=0.11 in c:\\users\\ory_s\\anaconda3_new\\lib\\site-packages (from scikit-learn>=0.20.0->category_encoders) (1.1.0)\n"
     ]
    }
   ],
   "source": [
    "!pip install -U category_encoders"
   ]
  },
  {
   "cell_type": "code",
   "execution_count": 36,
   "metadata": {},
   "outputs": [],
   "source": [
    "from sklearn.model_selection import train_test_split\n",
    "from sklearn.metrics import make_scorer, roc_auc_score as roc_auc, f1_score as f1, accuracy_score as accuracy\n",
    "from sklearn.preprocessing import StandardScaler, MinMaxScaler\n",
    "from sklearn.model_selection import GridSearchCV, RandomizedSearchCV\n",
    "from sklearn.model_selection import train_test_split\n",
    "from sklearn.impute import SimpleImputer\n",
    "from sklearn.pipeline import Pipeline\n",
    "from sklearn.preprocessing import OneHotEncoder,LabelEncoder, OrdinalEncoder\n",
    "from sklearn.model_selection import cross_val_score\n",
    "from sklearn.ensemble import RandomForestClassifier\n",
    "\n",
    "from sklearn.dummy import DummyClassifier\n",
    "\n",
    "from sklearn.neighbors import KNeighborsClassifier\n",
    "from sklearn.compose import ColumnTransformer\n",
    "\n",
    "import category_encoders as ce\n"
   ]
  },
  {
   "cell_type": "code",
   "execution_count": 37,
   "metadata": {},
   "outputs": [
    {
     "name": "stdout",
     "output_type": "stream",
     "text": [
      "Requirement already satisfied: Scikit-optimize in c:\\users\\ory_s\\anaconda3_new\\lib\\site-packages (0.9.0)\n",
      "Requirement already satisfied: pyaml>=16.9 in c:\\users\\ory_s\\anaconda3_new\\lib\\site-packages (from Scikit-optimize) (21.10.1)\n",
      "Requirement already satisfied: numpy>=1.13.3 in c:\\users\\ory_s\\anaconda3_new\\lib\\site-packages (from Scikit-optimize) (1.20.3)\n",
      "Requirement already satisfied: joblib>=0.11 in c:\\users\\ory_s\\anaconda3_new\\lib\\site-packages (from Scikit-optimize) (1.1.0)\n",
      "Requirement already satisfied: scikit-learn>=0.20.0 in c:\\users\\ory_s\\anaconda3_new\\lib\\site-packages (from Scikit-optimize) (1.0.2)\n",
      "Requirement already satisfied: scipy>=0.19.1 in c:\\users\\ory_s\\anaconda3_new\\lib\\site-packages (from Scikit-optimize) (1.7.1)\n",
      "Requirement already satisfied: PyYAML in c:\\users\\ory_s\\anaconda3_new\\lib\\site-packages (from pyaml>=16.9->Scikit-optimize) (6.0)\n",
      "Requirement already satisfied: threadpoolctl>=2.0.0 in c:\\users\\ory_s\\anaconda3_new\\lib\\site-packages (from scikit-learn>=0.20.0->Scikit-optimize) (2.2.0)\n"
     ]
    }
   ],
   "source": [
    "!pip install -U Scikit-optimize\n",
    "from skopt import BayesSearchCV\n",
    "from skopt.space import Real, Categorical, Integer"
   ]
  },
  {
   "cell_type": "code",
   "execution_count": 38,
   "metadata": {},
   "outputs": [],
   "source": [
    "#declaring the columns to be removed from the data for the modelling:\n",
    "drop_col = ['churn', 'customerID','BeginDate','EndDate','EndDate_dt']\n",
    "numeric.append('ContractDays')\n",
    "\n",
    "ordinal = ['MultipleLines']\n",
    "binary.remove('MultipleLines')  "
   ]
  },
  {
   "cell_type": "code",
   "execution_count": 39,
   "metadata": {},
   "outputs": [],
   "source": [
    "#splitting the data to X and y for training/test:\n",
    "X_train, X_test, y_train, y_test = train_test_split(df.drop(drop_col,axis=1),df['churn'], test_size=0.2, stratify= df['churn'], random_state=123)"
   ]
  },
  {
   "cell_type": "code",
   "execution_count": 40,
   "metadata": {},
   "outputs": [],
   "source": [
    "numeric_pipeline = Pipeline(steps=[\n",
    "    ('imputer', SimpleImputer(strategy='mean')),\n",
    "    ('scale', MinMaxScaler())\n",
    "])\n",
    "\n",
    "ordinal_pipeline = Pipeline(steps=[\n",
    "    ('imputer', SimpleImputer(strategy='constant', fill_value='none')),\n",
    "    ('ordinal_enconding', OrdinalEncoder(categories=[['none', 'No', 'Yes']])),\n",
    "    ('scale', MinMaxScaler())\n",
    "    \n",
    "])\n",
    "\n",
    "categorical_pipeline = Pipeline(steps=[\n",
    "    ('imputer', SimpleImputer(strategy='constant', fill_value='unknown')),\n",
    "    ('encoding', ce.BinaryEncoder(return_df=True))\n",
    "])\n",
    "\n",
    "binary_pipeline = Pipeline(steps=[\n",
    "    ('imputer', SimpleImputer(strategy='constant', fill_value='No')),\n",
    "    ('binary_encoding', ce.BinaryEncoder(return_df=True)),\n",
    "    \n",
    "    \n",
    "])\n",
    "full_processor = ColumnTransformer(transformers=[\n",
    "    ('number', numeric_pipeline, numeric),\n",
    "    ('category', categorical_pipeline, categorical),\n",
    "    ('binary', binary_pipeline, binary),\n",
    "    ('ordinal', ordinal_pipeline, ordinal)\n",
    "])"
   ]
  },
  {
   "cell_type": "code",
   "execution_count": 41,
   "metadata": {},
   "outputs": [
    {
     "data": {
      "text/plain": [
       "array([0.18931213, 0.05970149, 0.95937928, 0.        , 1.        ,\n",
       "       0.        , 0.        , 1.        , 1.        , 0.        ,\n",
       "       0.        , 1.        , 1.        , 0.        , 1.        ,\n",
       "       0.        , 0.        , 1.        , 0.        , 1.        ,\n",
       "       0.        , 1.        , 0.        , 1.        , 0.        ,\n",
       "       1.        , 0.        , 1.        , 0.        , 1.        ,\n",
       "       0.        , 1.        , 1.        ])"
      ]
     },
     "execution_count": 41,
     "metadata": {},
     "output_type": "execute_result"
    }
   ],
   "source": [
    "full_processor.fit_transform(X_train)[2]"
   ]
  },
  {
   "cell_type": "markdown",
   "metadata": {},
   "source": [
    "The processor works well."
   ]
  },
  {
   "cell_type": "markdown",
   "metadata": {},
   "source": [
    "#### Dummy Classifier:"
   ]
  },
  {
   "cell_type": "code",
   "execution_count": 42,
   "metadata": {
    "scrolled": true
   },
   "outputs": [
    {
     "name": "stdout",
     "output_type": "stream",
     "text": [
      "Dummy Roc-Auc: 0.5\n",
      "Dummy accuracy score: 0.735\n"
     ]
    }
   ],
   "source": [
    "dummy_clf = DummyClassifier(strategy=\"most_frequent\")\n",
    "dummy_clf.fit(X_train, y_train)\n",
    "print(f'Dummy Roc-Auc: {roc_auc(y_test,dummy_clf.predict_proba(X_test)[:,1])}')\n",
    "print(f'Dummy accuracy score: {accuracy(y_test,dummy_clf.predict(X_test)):.3f}')"
   ]
  },
  {
   "cell_type": "markdown",
   "metadata": {},
   "source": [
    "#### KNClassifier:"
   ]
  },
  {
   "cell_type": "code",
   "execution_count": 43,
   "metadata": {},
   "outputs": [
    {
     "name": "stdout",
     "output_type": "stream",
     "text": [
      "Cross-validation average roc-auc result on the training data: 0.771\n",
      "\n",
      "Wall time: 1 s\n"
     ]
    }
   ],
   "source": [
    "%%time\n",
    "KNN = KNeighborsClassifier()\n",
    "\n",
    "knn_pipeline = Pipeline(steps=[\n",
    "    ('preprocess', full_processor),\n",
    "    ('model', KNN)\n",
    "])\n",
    "\n",
    "knn_model = knn_pipeline.fit(X_train,y_train)\n",
    "\n",
    "CV_result_knn = (cross_val_score(knn_pipeline, X_train, y_train, cv=3,scoring='roc_auc').mean())\n",
    "print(f'Cross-validation average roc-auc result on the training data: {CV_result_knn:.3f}')\n",
    "print()"
   ]
  },
  {
   "cell_type": "markdown",
   "metadata": {},
   "source": [
    "#### Random Forest Classifier:"
   ]
  },
  {
   "cell_type": "code",
   "execution_count": 44,
   "metadata": {},
   "outputs": [
    {
     "name": "stdout",
     "output_type": "stream",
     "text": [
      "Cross-validation average roc-auc result on the training data: 0.843\n",
      "\n",
      "Wall time: 1.9 s\n"
     ]
    }
   ],
   "source": [
    "%%time\n",
    "RF = RandomForestClassifier()\n",
    "\n",
    "rf_pipeline = Pipeline(steps=[\n",
    "    ('preprocess', full_processor),\n",
    "    ('model', RF)\n",
    "])\n",
    "\n",
    "rf_model = rf_pipeline.fit(X_train,y_train)\n",
    "\n",
    "CV_result_knn = (cross_val_score(rf_pipeline, X_train, y_train, cv=3,scoring='roc_auc').mean())\n",
    "print(f'Cross-validation average roc-auc result on the training data: {CV_result_knn:.3f}')\n",
    "print()"
   ]
  },
  {
   "cell_type": "markdown",
   "metadata": {},
   "source": [
    "#### GradientBoostingClassifier:"
   ]
  },
  {
   "cell_type": "code",
   "execution_count": 45,
   "metadata": {},
   "outputs": [
    {
     "name": "stdout",
     "output_type": "stream",
     "text": [
      "Cross-validation average roc-auc result on the training data: 0.883\n",
      "\n",
      "Wall time: 2.85 s\n"
     ]
    }
   ],
   "source": [
    "%%time\n",
    "from sklearn.ensemble import GradientBoostingClassifier\n",
    "\n",
    "\n",
    "GBC = GradientBoostingClassifier(random_state=123)\n",
    "\n",
    "GBC_pipeline = Pipeline(steps=[\n",
    "    ('preprocess', full_processor),\n",
    "    ('model', GBC)\n",
    "])\n",
    "\n",
    "GBC_model = GBC_pipeline.fit(X_train,y_train)\n",
    "\n",
    "CV_result_knn = (cross_val_score(GBC_pipeline, X_train, y_train, cv=3,scoring='roc_auc').mean())\n",
    "print(f'Cross-validation average roc-auc result on the training data: {CV_result_knn:.3f}')\n",
    "print()"
   ]
  },
  {
   "cell_type": "code",
   "execution_count": 46,
   "metadata": {},
   "outputs": [
    {
     "name": "stdout",
     "output_type": "stream",
     "text": [
      "Roc-Auc CV score on the training data: 0.887\n"
     ]
    }
   ],
   "source": [
    "gbc_param_grid = {\n",
    "    \n",
    "    'model__learning_rate': Real(0.05,1, 'log-uniform'),\n",
    "    'model__max_depth': Integer(3, 10, 'log-uniform'),\n",
    "    'model__n_estimators': Integer(50, 200, 'log-uniform'),\n",
    "    'model__min_samples_leaf' :Integer(1,10, 'log-uniform'),\n",
    "    #'model__alpha': Integer(1,20,'log-uniform')\n",
    "}\n",
    "\n",
    "# Perform RandomizedSearchCV\n",
    "GBC_Bayes = BayesSearchCV(GBC_pipeline,search_spaces=gbc_param_grid,n_iter=2, scoring='roc_auc',verbose=0,cv=3, random_state=123)\n",
    "\n",
    "GBC_Bayes.fit(X_train,y_train)\n",
    "\n",
    "print(f'Roc-Auc CV score on the training data: {GBC_Bayes.best_score_:.3f}')\n"
   ]
  },
  {
   "cell_type": "markdown",
   "metadata": {},
   "source": [
    "#### XGB model:"
   ]
  },
  {
   "cell_type": "code",
   "execution_count": 47,
   "metadata": {},
   "outputs": [
    {
     "name": "stdout",
     "output_type": "stream",
     "text": [
      "Requirement already satisfied: xgboost in c:\\users\\ory_s\\anaconda3_new\\lib\\site-packages (1.5.2)\n",
      "Requirement already satisfied: numpy in c:\\users\\ory_s\\anaconda3_new\\lib\\site-packages (from xgboost) (1.20.3)\n",
      "Requirement already satisfied: scipy in c:\\users\\ory_s\\anaconda3_new\\lib\\site-packages (from xgboost) (1.7.1)\n"
     ]
    }
   ],
   "source": [
    "#!pip install xgboost"
   ]
  },
  {
   "cell_type": "code",
   "execution_count": 48,
   "metadata": {},
   "outputs": [],
   "source": [
    "import xgboost as xgb"
   ]
  },
  {
   "cell_type": "code",
   "execution_count": 49,
   "metadata": {},
   "outputs": [],
   "source": [
    "xgb_clf = xgb.XGBClassifier(objective=\"binary:logistic\")\n",
    "\n",
    "xgb_pipeline = Pipeline(steps=[\n",
    "    ('preprocess', full_processor),\n",
    "    ('model', xgb_clf)\n",
    "])"
   ]
  },
  {
   "cell_type": "code",
   "execution_count": 50,
   "metadata": {},
   "outputs": [
    {
     "name": "stdout",
     "output_type": "stream",
     "text": [
      "[19:56:25] WARNING: C:/Users/Administrator/workspace/xgboost-win64_release_1.5.1/src/learner.cc:1115: Starting in XGBoost 1.3.0, the default evaluation metric used with the objective 'binary:logistic' was changed from 'error' to 'logloss'. Explicitly set eval_metric if you'd like to restore the old behavior.\n",
      "[19:56:25] WARNING: C:/Users/Administrator/workspace/xgboost-win64_release_1.5.1/src/learner.cc:1115: Starting in XGBoost 1.3.0, the default evaluation metric used with the objective 'binary:logistic' was changed from 'error' to 'logloss'. Explicitly set eval_metric if you'd like to restore the old behavior.\n",
      "[19:56:26] WARNING: C:/Users/Administrator/workspace/xgboost-win64_release_1.5.1/src/learner.cc:1115: Starting in XGBoost 1.3.0, the default evaluation metric used with the objective 'binary:logistic' was changed from 'error' to 'logloss'. Explicitly set eval_metric if you'd like to restore the old behavior.\n",
      "[19:56:26] WARNING: C:/Users/Administrator/workspace/xgboost-win64_release_1.5.1/src/learner.cc:1115: Starting in XGBoost 1.3.0, the default evaluation metric used with the objective 'binary:logistic' was changed from 'error' to 'logloss'. Explicitly set eval_metric if you'd like to restore the old behavior.\n",
      "Cross-validation average roc-auc result on the training data: 0.892\n",
      "\n",
      "Wall time: 2.02 s\n"
     ]
    }
   ],
   "source": [
    "%%time\n",
    "\n",
    "xgb_model = xgb_pipeline.fit(X_train,y_train)\n",
    "\n",
    "CV_result_xgb = (cross_val_score(xgb_model, X_train, y_train, cv=3,scoring='roc_auc').mean())\n",
    "print(f'Cross-validation average roc-auc result on the training data: {CV_result_xgb:.3f}')\n",
    "print()\n"
   ]
  },
  {
   "cell_type": "markdown",
   "metadata": {},
   "source": [
    "Hyperparameters tuning with BayesSearchCV:"
   ]
  },
  {
   "cell_type": "code",
   "execution_count": 104,
   "metadata": {},
   "outputs": [
    {
     "name": "stdout",
     "output_type": "stream",
     "text": [
      "[20:15:02] WARNING: C:/Users/Administrator/workspace/xgboost-win64_release_1.5.1/src/learner.cc:1115: Starting in XGBoost 1.3.0, the default evaluation metric used with the objective 'binary:logistic' was changed from 'error' to 'logloss'. Explicitly set eval_metric if you'd like to restore the old behavior.\n",
      "[20:15:02] WARNING: C:/Users/Administrator/workspace/xgboost-win64_release_1.5.1/src/learner.cc:1115: Starting in XGBoost 1.3.0, the default evaluation metric used with the objective 'binary:logistic' was changed from 'error' to 'logloss'. Explicitly set eval_metric if you'd like to restore the old behavior.\n",
      "[20:15:03] WARNING: C:/Users/Administrator/workspace/xgboost-win64_release_1.5.1/src/learner.cc:1115: Starting in XGBoost 1.3.0, the default evaluation metric used with the objective 'binary:logistic' was changed from 'error' to 'logloss'. Explicitly set eval_metric if you'd like to restore the old behavior.\n",
      "[20:15:03] WARNING: C:/Users/Administrator/workspace/xgboost-win64_release_1.5.1/src/learner.cc:1115: Starting in XGBoost 1.3.0, the default evaluation metric used with the objective 'binary:logistic' was changed from 'error' to 'logloss'. Explicitly set eval_metric if you'd like to restore the old behavior.\n",
      "[20:15:04] WARNING: C:/Users/Administrator/workspace/xgboost-win64_release_1.5.1/src/learner.cc:1115: Starting in XGBoost 1.3.0, the default evaluation metric used with the objective 'binary:logistic' was changed from 'error' to 'logloss'. Explicitly set eval_metric if you'd like to restore the old behavior.\n",
      "[20:15:04] WARNING: C:/Users/Administrator/workspace/xgboost-win64_release_1.5.1/src/learner.cc:1115: Starting in XGBoost 1.3.0, the default evaluation metric used with the objective 'binary:logistic' was changed from 'error' to 'logloss'. Explicitly set eval_metric if you'd like to restore the old behavior.\n",
      "[20:15:04] WARNING: C:/Users/Administrator/workspace/xgboost-win64_release_1.5.1/src/learner.cc:1115: Starting in XGBoost 1.3.0, the default evaluation metric used with the objective 'binary:logistic' was changed from 'error' to 'logloss'. Explicitly set eval_metric if you'd like to restore the old behavior.\n",
      "Roc-Auc score on the BayesSearchCV training data: 0.892\n"
     ]
    }
   ],
   "source": [
    "gbm_param_grid = {\n",
    "    \n",
    "    'model__learning_rate': Real(0.05,1, 'log-uniform'),\n",
    "    'model__max_depth': Integer(3, 10, 'log-uniform'),\n",
    "    'model__n_estimators': Integer(50, 200, 'log-uniform'),\n",
    "    'model__eta' :Real(0.1,0.5, 'log-uniform'),\n",
    "    'model__colsample_bytree': Real(0.1,0.5,'log-uniform'),\n",
    "}\n",
    "\n",
    "# Perform RandomizedSearchCV\n",
    "xgb_Bayes = BayesSearchCV(xgb_pipeline,search_spaces=gbm_param_grid,n_iter=2, scoring='roc_auc',verbose=0,cv=3, random_state=123)\n",
    "\n",
    "xgb_Bayes.fit(X_train,y_train)\n",
    "print(f'Roc-Auc score on the BayesSearchCV training data: {xgb_Bayes.best_score_:.3f}')\n"
   ]
  },
  {
   "cell_type": "code",
   "execution_count": 105,
   "metadata": {},
   "outputs": [
    {
     "name": "stdout",
     "output_type": "stream",
     "text": [
      "ROC-AUC on the test data: 0.898\n",
      "Accuracy on the test data: 0.851\n",
      "F1 score on the test data: 0.689\n"
     ]
    }
   ],
   "source": [
    "pred_prob = xgb_Bayes.predict_proba(X_test)[:,1]\n",
    "pred = xgb_Bayes.predict(X_test)\n",
    "print(f'ROC-AUC on the test data: {roc_auc(y_test,pred_prob):.3f}')\n",
    "print(f'Accuracy on the test data: {accuracy(y_test, pred):.3f}')\n",
    "print(f'F1 score on the test data: {f1(y_test, pred):.3f}')"
   ]
  },
  {
   "cell_type": "markdown",
   "metadata": {},
   "source": [
    "- Excellent results on the test dataset with XGBoost."
   ]
  },
  {
   "cell_type": "markdown",
   "metadata": {},
   "source": [
    "#### Down/Upscaling the data:"
   ]
  },
  {
   "cell_type": "code",
   "execution_count": 53,
   "metadata": {},
   "outputs": [],
   "source": [
    "from sklearn.utils import resample"
   ]
  },
  {
   "cell_type": "code",
   "execution_count": 54,
   "metadata": {},
   "outputs": [],
   "source": [
    "def upscale(df):\n",
    "    # Separate majority and minority classes\n",
    "    df_majority = df[df.churn==0]\n",
    "    df_minority = df[df.churn==1]\n",
    "\n",
    "    # Upsample minority class\n",
    "    df_minority_upsampled = resample(df_minority, \n",
    "                                     replace=True,     # sample with replacement\n",
    "                                     n_samples=len(df_majority),    # to match majority class\n",
    "                                     random_state=123) # reproducible results\n",
    "\n",
    "    # Combine majority class with upsampled minority class\n",
    "    df_upsampled = pd.concat([df_majority, df_minority_upsampled])\n",
    "\n",
    "    # Display new class counts\n",
    "    display(df_upsampled.churn.value_counts(normalize=True))\n",
    "    display(df_upsampled.shape)\n",
    "    \n",
    "    return df_upsampled"
   ]
  },
  {
   "cell_type": "code",
   "execution_count": 55,
   "metadata": {},
   "outputs": [],
   "source": [
    "def downscale(df):\n",
    "    # Separate majority and minority classes\n",
    "    df_majority = df[df.churn==0]\n",
    "    df_minority = df[df.churn==1]\n",
    "\n",
    "    # Upsample minority class\n",
    "    df_majority_downsampled = resample(df_majority, \n",
    "                                     replace=True,     # sample with replacement\n",
    "                                     n_samples=df_minority.shape[0],    # to match majority class\n",
    "                                     random_state=123) # reproducible results\n",
    "\n",
    "    # Combine majority class with upsampled minority class\n",
    "    df_upsampled = pd.concat([df_majority_downsampled, df_minority])\n",
    "\n",
    "    # Display new class counts\n",
    "    display(df_upsampled.churn.value_counts(normalize=True))\n",
    "    display(df.shape)\n",
    "    \n",
    "    return df_upsampled"
   ]
  },
  {
   "cell_type": "markdown",
   "metadata": {},
   "source": [
    "- In order to avoid data leakage when down/upsampling, I'll apply the process to the training data only, leaving the test data untouched (it's the same testing data as the earlier models used):"
   ]
  },
  {
   "cell_type": "code",
   "execution_count": 56,
   "metadata": {},
   "outputs": [],
   "source": [
    "train, test = train_test_split(df, test_size=0.2, stratify= df['churn'], random_state=123)"
   ]
  },
  {
   "cell_type": "code",
   "execution_count": 57,
   "metadata": {},
   "outputs": [
    {
     "data": {
      "text/plain": [
       "0    0.734647\n",
       "1    0.265353\n",
       "Name: churn, dtype: float64"
      ]
     },
     "metadata": {},
     "output_type": "display_data"
    },
    {
     "data": {
      "text/plain": [
       "(5634, 23)"
      ]
     },
     "metadata": {},
     "output_type": "display_data"
    }
   ],
   "source": [
    "display(train['churn'].value_counts(normalize=True))\n",
    "display(train.shape)"
   ]
  },
  {
   "cell_type": "code",
   "execution_count": 58,
   "metadata": {},
   "outputs": [
    {
     "data": {
      "text/plain": [
       "0    0.5\n",
       "1    0.5\n",
       "Name: churn, dtype: float64"
      ]
     },
     "metadata": {},
     "output_type": "display_data"
    },
    {
     "data": {
      "text/plain": [
       "(8278, 23)"
      ]
     },
     "metadata": {},
     "output_type": "display_data"
    }
   ],
   "source": [
    "df_upsampled = upscale(train)\n",
    "\n",
    "X_train_upscale = df_upsampled.drop(drop_col,axis=1)\n",
    "y_train_upscale = df_upsampled['churn']"
   ]
  },
  {
   "cell_type": "code",
   "execution_count": 59,
   "metadata": {},
   "outputs": [
    {
     "data": {
      "text/plain": [
       "0    0.5\n",
       "1    0.5\n",
       "Name: churn, dtype: float64"
      ]
     },
     "metadata": {},
     "output_type": "display_data"
    },
    {
     "data": {
      "text/plain": [
       "(5634, 23)"
      ]
     },
     "metadata": {},
     "output_type": "display_data"
    }
   ],
   "source": [
    "df_downsampled = downscale(train)\n",
    "\n",
    "X_train_downscale = df_downsampled.drop(drop_col,axis=1)\n",
    "y_train_downscale = df_downsampled['churn']"
   ]
  },
  {
   "cell_type": "code",
   "execution_count": 60,
   "metadata": {},
   "outputs": [
    {
     "name": "stdout",
     "output_type": "stream",
     "text": [
      "Requirement already satisfied: imbalanced-learn in c:\\users\\ory_s\\anaconda3_new\\lib\\site-packages (0.9.0)\n",
      "Requirement already satisfied: scipy>=1.1.0 in c:\\users\\ory_s\\anaconda3_new\\lib\\site-packages (from imbalanced-learn) (1.7.1)\n",
      "Requirement already satisfied: joblib>=0.11 in c:\\users\\ory_s\\anaconda3_new\\lib\\site-packages (from imbalanced-learn) (1.1.0)\n",
      "Requirement already satisfied: scikit-learn>=1.0.1 in c:\\users\\ory_s\\anaconda3_new\\lib\\site-packages (from imbalanced-learn) (1.0.2)\n",
      "Requirement already satisfied: threadpoolctl>=2.0.0 in c:\\users\\ory_s\\anaconda3_new\\lib\\site-packages (from imbalanced-learn) (2.2.0)\n",
      "Requirement already satisfied: numpy>=1.14.6 in c:\\users\\ory_s\\anaconda3_new\\lib\\site-packages (from imbalanced-learn) (1.20.3)\n"
     ]
    }
   ],
   "source": [
    "!pip install -U imbalanced-learn\n"
   ]
  },
  {
   "cell_type": "code",
   "execution_count": 61,
   "metadata": {
    "scrolled": true
   },
   "outputs": [],
   "source": [
    "from imblearn.over_sampling import SMOTE\n",
    "from imblearn.pipeline import make_pipeline\n",
    "from imblearn.pipeline import Pipeline as Ppl\n",
    "from imblearn.under_sampling import RepeatedEditedNearestNeighbours, NearMiss"
   ]
  },
  {
   "cell_type": "code",
   "execution_count": 62,
   "metadata": {},
   "outputs": [],
   "source": [
    "rnne = RepeatedEditedNearestNeighbours()\n",
    "near = NearMiss()\n",
    "smt = SMOTE(random_state=123)"
   ]
  },
  {
   "cell_type": "markdown",
   "metadata": {},
   "source": [
    "#### upsampling with SMOTE:"
   ]
  },
  {
   "cell_type": "code",
   "execution_count": 63,
   "metadata": {},
   "outputs": [
    {
     "name": "stdout",
     "output_type": "stream",
     "text": [
      "[19:56:32] WARNING: C:/Users/Administrator/workspace/xgboost-win64_release_1.5.1/src/learner.cc:1115: Starting in XGBoost 1.3.0, the default evaluation metric used with the objective 'binary:logistic' was changed from 'error' to 'logloss'. Explicitly set eval_metric if you'd like to restore the old behavior.\n",
      "[19:56:33] WARNING: C:/Users/Administrator/workspace/xgboost-win64_release_1.5.1/src/learner.cc:1115: Starting in XGBoost 1.3.0, the default evaluation metric used with the objective 'binary:logistic' was changed from 'error' to 'logloss'. Explicitly set eval_metric if you'd like to restore the old behavior.\n",
      "[19:56:33] WARNING: C:/Users/Administrator/workspace/xgboost-win64_release_1.5.1/src/learner.cc:1115: Starting in XGBoost 1.3.0, the default evaluation metric used with the objective 'binary:logistic' was changed from 'error' to 'logloss'. Explicitly set eval_metric if you'd like to restore the old behavior.\n",
      "[19:56:34] WARNING: C:/Users/Administrator/workspace/xgboost-win64_release_1.5.1/src/learner.cc:1115: Starting in XGBoost 1.3.0, the default evaluation metric used with the objective 'binary:logistic' was changed from 'error' to 'logloss'. Explicitly set eval_metric if you'd like to restore the old behavior.\n",
      "[19:56:35] WARNING: C:/Users/Administrator/workspace/xgboost-win64_release_1.5.1/src/learner.cc:1115: Starting in XGBoost 1.3.0, the default evaluation metric used with the objective 'binary:logistic' was changed from 'error' to 'logloss'. Explicitly set eval_metric if you'd like to restore the old behavior.\n",
      "[19:56:35] WARNING: C:/Users/Administrator/workspace/xgboost-win64_release_1.5.1/src/learner.cc:1115: Starting in XGBoost 1.3.0, the default evaluation metric used with the objective 'binary:logistic' was changed from 'error' to 'logloss'. Explicitly set eval_metric if you'd like to restore the old behavior.\n",
      "[19:56:36] WARNING: C:/Users/Administrator/workspace/xgboost-win64_release_1.5.1/src/learner.cc:1115: Starting in XGBoost 1.3.0, the default evaluation metric used with the objective 'binary:logistic' was changed from 'error' to 'logloss'. Explicitly set eval_metric if you'd like to restore the old behavior.\n",
      "0.8905658904165009\n"
     ]
    }
   ],
   "source": [
    "xgb_pipeline_smote = Ppl(steps=[\n",
    "    ('preprocess', full_processor),\n",
    "    ('smote', smt),\n",
    "    ('model', xgb_clf)\n",
    "])\n",
    "\n",
    "xgb_param_grid = {\n",
    "    \n",
    "    'model__learning_rate': Real(0.05,1, 'log-uniform'),\n",
    "    'model__max_depth': Integer(3, 10, 'log-uniform'),\n",
    "    'model__n_estimators': Integer(50, 200, 'log-uniform')\n",
    "}\n",
    "\n",
    "# Perform RandomizedSearchCV\n",
    "xgb_Bayes_upscaled = BayesSearchCV(xgb_pipeline_smote,search_spaces=xgb_param_grid,n_iter=2, scoring='roc_auc',verbose=0,cv=3, random_state=123)\n",
    "\n",
    "xgb_Bayes_upscaled.fit(X_train,y_train)\n",
    "\n",
    "print(xgb_Bayes_upscaled.best_score_)\n",
    "#print(catb_Bayes.best_estimator_)"
   ]
  },
  {
   "cell_type": "code",
   "execution_count": 64,
   "metadata": {},
   "outputs": [
    {
     "name": "stdout",
     "output_type": "stream",
     "text": [
      "Roc-Auc score on the test data and training on upscaled data: 0.889\n",
      "Accuracy score on the test data and training on upscaled data: 0.843\n",
      "F1 score on the test data and training on upscaled data: 0.689\n"
     ]
    }
   ],
   "source": [
    "pred_prob = xgb_Bayes_upscaled.predict_proba(X_test)[:,1]\n",
    "pred = xgb_Bayes_upscaled.predict(X_test)\n",
    "print(f'Roc-Auc score on the test data and training on upscaled data: {roc_auc(y_test,pred_prob):.3f}')\n",
    "print(f'Accuracy score on the test data and training on upscaled data: {accuracy(y_test,pred):.3f}')\n",
    "print(f'F1 score on the test data and training on upscaled data: {f1(y_test,pred):.3f}')\n"
   ]
  },
  {
   "cell_type": "markdown",
   "metadata": {},
   "source": [
    "#### Downsampling with RNNE:"
   ]
  },
  {
   "cell_type": "code",
   "execution_count": 65,
   "metadata": {},
   "outputs": [
    {
     "name": "stdout",
     "output_type": "stream",
     "text": [
      "[19:56:38] WARNING: C:/Users/Administrator/workspace/xgboost-win64_release_1.5.1/src/learner.cc:1115: Starting in XGBoost 1.3.0, the default evaluation metric used with the objective 'binary:logistic' was changed from 'error' to 'logloss'. Explicitly set eval_metric if you'd like to restore the old behavior.\n",
      "[19:56:39] WARNING: C:/Users/Administrator/workspace/xgboost-win64_release_1.5.1/src/learner.cc:1115: Starting in XGBoost 1.3.0, the default evaluation metric used with the objective 'binary:logistic' was changed from 'error' to 'logloss'. Explicitly set eval_metric if you'd like to restore the old behavior.\n",
      "[19:56:39] WARNING: C:/Users/Administrator/workspace/xgboost-win64_release_1.5.1/src/learner.cc:1115: Starting in XGBoost 1.3.0, the default evaluation metric used with the objective 'binary:logistic' was changed from 'error' to 'logloss'. Explicitly set eval_metric if you'd like to restore the old behavior.\n",
      "[19:56:41] WARNING: C:/Users/Administrator/workspace/xgboost-win64_release_1.5.1/src/learner.cc:1115: Starting in XGBoost 1.3.0, the default evaluation metric used with the objective 'binary:logistic' was changed from 'error' to 'logloss'. Explicitly set eval_metric if you'd like to restore the old behavior.\n",
      "[19:56:42] WARNING: C:/Users/Administrator/workspace/xgboost-win64_release_1.5.1/src/learner.cc:1115: Starting in XGBoost 1.3.0, the default evaluation metric used with the objective 'binary:logistic' was changed from 'error' to 'logloss'. Explicitly set eval_metric if you'd like to restore the old behavior.\n",
      "[19:56:43] WARNING: C:/Users/Administrator/workspace/xgboost-win64_release_1.5.1/src/learner.cc:1115: Starting in XGBoost 1.3.0, the default evaluation metric used with the objective 'binary:logistic' was changed from 'error' to 'logloss'. Explicitly set eval_metric if you'd like to restore the old behavior.\n",
      "[19:56:45] WARNING: C:/Users/Administrator/workspace/xgboost-win64_release_1.5.1/src/learner.cc:1115: Starting in XGBoost 1.3.0, the default evaluation metric used with the objective 'binary:logistic' was changed from 'error' to 'logloss'. Explicitly set eval_metric if you'd like to restore the old behavior.\n",
      "0.8369077335783919\n"
     ]
    }
   ],
   "source": [
    "\n",
    "xgb_pipeline_rnne = Ppl(steps=[\n",
    "    ('preprocess', full_processor),\n",
    "    ('rnne', rnne),\n",
    "    ('model', xgb_clf)\n",
    "])\n",
    "\n",
    "xgb_param_grid = {\n",
    "    \n",
    "    'model__learning_rate': Real(0.05,1, 'log-uniform'),\n",
    "    'model__max_depth': Integer(3, 10, 'log-uniform'),\n",
    "    'model__n_estimators': Integer(50, 200, 'log-uniform')\n",
    "}\n",
    "\n",
    "# Perform RandomizedSearchCV\n",
    "xgb_Bayes_downscaled = BayesSearchCV(xgb_pipeline_rnne,search_spaces=xgb_param_grid,n_iter=2, scoring='roc_auc',verbose=0,cv=3, random_state=123)\n",
    "\n",
    "xgb_Bayes_downscaled.fit(X_train,y_train)\n",
    "\n",
    "print(xgb_Bayes_downscaled.best_score_)\n",
    "#print(catb_Bayes.best_estimator_)"
   ]
  },
  {
   "cell_type": "code",
   "execution_count": 66,
   "metadata": {},
   "outputs": [
    {
     "name": "stdout",
     "output_type": "stream",
     "text": [
      "Roc-Auc score on the test data and training on upscaled data: 0.827\n",
      "Accuracy score on the test data and training on upscaled data: 0.681\n",
      "F1 score on the test data and training on upscaled data: 0.597\n"
     ]
    }
   ],
   "source": [
    "pred_prob = xgb_Bayes_downscaled.predict_proba(X_test)[:,1]\n",
    "pred = xgb_Bayes_downscaled.predict(X_test)\n",
    "print(f'Roc-Auc score on the test data and training on upscaled data: {roc_auc(y_test,pred_prob):.3f}')\n",
    "print(f'Accuracy score on the test data and training on upscaled data: {accuracy(y_test,pred):.3f}')\n",
    "print(f'F1 score on the test data and training on upscaled data: {f1(y_test,pred):.3f}')\n"
   ]
  },
  {
   "cell_type": "markdown",
   "metadata": {},
   "source": [
    "**Conclusion:**\n",
    "- up/downsampling the data didn't improve the results through the CV."
   ]
  },
  {
   "cell_type": "markdown",
   "metadata": {},
   "source": [
    "### Model without outliers"
   ]
  },
  {
   "cell_type": "markdown",
   "metadata": {},
   "source": [
    "I've seen earlier that there might be some outliers that would be uncharachteristic for the clients who left. I'll try to remove them (from the test data only), and will re-train the model with the data without them:"
   ]
  },
  {
   "cell_type": "code",
   "execution_count": 67,
   "metadata": {},
   "outputs": [],
   "source": [
    "idx_to_remove = train[(train['TotalCharges']>6000) & (train['churn']==1)].index\n",
    "X_train_no_outliers = train.drop(index=idx_to_remove).drop('churn', axis=1)\n",
    "y_train_no_outliers = train.drop(index=idx_to_remove)['churn']"
   ]
  },
  {
   "cell_type": "code",
   "execution_count": 74,
   "metadata": {},
   "outputs": [
    {
     "name": "stdout",
     "output_type": "stream",
     "text": [
      "[20:03:51] WARNING: C:/Users/Administrator/workspace/xgboost-win64_release_1.5.1/src/learner.cc:1115: Starting in XGBoost 1.3.0, the default evaluation metric used with the objective 'binary:logistic' was changed from 'error' to 'logloss'. Explicitly set eval_metric if you'd like to restore the old behavior.\n",
      "[20:03:52] WARNING: C:/Users/Administrator/workspace/xgboost-win64_release_1.5.1/src/learner.cc:1115: Starting in XGBoost 1.3.0, the default evaluation metric used with the objective 'binary:logistic' was changed from 'error' to 'logloss'. Explicitly set eval_metric if you'd like to restore the old behavior.\n",
      "[20:03:52] WARNING: C:/Users/Administrator/workspace/xgboost-win64_release_1.5.1/src/learner.cc:1115: Starting in XGBoost 1.3.0, the default evaluation metric used with the objective 'binary:logistic' was changed from 'error' to 'logloss'. Explicitly set eval_metric if you'd like to restore the old behavior.\n",
      "[20:03:52] WARNING: C:/Users/Administrator/workspace/xgboost-win64_release_1.5.1/src/learner.cc:1115: Starting in XGBoost 1.3.0, the default evaluation metric used with the objective 'binary:logistic' was changed from 'error' to 'logloss'. Explicitly set eval_metric if you'd like to restore the old behavior.\n",
      "[20:03:53] WARNING: C:/Users/Administrator/workspace/xgboost-win64_release_1.5.1/src/learner.cc:1115: Starting in XGBoost 1.3.0, the default evaluation metric used with the objective 'binary:logistic' was changed from 'error' to 'logloss'. Explicitly set eval_metric if you'd like to restore the old behavior.\n",
      "[20:03:54] WARNING: C:/Users/Administrator/workspace/xgboost-win64_release_1.5.1/src/learner.cc:1115: Starting in XGBoost 1.3.0, the default evaluation metric used with the objective 'binary:logistic' was changed from 'error' to 'logloss'. Explicitly set eval_metric if you'd like to restore the old behavior.\n",
      "[20:03:54] WARNING: C:/Users/Administrator/workspace/xgboost-win64_release_1.5.1/src/learner.cc:1115: Starting in XGBoost 1.3.0, the default evaluation metric used with the objective 'binary:logistic' was changed from 'error' to 'logloss'. Explicitly set eval_metric if you'd like to restore the old behavior.\n",
      "0.8940379640517288\n"
     ]
    }
   ],
   "source": [
    "xgb_param_grid = {\n",
    "    \n",
    "    'model__learning_rate': Real(0.05,1, 'log-uniform'),\n",
    "    'model__max_depth': Integer(3, 10, 'log-uniform'),\n",
    "    'model__n_estimators': Integer(50, 200, 'log-uniform'),\n",
    "}\n",
    "\n",
    "# Perform RandomizedSearchCV\n",
    "xgb_Bayes_outliers = BayesSearchCV(xgb_pipeline,search_spaces=xgb_param_grid,n_iter=2, scoring='roc_auc',verbose=0,cv=3, random_state=123)\n",
    "\n",
    "xgb_Bayes_outliers.fit(X_train_no_outliers,y_train_no_outliers)\n",
    "\n",
    "print(xgb_Bayes_outliers.best_score_)\n",
    "#print(catb_Bayes.best_estimator_)"
   ]
  },
  {
   "cell_type": "code",
   "execution_count": 69,
   "metadata": {},
   "outputs": [
    {
     "name": "stdout",
     "output_type": "stream",
     "text": [
      "Roc-Auc score on the test data and training on upscaled data: 0.874\n",
      "Accuracy score on the test data and training on upscaled data: 0.848\n",
      "F1 score on the test data and training on upscaled data: 0.679\n"
     ]
    }
   ],
   "source": [
    "pred_prob = xgb_Bayes_outliers.predict_proba(X_test)[:,1]\n",
    "pred = xgb_Bayes_outliers.predict(X_test)\n",
    "print(f'Roc-Auc score on the test data and training on upscaled data: {roc_auc(y_test,pred_prob):.3f}')\n",
    "print(f'Accuracy score on the test data and training on upscaled data: {accuracy(y_test,pred):.3f}')\n",
    "print(f'F1 score on the test data and training on upscaled data: {f1(y_test,pred):.3f}')\n"
   ]
  },
  {
   "cell_type": "markdown",
   "metadata": {},
   "source": [
    "**Conclusion:**\n",
    "- Removing the outliers has improved the training CV results a little bit, but the results on the test set are still better when the model is trained with the outliers."
   ]
  },
  {
   "cell_type": "markdown",
   "metadata": {},
   "source": [
    "### Modelling conclusions:"
   ]
  },
  {
   "cell_type": "markdown",
   "metadata": {},
   "source": [
    "I have tried various models with various different parameters, including up/downscaled data. The best model achieved was able to differenciate between clients who left and are still clients with the results mentioned above.\n",
    "\n",
    "The key steps of each model's pipeline were:\n",
    "\n",
    "- filling the missing values:\n",
    "    - categorical values with \"unknown\"\n",
    "    - numerical with the average value of the column\n",
    "    - binary with \"No\"\n",
    "    - ordinal with \"none\" (that will map to 0)\n",
    "    \n",
    "- normalizing the data and transforming all object features into numerical features:\n",
    "    - Numerical columns with MaxMinScaler\n",
    "    - Binary and Categorical columns with BinaryEncoder\n",
    "    - Ordinal columns with OrdinalEncoder and then with StandardScaler\n",
    "\n",
    "I was trying as well to remove outliers and check whether up/downscaling the data might improve the results. The results though didn't improve on the test dataset, and the original training data used through the pipeline seemed to have yielded the best results on the test dataset."
   ]
  },
  {
   "cell_type": "markdown",
   "metadata": {},
   "source": [
    "### Final Report:"
   ]
  },
  {
   "cell_type": "markdown",
   "metadata": {},
   "source": [
    "I have received historical data of clients of the phone company, including data of their usage, personal information and packages to which they had contracts. In addition, the data provided information about who is currently a client and who left already and is no longer a client. My task was to analyse the data and build a model that will help to decide which client might leave soon (churn), in order to contact him/her in advance and prevent them from leaving by offering various promotions.\n",
    "\n",
    "Through my EDA analysis I could recognize that \"clients with month-to-month contracts, singles, non seniors who are probably more tech-oriented (paperless bills), with electronic check and rather low monthly fees and relateively new clients tend to terminate they contracts earlier.\" \n",
    "\n",
    "The modelling plan included steps as mentioned above: filling the missing values according to the kind of the feature (binary,categorical, numerical and ordinal), encoding the data if needed (binary/ordinal), normalizing the data for better modelling results and as well later on adding balancing techniques to up/downscale the data (as the data was found to be unbalanced).\n",
    "\n",
    "I've created as well a dummy model in order to have a baseline score to relate to and few types of model were tested, including cross validation and hyperparameters tuning with the help of a BayesSearchCV. Eventually also up/downscaled data was tested and data without outliers that were detected through the EDA."
   ]
  },
  {
   "cell_type": "markdown",
   "metadata": {},
   "source": [
    "The best model achieved was an XGBoost model, with the following scores and hyperparameters:"
   ]
  },
  {
   "cell_type": "code",
   "execution_count": 70,
   "metadata": {},
   "outputs": [
    {
     "data": {
      "text/plain": [
       "OrderedDict([('model__colsample_bytree', 0.49401528441178183),\n",
       "             ('model__eta', 0.3414881545990261),\n",
       "             ('model__learning_rate', 0.6126417675370945),\n",
       "             ('model__max_depth', 3),\n",
       "             ('model__n_estimators', 99)])"
      ]
     },
     "execution_count": 70,
     "metadata": {},
     "output_type": "execute_result"
    }
   ],
   "source": [
    "xgb_Bayes.best_params_"
   ]
  },
  {
   "cell_type": "markdown",
   "metadata": {},
   "source": [
    "- ROC-AUC on the test data: 0.898\n",
    "- Accuracy on the test data: 0.851\n",
    "- F1 score on the test data: 0.689"
   ]
  },
  {
   "cell_type": "markdown",
   "metadata": {},
   "source": [
    "Eventually after some trial an error with an unsupervised approach I've decided to drop it and not to include in the notebook. Clustering did show that there are overlapping clusters between those who are still clients and those who have left, but the analysis didn't shed new light or could detect new information that wasn't already presented through the EDA earlier on. \n",
    "\n",
    "Some challenges I've come up with included integrating all of those steps above into one smooth working pipeline, that took a bit of time till everything was working properly. In addition, avoiding data leakage was as something I had to make sure that is prevented, and I managed to do that through splitting the data into train-test early in the process, basically not applying any changes to the test data after that, and making sure that through the CV when up/downscaling the data, that it is applied only to the relevant fold and not the whole training dataset. "
   ]
  }
 ],
 "metadata": {
  "ExecuteTimeLog": [
   {
    "duration": 1267,
    "start_time": "2021-12-11T13:22:35.930Z"
   },
   {
    "duration": 181,
    "start_time": "2021-12-11T13:24:00.091Z"
   },
   {
    "duration": 251,
    "start_time": "2021-12-11T13:24:36.449Z"
   },
   {
    "duration": 9,
    "start_time": "2021-12-11T13:24:44.466Z"
   },
   {
    "duration": 22,
    "start_time": "2021-12-11T13:25:34.937Z"
   },
   {
    "duration": 19,
    "start_time": "2021-12-11T13:25:48.614Z"
   },
   {
    "duration": 584,
    "start_time": "2021-12-11T13:26:18.085Z"
   },
   {
    "duration": 28,
    "start_time": "2021-12-11T13:26:24.381Z"
   },
   {
    "duration": 34,
    "start_time": "2021-12-11T13:26:45.809Z"
   },
   {
    "duration": 3,
    "start_time": "2021-12-11T13:29:02.341Z"
   },
   {
    "duration": 30,
    "start_time": "2021-12-11T13:29:08.739Z"
   },
   {
    "duration": 381,
    "start_time": "2021-12-11T13:33:49.026Z"
   },
   {
    "duration": 465,
    "start_time": "2021-12-11T13:34:00.292Z"
   },
   {
    "duration": 386,
    "start_time": "2021-12-11T13:34:03.999Z"
   },
   {
    "duration": 374,
    "start_time": "2021-12-11T13:34:13.137Z"
   },
   {
    "duration": 360,
    "start_time": "2021-12-11T13:34:22.916Z"
   },
   {
    "duration": 1175,
    "start_time": "2021-12-11T13:35:02.948Z"
   },
   {
    "duration": 355,
    "start_time": "2021-12-11T13:38:23.390Z"
   },
   {
    "duration": 343,
    "start_time": "2021-12-11T13:41:13.900Z"
   },
   {
    "duration": 342,
    "start_time": "2021-12-11T13:41:19.064Z"
   },
   {
    "duration": 357,
    "start_time": "2021-12-11T13:41:37.785Z"
   },
   {
    "duration": 9,
    "start_time": "2021-12-11T13:41:48.285Z"
   },
   {
    "duration": 8,
    "start_time": "2021-12-11T13:41:52.993Z"
   },
   {
    "duration": 8,
    "start_time": "2021-12-11T13:42:00.584Z"
   },
   {
    "duration": 7,
    "start_time": "2021-12-11T13:42:43.102Z"
   },
   {
    "duration": 7,
    "start_time": "2021-12-11T13:42:47.219Z"
   },
   {
    "duration": 9,
    "start_time": "2021-12-11T13:43:05.249Z"
   },
   {
    "duration": 7,
    "start_time": "2021-12-11T13:43:20.126Z"
   },
   {
    "duration": 9,
    "start_time": "2021-12-11T13:43:25.463Z"
   },
   {
    "duration": 8,
    "start_time": "2021-12-11T13:43:41.208Z"
   },
   {
    "duration": 19,
    "start_time": "2021-12-11T13:43:58.602Z"
   },
   {
    "duration": 344,
    "start_time": "2021-12-11T13:45:06.322Z"
   },
   {
    "duration": 391,
    "start_time": "2021-12-11T13:46:02.466Z"
   },
   {
    "duration": 410,
    "start_time": "2021-12-11T13:46:18.052Z"
   },
   {
    "duration": 10,
    "start_time": "2021-12-11T13:46:33.015Z"
   },
   {
    "duration": 19,
    "start_time": "2021-12-11T13:46:40.446Z"
   },
   {
    "duration": 15,
    "start_time": "2021-12-11T13:49:42.924Z"
   },
   {
    "duration": 4,
    "start_time": "2021-12-11T13:50:58.949Z"
   },
   {
    "duration": 36,
    "start_time": "2021-12-11T13:51:05.694Z"
   },
   {
    "duration": 3,
    "start_time": "2021-12-11T13:51:19.464Z"
   },
   {
    "duration": 37,
    "start_time": "2021-12-11T13:51:21.465Z"
   },
   {
    "duration": 3,
    "start_time": "2021-12-11T13:51:30.249Z"
   },
   {
    "duration": 36,
    "start_time": "2021-12-11T13:51:36.079Z"
   },
   {
    "duration": 4,
    "start_time": "2021-12-11T13:51:54.135Z"
   },
   {
    "duration": 34,
    "start_time": "2021-12-11T13:51:56.774Z"
   },
   {
    "duration": 342,
    "start_time": "2021-12-11T13:57:19.713Z"
   },
   {
    "duration": 8,
    "start_time": "2021-12-11T13:57:50.200Z"
   },
   {
    "duration": 368,
    "start_time": "2021-12-11T13:57:59.117Z"
   },
   {
    "duration": 6,
    "start_time": "2021-12-11T13:58:18.071Z"
   },
   {
    "duration": 4,
    "start_time": "2021-12-11T13:58:20.781Z"
   },
   {
    "duration": 5,
    "start_time": "2021-12-11T13:58:28.186Z"
   },
   {
    "duration": 5,
    "start_time": "2021-12-11T13:58:46.894Z"
   },
   {
    "duration": 8,
    "start_time": "2021-12-11T13:59:54.410Z"
   },
   {
    "duration": 360,
    "start_time": "2021-12-11T14:00:04.317Z"
   },
   {
    "duration": 16,
    "start_time": "2021-12-11T14:00:07.732Z"
   },
   {
    "duration": 4,
    "start_time": "2021-12-11T14:03:01.870Z"
   },
   {
    "duration": 8,
    "start_time": "2021-12-11T14:04:27.432Z"
   },
   {
    "duration": 7,
    "start_time": "2021-12-11T14:06:22.626Z"
   },
   {
    "duration": 31,
    "start_time": "2021-12-11T14:07:20.434Z"
   },
   {
    "duration": 2750,
    "start_time": "2021-12-11T14:08:54.122Z"
   },
   {
    "duration": 3285,
    "start_time": "2021-12-11T14:09:14.983Z"
   },
   {
    "duration": 2341,
    "start_time": "2021-12-11T14:09:30.653Z"
   },
   {
    "duration": 5,
    "start_time": "2021-12-11T14:09:48.768Z"
   },
   {
    "duration": 11,
    "start_time": "2021-12-11T14:09:57.151Z"
   },
   {
    "duration": 12,
    "start_time": "2021-12-11T14:10:06.359Z"
   },
   {
    "duration": 2422,
    "start_time": "2021-12-11T14:10:18.143Z"
   },
   {
    "duration": 7,
    "start_time": "2021-12-11T14:10:39.052Z"
   },
   {
    "duration": 8,
    "start_time": "2021-12-11T14:10:48.697Z"
   },
   {
    "duration": 54,
    "start_time": "2021-12-11T14:14:49.006Z"
   },
   {
    "duration": 30,
    "start_time": "2021-12-11T14:14:55.219Z"
   },
   {
    "duration": 14828,
    "start_time": "2021-12-11T14:20:07.358Z"
   },
   {
    "duration": 12,
    "start_time": "2021-12-11T14:20:24.790Z"
   },
   {
    "duration": 4,
    "start_time": "2021-12-11T14:22:52.487Z"
   },
   {
    "duration": 16,
    "start_time": "2021-12-11T14:27:12.658Z"
   },
   {
    "duration": 20,
    "start_time": "2021-12-11T14:27:13.831Z"
   },
   {
    "duration": 12,
    "start_time": "2021-12-11T14:28:02.652Z"
   },
   {
    "duration": 12,
    "start_time": "2021-12-11T14:28:19.621Z"
   },
   {
    "duration": 26,
    "start_time": "2021-12-11T14:28:21.027Z"
   },
   {
    "duration": 25,
    "start_time": "2021-12-11T14:29:21.217Z"
   },
   {
    "duration": 12,
    "start_time": "2021-12-11T14:31:38.040Z"
   },
   {
    "duration": 12,
    "start_time": "2021-12-11T14:36:01.814Z"
   },
   {
    "duration": 27,
    "start_time": "2021-12-11T14:36:03.912Z"
   },
   {
    "duration": 53,
    "start_time": "2021-12-11T14:39:53.059Z"
   },
   {
    "duration": 2472,
    "start_time": "2021-12-11T14:40:39.191Z"
   },
   {
    "duration": 3010,
    "start_time": "2021-12-11T14:40:47.052Z"
   },
   {
    "duration": 344,
    "start_time": "2021-12-11T14:41:04.381Z"
   },
   {
    "duration": 337,
    "start_time": "2021-12-11T14:41:10.041Z"
   },
   {
    "duration": 355,
    "start_time": "2021-12-11T14:41:25.934Z"
   },
   {
    "duration": 7,
    "start_time": "2021-12-11T14:46:48.748Z"
   },
   {
    "duration": 24,
    "start_time": "2021-12-11T14:46:49.819Z"
   },
   {
    "duration": 2,
    "start_time": "2021-12-11T14:53:39.184Z"
   },
   {
    "duration": 356,
    "start_time": "2021-12-11T14:53:52.820Z"
   },
   {
    "duration": 155,
    "start_time": "2021-12-11T14:54:09.190Z"
   },
   {
    "duration": 378,
    "start_time": "2021-12-11T14:54:25.021Z"
   },
   {
    "duration": 568,
    "start_time": "2021-12-11T14:55:00.648Z"
   },
   {
    "duration": 496,
    "start_time": "2021-12-11T14:55:04.631Z"
   },
   {
    "duration": 374,
    "start_time": "2021-12-11T14:55:12.170Z"
   },
   {
    "duration": 395,
    "start_time": "2021-12-11T14:55:52.811Z"
   },
   {
    "duration": 468,
    "start_time": "2021-12-11T14:56:51.236Z"
   },
   {
    "duration": 421,
    "start_time": "2021-12-11T14:57:16.516Z"
   },
   {
    "duration": 7,
    "start_time": "2021-12-11T14:58:24.812Z"
   },
   {
    "duration": 919,
    "start_time": "2021-12-11T15:00:35.760Z"
   },
   {
    "duration": 731,
    "start_time": "2021-12-11T15:00:49.489Z"
   },
   {
    "duration": 1338,
    "start_time": "2021-12-11T15:00:57.660Z"
   },
   {
    "duration": 1218,
    "start_time": "2021-12-11T15:01:14.676Z"
   },
   {
    "duration": 658,
    "start_time": "2021-12-11T15:01:23.524Z"
   },
   {
    "duration": 690,
    "start_time": "2021-12-11T15:01:35.716Z"
   },
   {
    "duration": 634,
    "start_time": "2021-12-11T15:01:53.561Z"
   },
   {
    "duration": 732,
    "start_time": "2021-12-11T15:02:31.336Z"
   },
   {
    "duration": 851,
    "start_time": "2021-12-11T15:02:44.875Z"
   },
   {
    "duration": 901,
    "start_time": "2021-12-11T15:03:57.884Z"
   },
   {
    "duration": 2238,
    "start_time": "2021-12-11T15:05:31.083Z"
   },
   {
    "duration": 898,
    "start_time": "2021-12-11T15:05:38.342Z"
   },
   {
    "duration": 916,
    "start_time": "2021-12-11T15:06:03.690Z"
   },
   {
    "duration": 980,
    "start_time": "2021-12-11T15:06:27.722Z"
   },
   {
    "duration": 946,
    "start_time": "2021-12-11T15:06:55.863Z"
   },
   {
    "duration": 926,
    "start_time": "2021-12-11T15:07:10.817Z"
   },
   {
    "duration": 838,
    "start_time": "2021-12-11T15:07:30.354Z"
   },
   {
    "duration": 174,
    "start_time": "2021-12-11T15:11:40.011Z"
   },
   {
    "duration": 202,
    "start_time": "2021-12-11T15:11:53.211Z"
   },
   {
    "duration": 11,
    "start_time": "2021-12-11T15:12:39.324Z"
   },
   {
    "duration": 15,
    "start_time": "2021-12-11T15:12:48.353Z"
   },
   {
    "duration": 26,
    "start_time": "2021-12-11T15:12:51.761Z"
   },
   {
    "duration": 186,
    "start_time": "2021-12-11T16:21:57.402Z"
   },
   {
    "duration": 179,
    "start_time": "2021-12-11T16:22:21.827Z"
   },
   {
    "duration": 180,
    "start_time": "2021-12-11T16:22:36.834Z"
   },
   {
    "duration": 3,
    "start_time": "2021-12-11T16:30:37.973Z"
   },
   {
    "duration": 593,
    "start_time": "2021-12-11T16:31:19.918Z"
   },
   {
    "duration": 624,
    "start_time": "2021-12-11T16:31:32.574Z"
   },
   {
    "duration": 695,
    "start_time": "2021-12-11T16:31:46.988Z"
   },
   {
    "duration": 811,
    "start_time": "2021-12-11T16:32:04.543Z"
   },
   {
    "duration": 769,
    "start_time": "2021-12-11T16:32:48.817Z"
   },
   {
    "duration": 111,
    "start_time": "2021-12-11T16:34:14.669Z"
   },
   {
    "duration": 425,
    "start_time": "2021-12-11T16:34:19.460Z"
   },
   {
    "duration": 339,
    "start_time": "2021-12-11T16:34:29.358Z"
   },
   {
    "duration": 700,
    "start_time": "2021-12-11T16:34:40.509Z"
   },
   {
    "duration": 671,
    "start_time": "2021-12-11T17:27:35.612Z"
   },
   {
    "duration": 673,
    "start_time": "2021-12-11T17:28:15.590Z"
   },
   {
    "duration": 599,
    "start_time": "2021-12-11T17:28:22.133Z"
   },
   {
    "duration": 684,
    "start_time": "2021-12-11T17:28:25.634Z"
   },
   {
    "duration": 634,
    "start_time": "2021-12-11T17:30:06.381Z"
   },
   {
    "duration": 725,
    "start_time": "2021-12-11T17:30:18.900Z"
   },
   {
    "duration": 618,
    "start_time": "2021-12-11T17:31:44.191Z"
   },
   {
    "duration": 620,
    "start_time": "2021-12-11T17:31:50.760Z"
   },
   {
    "duration": 798,
    "start_time": "2021-12-11T17:52:56.563Z"
   },
   {
    "duration": 940,
    "start_time": "2021-12-11T17:53:08.185Z"
   },
   {
    "duration": 1146,
    "start_time": "2021-12-11T17:56:01.546Z"
   },
   {
    "duration": 1268,
    "start_time": "2021-12-11T17:58:04.032Z"
   },
   {
    "duration": 1190,
    "start_time": "2021-12-11T17:58:30.523Z"
   },
   {
    "duration": 1001,
    "start_time": "2021-12-11T18:01:31.400Z"
   },
   {
    "duration": 1241,
    "start_time": "2021-12-11T18:02:44.445Z"
   },
   {
    "duration": 922,
    "start_time": "2021-12-11T18:03:44.419Z"
   },
   {
    "duration": 912,
    "start_time": "2021-12-11T18:04:23.558Z"
   },
   {
    "duration": 1286,
    "start_time": "2021-12-11T18:05:25.007Z"
   },
   {
    "duration": 1158,
    "start_time": "2021-12-11T18:09:04.283Z"
   },
   {
    "duration": 964,
    "start_time": "2021-12-11T18:09:12.651Z"
   },
   {
    "duration": 1200,
    "start_time": "2021-12-11T18:09:36.302Z"
   },
   {
    "duration": 1091,
    "start_time": "2021-12-11T18:09:58.327Z"
   },
   {
    "duration": 1659,
    "start_time": "2021-12-11T18:10:42.526Z"
   },
   {
    "duration": 1288,
    "start_time": "2021-12-11T18:11:40.587Z"
   },
   {
    "duration": 1210,
    "start_time": "2021-12-11T18:11:50.950Z"
   },
   {
    "duration": 1110,
    "start_time": "2021-12-11T18:12:01.775Z"
   },
   {
    "duration": 1300,
    "start_time": "2021-12-11T18:12:10.575Z"
   },
   {
    "duration": 1148,
    "start_time": "2021-12-11T18:12:40.714Z"
   },
   {
    "duration": 1208,
    "start_time": "2021-12-11T18:12:54.456Z"
   },
   {
    "duration": 1155,
    "start_time": "2021-12-12T07:52:18.560Z"
   },
   {
    "duration": 95,
    "start_time": "2021-12-12T07:52:19.717Z"
   },
   {
    "duration": 3,
    "start_time": "2021-12-12T07:52:19.814Z"
   },
   {
    "duration": 42,
    "start_time": "2021-12-12T07:52:19.819Z"
   },
   {
    "duration": 15,
    "start_time": "2021-12-12T07:52:19.862Z"
   },
   {
    "duration": 8,
    "start_time": "2021-12-12T07:52:19.879Z"
   },
   {
    "duration": 15,
    "start_time": "2021-12-12T07:52:19.889Z"
   },
   {
    "duration": 9,
    "start_time": "2021-12-12T07:52:19.907Z"
   },
   {
    "duration": 7,
    "start_time": "2021-12-12T07:52:19.918Z"
   },
   {
    "duration": 66,
    "start_time": "2021-12-12T07:52:19.926Z"
   },
   {
    "duration": 10,
    "start_time": "2021-12-12T07:52:19.994Z"
   },
   {
    "duration": 88,
    "start_time": "2021-12-12T07:52:20.005Z"
   },
   {
    "duration": 11,
    "start_time": "2021-12-12T07:52:20.094Z"
   },
   {
    "duration": 61,
    "start_time": "2021-12-12T07:52:20.106Z"
   },
   {
    "duration": 4,
    "start_time": "2021-12-12T07:52:20.169Z"
   },
   {
    "duration": 15,
    "start_time": "2021-12-12T07:52:20.174Z"
   },
   {
    "duration": 10,
    "start_time": "2021-12-12T07:52:20.190Z"
   },
   {
    "duration": 9,
    "start_time": "2021-12-12T07:52:20.202Z"
   },
   {
    "duration": 22,
    "start_time": "2021-12-12T07:52:20.213Z"
   },
   {
    "duration": 29,
    "start_time": "2021-12-12T07:52:20.236Z"
   },
   {
    "duration": 6,
    "start_time": "2021-12-12T07:52:20.267Z"
   },
   {
    "duration": 17,
    "start_time": "2021-12-12T07:52:20.274Z"
   },
   {
    "duration": 765,
    "start_time": "2021-12-12T07:52:20.293Z"
   },
   {
    "duration": 4,
    "start_time": "2021-12-12T07:52:21.059Z"
   },
   {
    "duration": 1153,
    "start_time": "2021-12-12T07:52:21.065Z"
   },
   {
    "duration": 1248,
    "start_time": "2021-12-12T08:00:07.280Z"
   },
   {
    "duration": 961,
    "start_time": "2021-12-12T08:01:45.157Z"
   },
   {
    "duration": 909,
    "start_time": "2021-12-12T08:02:36.387Z"
   },
   {
    "duration": 1171,
    "start_time": "2021-12-12T08:02:47.044Z"
   },
   {
    "duration": 2,
    "start_time": "2021-12-12T08:02:48.217Z"
   },
   {
    "duration": 780,
    "start_time": "2021-12-12T08:02:55.441Z"
   },
   {
    "duration": 833,
    "start_time": "2021-12-12T08:03:43.140Z"
   },
   {
    "duration": 917,
    "start_time": "2021-12-12T08:04:25.841Z"
   },
   {
    "duration": 621,
    "start_time": "2021-12-12T08:14:28.357Z"
   },
   {
    "duration": 527,
    "start_time": "2021-12-12T08:14:46.779Z"
   },
   {
    "duration": 901,
    "start_time": "2021-12-12T08:15:21.798Z"
   },
   {
    "duration": 923,
    "start_time": "2021-12-12T08:16:43.394Z"
   },
   {
    "duration": 2073,
    "start_time": "2021-12-12T08:16:51.795Z"
   },
   {
    "duration": 878,
    "start_time": "2021-12-12T08:18:08.147Z"
   },
   {
    "duration": 867,
    "start_time": "2021-12-12T08:18:17.157Z"
   },
   {
    "duration": 930,
    "start_time": "2021-12-12T08:19:15.393Z"
   },
   {
    "duration": 519,
    "start_time": "2021-12-12T08:19:42.564Z"
   },
   {
    "duration": 961,
    "start_time": "2021-12-12T08:20:00.947Z"
   },
   {
    "duration": 489,
    "start_time": "2021-12-12T08:20:59.549Z"
   },
   {
    "duration": 392,
    "start_time": "2021-12-12T08:25:42.629Z"
   },
   {
    "duration": 10,
    "start_time": "2021-12-12T08:26:06.820Z"
   },
   {
    "duration": 250,
    "start_time": "2021-12-12T08:26:17.207Z"
   },
   {
    "duration": 7,
    "start_time": "2021-12-12T08:26:33.600Z"
   },
   {
    "duration": 7,
    "start_time": "2021-12-12T08:26:56.917Z"
   },
   {
    "duration": 7,
    "start_time": "2021-12-12T08:27:53.357Z"
   },
   {
    "duration": 11,
    "start_time": "2021-12-12T08:28:23.636Z"
   },
   {
    "duration": 983,
    "start_time": "2021-12-12T08:30:07.732Z"
   },
   {
    "duration": 1797,
    "start_time": "2021-12-12T08:32:07.841Z"
   },
   {
    "duration": 1858,
    "start_time": "2021-12-12T08:32:50.538Z"
   },
   {
    "duration": 1750,
    "start_time": "2021-12-12T08:33:22.072Z"
   },
   {
    "duration": 1989,
    "start_time": "2021-12-12T08:34:03.791Z"
   },
   {
    "duration": 1792,
    "start_time": "2021-12-12T08:34:44.348Z"
   },
   {
    "duration": 1884,
    "start_time": "2021-12-12T08:37:52.714Z"
   },
   {
    "duration": 1860,
    "start_time": "2021-12-12T08:38:55.757Z"
   },
   {
    "duration": 717,
    "start_time": "2021-12-12T08:39:22.257Z"
   },
   {
    "duration": 1770,
    "start_time": "2021-12-12T08:39:34.535Z"
   },
   {
    "duration": 1896,
    "start_time": "2021-12-12T08:41:56.410Z"
   },
   {
    "duration": 1749,
    "start_time": "2021-12-12T08:42:02.066Z"
   },
   {
    "duration": 808,
    "start_time": "2021-12-12T08:42:25.664Z"
   },
   {
    "duration": 1773,
    "start_time": "2021-12-12T08:42:29.231Z"
   },
   {
    "duration": 928,
    "start_time": "2021-12-12T08:43:17.325Z"
   },
   {
    "duration": 688,
    "start_time": "2021-12-12T08:43:36.473Z"
   },
   {
    "duration": 784,
    "start_time": "2021-12-12T08:43:42.300Z"
   },
   {
    "duration": 1706,
    "start_time": "2021-12-12T08:43:52.671Z"
   },
   {
    "duration": 712,
    "start_time": "2021-12-12T08:44:11.574Z"
   },
   {
    "duration": 512,
    "start_time": "2021-12-12T08:44:42.329Z"
   },
   {
    "duration": 629,
    "start_time": "2021-12-12T08:44:52.497Z"
   },
   {
    "duration": 559,
    "start_time": "2021-12-12T08:45:12.171Z"
   },
   {
    "duration": 520,
    "start_time": "2021-12-12T08:45:18.537Z"
   },
   {
    "duration": 507,
    "start_time": "2021-12-12T08:45:29.163Z"
   },
   {
    "duration": 503,
    "start_time": "2021-12-12T08:45:37.208Z"
   },
   {
    "duration": 798,
    "start_time": "2021-12-12T08:45:44.311Z"
   },
   {
    "duration": 824,
    "start_time": "2021-12-12T08:46:04.959Z"
   },
   {
    "duration": 952,
    "start_time": "2021-12-12T08:46:40.383Z"
   },
   {
    "duration": 638,
    "start_time": "2021-12-12T08:47:17.146Z"
   },
   {
    "duration": 3,
    "start_time": "2021-12-12T08:47:17.786Z"
   },
   {
    "duration": 1525,
    "start_time": "2021-12-12T08:47:30.055Z"
   },
   {
    "duration": 1675,
    "start_time": "2021-12-12T08:47:45.819Z"
   },
   {
    "duration": 851,
    "start_time": "2021-12-12T08:48:01.292Z"
   },
   {
    "duration": 823,
    "start_time": "2021-12-12T08:48:09.075Z"
   },
   {
    "duration": 918,
    "start_time": "2021-12-12T08:50:11.187Z"
   },
   {
    "duration": 514,
    "start_time": "2021-12-12T08:55:06.511Z"
   },
   {
    "duration": 618,
    "start_time": "2021-12-12T08:55:12.967Z"
   },
   {
    "duration": 823,
    "start_time": "2021-12-12T08:55:25.171Z"
   },
   {
    "duration": 813,
    "start_time": "2021-12-12T08:55:47.193Z"
   },
   {
    "duration": 815,
    "start_time": "2021-12-12T08:56:35.937Z"
   },
   {
    "duration": 939,
    "start_time": "2021-12-12T08:56:45.249Z"
   },
   {
    "duration": 895,
    "start_time": "2021-12-12T08:57:02.839Z"
   },
   {
    "duration": 888,
    "start_time": "2021-12-12T08:57:37.070Z"
   },
   {
    "duration": 6,
    "start_time": "2021-12-12T09:03:26.313Z"
   },
   {
    "duration": 4,
    "start_time": "2021-12-12T09:03:41.743Z"
   },
   {
    "duration": 77,
    "start_time": "2021-12-12T09:03:55.173Z"
   },
   {
    "duration": 6,
    "start_time": "2021-12-12T09:04:12.191Z"
   },
   {
    "duration": 4,
    "start_time": "2021-12-12T09:04:17.585Z"
   },
   {
    "duration": 4,
    "start_time": "2021-12-12T09:05:17.095Z"
   },
   {
    "duration": 5,
    "start_time": "2021-12-12T09:05:24.532Z"
   },
   {
    "duration": 5,
    "start_time": "2021-12-12T09:05:46.290Z"
   },
   {
    "duration": 3,
    "start_time": "2021-12-12T09:19:23.466Z"
   },
   {
    "duration": 1206,
    "start_time": "2021-12-12T09:19:26.864Z"
   },
   {
    "duration": 1186,
    "start_time": "2021-12-12T09:19:43.232Z"
   },
   {
    "duration": 4,
    "start_time": "2021-12-12T09:21:17.589Z"
   },
   {
    "duration": 5,
    "start_time": "2021-12-12T09:21:27.828Z"
   },
   {
    "duration": 249,
    "start_time": "2021-12-12T09:21:42.248Z"
   },
   {
    "duration": 5,
    "start_time": "2021-12-12T09:22:35.283Z"
   },
   {
    "duration": 3,
    "start_time": "2021-12-12T09:22:47.437Z"
   },
   {
    "duration": 4,
    "start_time": "2021-12-12T09:23:32.645Z"
   },
   {
    "duration": 4,
    "start_time": "2021-12-12T09:24:06.382Z"
   },
   {
    "duration": 4,
    "start_time": "2021-12-12T09:24:10.290Z"
   },
   {
    "duration": 345,
    "start_time": "2021-12-12T09:24:22.622Z"
   },
   {
    "duration": 5,
    "start_time": "2021-12-12T09:24:48.070Z"
   },
   {
    "duration": 4,
    "start_time": "2021-12-12T09:25:31.176Z"
   },
   {
    "duration": 3,
    "start_time": "2021-12-12T09:26:02.233Z"
   },
   {
    "duration": 6,
    "start_time": "2021-12-12T09:26:04.656Z"
   },
   {
    "duration": 14,
    "start_time": "2021-12-12T09:28:48.226Z"
   },
   {
    "duration": 235,
    "start_time": "2021-12-12T09:29:14.643Z"
   },
   {
    "duration": 16,
    "start_time": "2021-12-12T09:29:19.589Z"
   },
   {
    "duration": 10,
    "start_time": "2021-12-12T09:29:29.010Z"
   },
   {
    "duration": 22,
    "start_time": "2021-12-12T09:29:37.957Z"
   },
   {
    "duration": 3,
    "start_time": "2021-12-12T09:30:05.416Z"
   },
   {
    "duration": 4,
    "start_time": "2021-12-12T09:31:10.751Z"
   },
   {
    "duration": 3,
    "start_time": "2021-12-12T09:31:23.508Z"
   },
   {
    "duration": 3007,
    "start_time": "2021-12-12T09:34:23.926Z"
   },
   {
    "duration": 2898,
    "start_time": "2021-12-12T09:35:49.680Z"
   },
   {
    "duration": 2910,
    "start_time": "2021-12-12T09:46:04.645Z"
   },
   {
    "duration": 14,
    "start_time": "2021-12-12T10:52:24.247Z"
   },
   {
    "duration": 1228,
    "start_time": "2021-12-12T10:52:42.019Z"
   },
   {
    "duration": 583,
    "start_time": "2021-12-12T10:54:07.129Z"
   },
   {
    "duration": 600,
    "start_time": "2021-12-12T10:54:15.751Z"
   },
   {
    "duration": 705,
    "start_time": "2021-12-12T10:54:24.439Z"
   },
   {
    "duration": 494,
    "start_time": "2021-12-12T10:54:33.635Z"
   },
   {
    "duration": 555,
    "start_time": "2021-12-12T10:55:03.182Z"
   },
   {
    "duration": 706,
    "start_time": "2021-12-12T10:55:12.427Z"
   },
   {
    "duration": 1099,
    "start_time": "2021-12-12T10:55:26.110Z"
   },
   {
    "duration": 6758,
    "start_time": "2021-12-12T10:57:23.383Z"
   },
   {
    "duration": 1356,
    "start_time": "2021-12-12T10:57:48.796Z"
   },
   {
    "duration": 10,
    "start_time": "2021-12-12T11:11:46.040Z"
   },
   {
    "duration": 84,
    "start_time": "2021-12-12T11:40:45.385Z"
   },
   {
    "duration": 5,
    "start_time": "2021-12-12T11:40:58.571Z"
   },
   {
    "duration": 21,
    "start_time": "2021-12-12T11:41:03.117Z"
   },
   {
    "duration": 8,
    "start_time": "2021-12-12T11:41:43.976Z"
   },
   {
    "duration": 23,
    "start_time": "2021-12-12T11:41:45.890Z"
   },
   {
    "duration": 25,
    "start_time": "2021-12-12T11:42:21.853Z"
   },
   {
    "duration": 6,
    "start_time": "2021-12-12T11:43:28.985Z"
   },
   {
    "duration": 34,
    "start_time": "2021-12-12T11:43:31.248Z"
   },
   {
    "duration": 333,
    "start_time": "2021-12-12T11:44:19.788Z"
   },
   {
    "duration": 5,
    "start_time": "2021-12-12T11:44:48.170Z"
   },
   {
    "duration": 31,
    "start_time": "2021-12-12T11:44:51.524Z"
   },
   {
    "duration": 235,
    "start_time": "2021-12-12T11:45:10.140Z"
   },
   {
    "duration": 251,
    "start_time": "2021-12-12T11:45:17.935Z"
   },
   {
    "duration": 283,
    "start_time": "2021-12-12T11:45:24.477Z"
   },
   {
    "duration": 341,
    "start_time": "2021-12-12T11:45:28.022Z"
   },
   {
    "duration": 7,
    "start_time": "2021-12-12T11:47:09.480Z"
   },
   {
    "duration": 32,
    "start_time": "2021-12-12T11:47:16.934Z"
   },
   {
    "duration": 24,
    "start_time": "2021-12-12T11:50:23.014Z"
   },
   {
    "duration": 86,
    "start_time": "2021-12-12T11:51:40.009Z"
   },
   {
    "duration": 6,
    "start_time": "2021-12-12T11:51:52.445Z"
   },
   {
    "duration": 8,
    "start_time": "2021-12-12T11:51:55.414Z"
   },
   {
    "duration": 5,
    "start_time": "2021-12-12T11:51:57.183Z"
   },
   {
    "duration": 22,
    "start_time": "2021-12-12T11:52:00.311Z"
   },
   {
    "duration": 86,
    "start_time": "2021-12-12T12:12:38.762Z"
   },
   {
    "duration": 41,
    "start_time": "2021-12-12T12:13:17.802Z"
   },
   {
    "duration": 183,
    "start_time": "2021-12-12T12:16:05.673Z"
   },
   {
    "duration": 242,
    "start_time": "2021-12-12T12:16:18.108Z"
   },
   {
    "duration": 241,
    "start_time": "2021-12-12T12:16:32.994Z"
   },
   {
    "duration": 237,
    "start_time": "2021-12-12T12:16:38.947Z"
   },
   {
    "duration": 488,
    "start_time": "2021-12-12T12:16:51.961Z"
   },
   {
    "duration": 180,
    "start_time": "2021-12-12T12:17:16.229Z"
   },
   {
    "duration": 2665,
    "start_time": "2021-12-12T12:19:44.429Z"
   },
   {
    "duration": 346,
    "start_time": "2021-12-12T12:20:05.144Z"
   },
   {
    "duration": 340,
    "start_time": "2021-12-12T12:20:40.123Z"
   },
   {
    "duration": 781,
    "start_time": "2021-12-12T12:21:11.426Z"
   },
   {
    "duration": 233,
    "start_time": "2021-12-12T12:21:46.248Z"
   },
   {
    "duration": 240,
    "start_time": "2021-12-12T12:21:51.461Z"
   },
   {
    "duration": 242,
    "start_time": "2021-12-12T12:22:30.589Z"
   },
   {
    "duration": 189,
    "start_time": "2021-12-12T12:22:50.836Z"
   },
   {
    "duration": 186,
    "start_time": "2021-12-12T12:26:36.533Z"
   },
   {
    "duration": 180,
    "start_time": "2021-12-12T12:26:42.384Z"
   },
   {
    "duration": 212,
    "start_time": "2021-12-12T12:26:50.533Z"
   },
   {
    "duration": 212,
    "start_time": "2021-12-12T12:27:19.546Z"
   },
   {
    "duration": 202,
    "start_time": "2021-12-12T12:27:47.976Z"
   },
   {
    "duration": 207,
    "start_time": "2021-12-12T12:27:53.621Z"
   },
   {
    "duration": 227,
    "start_time": "2021-12-12T12:28:22.740Z"
   },
   {
    "duration": 238,
    "start_time": "2021-12-12T12:28:27.469Z"
   },
   {
    "duration": 251,
    "start_time": "2021-12-12T12:28:40.991Z"
   },
   {
    "duration": 358,
    "start_time": "2021-12-12T12:28:54.549Z"
   },
   {
    "duration": 238,
    "start_time": "2021-12-12T12:29:32.743Z"
   },
   {
    "duration": 201,
    "start_time": "2021-12-12T12:29:38.474Z"
   },
   {
    "duration": 225,
    "start_time": "2021-12-12T12:29:50.923Z"
   },
   {
    "duration": 226,
    "start_time": "2021-12-12T12:30:03.649Z"
   },
   {
    "duration": 476,
    "start_time": "2021-12-12T12:30:33.241Z"
   },
   {
    "duration": 436,
    "start_time": "2021-12-12T12:31:35.818Z"
   },
   {
    "duration": 286,
    "start_time": "2021-12-12T12:32:05.962Z"
   },
   {
    "duration": 278,
    "start_time": "2021-12-12T12:32:30.895Z"
   },
   {
    "duration": 358,
    "start_time": "2021-12-12T12:32:46.186Z"
   },
   {
    "duration": 280,
    "start_time": "2021-12-12T12:32:53.986Z"
   },
   {
    "duration": 366,
    "start_time": "2021-12-12T12:32:56.397Z"
   },
   {
    "duration": 239,
    "start_time": "2021-12-12T12:32:59.061Z"
   },
   {
    "duration": 317,
    "start_time": "2021-12-12T12:33:37.147Z"
   },
   {
    "duration": 246,
    "start_time": "2021-12-12T12:33:50.569Z"
   },
   {
    "duration": 248,
    "start_time": "2021-12-12T12:33:57.352Z"
   },
   {
    "duration": 451,
    "start_time": "2021-12-12T12:34:09.344Z"
   },
   {
    "duration": 254,
    "start_time": "2021-12-12T12:34:17.499Z"
   },
   {
    "duration": 261,
    "start_time": "2021-12-12T12:35:08.890Z"
   },
   {
    "duration": 2721,
    "start_time": "2021-12-12T12:35:33.125Z"
   },
   {
    "duration": 3333,
    "start_time": "2021-12-12T12:35:44.288Z"
   },
   {
    "duration": 284,
    "start_time": "2021-12-12T12:35:56.586Z"
   },
   {
    "duration": 2416,
    "start_time": "2021-12-12T12:36:05.677Z"
   },
   {
    "duration": 1126,
    "start_time": "2021-12-12T12:36:08.095Z"
   },
   {
    "duration": 91,
    "start_time": "2021-12-12T12:36:09.223Z"
   },
   {
    "duration": 3,
    "start_time": "2021-12-12T12:36:09.316Z"
   },
   {
    "duration": 44,
    "start_time": "2021-12-12T12:36:09.321Z"
   },
   {
    "duration": 14,
    "start_time": "2021-12-12T12:36:09.366Z"
   },
   {
    "duration": 17,
    "start_time": "2021-12-12T12:36:09.383Z"
   },
   {
    "duration": 18,
    "start_time": "2021-12-12T12:36:09.401Z"
   },
   {
    "duration": 9,
    "start_time": "2021-12-12T12:36:09.422Z"
   },
   {
    "duration": 31,
    "start_time": "2021-12-12T12:36:09.433Z"
   },
   {
    "duration": 32,
    "start_time": "2021-12-12T12:36:09.465Z"
   },
   {
    "duration": 8,
    "start_time": "2021-12-12T12:36:09.498Z"
   },
   {
    "duration": 77,
    "start_time": "2021-12-12T12:36:09.508Z"
   },
   {
    "duration": 10,
    "start_time": "2021-12-12T12:36:09.587Z"
   },
   {
    "duration": 28,
    "start_time": "2021-12-12T12:36:09.599Z"
   },
   {
    "duration": 4,
    "start_time": "2021-12-12T12:36:09.664Z"
   },
   {
    "duration": 15,
    "start_time": "2021-12-12T12:36:09.669Z"
   },
   {
    "duration": 11,
    "start_time": "2021-12-12T12:36:09.685Z"
   },
   {
    "duration": 11,
    "start_time": "2021-12-12T12:36:09.697Z"
   },
   {
    "duration": 19,
    "start_time": "2021-12-12T12:36:09.709Z"
   },
   {
    "duration": 34,
    "start_time": "2021-12-12T12:36:09.729Z"
   },
   {
    "duration": 6,
    "start_time": "2021-12-12T12:36:09.765Z"
   },
   {
    "duration": 6,
    "start_time": "2021-12-12T12:36:09.773Z"
   },
   {
    "duration": 5,
    "start_time": "2021-12-12T12:36:09.781Z"
   },
   {
    "duration": 1116,
    "start_time": "2021-12-12T12:36:09.787Z"
   },
   {
    "duration": 10,
    "start_time": "2021-12-12T12:36:10.905Z"
   },
   {
    "duration": 1195,
    "start_time": "2021-12-12T12:36:10.918Z"
   },
   {
    "duration": 1166,
    "start_time": "2021-12-12T12:36:12.115Z"
   },
   {
    "duration": 2971,
    "start_time": "2021-12-12T12:36:13.283Z"
   },
   {
    "duration": 9,
    "start_time": "2021-12-12T12:36:16.256Z"
   },
   {
    "duration": 14,
    "start_time": "2021-12-12T12:36:16.267Z"
   },
   {
    "duration": 7,
    "start_time": "2021-12-12T12:36:16.283Z"
   },
   {
    "duration": 13,
    "start_time": "2021-12-12T12:36:16.291Z"
   },
   {
    "duration": 30,
    "start_time": "2021-12-12T12:36:16.306Z"
   },
   {
    "duration": 45,
    "start_time": "2021-12-12T12:36:16.338Z"
   },
   {
    "duration": 865,
    "start_time": "2021-12-12T12:36:16.385Z"
   },
   {
    "duration": 669,
    "start_time": "2021-12-12T12:36:17.252Z"
   },
   {
    "duration": 942,
    "start_time": "2021-12-12T12:36:45.547Z"
   },
   {
    "duration": 803,
    "start_time": "2021-12-12T12:37:11.081Z"
   },
   {
    "duration": 866,
    "start_time": "2021-12-12T12:37:28.143Z"
   },
   {
    "duration": 906,
    "start_time": "2021-12-12T12:37:43.418Z"
   },
   {
    "duration": 841,
    "start_time": "2021-12-12T12:38:17.977Z"
   },
   {
    "duration": 927,
    "start_time": "2021-12-12T12:38:24.349Z"
   },
   {
    "duration": 383,
    "start_time": "2021-12-12T12:39:19.061Z"
   },
   {
    "duration": 678,
    "start_time": "2021-12-12T12:39:40.286Z"
   },
   {
    "duration": 762,
    "start_time": "2021-12-12T12:40:08.526Z"
   },
   {
    "duration": 782,
    "start_time": "2021-12-12T12:40:13.628Z"
   },
   {
    "duration": 814,
    "start_time": "2021-12-12T12:40:20.343Z"
   },
   {
    "duration": 742,
    "start_time": "2021-12-12T12:52:53.607Z"
   },
   {
    "duration": 672,
    "start_time": "2021-12-12T12:53:48.150Z"
   },
   {
    "duration": 650,
    "start_time": "2021-12-12T12:53:55.965Z"
   },
   {
    "duration": 876,
    "start_time": "2021-12-12T12:53:59.972Z"
   },
   {
    "duration": 683,
    "start_time": "2021-12-12T12:54:38.176Z"
   },
   {
    "duration": 516,
    "start_time": "2021-12-12T12:55:51.298Z"
   },
   {
    "duration": 709,
    "start_time": "2021-12-12T12:56:24.541Z"
   },
   {
    "duration": 703,
    "start_time": "2021-12-12T12:56:39.166Z"
   },
   {
    "duration": 562,
    "start_time": "2021-12-12T12:56:44.230Z"
   },
   {
    "duration": 531,
    "start_time": "2021-12-12T12:59:22.993Z"
   },
   {
    "duration": 525,
    "start_time": "2021-12-12T12:59:49.768Z"
   },
   {
    "duration": 657,
    "start_time": "2021-12-12T12:59:56.045Z"
   },
   {
    "duration": 543,
    "start_time": "2021-12-12T13:02:54.175Z"
   },
   {
    "duration": 81,
    "start_time": "2021-12-12T13:03:02.032Z"
   },
   {
    "duration": 534,
    "start_time": "2021-12-12T13:03:05.067Z"
   },
   {
    "duration": 915,
    "start_time": "2021-12-12T13:11:06.858Z"
   },
   {
    "duration": 780,
    "start_time": "2021-12-12T13:11:21.379Z"
   },
   {
    "duration": 650,
    "start_time": "2021-12-12T13:11:38.002Z"
   },
   {
    "duration": 4465,
    "start_time": "2021-12-12T13:12:28.028Z"
   },
   {
    "duration": 721,
    "start_time": "2021-12-12T13:12:39.635Z"
   },
   {
    "duration": 705,
    "start_time": "2021-12-12T13:13:23.133Z"
   },
   {
    "duration": 692,
    "start_time": "2021-12-12T13:13:47.035Z"
   },
   {
    "duration": 899,
    "start_time": "2021-12-12T13:17:06.583Z"
   },
   {
    "duration": 972,
    "start_time": "2021-12-12T13:17:15.589Z"
   },
   {
    "duration": 679,
    "start_time": "2021-12-12T13:17:26.376Z"
   },
   {
    "duration": 695,
    "start_time": "2021-12-12T13:17:37.644Z"
   },
   {
    "duration": 916,
    "start_time": "2021-12-12T13:17:43.787Z"
   },
   {
    "duration": 27,
    "start_time": "2021-12-12T13:25:59.014Z"
   },
   {
    "duration": 3531,
    "start_time": "2021-12-13T00:31:07.469Z"
   },
   {
    "duration": 1357,
    "start_time": "2021-12-13T00:31:11.002Z"
   },
   {
    "duration": 439,
    "start_time": "2021-12-13T00:31:12.361Z"
   },
   {
    "duration": 3,
    "start_time": "2021-12-13T00:31:12.802Z"
   },
   {
    "duration": 44,
    "start_time": "2021-12-13T00:31:12.806Z"
   },
   {
    "duration": 15,
    "start_time": "2021-12-13T00:31:12.851Z"
   },
   {
    "duration": 9,
    "start_time": "2021-12-13T00:31:12.867Z"
   },
   {
    "duration": 40,
    "start_time": "2021-12-13T00:31:12.878Z"
   },
   {
    "duration": 7,
    "start_time": "2021-12-13T00:31:12.920Z"
   },
   {
    "duration": 6,
    "start_time": "2021-12-13T00:31:12.928Z"
   },
   {
    "duration": 31,
    "start_time": "2021-12-13T00:31:12.935Z"
   },
   {
    "duration": 44,
    "start_time": "2021-12-13T00:31:12.967Z"
   },
   {
    "duration": 56,
    "start_time": "2021-12-13T00:31:13.012Z"
   },
   {
    "duration": 44,
    "start_time": "2021-12-13T00:31:13.070Z"
   },
   {
    "duration": 30,
    "start_time": "2021-12-13T00:31:13.115Z"
   },
   {
    "duration": 4,
    "start_time": "2021-12-13T00:31:13.146Z"
   },
   {
    "duration": 14,
    "start_time": "2021-12-13T00:31:13.152Z"
   },
   {
    "duration": 44,
    "start_time": "2021-12-13T00:31:13.168Z"
   },
   {
    "duration": 11,
    "start_time": "2021-12-13T00:31:13.214Z"
   },
   {
    "duration": 17,
    "start_time": "2021-12-13T00:31:13.227Z"
   },
   {
    "duration": 14,
    "start_time": "2021-12-13T00:31:13.246Z"
   },
   {
    "duration": 7,
    "start_time": "2021-12-13T00:31:13.261Z"
   },
   {
    "duration": 4,
    "start_time": "2021-12-13T00:31:13.306Z"
   },
   {
    "duration": 716,
    "start_time": "2021-12-13T00:31:13.312Z"
   },
   {
    "duration": -209,
    "start_time": "2021-12-13T00:31:14.239Z"
   },
   {
    "duration": -209,
    "start_time": "2021-12-13T00:31:14.240Z"
   },
   {
    "duration": -209,
    "start_time": "2021-12-13T00:31:14.242Z"
   },
   {
    "duration": -209,
    "start_time": "2021-12-13T00:31:14.243Z"
   },
   {
    "duration": -209,
    "start_time": "2021-12-13T00:31:14.244Z"
   },
   {
    "duration": -209,
    "start_time": "2021-12-13T00:31:14.245Z"
   },
   {
    "duration": -211,
    "start_time": "2021-12-13T00:31:14.248Z"
   },
   {
    "duration": -258,
    "start_time": "2021-12-13T00:31:14.296Z"
   },
   {
    "duration": -259,
    "start_time": "2021-12-13T00:31:14.298Z"
   },
   {
    "duration": 623,
    "start_time": "2021-12-13T00:32:07.926Z"
   },
   {
    "duration": 1220,
    "start_time": "2021-12-13T00:32:22.264Z"
   },
   {
    "duration": 3006,
    "start_time": "2021-12-13T00:32:43.520Z"
   },
   {
    "duration": 5,
    "start_time": "2021-12-13T00:32:46.528Z"
   },
   {
    "duration": 99,
    "start_time": "2021-12-13T00:32:46.535Z"
   },
   {
    "duration": 3,
    "start_time": "2021-12-13T00:32:46.636Z"
   },
   {
    "duration": 42,
    "start_time": "2021-12-13T00:32:46.641Z"
   },
   {
    "duration": 24,
    "start_time": "2021-12-13T00:32:46.685Z"
   },
   {
    "duration": 9,
    "start_time": "2021-12-13T00:32:46.711Z"
   },
   {
    "duration": 16,
    "start_time": "2021-12-13T00:32:46.723Z"
   },
   {
    "duration": 9,
    "start_time": "2021-12-13T00:32:46.741Z"
   },
   {
    "duration": 7,
    "start_time": "2021-12-13T00:32:46.752Z"
   },
   {
    "duration": 77,
    "start_time": "2021-12-13T00:32:46.761Z"
   },
   {
    "duration": 11,
    "start_time": "2021-12-13T00:32:46.840Z"
   },
   {
    "duration": 99,
    "start_time": "2021-12-13T00:32:46.852Z"
   },
   {
    "duration": 16,
    "start_time": "2021-12-13T00:32:46.952Z"
   },
   {
    "duration": 68,
    "start_time": "2021-12-13T00:32:46.969Z"
   },
   {
    "duration": 5,
    "start_time": "2021-12-13T00:32:47.039Z"
   },
   {
    "duration": 13,
    "start_time": "2021-12-13T00:32:47.046Z"
   },
   {
    "duration": 50,
    "start_time": "2021-12-13T00:32:47.060Z"
   },
   {
    "duration": 12,
    "start_time": "2021-12-13T00:32:47.112Z"
   },
   {
    "duration": 18,
    "start_time": "2021-12-13T00:32:47.126Z"
   },
   {
    "duration": 9,
    "start_time": "2021-12-13T00:32:47.146Z"
   },
   {
    "duration": 9,
    "start_time": "2021-12-13T00:32:47.157Z"
   },
   {
    "duration": 37,
    "start_time": "2021-12-13T00:32:47.169Z"
   },
   {
    "duration": 1208,
    "start_time": "2021-12-13T00:32:47.209Z"
   },
   {
    "duration": 1356,
    "start_time": "2021-12-13T00:32:53.197Z"
   },
   {
    "duration": 754,
    "start_time": "2021-12-13T00:32:54.555Z"
   },
   {
    "duration": -208,
    "start_time": "2021-12-13T00:32:55.519Z"
   },
   {
    "duration": -208,
    "start_time": "2021-12-13T00:32:55.520Z"
   },
   {
    "duration": -209,
    "start_time": "2021-12-13T00:32:55.522Z"
   },
   {
    "duration": -209,
    "start_time": "2021-12-13T00:32:55.523Z"
   },
   {
    "duration": -209,
    "start_time": "2021-12-13T00:32:55.524Z"
   },
   {
    "duration": -210,
    "start_time": "2021-12-13T00:32:55.526Z"
   },
   {
    "duration": -210,
    "start_time": "2021-12-13T00:32:55.527Z"
   },
   {
    "duration": 3057,
    "start_time": "2021-12-13T00:33:09.649Z"
   },
   {
    "duration": 5,
    "start_time": "2021-12-13T00:33:16.855Z"
   },
   {
    "duration": 11,
    "start_time": "2021-12-13T00:33:18.395Z"
   },
   {
    "duration": 7,
    "start_time": "2021-12-13T00:33:19.824Z"
   },
   {
    "duration": 6,
    "start_time": "2021-12-13T00:33:19.976Z"
   },
   {
    "duration": 22,
    "start_time": "2021-12-13T00:33:20.135Z"
   },
   {
    "duration": 25,
    "start_time": "2021-12-13T00:33:27.399Z"
   },
   {
    "duration": 797,
    "start_time": "2021-12-13T00:33:27.426Z"
   },
   {
    "duration": 379,
    "start_time": "2021-12-13T00:39:14.627Z"
   },
   {
    "duration": 2235,
    "start_time": "2021-12-13T00:39:28.361Z"
   },
   {
    "duration": 4445,
    "start_time": "2021-12-13T00:40:56.068Z"
   },
   {
    "duration": 1618,
    "start_time": "2021-12-13T00:43:09.095Z"
   },
   {
    "duration": 11,
    "start_time": "2021-12-13T00:43:18.876Z"
   },
   {
    "duration": 4,
    "start_time": "2021-12-13T00:44:08.115Z"
   },
   {
    "duration": 1308,
    "start_time": "2021-12-13T01:01:03.637Z"
   },
   {
    "duration": 4989,
    "start_time": "2021-12-13T01:01:19.189Z"
   },
   {
    "duration": 721,
    "start_time": "2021-12-13T01:01:28.868Z"
   },
   {
    "duration": 4132,
    "start_time": "2021-12-13T01:01:39.945Z"
   },
   {
    "duration": 184,
    "start_time": "2021-12-13T01:01:44.080Z"
   },
   {
    "duration": 465,
    "start_time": "2021-12-13T01:01:44.267Z"
   },
   {
    "duration": 4,
    "start_time": "2021-12-13T01:01:44.736Z"
   },
   {
    "duration": 68,
    "start_time": "2021-12-13T01:01:44.743Z"
   },
   {
    "duration": 47,
    "start_time": "2021-12-13T01:01:44.814Z"
   },
   {
    "duration": 11,
    "start_time": "2021-12-13T01:01:44.864Z"
   },
   {
    "duration": 23,
    "start_time": "2021-12-13T01:01:44.881Z"
   },
   {
    "duration": 55,
    "start_time": "2021-12-13T01:01:44.908Z"
   },
   {
    "duration": 10,
    "start_time": "2021-12-13T01:01:44.966Z"
   },
   {
    "duration": 95,
    "start_time": "2021-12-13T01:01:44.978Z"
   },
   {
    "duration": 16,
    "start_time": "2021-12-13T01:01:45.076Z"
   },
   {
    "duration": 129,
    "start_time": "2021-12-13T01:01:45.095Z"
   },
   {
    "duration": 43,
    "start_time": "2021-12-13T01:01:45.226Z"
   },
   {
    "duration": 95,
    "start_time": "2021-12-13T01:01:45.272Z"
   },
   {
    "duration": 7,
    "start_time": "2021-12-13T01:01:45.370Z"
   },
   {
    "duration": 20,
    "start_time": "2021-12-13T01:01:45.380Z"
   },
   {
    "duration": 80,
    "start_time": "2021-12-13T01:01:45.403Z"
   },
   {
    "duration": 47,
    "start_time": "2021-12-13T01:01:45.488Z"
   },
   {
    "duration": 96,
    "start_time": "2021-12-13T01:01:45.544Z"
   },
   {
    "duration": 164,
    "start_time": "2021-12-13T01:01:45.643Z"
   },
   {
    "duration": 91,
    "start_time": "2021-12-13T01:01:45.810Z"
   },
   {
    "duration": 46,
    "start_time": "2021-12-13T01:01:45.914Z"
   },
   {
    "duration": 2162,
    "start_time": "2021-12-13T01:01:45.963Z"
   },
   {
    "duration": 2099,
    "start_time": "2021-12-13T01:01:48.128Z"
   },
   {
    "duration": 5048,
    "start_time": "2021-12-13T01:01:50.230Z"
   },
   {
    "duration": 6,
    "start_time": "2021-12-13T01:01:55.281Z"
   },
   {
    "duration": 13,
    "start_time": "2021-12-13T01:01:55.289Z"
   },
   {
    "duration": 11,
    "start_time": "2021-12-13T01:01:55.304Z"
   },
   {
    "duration": 43,
    "start_time": "2021-12-13T01:01:55.318Z"
   },
   {
    "duration": 32,
    "start_time": "2021-12-13T01:01:55.363Z"
   },
   {
    "duration": 65,
    "start_time": "2021-12-13T01:01:55.397Z"
   },
   {
    "duration": 1191,
    "start_time": "2021-12-13T01:01:55.465Z"
   },
   {
    "duration": 4392,
    "start_time": "2021-12-13T01:01:56.658Z"
   },
   {
    "duration": 6,
    "start_time": "2021-12-13T01:02:01.054Z"
   },
   {
    "duration": 4890,
    "start_time": "2021-12-13T01:02:01.063Z"
   },
   {
    "duration": 513,
    "start_time": "2021-12-13T01:03:08.916Z"
   },
   {
    "duration": 5,
    "start_time": "2021-12-13T01:03:33.961Z"
   },
   {
    "duration": 400,
    "start_time": "2021-12-13T01:03:36.540Z"
   },
   {
    "duration": 382,
    "start_time": "2021-12-13T01:03:57.102Z"
   },
   {
    "duration": 125,
    "start_time": "2021-12-13T01:04:41.855Z"
   },
   {
    "duration": 400,
    "start_time": "2021-12-13T01:05:19.137Z"
   },
   {
    "duration": 5,
    "start_time": "2021-12-13T01:05:26.752Z"
   },
   {
    "duration": 427,
    "start_time": "2021-12-13T01:10:52.871Z"
   },
   {
    "duration": 18,
    "start_time": "2021-12-13T01:12:02.738Z"
   },
   {
    "duration": 7,
    "start_time": "2021-12-13T01:12:09.170Z"
   },
   {
    "duration": 6,
    "start_time": "2021-12-13T01:12:17.918Z"
   },
   {
    "duration": 7,
    "start_time": "2021-12-13T01:12:24.785Z"
   },
   {
    "duration": 506,
    "start_time": "2021-12-13T01:12:32.019Z"
   },
   {
    "duration": 23,
    "start_time": "2021-12-13T01:12:40.403Z"
   },
   {
    "duration": 53,
    "start_time": "2021-12-13T01:12:42.468Z"
   },
   {
    "duration": 4,
    "start_time": "2021-12-13T01:13:42.598Z"
   },
   {
    "duration": 396,
    "start_time": "2021-12-13T01:13:51.001Z"
   },
   {
    "duration": 16,
    "start_time": "2021-12-13T01:14:08.050Z"
   },
   {
    "duration": 36,
    "start_time": "2021-12-13T01:14:11.116Z"
   },
   {
    "duration": 332,
    "start_time": "2021-12-13T01:14:43.430Z"
   },
   {
    "duration": 317,
    "start_time": "2021-12-13T01:15:26.320Z"
   },
   {
    "duration": 6,
    "start_time": "2021-12-13T01:16:46.905Z"
   },
   {
    "duration": 267,
    "start_time": "2021-12-13T01:16:49.472Z"
   },
   {
    "duration": 5,
    "start_time": "2021-12-13T01:17:17.312Z"
   },
   {
    "duration": 6,
    "start_time": "2021-12-13T01:17:25.569Z"
   },
   {
    "duration": 5,
    "start_time": "2021-12-13T01:17:31.218Z"
   },
   {
    "duration": 5,
    "start_time": "2021-12-13T01:17:37.472Z"
   },
   {
    "duration": 6,
    "start_time": "2021-12-13T01:18:28.672Z"
   },
   {
    "duration": 252,
    "start_time": "2021-12-13T01:18:31.272Z"
   },
   {
    "duration": 561,
    "start_time": "2021-12-13T01:20:26.981Z"
   },
   {
    "duration": 6,
    "start_time": "2021-12-13T01:20:55.421Z"
   },
   {
    "duration": 390,
    "start_time": "2021-12-13T01:20:57.299Z"
   },
   {
    "duration": 397,
    "start_time": "2021-12-13T01:22:09.569Z"
   },
   {
    "duration": 7,
    "start_time": "2021-12-13T01:22:24.223Z"
   },
   {
    "duration": 412,
    "start_time": "2021-12-13T01:22:26.447Z"
   },
   {
    "duration": 18,
    "start_time": "2021-12-13T01:22:41.151Z"
   },
   {
    "duration": 11,
    "start_time": "2021-12-13T01:22:47.204Z"
   },
   {
    "duration": 6,
    "start_time": "2021-12-13T01:24:51.452Z"
   },
   {
    "duration": 438,
    "start_time": "2021-12-13T01:24:54.624Z"
   },
   {
    "duration": 6,
    "start_time": "2021-12-13T01:25:35.629Z"
   },
   {
    "duration": 411,
    "start_time": "2021-12-13T01:25:37.689Z"
   },
   {
    "duration": 522,
    "start_time": "2021-12-13T01:27:09.889Z"
   },
   {
    "duration": 7,
    "start_time": "2021-12-13T01:27:45.154Z"
   },
   {
    "duration": 451,
    "start_time": "2021-12-13T01:27:47.007Z"
   },
   {
    "duration": 6,
    "start_time": "2021-12-13T01:27:53.727Z"
   },
   {
    "duration": 418,
    "start_time": "2021-12-13T01:27:55.668Z"
   },
   {
    "duration": 5,
    "start_time": "2021-12-13T01:29:03.241Z"
   },
   {
    "duration": 6,
    "start_time": "2021-12-13T01:29:14.421Z"
   },
   {
    "duration": 430,
    "start_time": "2021-12-13T01:29:16.563Z"
   },
   {
    "duration": 7,
    "start_time": "2021-12-13T01:30:31.820Z"
   },
   {
    "duration": 403,
    "start_time": "2021-12-13T01:30:34.266Z"
   },
   {
    "duration": 7,
    "start_time": "2021-12-13T01:31:13.953Z"
   },
   {
    "duration": 486,
    "start_time": "2021-12-13T01:31:15.906Z"
   },
   {
    "duration": 6,
    "start_time": "2021-12-13T01:31:22.716Z"
   },
   {
    "duration": 434,
    "start_time": "2021-12-13T01:31:25.195Z"
   },
   {
    "duration": 6,
    "start_time": "2021-12-13T01:31:54.721Z"
   },
   {
    "duration": 458,
    "start_time": "2021-12-13T01:31:56.505Z"
   },
   {
    "duration": 6,
    "start_time": "2021-12-13T01:33:53.911Z"
   },
   {
    "duration": 413,
    "start_time": "2021-12-13T01:33:55.857Z"
   },
   {
    "duration": 7,
    "start_time": "2021-12-13T01:34:07.909Z"
   },
   {
    "duration": 538,
    "start_time": "2021-12-13T01:34:11.796Z"
   },
   {
    "duration": 7,
    "start_time": "2021-12-13T01:34:59.386Z"
   },
   {
    "duration": 412,
    "start_time": "2021-12-13T01:35:01.017Z"
   },
   {
    "duration": 6,
    "start_time": "2021-12-13T01:36:18.715Z"
   },
   {
    "duration": 427,
    "start_time": "2021-12-13T01:36:21.171Z"
   },
   {
    "duration": 123,
    "start_time": "2021-12-13T01:36:29.333Z"
   },
   {
    "duration": 6,
    "start_time": "2021-12-13T01:36:36.997Z"
   },
   {
    "duration": 443,
    "start_time": "2021-12-13T01:36:38.920Z"
   },
   {
    "duration": 6,
    "start_time": "2021-12-13T01:36:47.856Z"
   },
   {
    "duration": 7,
    "start_time": "2021-12-13T01:37:07.691Z"
   },
   {
    "duration": 6,
    "start_time": "2021-12-13T01:37:12.121Z"
   },
   {
    "duration": 429,
    "start_time": "2021-12-13T01:37:21.075Z"
   },
   {
    "duration": 6,
    "start_time": "2021-12-13T01:38:00.811Z"
   },
   {
    "duration": 8057,
    "start_time": "2021-12-13T01:38:02.626Z"
   },
   {
    "duration": 6,
    "start_time": "2021-12-13T01:38:58.335Z"
   },
   {
    "duration": 8325,
    "start_time": "2021-12-13T01:39:00.117Z"
   },
   {
    "duration": 6,
    "start_time": "2021-12-13T01:39:57.213Z"
   },
   {
    "duration": 225,
    "start_time": "2021-12-13T01:39:58.907Z"
   },
   {
    "duration": 326,
    "start_time": "2021-12-13T01:40:23.873Z"
   },
   {
    "duration": 6,
    "start_time": "2021-12-13T01:41:10.784Z"
   },
   {
    "duration": 7206,
    "start_time": "2021-12-13T01:41:12.738Z"
   },
   {
    "duration": 6,
    "start_time": "2021-12-13T01:41:27.984Z"
   },
   {
    "duration": 428,
    "start_time": "2021-12-13T01:41:30.560Z"
   },
   {
    "duration": 6,
    "start_time": "2021-12-13T01:41:58.352Z"
   },
   {
    "duration": 220,
    "start_time": "2021-12-13T01:42:00.351Z"
   },
   {
    "duration": 7,
    "start_time": "2021-12-13T01:42:07.541Z"
   },
   {
    "duration": 409,
    "start_time": "2021-12-13T01:42:09.264Z"
   },
   {
    "duration": 18044,
    "start_time": "2021-12-13T07:57:45.381Z"
   },
   {
    "duration": 1337,
    "start_time": "2021-12-13T07:58:03.427Z"
   },
   {
    "duration": 98,
    "start_time": "2021-12-13T07:58:04.767Z"
   },
   {
    "duration": 3,
    "start_time": "2021-12-13T07:58:04.867Z"
   },
   {
    "duration": 44,
    "start_time": "2021-12-13T07:58:04.872Z"
   },
   {
    "duration": 15,
    "start_time": "2021-12-13T07:58:04.918Z"
   },
   {
    "duration": 10,
    "start_time": "2021-12-13T07:58:04.935Z"
   },
   {
    "duration": 16,
    "start_time": "2021-12-13T07:58:04.948Z"
   },
   {
    "duration": 31,
    "start_time": "2021-12-13T07:58:04.966Z"
   },
   {
    "duration": 5,
    "start_time": "2021-12-13T07:58:04.999Z"
   },
   {
    "duration": 35,
    "start_time": "2021-12-13T07:58:05.006Z"
   },
   {
    "duration": 50,
    "start_time": "2021-12-13T07:58:05.043Z"
   },
   {
    "duration": 52,
    "start_time": "2021-12-13T07:58:05.094Z"
   },
   {
    "duration": 44,
    "start_time": "2021-12-13T07:58:05.148Z"
   },
   {
    "duration": 30,
    "start_time": "2021-12-13T07:58:05.194Z"
   },
   {
    "duration": 4,
    "start_time": "2021-12-13T07:58:05.226Z"
   },
   {
    "duration": 16,
    "start_time": "2021-12-13T07:58:05.232Z"
   },
   {
    "duration": 11,
    "start_time": "2021-12-13T07:58:05.249Z"
   },
   {
    "duration": 11,
    "start_time": "2021-12-13T07:58:05.291Z"
   },
   {
    "duration": 18,
    "start_time": "2021-12-13T07:58:05.304Z"
   },
   {
    "duration": 12,
    "start_time": "2021-12-13T07:58:05.324Z"
   },
   {
    "duration": 6,
    "start_time": "2021-12-13T07:58:05.337Z"
   },
   {
    "duration": 6,
    "start_time": "2021-12-13T07:58:05.346Z"
   },
   {
    "duration": 1239,
    "start_time": "2021-12-13T07:58:05.354Z"
   },
   {
    "duration": 1324,
    "start_time": "2021-12-13T07:58:06.595Z"
   },
   {
    "duration": 3185,
    "start_time": "2021-12-13T07:58:07.921Z"
   },
   {
    "duration": 6,
    "start_time": "2021-12-13T07:58:11.107Z"
   },
   {
    "duration": 12,
    "start_time": "2021-12-13T07:58:11.115Z"
   },
   {
    "duration": 7,
    "start_time": "2021-12-13T07:58:11.128Z"
   },
   {
    "duration": 7,
    "start_time": "2021-12-13T07:58:11.136Z"
   },
   {
    "duration": 57,
    "start_time": "2021-12-13T07:58:11.144Z"
   },
   {
    "duration": 25,
    "start_time": "2021-12-13T07:58:11.202Z"
   },
   {
    "duration": 823,
    "start_time": "2021-12-13T07:58:11.228Z"
   },
   {
    "duration": 99293,
    "start_time": "2021-12-13T07:58:12.053Z"
   },
   {
    "duration": 319,
    "start_time": "2021-12-13T07:59:51.349Z"
   },
   {
    "duration": -41,
    "start_time": "2021-12-13T07:59:51.710Z"
   },
   {
    "duration": -41,
    "start_time": "2021-12-13T07:59:51.711Z"
   },
   {
    "duration": -41,
    "start_time": "2021-12-13T07:59:51.713Z"
   },
   {
    "duration": -43,
    "start_time": "2021-12-13T07:59:51.715Z"
   },
   {
    "duration": -92,
    "start_time": "2021-12-13T07:59:51.766Z"
   },
   {
    "duration": -92,
    "start_time": "2021-12-13T07:59:51.767Z"
   },
   {
    "duration": -93,
    "start_time": "2021-12-13T07:59:51.769Z"
   },
   {
    "duration": -93,
    "start_time": "2021-12-13T07:59:51.770Z"
   },
   {
    "duration": 32975,
    "start_time": "2021-12-13T08:00:03.559Z"
   },
   {
    "duration": 7,
    "start_time": "2021-12-13T08:00:41.230Z"
   },
   {
    "duration": 3,
    "start_time": "2021-12-13T08:00:52.688Z"
   },
   {
    "duration": 14,
    "start_time": "2021-12-13T08:00:53.383Z"
   },
   {
    "duration": 5,
    "start_time": "2021-12-13T08:01:00.567Z"
   },
   {
    "duration": 4,
    "start_time": "2021-12-13T08:01:14.861Z"
   },
   {
    "duration": 5,
    "start_time": "2021-12-13T08:01:34.090Z"
   },
   {
    "duration": 3,
    "start_time": "2021-12-13T08:02:06.356Z"
   },
   {
    "duration": 4,
    "start_time": "2021-12-13T08:02:12.856Z"
   },
   {
    "duration": 60,
    "start_time": "2021-12-13T08:02:34.263Z"
   },
   {
    "duration": 12,
    "start_time": "2021-12-13T08:02:41.360Z"
   },
   {
    "duration": 9,
    "start_time": "2021-12-13T08:02:43.400Z"
   },
   {
    "duration": 6,
    "start_time": "2021-12-13T08:02:50.697Z"
   },
   {
    "duration": 318,
    "start_time": "2021-12-13T08:02:53.791Z"
   },
   {
    "duration": 4,
    "start_time": "2021-12-13T08:04:03.346Z"
   },
   {
    "duration": 203,
    "start_time": "2021-12-13T08:04:06.504Z"
   },
   {
    "duration": 4,
    "start_time": "2021-12-13T08:04:15.645Z"
   },
   {
    "duration": 158,
    "start_time": "2021-12-13T08:04:18.141Z"
   },
   {
    "duration": 4,
    "start_time": "2021-12-13T08:05:50.148Z"
   },
   {
    "duration": 20,
    "start_time": "2021-12-13T08:05:52.152Z"
   },
   {
    "duration": 22,
    "start_time": "2021-12-13T08:05:58.420Z"
   },
   {
    "duration": 22,
    "start_time": "2021-12-13T08:06:02.021Z"
   },
   {
    "duration": 5,
    "start_time": "2021-12-13T08:06:11.092Z"
   },
   {
    "duration": 146,
    "start_time": "2021-12-13T08:06:12.773Z"
   },
   {
    "duration": 5,
    "start_time": "2021-12-13T08:08:55.539Z"
   },
   {
    "duration": 211,
    "start_time": "2021-12-13T08:08:57.883Z"
   },
   {
    "duration": 318,
    "start_time": "2021-12-13T08:09:08.636Z"
   },
   {
    "duration": 360,
    "start_time": "2021-12-13T08:09:27.034Z"
   },
   {
    "duration": 5,
    "start_time": "2021-12-13T08:10:00.461Z"
   },
   {
    "duration": 1670,
    "start_time": "2021-12-13T08:10:04.463Z"
   },
   {
    "duration": 1711,
    "start_time": "2021-12-13T08:11:00.540Z"
   },
   {
    "duration": 215,
    "start_time": "2021-12-13T08:12:17.003Z"
   },
   {
    "duration": 279,
    "start_time": "2021-12-13T08:12:56.059Z"
   },
   {
    "duration": 1781,
    "start_time": "2021-12-13T08:15:14.275Z"
   },
   {
    "duration": 130,
    "start_time": "2021-12-13T08:15:20.996Z"
   },
   {
    "duration": 123,
    "start_time": "2021-12-13T08:15:38.880Z"
   },
   {
    "duration": 121,
    "start_time": "2021-12-13T08:16:26.703Z"
   },
   {
    "duration": 145,
    "start_time": "2021-12-13T08:22:13.693Z"
   },
   {
    "duration": 176,
    "start_time": "2021-12-13T08:22:20.789Z"
   },
   {
    "duration": 3,
    "start_time": "2021-12-13T08:22:25.515Z"
   },
   {
    "duration": 319,
    "start_time": "2021-12-13T08:22:27.122Z"
   },
   {
    "duration": 352,
    "start_time": "2021-12-13T08:22:55.621Z"
   },
   {
    "duration": 395,
    "start_time": "2021-12-13T08:23:05.698Z"
   },
   {
    "duration": 317,
    "start_time": "2021-12-13T08:25:39.423Z"
   },
   {
    "duration": 323,
    "start_time": "2021-12-13T08:25:55.260Z"
   },
   {
    "duration": 324,
    "start_time": "2021-12-13T08:26:00.559Z"
   },
   {
    "duration": 425,
    "start_time": "2021-12-13T08:27:03.685Z"
   },
   {
    "duration": 2178,
    "start_time": "2021-12-13T08:29:46.223Z"
   },
   {
    "duration": 341,
    "start_time": "2021-12-13T08:32:15.465Z"
   },
   {
    "duration": 762,
    "start_time": "2021-12-13T08:33:12.437Z"
   },
   {
    "duration": 749,
    "start_time": "2021-12-13T08:33:39.004Z"
   },
   {
    "duration": 912,
    "start_time": "2021-12-13T08:34:39.749Z"
   },
   {
    "duration": 779,
    "start_time": "2021-12-13T08:34:51.129Z"
   },
   {
    "duration": 738,
    "start_time": "2021-12-13T08:35:04.674Z"
   },
   {
    "duration": 788,
    "start_time": "2021-12-13T08:35:09.583Z"
   },
   {
    "duration": 860,
    "start_time": "2021-12-13T08:35:16.518Z"
   },
   {
    "duration": 88,
    "start_time": "2021-12-13T08:36:02.477Z"
   },
   {
    "duration": 846,
    "start_time": "2021-12-13T08:36:16.932Z"
   },
   {
    "duration": 849,
    "start_time": "2021-12-13T08:36:21.545Z"
   },
   {
    "duration": 851,
    "start_time": "2021-12-13T08:36:24.765Z"
   },
   {
    "duration": 738,
    "start_time": "2021-12-13T08:36:29.720Z"
   },
   {
    "duration": 754,
    "start_time": "2021-12-13T08:36:32.752Z"
   },
   {
    "duration": 53,
    "start_time": "2021-12-13T08:37:39.889Z"
   },
   {
    "duration": 66,
    "start_time": "2021-12-13T08:37:45.201Z"
   },
   {
    "duration": 48,
    "start_time": "2021-12-13T08:37:52.028Z"
   },
   {
    "duration": 51,
    "start_time": "2021-12-13T08:38:14.205Z"
   },
   {
    "duration": 243,
    "start_time": "2021-12-13T08:38:24.120Z"
   },
   {
    "duration": 6,
    "start_time": "2021-12-13T08:38:49.782Z"
   },
   {
    "duration": 5,
    "start_time": "2021-12-13T08:39:02.244Z"
   },
   {
    "duration": 265,
    "start_time": "2021-12-13T08:39:06.800Z"
   },
   {
    "duration": 175,
    "start_time": "2021-12-13T08:39:13.393Z"
   },
   {
    "duration": 6,
    "start_time": "2021-12-13T08:39:21.225Z"
   },
   {
    "duration": 51,
    "start_time": "2021-12-13T08:40:06.164Z"
   },
   {
    "duration": 5,
    "start_time": "2021-12-13T08:40:07.869Z"
   },
   {
    "duration": 7,
    "start_time": "2021-12-13T08:40:20.179Z"
   },
   {
    "duration": 423,
    "start_time": "2021-12-13T08:43:15.071Z"
   },
   {
    "duration": 228,
    "start_time": "2021-12-13T08:44:08.088Z"
   },
   {
    "duration": 53,
    "start_time": "2021-12-13T08:44:12.786Z"
   },
   {
    "duration": 56,
    "start_time": "2021-12-13T08:44:46.767Z"
   },
   {
    "duration": 57,
    "start_time": "2021-12-13T08:44:50.245Z"
   },
   {
    "duration": 102,
    "start_time": "2021-12-13T08:58:43.489Z"
   },
   {
    "duration": 97,
    "start_time": "2021-12-13T08:59:10.554Z"
   },
   {
    "duration": 95,
    "start_time": "2021-12-13T08:59:16.072Z"
   },
   {
    "duration": 99,
    "start_time": "2021-12-13T08:59:49.887Z"
   },
   {
    "duration": 765,
    "start_time": "2021-12-13T09:02:12.285Z"
   },
   {
    "duration": 181,
    "start_time": "2021-12-13T09:07:56.312Z"
   },
   {
    "duration": 33849,
    "start_time": "2021-12-13T09:08:10.454Z"
   },
   {
    "duration": 7,
    "start_time": "2021-12-13T09:08:44.305Z"
   },
   {
    "duration": 184,
    "start_time": "2021-12-13T09:09:06.220Z"
   },
   {
    "duration": 180,
    "start_time": "2021-12-13T09:09:42.108Z"
   },
   {
    "duration": 179,
    "start_time": "2021-12-13T09:10:18.300Z"
   },
   {
    "duration": 277,
    "start_time": "2021-12-13T09:11:40.834Z"
   },
   {
    "duration": 346,
    "start_time": "2021-12-13T09:12:49.647Z"
   },
   {
    "duration": 375,
    "start_time": "2021-12-13T09:13:45.285Z"
   },
   {
    "duration": -249,
    "start_time": "2021-12-13T09:13:45.911Z"
   },
   {
    "duration": 198,
    "start_time": "2021-12-13T09:15:12.318Z"
   },
   {
    "duration": 320,
    "start_time": "2021-12-13T09:15:47.415Z"
   },
   {
    "duration": 4,
    "start_time": "2021-12-13T09:16:43.060Z"
   },
   {
    "duration": 237,
    "start_time": "2021-12-13T09:16:51.795Z"
   },
   {
    "duration": 231,
    "start_time": "2021-12-13T09:23:19.292Z"
   },
   {
    "duration": 3,
    "start_time": "2021-12-13T09:23:49.710Z"
   },
   {
    "duration": 232,
    "start_time": "2021-12-13T09:23:52.576Z"
   },
   {
    "duration": 221,
    "start_time": "2021-12-13T09:24:07.735Z"
   },
   {
    "duration": 101,
    "start_time": "2021-12-13T09:24:29.416Z"
   },
   {
    "duration": 246,
    "start_time": "2021-12-13T09:24:34.812Z"
   },
   {
    "duration": 5,
    "start_time": "2021-12-13T09:29:15.997Z"
   },
   {
    "duration": 231,
    "start_time": "2021-12-13T09:30:25.636Z"
   },
   {
    "duration": 5311,
    "start_time": "2021-12-13T09:31:35.136Z"
   },
   {
    "duration": 27,
    "start_time": "2021-12-13T09:31:47.624Z"
   },
   {
    "duration": 205,
    "start_time": "2021-12-13T09:33:05.319Z"
   },
   {
    "duration": 190,
    "start_time": "2021-12-13T09:33:20.840Z"
   },
   {
    "duration": 6251,
    "start_time": "2021-12-13T09:33:35.528Z"
   },
   {
    "duration": 28,
    "start_time": "2021-12-13T09:33:45.226Z"
   },
   {
    "duration": 50,
    "start_time": "2021-12-13T09:34:09.443Z"
   },
   {
    "duration": 53,
    "start_time": "2021-12-13T09:34:19.296Z"
   },
   {
    "duration": 51,
    "start_time": "2021-12-13T09:34:35.618Z"
   },
   {
    "duration": 63,
    "start_time": "2021-12-13T09:36:18.057Z"
   },
   {
    "duration": 73,
    "start_time": "2021-12-13T09:36:25.357Z"
   },
   {
    "duration": 4033,
    "start_time": "2021-12-13T09:36:48.136Z"
   },
   {
    "duration": 28,
    "start_time": "2021-12-13T09:36:56.477Z"
   },
   {
    "duration": 50,
    "start_time": "2021-12-13T09:37:04.774Z"
   },
   {
    "duration": 4057,
    "start_time": "2021-12-13T09:37:18.144Z"
   },
   {
    "duration": 27,
    "start_time": "2021-12-13T09:37:24.973Z"
   },
   {
    "duration": 51,
    "start_time": "2021-12-13T09:37:29.754Z"
   },
   {
    "duration": 4060,
    "start_time": "2021-12-13T09:37:41.104Z"
   },
   {
    "duration": 28,
    "start_time": "2021-12-13T09:37:49.175Z"
   },
   {
    "duration": 3597,
    "start_time": "2021-12-13T09:39:26.580Z"
   },
   {
    "duration": 28,
    "start_time": "2021-12-13T09:39:33.170Z"
   },
   {
    "duration": 53,
    "start_time": "2021-12-13T09:39:36.838Z"
   },
   {
    "duration": 2803,
    "start_time": "2021-12-13T09:40:29.085Z"
   },
   {
    "duration": 27,
    "start_time": "2021-12-13T09:40:36.750Z"
   },
   {
    "duration": 2806,
    "start_time": "2021-12-13T09:40:43.807Z"
   },
   {
    "duration": 28,
    "start_time": "2021-12-13T09:40:49.803Z"
   },
   {
    "duration": 3275,
    "start_time": "2021-12-13T09:40:57.265Z"
   },
   {
    "duration": 29,
    "start_time": "2021-12-13T09:41:02.754Z"
   },
   {
    "duration": 3470,
    "start_time": "2021-12-13T09:41:07.812Z"
   },
   {
    "duration": 28,
    "start_time": "2021-12-13T09:41:13.608Z"
   },
   {
    "duration": 49,
    "start_time": "2021-12-13T09:48:07.511Z"
   },
   {
    "duration": 47,
    "start_time": "2021-12-13T09:49:10.914Z"
   },
   {
    "duration": 187,
    "start_time": "2021-12-13T10:02:10.387Z"
   },
   {
    "duration": 193,
    "start_time": "2021-12-13T10:02:12.807Z"
   },
   {
    "duration": 4,
    "start_time": "2021-12-13T10:08:41.908Z"
   },
   {
    "duration": 192,
    "start_time": "2021-12-13T10:08:45.307Z"
   },
   {
    "duration": 4,
    "start_time": "2021-12-13T10:08:51.064Z"
   },
   {
    "duration": 181,
    "start_time": "2021-12-13T10:08:58.992Z"
   },
   {
    "duration": 4,
    "start_time": "2021-12-13T10:09:01.783Z"
   },
   {
    "duration": 212,
    "start_time": "2021-12-13T10:10:24.872Z"
   },
   {
    "duration": 3490,
    "start_time": "2021-12-13T10:10:28.582Z"
   },
   {
    "duration": 28,
    "start_time": "2021-12-13T10:10:35.153Z"
   },
   {
    "duration": 714,
    "start_time": "2021-12-13T10:19:00.150Z"
   },
   {
    "duration": 1682,
    "start_time": "2021-12-13T10:23:01.630Z"
   },
   {
    "duration": 384,
    "start_time": "2021-12-13T10:23:32.952Z"
   },
   {
    "duration": 4,
    "start_time": "2021-12-13T10:25:59.869Z"
   },
   {
    "duration": 987,
    "start_time": "2021-12-13T10:26:47.477Z"
   },
   {
    "duration": 52,
    "start_time": "2021-12-13T10:27:31.778Z"
   },
   {
    "duration": 6,
    "start_time": "2021-12-13T10:32:12.541Z"
   },
   {
    "duration": 1735,
    "start_time": "2021-12-13T10:32:22.375Z"
   },
   {
    "duration": 62,
    "start_time": "2021-12-13T10:32:47.126Z"
   },
   {
    "duration": 1703,
    "start_time": "2021-12-13T10:33:15.775Z"
   },
   {
    "duration": 1785,
    "start_time": "2021-12-13T10:33:21.695Z"
   },
   {
    "duration": 182,
    "start_time": "2021-12-13T10:35:03.136Z"
   },
   {
    "duration": 2752,
    "start_time": "2021-12-13T10:35:48.978Z"
   },
   {
    "duration": 50,
    "start_time": "2021-12-13T10:36:14.521Z"
   },
   {
    "duration": 2754,
    "start_time": "2021-12-13T10:38:04.538Z"
   },
   {
    "duration": 52,
    "start_time": "2021-12-13T10:38:14.792Z"
   },
   {
    "duration": 2742,
    "start_time": "2021-12-13T10:38:38.925Z"
   },
   {
    "duration": 53,
    "start_time": "2021-12-13T10:38:50.443Z"
   },
   {
    "duration": 7343,
    "start_time": "2021-12-13T10:42:08.953Z"
   },
   {
    "duration": 28,
    "start_time": "2021-12-13T10:42:19.202Z"
   },
   {
    "duration": 51,
    "start_time": "2021-12-13T10:42:45.715Z"
   },
   {
    "duration": 18,
    "start_time": "2021-12-13T10:44:40.132Z"
   },
   {
    "duration": 91857,
    "start_time": "2021-12-13T10:45:42.798Z"
   },
   {
    "duration": 50,
    "start_time": "2021-12-13T10:47:29.381Z"
   },
   {
    "duration": 189,
    "start_time": "2021-12-13T10:48:46.597Z"
   },
   {
    "duration": 1660,
    "start_time": "2021-12-13T10:48:57.241Z"
   },
   {
    "duration": 25403,
    "start_time": "2021-12-13T10:50:11.717Z"
   },
   {
    "duration": 24910,
    "start_time": "2021-12-13T10:51:24.129Z"
   },
   {
    "duration": 223,
    "start_time": "2021-12-13T10:52:27.635Z"
   },
   {
    "duration": 49,
    "start_time": "2021-12-13T10:53:49.587Z"
   },
   {
    "duration": 48,
    "start_time": "2021-12-13T10:53:59.517Z"
   },
   {
    "duration": 49,
    "start_time": "2021-12-13T10:54:05.898Z"
   },
   {
    "duration": 227,
    "start_time": "2021-12-13T10:54:18.555Z"
   },
   {
    "duration": 252,
    "start_time": "2021-12-13T10:54:33.944Z"
   },
   {
    "duration": 51,
    "start_time": "2021-12-13T10:54:51.158Z"
   },
   {
    "duration": 232,
    "start_time": "2021-12-13T10:55:16.155Z"
   },
   {
    "duration": 47,
    "start_time": "2021-12-13T10:55:32.983Z"
   },
   {
    "duration": 48,
    "start_time": "2021-12-13T10:55:38.735Z"
   },
   {
    "duration": 47,
    "start_time": "2021-12-13T11:02:10.444Z"
   },
   {
    "duration": 49,
    "start_time": "2021-12-13T11:08:14.619Z"
   },
   {
    "duration": 88,
    "start_time": "2021-12-13T11:09:03.369Z"
   },
   {
    "duration": 4,
    "start_time": "2021-12-13T11:11:19.398Z"
   },
   {
    "duration": 6,
    "start_time": "2021-12-13T11:14:11.556Z"
   },
   {
    "duration": 8,
    "start_time": "2021-12-13T11:14:37.647Z"
   },
   {
    "duration": 8,
    "start_time": "2021-12-13T11:15:09.807Z"
   },
   {
    "duration": 452,
    "start_time": "2021-12-13T11:15:41.632Z"
   },
   {
    "duration": 10,
    "start_time": "2021-12-13T11:16:06.862Z"
   },
   {
    "duration": 486,
    "start_time": "2021-12-13T11:16:40.656Z"
   },
   {
    "duration": 4,
    "start_time": "2021-12-13T11:16:50.284Z"
   },
   {
    "duration": 4,
    "start_time": "2021-12-13T11:17:01.001Z"
   },
   {
    "duration": 7,
    "start_time": "2021-12-13T11:17:06.684Z"
   },
   {
    "duration": 9,
    "start_time": "2021-12-13T11:17:15.660Z"
   },
   {
    "duration": 199,
    "start_time": "2021-12-13T11:18:30.678Z"
   },
   {
    "duration": 8,
    "start_time": "2021-12-13T11:18:48.495Z"
   },
   {
    "duration": 3,
    "start_time": "2021-12-13T11:36:25.668Z"
   },
   {
    "duration": 3,
    "start_time": "2021-12-13T11:41:45.013Z"
   },
   {
    "duration": 83,
    "start_time": "2021-12-13T11:42:15.990Z"
   },
   {
    "duration": 4,
    "start_time": "2021-12-13T11:44:59.777Z"
   },
   {
    "duration": 7409,
    "start_time": "2021-12-13T11:45:47.366Z"
   },
   {
    "duration": 7194,
    "start_time": "2021-12-13T11:45:59.645Z"
   },
   {
    "duration": 49,
    "start_time": "2021-12-13T11:48:11.300Z"
   },
   {
    "duration": 52,
    "start_time": "2021-12-13T11:49:14.080Z"
   },
   {
    "duration": 97,
    "start_time": "2021-12-13T12:02:01.642Z"
   },
   {
    "duration": 93,
    "start_time": "2021-12-13T12:02:06.350Z"
   },
   {
    "duration": 3447,
    "start_time": "2021-12-13T12:06:31.826Z"
   },
   {
    "duration": 3553,
    "start_time": "2021-12-13T12:06:56.627Z"
   },
   {
    "duration": 2185,
    "start_time": "2021-12-13T12:10:07.555Z"
   },
   {
    "duration": 26027,
    "start_time": "2021-12-13T12:12:09.163Z"
   },
   {
    "duration": 3,
    "start_time": "2021-12-13T12:13:17.962Z"
   },
   {
    "duration": 69465,
    "start_time": "2021-12-13T12:32:38.919Z"
   },
   {
    "duration": 190,
    "start_time": "2021-12-13T12:34:22.822Z"
   },
   {
    "duration": 378,
    "start_time": "2021-12-13T12:35:23.650Z"
   },
   {
    "duration": 199,
    "start_time": "2021-12-13T12:36:03.499Z"
   },
   {
    "duration": 192,
    "start_time": "2021-12-13T12:37:31.246Z"
   },
   {
    "duration": 3,
    "start_time": "2021-12-13T12:39:30.575Z"
   },
   {
    "duration": 6,
    "start_time": "2021-12-13T12:41:06.987Z"
   },
   {
    "duration": 188,
    "start_time": "2021-12-13T12:41:18.438Z"
   },
   {
    "duration": 20,
    "start_time": "2021-12-13T12:41:30.195Z"
   },
   {
    "duration": 11,
    "start_time": "2021-12-13T12:42:41.160Z"
   },
   {
    "duration": 18,
    "start_time": "2021-12-13T12:42:59.392Z"
   },
   {
    "duration": 318,
    "start_time": "2021-12-13T12:44:08.286Z"
   },
   {
    "duration": 22,
    "start_time": "2021-12-13T12:45:17.509Z"
   },
   {
    "duration": 31977,
    "start_time": "2021-12-13T12:46:04.094Z"
   },
   {
    "duration": 529,
    "start_time": "2021-12-13T12:48:45.804Z"
   },
   {
    "duration": 64,
    "start_time": "2021-12-13T12:49:00.896Z"
   },
   {
    "duration": 49,
    "start_time": "2021-12-13T13:25:17.823Z"
   },
   {
    "duration": 94,
    "start_time": "2021-12-13T13:26:18.577Z"
   },
   {
    "duration": 15,
    "start_time": "2021-12-13T13:38:05.793Z"
   },
   {
    "duration": 239,
    "start_time": "2021-12-13T13:39:25.642Z"
   },
   {
    "duration": 200,
    "start_time": "2021-12-13T13:41:34.473Z"
   },
   {
    "duration": 167,
    "start_time": "2021-12-13T13:41:52.410Z"
   },
   {
    "duration": 178,
    "start_time": "2021-12-13T13:41:56.819Z"
   },
   {
    "duration": 173,
    "start_time": "2021-12-13T13:42:22.816Z"
   },
   {
    "duration": 25,
    "start_time": "2021-12-13T13:42:40.956Z"
   },
   {
    "duration": 174,
    "start_time": "2021-12-13T13:43:00.990Z"
   },
   {
    "duration": 69,
    "start_time": "2021-12-13T13:43:10.318Z"
   },
   {
    "duration": 186,
    "start_time": "2021-12-13T13:43:14.490Z"
   },
   {
    "duration": 178,
    "start_time": "2021-12-13T13:43:54.228Z"
   },
   {
    "duration": 4,
    "start_time": "2021-12-13T13:43:58.595Z"
   },
   {
    "duration": 32,
    "start_time": "2021-12-13T13:45:03.184Z"
   },
   {
    "duration": 10,
    "start_time": "2021-12-13T13:45:40.170Z"
   },
   {
    "duration": 181,
    "start_time": "2021-12-13T13:45:53.997Z"
   },
   {
    "duration": 258,
    "start_time": "2021-12-13T13:46:21.001Z"
   },
   {
    "duration": 189,
    "start_time": "2021-12-13T13:46:51.242Z"
   },
   {
    "duration": 349,
    "start_time": "2021-12-13T13:46:55.759Z"
   },
   {
    "duration": 1961,
    "start_time": "2021-12-13T13:47:05.940Z"
   },
   {
    "duration": 2103,
    "start_time": "2021-12-13T13:49:14.689Z"
   },
   {
    "duration": 1392,
    "start_time": "2021-12-13T13:51:43.407Z"
   },
   {
    "duration": 3382,
    "start_time": "2021-12-13T13:52:35.620Z"
   },
   {
    "duration": 190,
    "start_time": "2021-12-13T13:56:58.183Z"
   },
   {
    "duration": 179,
    "start_time": "2021-12-13T13:57:14.024Z"
   },
   {
    "duration": 195,
    "start_time": "2021-12-13T13:57:20.529Z"
   },
   {
    "duration": 179,
    "start_time": "2021-12-13T13:57:34.777Z"
   },
   {
    "duration": 173,
    "start_time": "2021-12-13T13:57:42.549Z"
   },
   {
    "duration": 196,
    "start_time": "2021-12-13T13:57:48.156Z"
   },
   {
    "duration": 226,
    "start_time": "2021-12-13T13:59:27.485Z"
   },
   {
    "duration": 339,
    "start_time": "2021-12-13T13:59:35.308Z"
   },
   {
    "duration": 2756,
    "start_time": "2021-12-13T13:59:37.452Z"
   },
   {
    "duration": 2932,
    "start_time": "2021-12-13T13:59:57.477Z"
   },
   {
    "duration": 188,
    "start_time": "2021-12-13T14:00:05.540Z"
   },
   {
    "duration": 185,
    "start_time": "2021-12-13T14:01:43.558Z"
   },
   {
    "duration": 182,
    "start_time": "2021-12-13T14:01:47.930Z"
   },
   {
    "duration": 727,
    "start_time": "2021-12-13T14:06:20.608Z"
   },
   {
    "duration": 174,
    "start_time": "2021-12-13T14:06:26.382Z"
   },
   {
    "duration": 208,
    "start_time": "2021-12-13T14:24:49.641Z"
   },
   {
    "duration": 186,
    "start_time": "2021-12-13T14:25:07.974Z"
   },
   {
    "duration": 10,
    "start_time": "2021-12-13T14:25:22.230Z"
   },
   {
    "duration": 368,
    "start_time": "2021-12-13T14:25:24.267Z"
   },
   {
    "duration": 373,
    "start_time": "2021-12-13T14:28:15.607Z"
   },
   {
    "duration": 201,
    "start_time": "2021-12-13T14:28:20.880Z"
   },
   {
    "duration": 183,
    "start_time": "2021-12-13T14:28:36.494Z"
   },
   {
    "duration": 12,
    "start_time": "2021-12-13T14:29:51.403Z"
   },
   {
    "duration": 169,
    "start_time": "2021-12-13T14:29:53.702Z"
   },
   {
    "duration": 4,
    "start_time": "2021-12-13T14:30:24.870Z"
   },
   {
    "duration": 186,
    "start_time": "2021-12-13T14:30:33.225Z"
   },
   {
    "duration": 185,
    "start_time": "2021-12-13T14:30:52.950Z"
   },
   {
    "duration": 190,
    "start_time": "2021-12-13T14:31:16.163Z"
   },
   {
    "duration": 193,
    "start_time": "2021-12-13T14:31:21.303Z"
   },
   {
    "duration": 374,
    "start_time": "2021-12-13T14:31:30.368Z"
   },
   {
    "duration": 411,
    "start_time": "2021-12-13T14:32:16.604Z"
   },
   {
    "duration": 183,
    "start_time": "2021-12-13T14:35:16.843Z"
   },
   {
    "duration": 201,
    "start_time": "2021-12-13T14:36:04.378Z"
   },
   {
    "duration": 5,
    "start_time": "2021-12-13T14:37:56.179Z"
   },
   {
    "duration": 358,
    "start_time": "2021-12-13T14:38:02.652Z"
   },
   {
    "duration": 574,
    "start_time": "2021-12-13T14:40:03.598Z"
   },
   {
    "duration": 200,
    "start_time": "2021-12-13T14:40:13.437Z"
   },
   {
    "duration": 5,
    "start_time": "2021-12-13T14:45:09.222Z"
   },
   {
    "duration": 185,
    "start_time": "2021-12-13T14:45:14.546Z"
   },
   {
    "duration": 60,
    "start_time": "2021-12-13T14:46:13.776Z"
   },
   {
    "duration": 5,
    "start_time": "2021-12-13T14:47:21.325Z"
   },
   {
    "duration": 198,
    "start_time": "2021-12-13T14:47:25.973Z"
   },
   {
    "duration": 5,
    "start_time": "2021-12-13T14:51:07.827Z"
   },
   {
    "duration": 348,
    "start_time": "2021-12-13T14:51:10.307Z"
   },
   {
    "duration": 341,
    "start_time": "2021-12-13T14:51:34.262Z"
   },
   {
    "duration": 4,
    "start_time": "2021-12-13T14:54:20.540Z"
   },
   {
    "duration": 19,
    "start_time": "2021-12-13T14:54:41.320Z"
   },
   {
    "duration": 18,
    "start_time": "2021-12-13T14:54:59.673Z"
   },
   {
    "duration": 188,
    "start_time": "2021-12-13T14:55:04.968Z"
   },
   {
    "duration": 21,
    "start_time": "2021-12-13T14:56:04.329Z"
   },
   {
    "duration": 204,
    "start_time": "2021-12-13T14:56:07.869Z"
   },
   {
    "duration": 20,
    "start_time": "2021-12-13T14:56:36.901Z"
   },
   {
    "duration": 202,
    "start_time": "2021-12-13T14:56:43.700Z"
   },
   {
    "duration": 186,
    "start_time": "2021-12-13T14:56:54.378Z"
   },
   {
    "duration": 17,
    "start_time": "2021-12-13T14:57:06.991Z"
   },
   {
    "duration": 181,
    "start_time": "2021-12-13T14:57:08.940Z"
   },
   {
    "duration": 36,
    "start_time": "2021-12-13T14:57:27.795Z"
   },
   {
    "duration": 193,
    "start_time": "2021-12-13T14:58:25.424Z"
   },
   {
    "duration": 11,
    "start_time": "2021-12-13T14:58:52.151Z"
   },
   {
    "duration": 35,
    "start_time": "2021-12-13T14:58:57.222Z"
   },
   {
    "duration": 195,
    "start_time": "2021-12-13T14:59:00.657Z"
   },
   {
    "duration": 5,
    "start_time": "2021-12-13T14:59:41.019Z"
   },
   {
    "duration": 218,
    "start_time": "2021-12-13T15:02:10.628Z"
   },
   {
    "duration": 193,
    "start_time": "2021-12-13T15:02:26.725Z"
   },
   {
    "duration": 204,
    "start_time": "2021-12-13T15:02:33.043Z"
   },
   {
    "duration": 197,
    "start_time": "2021-12-13T15:02:43.981Z"
   },
   {
    "duration": 190,
    "start_time": "2021-12-13T15:03:01.452Z"
   },
   {
    "duration": 5,
    "start_time": "2021-12-13T15:08:16.473Z"
   },
   {
    "duration": 11,
    "start_time": "2021-12-13T15:08:21.864Z"
   },
   {
    "duration": 373,
    "start_time": "2021-12-13T15:08:35.778Z"
   },
   {
    "duration": 5,
    "start_time": "2021-12-13T15:09:03.117Z"
   },
   {
    "duration": 194,
    "start_time": "2021-12-13T15:09:08.605Z"
   },
   {
    "duration": 387,
    "start_time": "2021-12-13T15:11:41.041Z"
   },
   {
    "duration": 5,
    "start_time": "2021-12-13T15:14:17.484Z"
   },
   {
    "duration": 2150,
    "start_time": "2021-12-13T15:14:26.263Z"
   },
   {
    "duration": 2302,
    "start_time": "2021-12-13T15:14:47.704Z"
   },
   {
    "duration": 14,
    "start_time": "2021-12-13T15:15:06.863Z"
   },
   {
    "duration": 14,
    "start_time": "2021-12-13T15:15:26.347Z"
   },
   {
    "duration": 5,
    "start_time": "2021-12-13T15:15:38.299Z"
   },
   {
    "duration": 176,
    "start_time": "2021-12-13T15:16:18.385Z"
   },
   {
    "duration": 4,
    "start_time": "2021-12-13T15:16:34.306Z"
   },
   {
    "duration": 172,
    "start_time": "2021-12-13T15:16:41.608Z"
   },
   {
    "duration": 175,
    "start_time": "2021-12-13T15:16:49.651Z"
   },
   {
    "duration": 180,
    "start_time": "2021-12-13T15:16:58.880Z"
   },
   {
    "duration": 196,
    "start_time": "2021-12-13T15:16:59.141Z"
   },
   {
    "duration": 184,
    "start_time": "2021-12-13T15:17:06.683Z"
   },
   {
    "duration": 4,
    "start_time": "2021-12-13T15:17:17.580Z"
   },
   {
    "duration": 173,
    "start_time": "2021-12-13T15:17:55.461Z"
   },
   {
    "duration": 175,
    "start_time": "2021-12-13T15:18:43.041Z"
   },
   {
    "duration": 176,
    "start_time": "2021-12-13T15:18:50.697Z"
   },
   {
    "duration": 179,
    "start_time": "2021-12-13T15:20:18.809Z"
   },
   {
    "duration": 14,
    "start_time": "2021-12-13T15:21:34.509Z"
   },
   {
    "duration": 180,
    "start_time": "2021-12-13T15:23:44.227Z"
   },
   {
    "duration": 175,
    "start_time": "2021-12-13T15:25:54.963Z"
   },
   {
    "duration": 26,
    "start_time": "2021-12-13T15:26:03.994Z"
   },
   {
    "duration": 185,
    "start_time": "2021-12-13T15:26:17.897Z"
   },
   {
    "duration": 99826,
    "start_time": "2021-12-13T15:27:13.146Z"
   },
   {
    "duration": 179,
    "start_time": "2021-12-13T15:29:32.296Z"
   },
   {
    "duration": 167,
    "start_time": "2021-12-13T15:31:47.773Z"
   },
   {
    "duration": 217,
    "start_time": "2021-12-13T15:32:59.957Z"
   },
   {
    "duration": 205,
    "start_time": "2021-12-13T15:33:07.586Z"
   },
   {
    "duration": 4,
    "start_time": "2021-12-13T15:34:55.342Z"
   },
   {
    "duration": 6,
    "start_time": "2021-12-13T15:35:06.580Z"
   },
   {
    "duration": 175,
    "start_time": "2021-12-13T15:35:19.244Z"
   },
   {
    "duration": 5,
    "start_time": "2021-12-13T15:35:50.524Z"
   },
   {
    "duration": 6,
    "start_time": "2021-12-13T15:36:09.884Z"
   },
   {
    "duration": 181,
    "start_time": "2021-12-13T15:36:33.157Z"
   },
   {
    "duration": 11,
    "start_time": "2021-12-13T15:44:29.404Z"
   },
   {
    "duration": 5,
    "start_time": "2021-12-13T15:44:51.237Z"
   },
   {
    "duration": 922,
    "start_time": "2021-12-13T15:45:23.243Z"
   },
   {
    "duration": 815,
    "start_time": "2021-12-13T15:45:43.332Z"
   },
   {
    "duration": 798,
    "start_time": "2021-12-13T15:48:36.532Z"
   },
   {
    "duration": 809,
    "start_time": "2021-12-13T15:48:41.425Z"
   },
   {
    "duration": 819,
    "start_time": "2021-12-13T15:49:40.297Z"
   },
   {
    "duration": 4,
    "start_time": "2021-12-13T15:52:15.908Z"
   },
   {
    "duration": 795,
    "start_time": "2021-12-13T15:52:21.197Z"
   },
   {
    "duration": 5,
    "start_time": "2021-12-13T15:56:33.411Z"
   },
   {
    "duration": 823,
    "start_time": "2021-12-13T15:56:47.097Z"
   },
   {
    "duration": 7,
    "start_time": "2021-12-13T15:56:56.521Z"
   },
   {
    "duration": 190,
    "start_time": "2021-12-13T15:56:59.485Z"
   },
   {
    "duration": 197,
    "start_time": "2021-12-13T15:59:11.716Z"
   },
   {
    "duration": 2133,
    "start_time": "2021-12-13T15:59:42.652Z"
   },
   {
    "duration": 2267,
    "start_time": "2021-12-13T16:00:02.982Z"
   },
   {
    "duration": 2421,
    "start_time": "2021-12-13T16:00:21.240Z"
   },
   {
    "duration": 2617,
    "start_time": "2021-12-13T16:00:31.788Z"
   },
   {
    "duration": 12,
    "start_time": "2021-12-13T16:01:17.165Z"
   },
   {
    "duration": 2717,
    "start_time": "2021-12-13T16:01:20.086Z"
   },
   {
    "duration": 3017,
    "start_time": "2021-12-13T16:02:19.876Z"
   },
   {
    "duration": 35535,
    "start_time": "2021-12-13T18:18:17.654Z"
   },
   {
    "duration": 35393,
    "start_time": "2021-12-13T18:19:39.554Z"
   },
   {
    "duration": 204,
    "start_time": "2021-12-13T18:23:10.115Z"
   },
   {
    "duration": 33,
    "start_time": "2021-12-13T18:24:49.236Z"
   },
   {
    "duration": 24,
    "start_time": "2021-12-13T18:25:03.291Z"
   },
   {
    "duration": 5,
    "start_time": "2021-12-13T18:25:24.003Z"
   },
   {
    "duration": 61446,
    "start_time": "2021-12-13T18:25:32.390Z"
   },
   {
    "duration": 708,
    "start_time": "2021-12-13T18:27:26.579Z"
   },
   {
    "duration": 48602,
    "start_time": "2021-12-13T18:30:56.328Z"
   },
   {
    "duration": 368,
    "start_time": "2021-12-13T18:32:33.948Z"
   },
   {
    "duration": 321,
    "start_time": "2021-12-13T18:33:10.627Z"
   },
   {
    "duration": 420,
    "start_time": "2021-12-13T18:33:17.189Z"
   },
   {
    "duration": 395,
    "start_time": "2021-12-13T18:33:38.632Z"
   },
   {
    "duration": 409,
    "start_time": "2021-12-13T18:33:49.030Z"
   },
   {
    "duration": 460,
    "start_time": "2021-12-13T18:33:55.089Z"
   },
   {
    "duration": 514,
    "start_time": "2021-12-13T18:35:05.919Z"
   },
   {
    "duration": 658,
    "start_time": "2021-12-13T18:36:02.089Z"
   },
   {
    "duration": 48463,
    "start_time": "2021-12-13T19:44:51.382Z"
   },
   {
    "duration": 521,
    "start_time": "2021-12-13T19:45:42.685Z"
   },
   {
    "duration": 524,
    "start_time": "2021-12-13T19:45:52.562Z"
   },
   {
    "duration": 520,
    "start_time": "2021-12-13T19:46:06.078Z"
   },
   {
    "duration": 46544,
    "start_time": "2021-12-13T19:46:29.701Z"
   },
   {
    "duration": 528,
    "start_time": "2021-12-13T19:47:19.312Z"
   },
   {
    "duration": 2188,
    "start_time": "2021-12-13T19:56:33.624Z"
   },
   {
    "duration": 1816,
    "start_time": "2021-12-13T19:56:46.380Z"
   },
   {
    "duration": 227,
    "start_time": "2021-12-13T19:57:20.267Z"
   },
   {
    "duration": 183,
    "start_time": "2021-12-13T19:57:36.703Z"
   },
   {
    "duration": 221,
    "start_time": "2021-12-13T19:57:41.480Z"
   },
   {
    "duration": 205,
    "start_time": "2021-12-13T20:01:50.047Z"
   },
   {
    "duration": 373,
    "start_time": "2021-12-13T20:03:39.197Z"
   },
   {
    "duration": 207,
    "start_time": "2021-12-13T20:03:55.686Z"
   },
   {
    "duration": 275,
    "start_time": "2021-12-13T20:08:25.518Z"
   },
   {
    "duration": 20852,
    "start_time": "2021-12-13T20:33:37.308Z"
   },
   {
    "duration": 4,
    "start_time": "2021-12-13T20:36:12.482Z"
   },
   {
    "duration": 2446,
    "start_time": "2021-12-13T20:36:53.253Z"
   },
   {
    "duration": 2195,
    "start_time": "2021-12-13T20:37:11.818Z"
   },
   {
    "duration": 200,
    "start_time": "2021-12-13T20:37:21.289Z"
   },
   {
    "duration": 4,
    "start_time": "2021-12-13T20:37:25.142Z"
   },
   {
    "duration": 5,
    "start_time": "2021-12-13T20:37:39.253Z"
   },
   {
    "duration": 5,
    "start_time": "2021-12-13T20:37:49.953Z"
   },
   {
    "duration": 6,
    "start_time": "2021-12-13T20:39:22.265Z"
   },
   {
    "duration": 3,
    "start_time": "2021-12-13T20:40:30.122Z"
   },
   {
    "duration": 5,
    "start_time": "2021-12-13T20:40:40.586Z"
   },
   {
    "duration": 6,
    "start_time": "2021-12-13T20:41:18.985Z"
   },
   {
    "duration": 3,
    "start_time": "2021-12-13T20:42:34.113Z"
   },
   {
    "duration": 8,
    "start_time": "2021-12-13T20:42:41.931Z"
   },
   {
    "duration": 352,
    "start_time": "2021-12-13T20:43:14.513Z"
   },
   {
    "duration": 4,
    "start_time": "2021-12-13T20:43:26.623Z"
   },
   {
    "duration": 10,
    "start_time": "2021-12-13T20:43:33.065Z"
   },
   {
    "duration": 182,
    "start_time": "2021-12-13T20:44:09.671Z"
   },
   {
    "duration": 180,
    "start_time": "2021-12-13T20:44:24.458Z"
   },
   {
    "duration": 15,
    "start_time": "2021-12-13T20:44:35.310Z"
   },
   {
    "duration": 14,
    "start_time": "2021-12-13T20:45:08.691Z"
   },
   {
    "duration": 14,
    "start_time": "2021-12-13T20:45:54.259Z"
   },
   {
    "duration": 7,
    "start_time": "2021-12-13T20:46:46.436Z"
   },
   {
    "duration": 8,
    "start_time": "2021-12-13T20:47:06.625Z"
   },
   {
    "duration": 6,
    "start_time": "2021-12-13T20:47:17.967Z"
   },
   {
    "duration": 10,
    "start_time": "2021-12-13T20:47:44.010Z"
   },
   {
    "duration": 179,
    "start_time": "2021-12-13T20:48:32.452Z"
   },
   {
    "duration": 233,
    "start_time": "2021-12-13T20:48:59.393Z"
   },
   {
    "duration": 175,
    "start_time": "2021-12-13T20:49:16.820Z"
   },
   {
    "duration": 7,
    "start_time": "2021-12-13T20:49:22.865Z"
   },
   {
    "duration": 177,
    "start_time": "2021-12-13T20:50:01.424Z"
   },
   {
    "duration": 6,
    "start_time": "2021-12-13T20:50:09.016Z"
   },
   {
    "duration": 10,
    "start_time": "2021-12-13T20:50:29.565Z"
   },
   {
    "duration": 56,
    "start_time": "2021-12-13T20:50:59.871Z"
   },
   {
    "duration": 10,
    "start_time": "2021-12-13T20:51:03.706Z"
   },
   {
    "duration": 10,
    "start_time": "2021-12-13T20:51:23.791Z"
   },
   {
    "duration": 5685,
    "start_time": "2021-12-13T20:51:29.690Z"
   },
   {
    "duration": 231,
    "start_time": "2021-12-13T20:51:56.343Z"
   },
   {
    "duration": 10,
    "start_time": "2021-12-13T20:52:06.156Z"
   },
   {
    "duration": 10,
    "start_time": "2021-12-13T20:52:35.990Z"
   },
   {
    "duration": 230,
    "start_time": "2021-12-13T20:52:57.756Z"
   },
   {
    "duration": 188,
    "start_time": "2021-12-13T20:53:34.609Z"
   },
   {
    "duration": 184,
    "start_time": "2021-12-13T20:53:40.727Z"
   },
   {
    "duration": 12,
    "start_time": "2021-12-13T20:54:26.131Z"
   },
   {
    "duration": 12,
    "start_time": "2021-12-13T20:54:37.397Z"
   },
   {
    "duration": 13,
    "start_time": "2021-12-13T20:54:54.937Z"
   },
   {
    "duration": 9,
    "start_time": "2021-12-13T20:55:10.916Z"
   },
   {
    "duration": 6,
    "start_time": "2021-12-13T20:55:14.288Z"
   },
   {
    "duration": 7,
    "start_time": "2021-12-13T20:55:49.404Z"
   },
   {
    "duration": 10,
    "start_time": "2021-12-13T20:56:41.690Z"
   },
   {
    "duration": 9,
    "start_time": "2021-12-13T21:01:34.777Z"
   },
   {
    "duration": 152,
    "start_time": "2021-12-13T21:05:51.469Z"
   },
   {
    "duration": 163,
    "start_time": "2021-12-13T21:06:53.482Z"
   },
   {
    "duration": 151,
    "start_time": "2021-12-13T21:07:06.373Z"
   },
   {
    "duration": 352,
    "start_time": "2021-12-13T21:07:31.215Z"
   },
   {
    "duration": 78,
    "start_time": "2021-12-13T21:09:47.419Z"
   },
   {
    "duration": 63,
    "start_time": "2021-12-13T21:10:46.479Z"
   },
   {
    "duration": 331,
    "start_time": "2021-12-13T21:10:52.242Z"
   },
   {
    "duration": 320,
    "start_time": "2021-12-13T21:11:45.488Z"
   },
   {
    "duration": 80,
    "start_time": "2021-12-13T21:11:57.380Z"
   },
   {
    "duration": 77,
    "start_time": "2021-12-13T21:12:25.984Z"
   },
   {
    "duration": 333,
    "start_time": "2021-12-13T21:12:51.860Z"
   },
   {
    "duration": 457,
    "start_time": "2021-12-13T21:13:11.965Z"
   },
   {
    "duration": 321,
    "start_time": "2021-12-13T21:13:27.161Z"
   },
   {
    "duration": 5,
    "start_time": "2021-12-13T21:13:48.052Z"
   },
   {
    "duration": 5,
    "start_time": "2021-12-13T21:13:54.645Z"
   },
   {
    "duration": 326,
    "start_time": "2021-12-13T21:14:54.237Z"
   },
   {
    "duration": 190,
    "start_time": "2021-12-13T21:15:21.934Z"
   },
   {
    "duration": 150,
    "start_time": "2021-12-13T21:15:55.869Z"
   },
   {
    "duration": 150,
    "start_time": "2021-12-13T21:16:01.203Z"
   },
   {
    "duration": 61,
    "start_time": "2021-12-13T21:16:58.481Z"
   },
   {
    "duration": 166,
    "start_time": "2021-12-13T21:17:01.563Z"
   },
   {
    "duration": 337,
    "start_time": "2021-12-13T21:18:13.519Z"
   },
   {
    "duration": 176,
    "start_time": "2021-12-13T21:18:18.374Z"
   },
   {
    "duration": 177,
    "start_time": "2021-12-13T21:18:25.707Z"
   },
   {
    "duration": 175,
    "start_time": "2021-12-13T21:18:32.171Z"
   },
   {
    "duration": 182,
    "start_time": "2021-12-13T21:20:25.318Z"
   },
   {
    "duration": 207,
    "start_time": "2021-12-13T21:41:13.760Z"
   },
   {
    "duration": 100123,
    "start_time": "2021-12-13T21:41:22.987Z"
   },
   {
    "duration": 1134,
    "start_time": "2021-12-13T21:43:03.113Z"
   },
   {
    "duration": 314,
    "start_time": "2021-12-13T21:43:04.249Z"
   },
   {
    "duration": 3,
    "start_time": "2021-12-13T21:43:04.565Z"
   },
   {
    "duration": 58,
    "start_time": "2021-12-13T21:43:04.569Z"
   },
   {
    "duration": 18,
    "start_time": "2021-12-13T21:43:04.629Z"
   },
   {
    "duration": 23,
    "start_time": "2021-12-13T21:43:04.649Z"
   },
   {
    "duration": 45,
    "start_time": "2021-12-13T21:43:04.675Z"
   },
   {
    "duration": 17,
    "start_time": "2021-12-13T21:43:04.723Z"
   },
   {
    "duration": 38,
    "start_time": "2021-12-13T21:43:04.742Z"
   },
   {
    "duration": 57,
    "start_time": "2021-12-13T21:43:04.781Z"
   },
   {
    "duration": 9,
    "start_time": "2021-12-13T21:43:04.839Z"
   },
   {
    "duration": 66,
    "start_time": "2021-12-13T21:43:04.850Z"
   },
   {
    "duration": 14,
    "start_time": "2021-12-13T21:43:04.918Z"
   },
   {
    "duration": 60,
    "start_time": "2021-12-13T21:43:04.934Z"
   },
   {
    "duration": 4,
    "start_time": "2021-12-13T21:43:04.995Z"
   },
   {
    "duration": 37,
    "start_time": "2021-12-13T21:43:05.001Z"
   },
   {
    "duration": 29,
    "start_time": "2021-12-13T21:43:05.040Z"
   },
   {
    "duration": 28,
    "start_time": "2021-12-13T21:43:05.071Z"
   },
   {
    "duration": 25,
    "start_time": "2021-12-13T21:43:05.100Z"
   },
   {
    "duration": 19,
    "start_time": "2021-12-13T21:43:05.127Z"
   },
   {
    "duration": 17,
    "start_time": "2021-12-13T21:43:05.148Z"
   },
   {
    "duration": 1222,
    "start_time": "2021-12-13T21:43:05.169Z"
   },
   {
    "duration": 1229,
    "start_time": "2021-12-13T21:43:06.394Z"
   },
   {
    "duration": 3071,
    "start_time": "2021-12-13T21:43:07.624Z"
   },
   {
    "duration": 4,
    "start_time": "2021-12-13T21:43:10.697Z"
   },
   {
    "duration": 11,
    "start_time": "2021-12-13T21:43:10.703Z"
   },
   {
    "duration": 7,
    "start_time": "2021-12-13T21:43:10.716Z"
   },
   {
    "duration": 8,
    "start_time": "2021-12-13T21:43:10.724Z"
   },
   {
    "duration": 26,
    "start_time": "2021-12-13T21:43:10.734Z"
   },
   {
    "duration": 45,
    "start_time": "2021-12-13T21:43:10.762Z"
   },
   {
    "duration": 260,
    "start_time": "2021-12-13T21:43:10.808Z"
   },
   {
    "duration": -717,
    "start_time": "2021-12-13T21:43:11.787Z"
   },
   {
    "duration": -718,
    "start_time": "2021-12-13T21:43:11.789Z"
   },
   {
    "duration": -719,
    "start_time": "2021-12-13T21:43:11.791Z"
   },
   {
    "duration": -720,
    "start_time": "2021-12-13T21:43:11.793Z"
   },
   {
    "duration": -720,
    "start_time": "2021-12-13T21:43:11.794Z"
   },
   {
    "duration": -721,
    "start_time": "2021-12-13T21:43:11.796Z"
   },
   {
    "duration": -722,
    "start_time": "2021-12-13T21:43:11.798Z"
   },
   {
    "duration": -724,
    "start_time": "2021-12-13T21:43:11.800Z"
   },
   {
    "duration": -725,
    "start_time": "2021-12-13T21:43:11.802Z"
   },
   {
    "duration": -726,
    "start_time": "2021-12-13T21:43:11.804Z"
   },
   {
    "duration": -733,
    "start_time": "2021-12-13T21:43:11.812Z"
   },
   {
    "duration": -734,
    "start_time": "2021-12-13T21:43:11.814Z"
   },
   {
    "duration": -735,
    "start_time": "2021-12-13T21:43:11.816Z"
   },
   {
    "duration": -736,
    "start_time": "2021-12-13T21:43:11.818Z"
   },
   {
    "duration": -737,
    "start_time": "2021-12-13T21:43:11.820Z"
   },
   {
    "duration": -738,
    "start_time": "2021-12-13T21:43:11.822Z"
   },
   {
    "duration": -738,
    "start_time": "2021-12-13T21:43:11.823Z"
   },
   {
    "duration": -739,
    "start_time": "2021-12-13T21:43:11.825Z"
   },
   {
    "duration": -740,
    "start_time": "2021-12-13T21:43:11.827Z"
   },
   {
    "duration": -741,
    "start_time": "2021-12-13T21:43:11.829Z"
   },
   {
    "duration": -742,
    "start_time": "2021-12-13T21:43:11.831Z"
   },
   {
    "duration": -743,
    "start_time": "2021-12-13T21:43:11.832Z"
   },
   {
    "duration": -744,
    "start_time": "2021-12-13T21:43:11.834Z"
   },
   {
    "duration": -745,
    "start_time": "2021-12-13T21:43:11.836Z"
   },
   {
    "duration": -745,
    "start_time": "2021-12-13T21:43:11.837Z"
   },
   {
    "duration": -746,
    "start_time": "2021-12-13T21:43:11.839Z"
   },
   {
    "duration": -747,
    "start_time": "2021-12-13T21:43:11.841Z"
   },
   {
    "duration": -748,
    "start_time": "2021-12-13T21:43:11.843Z"
   },
   {
    "duration": -749,
    "start_time": "2021-12-13T21:43:11.845Z"
   },
   {
    "duration": -749,
    "start_time": "2021-12-13T21:43:11.846Z"
   },
   {
    "duration": -750,
    "start_time": "2021-12-13T21:43:11.848Z"
   },
   {
    "duration": -752,
    "start_time": "2021-12-13T21:43:11.850Z"
   },
   {
    "duration": -752,
    "start_time": "2021-12-13T21:43:11.851Z"
   },
   {
    "duration": -753,
    "start_time": "2021-12-13T21:43:11.853Z"
   },
   {
    "duration": -754,
    "start_time": "2021-12-13T21:43:11.855Z"
   },
   {
    "duration": -763,
    "start_time": "2021-12-13T21:43:11.865Z"
   },
   {
    "duration": -764,
    "start_time": "2021-12-13T21:43:11.867Z"
   },
   {
    "duration": -765,
    "start_time": "2021-12-13T21:43:11.869Z"
   },
   {
    "duration": -766,
    "start_time": "2021-12-13T21:43:11.871Z"
   },
   {
    "duration": -767,
    "start_time": "2021-12-13T21:43:11.872Z"
   },
   {
    "duration": -768,
    "start_time": "2021-12-13T21:43:11.874Z"
   },
   {
    "duration": -805,
    "start_time": "2021-12-13T21:43:11.912Z"
   },
   {
    "duration": -864,
    "start_time": "2021-12-13T21:43:11.972Z"
   },
   {
    "duration": -865,
    "start_time": "2021-12-13T21:43:11.974Z"
   },
   {
    "duration": -866,
    "start_time": "2021-12-13T21:43:11.976Z"
   },
   {
    "duration": -868,
    "start_time": "2021-12-13T21:43:11.978Z"
   },
   {
    "duration": -869,
    "start_time": "2021-12-13T21:43:11.980Z"
   },
   {
    "duration": -869,
    "start_time": "2021-12-13T21:43:11.981Z"
   },
   {
    "duration": -870,
    "start_time": "2021-12-13T21:43:11.983Z"
   },
   {
    "duration": -871,
    "start_time": "2021-12-13T21:43:11.985Z"
   },
   {
    "duration": -871,
    "start_time": "2021-12-13T21:43:11.986Z"
   },
   {
    "duration": -872,
    "start_time": "2021-12-13T21:43:11.988Z"
   },
   {
    "duration": -931,
    "start_time": "2021-12-13T21:43:12.047Z"
   },
   {
    "duration": -951,
    "start_time": "2021-12-13T21:43:12.068Z"
   },
   {
    "duration": -970,
    "start_time": "2021-12-13T21:43:12.088Z"
   },
   {
    "duration": -977,
    "start_time": "2021-12-13T21:43:12.096Z"
   },
   {
    "duration": -977,
    "start_time": "2021-12-13T21:43:12.097Z"
   },
   {
    "duration": -978,
    "start_time": "2021-12-13T21:43:12.099Z"
   },
   {
    "duration": -979,
    "start_time": "2021-12-13T21:43:12.101Z"
   },
   {
    "duration": -979,
    "start_time": "2021-12-13T21:43:12.102Z"
   },
   {
    "duration": -980,
    "start_time": "2021-12-13T21:43:12.104Z"
   },
   {
    "duration": -981,
    "start_time": "2021-12-13T21:43:12.106Z"
   },
   {
    "duration": -982,
    "start_time": "2021-12-13T21:43:12.108Z"
   },
   {
    "duration": 169,
    "start_time": "2021-12-13T21:43:39.485Z"
   },
   {
    "duration": 5,
    "start_time": "2021-12-13T21:44:05.117Z"
   },
   {
    "duration": 183,
    "start_time": "2021-12-13T21:44:25.229Z"
   },
   {
    "duration": 66227,
    "start_time": "2021-12-13T21:44:38.561Z"
   },
   {
    "duration": 826,
    "start_time": "2021-12-13T21:45:44.790Z"
   },
   {
    "duration": -710,
    "start_time": "2021-12-13T21:45:46.330Z"
   },
   {
    "duration": -712,
    "start_time": "2021-12-13T21:45:46.333Z"
   },
   {
    "duration": -768,
    "start_time": "2021-12-13T21:45:46.390Z"
   },
   {
    "duration": -769,
    "start_time": "2021-12-13T21:45:46.392Z"
   },
   {
    "duration": -771,
    "start_time": "2021-12-13T21:45:46.394Z"
   },
   {
    "duration": -772,
    "start_time": "2021-12-13T21:45:46.397Z"
   },
   {
    "duration": -773,
    "start_time": "2021-12-13T21:45:46.399Z"
   },
   {
    "duration": -775,
    "start_time": "2021-12-13T21:45:46.401Z"
   },
   {
    "duration": -774,
    "start_time": "2021-12-13T21:45:46.402Z"
   },
   {
    "duration": -775,
    "start_time": "2021-12-13T21:45:46.404Z"
   },
   {
    "duration": -776,
    "start_time": "2021-12-13T21:45:46.406Z"
   },
   {
    "duration": -777,
    "start_time": "2021-12-13T21:45:46.408Z"
   },
   {
    "duration": -777,
    "start_time": "2021-12-13T21:45:46.409Z"
   },
   {
    "duration": -778,
    "start_time": "2021-12-13T21:45:46.411Z"
   },
   {
    "duration": -779,
    "start_time": "2021-12-13T21:45:46.413Z"
   },
   {
    "duration": -780,
    "start_time": "2021-12-13T21:45:46.415Z"
   },
   {
    "duration": -780,
    "start_time": "2021-12-13T21:45:46.416Z"
   },
   {
    "duration": -782,
    "start_time": "2021-12-13T21:45:46.418Z"
   },
   {
    "duration": -783,
    "start_time": "2021-12-13T21:45:46.420Z"
   },
   {
    "duration": -784,
    "start_time": "2021-12-13T21:45:46.422Z"
   },
   {
    "duration": -784,
    "start_time": "2021-12-13T21:45:46.423Z"
   },
   {
    "duration": -785,
    "start_time": "2021-12-13T21:45:46.425Z"
   },
   {
    "duration": -786,
    "start_time": "2021-12-13T21:45:46.427Z"
   },
   {
    "duration": -815,
    "start_time": "2021-12-13T21:45:46.457Z"
   },
   {
    "duration": -816,
    "start_time": "2021-12-13T21:45:46.459Z"
   },
   {
    "duration": -817,
    "start_time": "2021-12-13T21:45:46.461Z"
   },
   {
    "duration": -818,
    "start_time": "2021-12-13T21:45:46.463Z"
   },
   {
    "duration": -819,
    "start_time": "2021-12-13T21:45:46.465Z"
   },
   {
    "duration": -820,
    "start_time": "2021-12-13T21:45:46.467Z"
   },
   {
    "duration": -822,
    "start_time": "2021-12-13T21:45:46.469Z"
   },
   {
    "duration": -822,
    "start_time": "2021-12-13T21:45:46.470Z"
   },
   {
    "duration": -822,
    "start_time": "2021-12-13T21:45:46.472Z"
   },
   {
    "duration": -823,
    "start_time": "2021-12-13T21:45:46.474Z"
   },
   {
    "duration": -823,
    "start_time": "2021-12-13T21:45:46.475Z"
   },
   {
    "duration": -824,
    "start_time": "2021-12-13T21:45:46.477Z"
   },
   {
    "duration": -825,
    "start_time": "2021-12-13T21:45:46.479Z"
   },
   {
    "duration": -826,
    "start_time": "2021-12-13T21:45:46.481Z"
   },
   {
    "duration": -791,
    "start_time": "2021-12-13T21:45:46.482Z"
   },
   {
    "duration": -792,
    "start_time": "2021-12-13T21:45:46.484Z"
   },
   {
    "duration": -793,
    "start_time": "2021-12-13T21:45:46.486Z"
   },
   {
    "duration": -912,
    "start_time": "2021-12-13T21:45:46.606Z"
   },
   {
    "duration": -914,
    "start_time": "2021-12-13T21:45:46.609Z"
   },
   {
    "duration": -915,
    "start_time": "2021-12-13T21:45:46.611Z"
   },
   {
    "duration": -917,
    "start_time": "2021-12-13T21:45:46.613Z"
   },
   {
    "duration": -918,
    "start_time": "2021-12-13T21:45:46.615Z"
   },
   {
    "duration": -919,
    "start_time": "2021-12-13T21:45:46.617Z"
   },
   {
    "duration": -920,
    "start_time": "2021-12-13T21:45:46.619Z"
   },
   {
    "duration": -921,
    "start_time": "2021-12-13T21:45:46.621Z"
   },
   {
    "duration": -921,
    "start_time": "2021-12-13T21:45:46.622Z"
   },
   {
    "duration": -922,
    "start_time": "2021-12-13T21:45:46.624Z"
   },
   {
    "duration": -923,
    "start_time": "2021-12-13T21:45:46.626Z"
   },
   {
    "duration": -923,
    "start_time": "2021-12-13T21:45:46.628Z"
   },
   {
    "duration": -924,
    "start_time": "2021-12-13T21:45:46.630Z"
   },
   {
    "duration": -926,
    "start_time": "2021-12-13T21:45:46.632Z"
   },
   {
    "duration": -927,
    "start_time": "2021-12-13T21:45:46.634Z"
   },
   {
    "duration": -927,
    "start_time": "2021-12-13T21:45:46.636Z"
   },
   {
    "duration": -928,
    "start_time": "2021-12-13T21:45:46.638Z"
   },
   {
    "duration": -929,
    "start_time": "2021-12-13T21:45:46.639Z"
   },
   {
    "duration": -930,
    "start_time": "2021-12-13T21:45:46.641Z"
   },
   {
    "duration": -931,
    "start_time": "2021-12-13T21:45:46.643Z"
   },
   {
    "duration": -932,
    "start_time": "2021-12-13T21:45:46.645Z"
   },
   {
    "duration": 4,
    "start_time": "2021-12-13T21:46:38.010Z"
   },
   {
    "duration": 99321,
    "start_time": "2021-12-13T21:46:39.970Z"
   },
   {
    "duration": -724,
    "start_time": "2021-12-13T21:48:20.019Z"
   },
   {
    "duration": -725,
    "start_time": "2021-12-13T21:48:20.021Z"
   },
   {
    "duration": -773,
    "start_time": "2021-12-13T21:48:20.070Z"
   },
   {
    "duration": -775,
    "start_time": "2021-12-13T21:48:20.072Z"
   },
   {
    "duration": -775,
    "start_time": "2021-12-13T21:48:20.074Z"
   },
   {
    "duration": -776,
    "start_time": "2021-12-13T21:48:20.076Z"
   },
   {
    "duration": -778,
    "start_time": "2021-12-13T21:48:20.078Z"
   },
   {
    "duration": -779,
    "start_time": "2021-12-13T21:48:20.080Z"
   },
   {
    "duration": -780,
    "start_time": "2021-12-13T21:48:20.082Z"
   },
   {
    "duration": -781,
    "start_time": "2021-12-13T21:48:20.084Z"
   },
   {
    "duration": -782,
    "start_time": "2021-12-13T21:48:20.086Z"
   },
   {
    "duration": -783,
    "start_time": "2021-12-13T21:48:20.088Z"
   },
   {
    "duration": -783,
    "start_time": "2021-12-13T21:48:20.089Z"
   },
   {
    "duration": -784,
    "start_time": "2021-12-13T21:48:20.091Z"
   },
   {
    "duration": -785,
    "start_time": "2021-12-13T21:48:20.093Z"
   },
   {
    "duration": -786,
    "start_time": "2021-12-13T21:48:20.095Z"
   },
   {
    "duration": -786,
    "start_time": "2021-12-13T21:48:20.096Z"
   },
   {
    "duration": -788,
    "start_time": "2021-12-13T21:48:20.099Z"
   },
   {
    "duration": -788,
    "start_time": "2021-12-13T21:48:20.100Z"
   },
   {
    "duration": -790,
    "start_time": "2021-12-13T21:48:20.102Z"
   },
   {
    "duration": -791,
    "start_time": "2021-12-13T21:48:20.104Z"
   },
   {
    "duration": -792,
    "start_time": "2021-12-13T21:48:20.106Z"
   },
   {
    "duration": -792,
    "start_time": "2021-12-13T21:48:20.108Z"
   },
   {
    "duration": -835,
    "start_time": "2021-12-13T21:48:20.152Z"
   },
   {
    "duration": -840,
    "start_time": "2021-12-13T21:48:20.158Z"
   },
   {
    "duration": -841,
    "start_time": "2021-12-13T21:48:20.160Z"
   },
   {
    "duration": -842,
    "start_time": "2021-12-13T21:48:20.162Z"
   },
   {
    "duration": -843,
    "start_time": "2021-12-13T21:48:20.164Z"
   },
   {
    "duration": -844,
    "start_time": "2021-12-13T21:48:20.166Z"
   },
   {
    "duration": -845,
    "start_time": "2021-12-13T21:48:20.168Z"
   },
   {
    "duration": -846,
    "start_time": "2021-12-13T21:48:20.170Z"
   },
   {
    "duration": -848,
    "start_time": "2021-12-13T21:48:20.172Z"
   },
   {
    "duration": -849,
    "start_time": "2021-12-13T21:48:20.174Z"
   },
   {
    "duration": -850,
    "start_time": "2021-12-13T21:48:20.176Z"
   },
   {
    "duration": -850,
    "start_time": "2021-12-13T21:48:20.177Z"
   },
   {
    "duration": -851,
    "start_time": "2021-12-13T21:48:20.179Z"
   },
   {
    "duration": -852,
    "start_time": "2021-12-13T21:48:20.181Z"
   },
   {
    "duration": -853,
    "start_time": "2021-12-13T21:48:20.183Z"
   },
   {
    "duration": -854,
    "start_time": "2021-12-13T21:48:20.185Z"
   },
   {
    "duration": -796,
    "start_time": "2021-12-13T21:48:20.187Z"
   },
   {
    "duration": -796,
    "start_time": "2021-12-13T21:48:20.188Z"
   },
   {
    "duration": -797,
    "start_time": "2021-12-13T21:48:20.190Z"
   },
   {
    "duration": -798,
    "start_time": "2021-12-13T21:48:20.192Z"
   },
   {
    "duration": -799,
    "start_time": "2021-12-13T21:48:20.194Z"
   },
   {
    "duration": -799,
    "start_time": "2021-12-13T21:48:20.195Z"
   },
   {
    "duration": -800,
    "start_time": "2021-12-13T21:48:20.197Z"
   },
   {
    "duration": -801,
    "start_time": "2021-12-13T21:48:20.199Z"
   },
   {
    "duration": -802,
    "start_time": "2021-12-13T21:48:20.201Z"
   },
   {
    "duration": -802,
    "start_time": "2021-12-13T21:48:20.202Z"
   },
   {
    "duration": -804,
    "start_time": "2021-12-13T21:48:20.204Z"
   },
   {
    "duration": -805,
    "start_time": "2021-12-13T21:48:20.206Z"
   },
   {
    "duration": -806,
    "start_time": "2021-12-13T21:48:20.208Z"
   },
   {
    "duration": -807,
    "start_time": "2021-12-13T21:48:20.210Z"
   },
   {
    "duration": -807,
    "start_time": "2021-12-13T21:48:20.211Z"
   },
   {
    "duration": -808,
    "start_time": "2021-12-13T21:48:20.213Z"
   },
   {
    "duration": -809,
    "start_time": "2021-12-13T21:48:20.215Z"
   },
   {
    "duration": -811,
    "start_time": "2021-12-13T21:48:20.217Z"
   },
   {
    "duration": -812,
    "start_time": "2021-12-13T21:48:20.219Z"
   },
   {
    "duration": -813,
    "start_time": "2021-12-13T21:48:20.221Z"
   },
   {
    "duration": -814,
    "start_time": "2021-12-13T21:48:20.223Z"
   },
   {
    "duration": 99343,
    "start_time": "2021-12-13T21:48:34.930Z"
   },
   {
    "duration": 97619,
    "start_time": "2021-12-13T21:50:24.587Z"
   },
   {
    "duration": 4,
    "start_time": "2021-12-13T21:52:17.002Z"
   },
   {
    "duration": 10,
    "start_time": "2021-12-13T21:52:17.009Z"
   },
   {
    "duration": 21,
    "start_time": "2021-12-13T21:52:17.022Z"
   },
   {
    "duration": 8,
    "start_time": "2021-12-13T21:52:17.046Z"
   },
   {
    "duration": 5,
    "start_time": "2021-12-13T21:52:17.055Z"
   },
   {
    "duration": 10,
    "start_time": "2021-12-13T21:52:17.092Z"
   },
   {
    "duration": 1703,
    "start_time": "2021-12-13T21:52:17.103Z"
   },
   {
    "duration": 379,
    "start_time": "2021-12-13T21:52:18.808Z"
   },
   {
    "duration": 992,
    "start_time": "2021-12-13T21:52:19.190Z"
   },
   {
    "duration": 2759,
    "start_time": "2021-12-13T21:52:20.184Z"
   },
   {
    "duration": 7459,
    "start_time": "2021-12-13T21:52:22.944Z"
   },
   {
    "duration": 57,
    "start_time": "2021-12-13T21:52:30.405Z"
   },
   {
    "duration": 81493,
    "start_time": "2021-12-13T21:52:30.464Z"
   },
   {
    "duration": 3,
    "start_time": "2021-12-13T21:53:51.959Z"
   },
   {
    "duration": 24707,
    "start_time": "2021-12-13T21:53:51.964Z"
   },
   {
    "duration": 3,
    "start_time": "2021-12-13T21:54:16.673Z"
   },
   {
    "duration": 104,
    "start_time": "2021-12-13T21:54:16.677Z"
   },
   {
    "duration": 32,
    "start_time": "2021-12-13T21:54:16.783Z"
   },
   {
    "duration": 4,
    "start_time": "2021-12-13T21:54:16.816Z"
   },
   {
    "duration": 2191,
    "start_time": "2021-12-13T21:54:16.821Z"
   },
   {
    "duration": 3427,
    "start_time": "2021-12-13T21:54:19.014Z"
   },
   {
    "duration": 183,
    "start_time": "2021-12-13T21:54:22.443Z"
   },
   {
    "duration": -774,
    "start_time": "2021-12-13T21:54:23.403Z"
   },
   {
    "duration": -775,
    "start_time": "2021-12-13T21:54:23.405Z"
   },
   {
    "duration": -777,
    "start_time": "2021-12-13T21:54:23.408Z"
   },
   {
    "duration": -778,
    "start_time": "2021-12-13T21:54:23.410Z"
   },
   {
    "duration": -778,
    "start_time": "2021-12-13T21:54:23.412Z"
   },
   {
    "duration": -778,
    "start_time": "2021-12-13T21:54:23.413Z"
   },
   {
    "duration": -840,
    "start_time": "2021-12-13T21:54:23.476Z"
   },
   {
    "duration": -841,
    "start_time": "2021-12-13T21:54:23.478Z"
   },
   {
    "duration": -842,
    "start_time": "2021-12-13T21:54:23.480Z"
   },
   {
    "duration": -843,
    "start_time": "2021-12-13T21:54:23.482Z"
   },
   {
    "duration": -844,
    "start_time": "2021-12-13T21:54:23.484Z"
   },
   {
    "duration": -845,
    "start_time": "2021-12-13T21:54:23.486Z"
   },
   {
    "duration": -846,
    "start_time": "2021-12-13T21:54:23.488Z"
   },
   {
    "duration": -916,
    "start_time": "2021-12-13T21:54:23.559Z"
   },
   {
    "duration": -917,
    "start_time": "2021-12-13T21:54:23.561Z"
   },
   {
    "duration": -917,
    "start_time": "2021-12-13T21:54:23.562Z"
   },
   {
    "duration": -918,
    "start_time": "2021-12-13T21:54:23.564Z"
   },
   {
    "duration": -919,
    "start_time": "2021-12-13T21:54:23.566Z"
   },
   {
    "duration": -920,
    "start_time": "2021-12-13T21:54:23.568Z"
   },
   {
    "duration": -921,
    "start_time": "2021-12-13T21:54:23.570Z"
   },
   {
    "duration": -969,
    "start_time": "2021-12-13T21:54:23.618Z"
   },
   {
    "duration": -974,
    "start_time": "2021-12-13T21:54:23.624Z"
   },
   {
    "duration": -975,
    "start_time": "2021-12-13T21:54:23.626Z"
   },
   {
    "duration": -976,
    "start_time": "2021-12-13T21:54:23.628Z"
   },
   {
    "duration": -977,
    "start_time": "2021-12-13T21:54:23.630Z"
   },
   {
    "duration": -978,
    "start_time": "2021-12-13T21:54:23.632Z"
   },
   {
    "duration": -979,
    "start_time": "2021-12-13T21:54:23.634Z"
   },
   {
    "duration": -1035,
    "start_time": "2021-12-13T21:54:23.691Z"
   },
   {
    "duration": -1036,
    "start_time": "2021-12-13T21:54:23.693Z"
   },
   {
    "duration": -1037,
    "start_time": "2021-12-13T21:54:23.695Z"
   },
   {
    "duration": -1038,
    "start_time": "2021-12-13T21:54:23.697Z"
   },
   {
    "duration": -1038,
    "start_time": "2021-12-13T21:54:23.699Z"
   },
   {
    "duration": -1039,
    "start_time": "2021-12-13T21:54:23.701Z"
   },
   {
    "duration": -1040,
    "start_time": "2021-12-13T21:54:23.702Z"
   },
   {
    "duration": -1089,
    "start_time": "2021-12-13T21:54:23.752Z"
   },
   {
    "duration": -1091,
    "start_time": "2021-12-13T21:54:23.755Z"
   },
   {
    "duration": -1092,
    "start_time": "2021-12-13T21:54:23.757Z"
   },
   {
    "duration": -1093,
    "start_time": "2021-12-13T21:54:23.759Z"
   },
   {
    "duration": 53,
    "start_time": "2021-12-13T21:55:01.004Z"
   },
   {
    "duration": 49,
    "start_time": "2021-12-13T21:55:02.643Z"
   },
   {
    "duration": 3,
    "start_time": "2021-12-13T21:55:22.497Z"
   },
   {
    "duration": 10,
    "start_time": "2021-12-13T21:55:22.502Z"
   },
   {
    "duration": 29,
    "start_time": "2021-12-13T21:55:22.515Z"
   },
   {
    "duration": 15,
    "start_time": "2021-12-13T21:55:22.546Z"
   },
   {
    "duration": 50105,
    "start_time": "2021-12-13T21:55:22.563Z"
   },
   {
    "duration": 109,
    "start_time": "2021-12-13T21:56:12.670Z"
   },
   {
    "duration": 99898,
    "start_time": "2021-12-13T21:56:12.792Z"
   },
   {
    "duration": 17,
    "start_time": "2021-12-13T21:57:52.692Z"
   },
   {
    "duration": 250,
    "start_time": "2021-12-13T21:57:52.713Z"
   },
   {
    "duration": -784,
    "start_time": "2021-12-13T21:57:53.749Z"
   },
   {
    "duration": -785,
    "start_time": "2021-12-13T21:57:53.751Z"
   },
   {
    "duration": -786,
    "start_time": "2021-12-13T21:57:53.753Z"
   },
   {
    "duration": -787,
    "start_time": "2021-12-13T21:57:53.755Z"
   },
   {
    "duration": -788,
    "start_time": "2021-12-13T21:57:53.757Z"
   },
   {
    "duration": -789,
    "start_time": "2021-12-13T21:57:53.759Z"
   },
   {
    "duration": -789,
    "start_time": "2021-12-13T21:57:53.760Z"
   },
   {
    "duration": -854,
    "start_time": "2021-12-13T21:57:53.826Z"
   },
   {
    "duration": -855,
    "start_time": "2021-12-13T21:57:53.828Z"
   },
   {
    "duration": -856,
    "start_time": "2021-12-13T21:57:53.830Z"
   },
   {
    "duration": -858,
    "start_time": "2021-12-13T21:57:53.832Z"
   },
   {
    "duration": -859,
    "start_time": "2021-12-13T21:57:53.834Z"
   },
   {
    "duration": -860,
    "start_time": "2021-12-13T21:57:53.836Z"
   },
   {
    "duration": -861,
    "start_time": "2021-12-13T21:57:53.838Z"
   },
   {
    "duration": -862,
    "start_time": "2021-12-13T21:57:53.840Z"
   },
   {
    "duration": -863,
    "start_time": "2021-12-13T21:57:53.842Z"
   },
   {
    "duration": -863,
    "start_time": "2021-12-13T21:57:53.843Z"
   },
   {
    "duration": -864,
    "start_time": "2021-12-13T21:57:53.845Z"
   },
   {
    "duration": -865,
    "start_time": "2021-12-13T21:57:53.847Z"
   },
   {
    "duration": -909,
    "start_time": "2021-12-13T21:57:53.892Z"
   },
   {
    "duration": -915,
    "start_time": "2021-12-13T21:57:53.898Z"
   },
   {
    "duration": -917,
    "start_time": "2021-12-13T21:57:53.901Z"
   },
   {
    "duration": -918,
    "start_time": "2021-12-13T21:57:53.903Z"
   },
   {
    "duration": -919,
    "start_time": "2021-12-13T21:57:53.905Z"
   },
   {
    "duration": -920,
    "start_time": "2021-12-13T21:57:53.907Z"
   },
   {
    "duration": -920,
    "start_time": "2021-12-13T21:57:53.908Z"
   },
   {
    "duration": -921,
    "start_time": "2021-12-13T21:57:53.910Z"
   },
   {
    "duration": -922,
    "start_time": "2021-12-13T21:57:53.912Z"
   },
   {
    "duration": 6,
    "start_time": "2021-12-13T22:00:27.121Z"
   },
   {
    "duration": 14,
    "start_time": "2021-12-13T22:00:29.764Z"
   },
   {
    "duration": 189,
    "start_time": "2021-12-13T22:00:30.150Z"
   },
   {
    "duration": 2381,
    "start_time": "2021-12-13T22:00:33.612Z"
   },
   {
    "duration": 4,
    "start_time": "2021-12-13T22:00:43.819Z"
   },
   {
    "duration": 54786,
    "start_time": "2021-12-13T22:00:44.765Z"
   },
   {
    "duration": 51152,
    "start_time": "2021-12-13T22:01:39.552Z"
   },
   {
    "duration": 519,
    "start_time": "2021-12-13T22:02:30.707Z"
   },
   {
    "duration": 1865,
    "start_time": "2021-12-13T22:02:31.228Z"
   },
   {
    "duration": 210,
    "start_time": "2021-12-13T22:02:33.095Z"
   },
   {
    "duration": 387,
    "start_time": "2021-12-13T22:02:33.308Z"
   },
   {
    "duration": 20887,
    "start_time": "2021-12-13T22:02:33.698Z"
   },
   {
    "duration": 6,
    "start_time": "2021-12-13T22:02:54.587Z"
   },
   {
    "duration": 2199,
    "start_time": "2021-12-13T22:02:54.594Z"
   },
   {
    "duration": 3,
    "start_time": "2021-12-13T22:02:56.795Z"
   },
   {
    "duration": 16,
    "start_time": "2021-12-13T22:02:56.799Z"
   },
   {
    "duration": 4,
    "start_time": "2021-12-13T22:02:56.816Z"
   },
   {
    "duration": 10,
    "start_time": "2021-12-13T22:02:56.822Z"
   },
   {
    "duration": 6,
    "start_time": "2021-12-13T22:02:56.833Z"
   },
   {
    "duration": 11,
    "start_time": "2021-12-13T22:02:56.840Z"
   },
   {
    "duration": 41,
    "start_time": "2021-12-13T22:02:56.852Z"
   },
   {
    "duration": 171,
    "start_time": "2021-12-13T22:02:56.894Z"
   },
   {
    "duration": 2265,
    "start_time": "2021-12-13T22:26:34.635Z"
   },
   {
    "duration": 4,
    "start_time": "2021-12-13T22:26:43.067Z"
   },
   {
    "duration": 14,
    "start_time": "2021-12-13T22:26:43.074Z"
   },
   {
    "duration": 5,
    "start_time": "2021-12-13T22:26:43.090Z"
   },
   {
    "duration": 9,
    "start_time": "2021-12-13T22:26:43.096Z"
   },
   {
    "duration": 5,
    "start_time": "2021-12-13T22:26:43.107Z"
   },
   {
    "duration": 10,
    "start_time": "2021-12-13T22:26:43.113Z"
   },
   {
    "duration": 9,
    "start_time": "2021-12-13T22:26:43.124Z"
   },
   {
    "duration": 185,
    "start_time": "2021-12-13T22:26:43.134Z"
   },
   {
    "duration": 26,
    "start_time": "2021-12-13T22:48:03.588Z"
   },
   {
    "duration": 37,
    "start_time": "2021-12-13T22:49:58.569Z"
   },
   {
    "duration": 524,
    "start_time": "2021-12-13T22:51:30.873Z"
   },
   {
    "duration": 26,
    "start_time": "2021-12-13T22:51:48.200Z"
   },
   {
    "duration": 13,
    "start_time": "2021-12-13T22:56:26.062Z"
   },
   {
    "duration": 2979,
    "start_time": "2021-12-13T22:59:09.230Z"
   },
   {
    "duration": 559,
    "start_time": "2021-12-13T23:04:13.079Z"
   },
   {
    "duration": 579,
    "start_time": "2021-12-13T23:05:12.384Z"
   },
   {
    "duration": 71,
    "start_time": "2021-12-13T23:06:00.288Z"
   },
   {
    "duration": 592,
    "start_time": "2021-12-13T23:06:17.030Z"
   },
   {
    "duration": 286270,
    "start_time": "2021-12-13T23:07:44.991Z"
   },
   {
    "duration": 2297,
    "start_time": "2021-12-13T23:18:45.999Z"
   },
   {
    "duration": 4,
    "start_time": "2021-12-13T23:18:48.297Z"
   },
   {
    "duration": 13,
    "start_time": "2021-12-13T23:18:48.365Z"
   },
   {
    "duration": 6,
    "start_time": "2021-12-13T23:18:56.775Z"
   },
   {
    "duration": 10,
    "start_time": "2021-12-13T23:19:02.069Z"
   },
   {
    "duration": 7,
    "start_time": "2021-12-13T23:19:02.509Z"
   },
   {
    "duration": 10,
    "start_time": "2021-12-13T23:19:04.037Z"
   },
   {
    "duration": 170,
    "start_time": "2021-12-13T23:19:08.998Z"
   },
   {
    "duration": 57,
    "start_time": "2021-12-13T23:21:45.869Z"
   },
   {
    "duration": 84,
    "start_time": "2021-12-13T23:21:57.309Z"
   },
   {
    "duration": 4808,
    "start_time": "2021-12-13T23:22:07.891Z"
   },
   {
    "duration": 32,
    "start_time": "2021-12-13T23:22:35.345Z"
   },
   {
    "duration": 13,
    "start_time": "2021-12-13T23:23:40.795Z"
   },
   {
    "duration": 1286,
    "start_time": "2021-12-13T23:24:00.536Z"
   },
   {
    "duration": 23,
    "start_time": "2021-12-13T23:24:48.990Z"
   },
   {
    "duration": 6,
    "start_time": "2021-12-13T23:25:05.875Z"
   },
   {
    "duration": 312,
    "start_time": "2021-12-13T23:26:12.950Z"
   },
   {
    "duration": 48,
    "start_time": "2021-12-13T23:26:43.077Z"
   },
   {
    "duration": 57,
    "start_time": "2021-12-13T23:26:50.036Z"
   },
   {
    "duration": 51,
    "start_time": "2021-12-13T23:26:58.256Z"
   },
   {
    "duration": 47,
    "start_time": "2021-12-13T23:27:54.479Z"
   },
   {
    "duration": 62,
    "start_time": "2021-12-13T23:28:25.028Z"
   },
   {
    "duration": 50,
    "start_time": "2021-12-13T23:28:37.832Z"
   },
   {
    "duration": 9825,
    "start_time": "2021-12-14T07:39:23.812Z"
   },
   {
    "duration": 1302,
    "start_time": "2021-12-14T07:39:33.639Z"
   },
   {
    "duration": 91,
    "start_time": "2021-12-14T07:39:34.942Z"
   },
   {
    "duration": 3,
    "start_time": "2021-12-14T07:39:35.035Z"
   },
   {
    "duration": 43,
    "start_time": "2021-12-14T07:39:35.040Z"
   },
   {
    "duration": 14,
    "start_time": "2021-12-14T07:39:35.085Z"
   },
   {
    "duration": 10,
    "start_time": "2021-12-14T07:39:35.101Z"
   },
   {
    "duration": 15,
    "start_time": "2021-12-14T07:39:35.114Z"
   },
   {
    "duration": 37,
    "start_time": "2021-12-14T07:39:35.131Z"
   },
   {
    "duration": 7,
    "start_time": "2021-12-14T07:39:35.170Z"
   },
   {
    "duration": 32,
    "start_time": "2021-12-14T07:39:35.178Z"
   },
   {
    "duration": 8,
    "start_time": "2021-12-14T07:39:35.211Z"
   },
   {
    "duration": 93,
    "start_time": "2021-12-14T07:39:35.220Z"
   },
   {
    "duration": 12,
    "start_time": "2021-12-14T07:39:35.315Z"
   },
   {
    "duration": 62,
    "start_time": "2021-12-14T07:39:35.329Z"
   },
   {
    "duration": 5,
    "start_time": "2021-12-14T07:39:35.392Z"
   },
   {
    "duration": 15,
    "start_time": "2021-12-14T07:39:35.398Z"
   },
   {
    "duration": 11,
    "start_time": "2021-12-14T07:39:35.415Z"
   },
   {
    "duration": 45,
    "start_time": "2021-12-14T07:39:35.428Z"
   },
   {
    "duration": 18,
    "start_time": "2021-12-14T07:39:35.475Z"
   },
   {
    "duration": 14,
    "start_time": "2021-12-14T07:39:35.495Z"
   },
   {
    "duration": 4,
    "start_time": "2021-12-14T07:39:35.510Z"
   },
   {
    "duration": 1163,
    "start_time": "2021-12-14T07:39:35.519Z"
   },
   {
    "duration": 1367,
    "start_time": "2021-12-14T07:39:36.686Z"
   },
   {
    "duration": 3055,
    "start_time": "2021-12-14T07:39:38.055Z"
   },
   {
    "duration": 5,
    "start_time": "2021-12-14T07:39:41.111Z"
   },
   {
    "duration": 26,
    "start_time": "2021-12-14T07:39:41.117Z"
   },
   {
    "duration": 16,
    "start_time": "2021-12-14T07:39:41.145Z"
   },
   {
    "duration": 19,
    "start_time": "2021-12-14T07:39:41.163Z"
   },
   {
    "duration": 31,
    "start_time": "2021-12-14T07:39:41.184Z"
   },
   {
    "duration": 22,
    "start_time": "2021-12-14T07:39:41.217Z"
   },
   {
    "duration": 703,
    "start_time": "2021-12-14T07:39:41.241Z"
   },
   {
    "duration": 4873,
    "start_time": "2021-12-14T07:39:41.946Z"
   },
   {
    "duration": 580,
    "start_time": "2021-12-14T07:39:46.821Z"
   },
   {
    "duration": 7961,
    "start_time": "2021-12-14T07:39:47.403Z"
   },
   {
    "duration": 3,
    "start_time": "2021-12-14T07:39:55.366Z"
   },
   {
    "duration": 10,
    "start_time": "2021-12-14T07:39:55.370Z"
   },
   {
    "duration": 13,
    "start_time": "2021-12-14T07:39:55.382Z"
   },
   {
    "duration": 8,
    "start_time": "2021-12-14T07:39:55.396Z"
   },
   {
    "duration": 5,
    "start_time": "2021-12-14T07:39:55.405Z"
   },
   {
    "duration": 9,
    "start_time": "2021-12-14T07:39:55.411Z"
   },
   {
    "duration": 1614,
    "start_time": "2021-12-14T07:39:55.421Z"
   },
   {
    "duration": 376,
    "start_time": "2021-12-14T07:39:57.036Z"
   },
   {
    "duration": 1045,
    "start_time": "2021-12-14T07:39:57.413Z"
   },
   {
    "duration": 2708,
    "start_time": "2021-12-14T07:39:58.460Z"
   },
   {
    "duration": 7175,
    "start_time": "2021-12-14T07:40:01.169Z"
   },
   {
    "duration": 26,
    "start_time": "2021-12-14T07:40:08.346Z"
   },
   {
    "duration": 106265,
    "start_time": "2021-12-14T07:40:08.374Z"
   },
   {
    "duration": 3,
    "start_time": "2021-12-14T07:41:54.642Z"
   },
   {
    "duration": 41333,
    "start_time": "2021-12-14T07:41:54.663Z"
   },
   {
    "duration": 3,
    "start_time": "2021-12-14T07:42:35.998Z"
   },
   {
    "duration": 87,
    "start_time": "2021-12-14T07:42:36.003Z"
   },
   {
    "duration": 16,
    "start_time": "2021-12-14T07:42:36.092Z"
   },
   {
    "duration": 3,
    "start_time": "2021-12-14T07:42:36.110Z"
   },
   {
    "duration": 2212,
    "start_time": "2021-12-14T07:42:36.114Z"
   },
   {
    "duration": 3536,
    "start_time": "2021-12-14T07:42:38.328Z"
   },
   {
    "duration": 51,
    "start_time": "2021-12-14T07:42:41.865Z"
   },
   {
    "duration": 51,
    "start_time": "2021-12-14T07:42:41.917Z"
   },
   {
    "duration": 3,
    "start_time": "2021-12-14T07:42:41.969Z"
   },
   {
    "duration": 10,
    "start_time": "2021-12-14T07:42:41.973Z"
   },
   {
    "duration": 15,
    "start_time": "2021-12-14T07:42:41.984Z"
   },
   {
    "duration": 15,
    "start_time": "2021-12-14T07:42:42.001Z"
   },
   {
    "duration": 37470,
    "start_time": "2021-12-14T07:42:42.017Z"
   },
   {
    "duration": 95,
    "start_time": "2021-12-14T07:43:19.489Z"
   },
   {
    "duration": 5624,
    "start_time": "2021-12-14T07:43:19.587Z"
   },
   {
    "duration": 15,
    "start_time": "2021-12-14T07:43:25.213Z"
   },
   {
    "duration": 5,
    "start_time": "2021-12-14T07:43:25.229Z"
   },
   {
    "duration": 19,
    "start_time": "2021-12-14T07:43:25.240Z"
   },
   {
    "duration": 2406,
    "start_time": "2021-12-14T07:43:25.261Z"
   },
   {
    "duration": 6,
    "start_time": "2021-12-14T07:43:27.762Z"
   },
   {
    "duration": 51131,
    "start_time": "2021-12-14T07:43:27.770Z"
   },
   {
    "duration": 50840,
    "start_time": "2021-12-14T07:44:18.903Z"
   },
   {
    "duration": 508,
    "start_time": "2021-12-14T07:45:09.744Z"
   },
   {
    "duration": 1814,
    "start_time": "2021-12-14T07:45:10.255Z"
   },
   {
    "duration": 213,
    "start_time": "2021-12-14T07:45:12.071Z"
   },
   {
    "duration": 378,
    "start_time": "2021-12-14T07:45:12.287Z"
   },
   {
    "duration": 21384,
    "start_time": "2021-12-14T07:45:12.667Z"
   },
   {
    "duration": 5,
    "start_time": "2021-12-14T07:45:34.052Z"
   },
   {
    "duration": 2215,
    "start_time": "2021-12-14T07:45:34.059Z"
   },
   {
    "duration": 4,
    "start_time": "2021-12-14T07:45:36.275Z"
   },
   {
    "duration": 17,
    "start_time": "2021-12-14T07:45:36.280Z"
   },
   {
    "duration": 6,
    "start_time": "2021-12-14T07:45:36.298Z"
   },
   {
    "duration": 12,
    "start_time": "2021-12-14T07:45:36.305Z"
   },
   {
    "duration": 6,
    "start_time": "2021-12-14T07:45:36.319Z"
   },
   {
    "duration": 39,
    "start_time": "2021-12-14T07:45:36.326Z"
   },
   {
    "duration": 170,
    "start_time": "2021-12-14T07:45:36.367Z"
   },
   {
    "duration": 38,
    "start_time": "2021-12-14T07:45:36.539Z"
   },
   {
    "duration": 12,
    "start_time": "2021-12-14T07:45:36.578Z"
   },
   {
    "duration": 1296,
    "start_time": "2021-12-14T07:45:36.592Z"
   },
   {
    "duration": 200,
    "start_time": "2021-12-14T07:45:37.963Z"
   },
   {
    "duration": 136,
    "start_time": "2021-12-14T07:45:38.169Z"
   },
   {
    "duration": 139,
    "start_time": "2021-12-14T07:45:38.365Z"
   },
   {
    "duration": 195,
    "start_time": "2021-12-14T07:45:38.506Z"
   },
   {
    "duration": 3,
    "start_time": "2021-12-14T07:52:28.202Z"
   },
   {
    "duration": 365,
    "start_time": "2021-12-14T07:53:45.042Z"
   },
   {
    "duration": 250,
    "start_time": "2021-12-14T07:54:12.842Z"
   },
   {
    "duration": 9,
    "start_time": "2021-12-14T07:54:24.052Z"
   },
   {
    "duration": 16,
    "start_time": "2021-12-14T07:54:34.743Z"
   },
   {
    "duration": 16,
    "start_time": "2021-12-14T07:54:45.516Z"
   },
   {
    "duration": 1202,
    "start_time": "2021-12-14T07:56:32.181Z"
   },
   {
    "duration": 11,
    "start_time": "2021-12-14T07:56:58.856Z"
   },
   {
    "duration": 261,
    "start_time": "2021-12-14T07:57:08.841Z"
   },
   {
    "duration": 21,
    "start_time": "2021-12-14T07:57:13.859Z"
   },
   {
    "duration": 35965,
    "start_time": "2021-12-14T07:58:10.918Z"
   },
   {
    "duration": 98,
    "start_time": "2021-12-14T08:00:51.730Z"
   },
   {
    "duration": 92,
    "start_time": "2021-12-14T08:01:40.396Z"
   },
   {
    "duration": 7,
    "start_time": "2021-12-14T08:19:07.597Z"
   },
   {
    "duration": 1313,
    "start_time": "2021-12-14T08:19:16.351Z"
   },
   {
    "duration": 48,
    "start_time": "2021-12-14T08:19:20.893Z"
   },
   {
    "duration": 50,
    "start_time": "2021-12-14T08:19:22.164Z"
   },
   {
    "duration": 48,
    "start_time": "2021-12-14T08:19:22.526Z"
   },
   {
    "duration": 48,
    "start_time": "2021-12-14T08:19:27.890Z"
   },
   {
    "duration": 7,
    "start_time": "2021-12-14T08:24:09.579Z"
   },
   {
    "duration": 1341,
    "start_time": "2021-12-14T08:24:35.731Z"
   },
   {
    "duration": 59,
    "start_time": "2021-12-14T08:24:46.611Z"
   },
   {
    "duration": 87,
    "start_time": "2021-12-14T08:24:47.078Z"
   },
   {
    "duration": 49,
    "start_time": "2021-12-14T08:24:47.366Z"
   },
   {
    "duration": 51,
    "start_time": "2021-12-14T08:24:47.599Z"
   },
   {
    "duration": 172,
    "start_time": "2021-12-14T08:26:36.717Z"
   },
   {
    "duration": 1398,
    "start_time": "2021-12-14T08:26:46.468Z"
   },
   {
    "duration": 79,
    "start_time": "2021-12-14T08:26:50.203Z"
   },
   {
    "duration": 78,
    "start_time": "2021-12-14T08:26:50.492Z"
   },
   {
    "duration": 112,
    "start_time": "2021-12-14T08:26:50.763Z"
   },
   {
    "duration": 3580,
    "start_time": "2021-12-14T08:29:15.107Z"
   },
   {
    "duration": 54,
    "start_time": "2021-12-14T08:30:20.651Z"
   },
   {
    "duration": 86,
    "start_time": "2021-12-14T08:31:48.784Z"
   },
   {
    "duration": 52,
    "start_time": "2021-12-14T08:31:54.382Z"
   },
   {
    "duration": 12,
    "start_time": "2021-12-14T08:32:18.742Z"
   },
   {
    "duration": 26,
    "start_time": "2021-12-14T08:32:22.216Z"
   },
   {
    "duration": 23,
    "start_time": "2021-12-14T08:32:57.284Z"
   },
   {
    "duration": 6,
    "start_time": "2021-12-14T08:33:13.326Z"
   },
   {
    "duration": 7,
    "start_time": "2021-12-14T08:33:29.748Z"
   },
   {
    "duration": 80,
    "start_time": "2021-12-14T08:36:17.325Z"
   },
   {
    "duration": 77,
    "start_time": "2021-12-14T08:37:03.856Z"
   },
   {
    "duration": 152,
    "start_time": "2021-12-14T08:37:10.248Z"
   },
   {
    "duration": 153,
    "start_time": "2021-12-14T08:37:26.342Z"
   },
   {
    "duration": 295,
    "start_time": "2021-12-14T08:44:16.669Z"
   },
   {
    "duration": 3485,
    "start_time": "2021-12-14T08:46:10.905Z"
   },
   {
    "duration": 97,
    "start_time": "2021-12-14T08:46:18.440Z"
   },
   {
    "duration": 7,
    "start_time": "2021-12-14T08:47:54.158Z"
   },
   {
    "duration": 4,
    "start_time": "2021-12-14T08:56:15.972Z"
   },
   {
    "duration": 24,
    "start_time": "2021-12-14T08:57:12.236Z"
   },
   {
    "duration": 16,
    "start_time": "2021-12-14T08:57:18.672Z"
   },
   {
    "duration": 8,
    "start_time": "2021-12-14T09:01:13.644Z"
   },
   {
    "duration": 26,
    "start_time": "2021-12-14T09:01:17.985Z"
   },
   {
    "duration": 166,
    "start_time": "2021-12-14T09:05:23.874Z"
   },
   {
    "duration": 243,
    "start_time": "2021-12-14T09:05:43.051Z"
   },
   {
    "duration": 257,
    "start_time": "2021-12-14T09:05:51.001Z"
   },
   {
    "duration": 172,
    "start_time": "2021-12-14T09:06:27.221Z"
   },
   {
    "duration": 672,
    "start_time": "2021-12-14T09:06:46.624Z"
   },
   {
    "duration": 6,
    "start_time": "2021-12-14T09:08:26.473Z"
   },
   {
    "duration": 10,
    "start_time": "2021-12-14T09:08:31.406Z"
   },
   {
    "duration": 6,
    "start_time": "2021-12-14T09:09:23.953Z"
   },
   {
    "duration": 7,
    "start_time": "2021-12-14T09:09:50.184Z"
   },
   {
    "duration": 194,
    "start_time": "2021-12-14T09:10:13.719Z"
   },
   {
    "duration": 147,
    "start_time": "2021-12-14T09:10:24.907Z"
   },
   {
    "duration": 289,
    "start_time": "2021-12-14T09:11:15.426Z"
   },
   {
    "duration": 633,
    "start_time": "2021-12-14T09:11:23.013Z"
   },
   {
    "duration": 658,
    "start_time": "2021-12-14T09:13:11.899Z"
   },
   {
    "duration": 616,
    "start_time": "2021-12-14T09:13:24.109Z"
   },
   {
    "duration": 1466,
    "start_time": "2021-12-14T10:05:53.618Z"
   },
   {
    "duration": 253,
    "start_time": "2021-12-14T10:05:56.336Z"
   },
   {
    "duration": 265,
    "start_time": "2021-12-14T10:06:00.578Z"
   },
   {
    "duration": 247,
    "start_time": "2021-12-14T10:06:51.627Z"
   },
   {
    "duration": 261,
    "start_time": "2021-12-14T10:06:59.735Z"
   },
   {
    "duration": 270,
    "start_time": "2021-12-14T10:07:08.165Z"
   },
   {
    "duration": 251,
    "start_time": "2021-12-14T10:07:11.058Z"
   },
   {
    "duration": 6,
    "start_time": "2021-12-14T10:07:43.465Z"
   },
   {
    "duration": 12,
    "start_time": "2021-12-14T10:10:13.428Z"
   },
   {
    "duration": 83,
    "start_time": "2021-12-14T11:02:37.834Z"
   },
   {
    "duration": 5,
    "start_time": "2021-12-14T11:02:41.844Z"
   },
   {
    "duration": 5,
    "start_time": "2021-12-14T11:03:30.754Z"
   },
   {
    "duration": 83,
    "start_time": "2021-12-14T11:05:28.446Z"
   },
   {
    "duration": 7,
    "start_time": "2021-12-14T11:05:30.918Z"
   },
   {
    "duration": 403,
    "start_time": "2021-12-14T11:13:54.344Z"
   },
   {
    "duration": 918,
    "start_time": "2021-12-14T12:25:49.568Z"
   },
   {
    "duration": 11,
    "start_time": "2021-12-14T12:25:57.213Z"
   },
   {
    "duration": 3709,
    "start_time": "2021-12-14T21:34:33.472Z"
   },
   {
    "duration": 1223,
    "start_time": "2021-12-14T21:34:37.183Z"
   },
   {
    "duration": 97,
    "start_time": "2021-12-14T21:34:38.409Z"
   },
   {
    "duration": 4,
    "start_time": "2021-12-14T21:34:38.508Z"
   },
   {
    "duration": 42,
    "start_time": "2021-12-14T21:34:38.514Z"
   },
   {
    "duration": 16,
    "start_time": "2021-12-14T21:34:38.558Z"
   },
   {
    "duration": 34,
    "start_time": "2021-12-14T21:34:38.576Z"
   },
   {
    "duration": 15,
    "start_time": "2021-12-14T21:34:38.612Z"
   },
   {
    "duration": 7,
    "start_time": "2021-12-14T21:34:38.630Z"
   },
   {
    "duration": 5,
    "start_time": "2021-12-14T21:34:38.639Z"
   },
   {
    "duration": 70,
    "start_time": "2021-12-14T21:34:38.645Z"
   },
   {
    "duration": 9,
    "start_time": "2021-12-14T21:34:38.717Z"
   },
   {
    "duration": 108,
    "start_time": "2021-12-14T21:34:38.728Z"
   },
   {
    "duration": 12,
    "start_time": "2021-12-14T21:34:38.838Z"
   },
   {
    "duration": 67,
    "start_time": "2021-12-14T21:34:38.851Z"
   },
   {
    "duration": 5,
    "start_time": "2021-12-14T21:34:38.919Z"
   },
   {
    "duration": 14,
    "start_time": "2021-12-14T21:34:38.926Z"
   },
   {
    "duration": 12,
    "start_time": "2021-12-14T21:34:38.941Z"
   },
   {
    "duration": 11,
    "start_time": "2021-12-14T21:34:38.954Z"
   },
   {
    "duration": 54,
    "start_time": "2021-12-14T21:34:38.967Z"
   },
   {
    "duration": 17,
    "start_time": "2021-12-14T21:34:39.023Z"
   },
   {
    "duration": 4,
    "start_time": "2021-12-14T21:34:39.041Z"
   },
   {
    "duration": 1245,
    "start_time": "2021-12-14T21:34:39.047Z"
   },
   {
    "duration": 1338,
    "start_time": "2021-12-14T21:34:40.294Z"
   },
   {
    "duration": 3220,
    "start_time": "2021-12-14T21:34:41.634Z"
   },
   {
    "duration": 5,
    "start_time": "2021-12-14T21:34:44.856Z"
   },
   {
    "duration": 10,
    "start_time": "2021-12-14T21:34:44.865Z"
   },
   {
    "duration": 32,
    "start_time": "2021-12-14T21:34:44.879Z"
   },
   {
    "duration": 6,
    "start_time": "2021-12-14T21:34:44.913Z"
   },
   {
    "duration": 21,
    "start_time": "2021-12-14T21:34:44.921Z"
   },
   {
    "duration": 24,
    "start_time": "2021-12-14T21:34:44.943Z"
   },
   {
    "duration": 742,
    "start_time": "2021-12-14T21:34:44.969Z"
   },
   {
    "duration": 3917,
    "start_time": "2021-12-14T21:34:45.712Z"
   },
   {
    "duration": 226,
    "start_time": "2021-12-14T21:34:49.631Z"
   },
   {
    "duration": 3791,
    "start_time": "2021-12-14T21:34:49.858Z"
   },
   {
    "duration": 3,
    "start_time": "2021-12-14T21:34:53.651Z"
   },
   {
    "duration": 7,
    "start_time": "2021-12-14T21:34:53.656Z"
   },
   {
    "duration": 15,
    "start_time": "2021-12-14T21:34:53.665Z"
   },
   {
    "duration": 9,
    "start_time": "2021-12-14T21:34:53.682Z"
   },
   {
    "duration": 15,
    "start_time": "2021-12-14T21:34:53.693Z"
   },
   {
    "duration": 11,
    "start_time": "2021-12-14T21:34:53.710Z"
   },
   {
    "duration": 1791,
    "start_time": "2021-12-14T21:34:53.723Z"
   },
   {
    "duration": 405,
    "start_time": "2021-12-14T21:34:55.516Z"
   },
   {
    "duration": 1035,
    "start_time": "2021-12-14T21:34:55.923Z"
   },
   {
    "duration": 2811,
    "start_time": "2021-12-14T21:34:56.959Z"
   },
   {
    "duration": 7669,
    "start_time": "2021-12-14T21:34:59.772Z"
   },
   {
    "duration": 848,
    "start_time": "2021-12-14T21:35:07.443Z"
   },
   {
    "duration": 144417,
    "start_time": "2021-12-14T21:35:08.292Z"
   },
   {
    "duration": 4,
    "start_time": "2021-12-14T21:37:32.711Z"
   },
   {
    "duration": 39843,
    "start_time": "2021-12-14T21:37:32.717Z"
   },
   {
    "duration": 3,
    "start_time": "2021-12-14T21:38:12.562Z"
   },
   {
    "duration": 96,
    "start_time": "2021-12-14T21:38:12.567Z"
   },
   {
    "duration": 342,
    "start_time": "2021-12-14T21:38:12.665Z"
   },
   {
    "duration": 4,
    "start_time": "2021-12-14T21:38:13.009Z"
   },
   {
    "duration": 2308,
    "start_time": "2021-12-14T21:38:13.015Z"
   },
   {
    "duration": 5566,
    "start_time": "2021-12-14T21:38:15.325Z"
   },
   {
    "duration": 86,
    "start_time": "2021-12-14T21:38:20.894Z"
   },
   {
    "duration": 95,
    "start_time": "2021-12-14T21:38:20.982Z"
   },
   {
    "duration": 5,
    "start_time": "2021-12-14T21:38:21.080Z"
   },
   {
    "duration": 24,
    "start_time": "2021-12-14T21:38:21.087Z"
   },
   {
    "duration": 6,
    "start_time": "2021-12-14T21:38:21.113Z"
   },
   {
    "duration": 13,
    "start_time": "2021-12-14T21:38:21.121Z"
   },
   {
    "duration": 25,
    "start_time": "2021-12-14T21:38:21.136Z"
   },
   {
    "duration": 58648,
    "start_time": "2021-12-14T21:38:21.163Z"
   },
   {
    "duration": 106,
    "start_time": "2021-12-14T21:39:19.813Z"
   },
   {
    "duration": 12225,
    "start_time": "2021-12-14T21:39:19.921Z"
   },
   {
    "duration": 16,
    "start_time": "2021-12-14T21:39:32.149Z"
   },
   {
    "duration": 8,
    "start_time": "2021-12-14T21:39:32.167Z"
   },
   {
    "duration": 21,
    "start_time": "2021-12-14T21:39:32.177Z"
   },
   {
    "duration": 2719,
    "start_time": "2021-12-14T21:39:32.200Z"
   },
   {
    "duration": 7,
    "start_time": "2021-12-14T21:39:35.005Z"
   },
   {
    "duration": 69877,
    "start_time": "2021-12-14T21:39:35.015Z"
   },
   {
    "duration": 49149,
    "start_time": "2021-12-14T21:40:44.894Z"
   },
   {
    "duration": 561,
    "start_time": "2021-12-14T21:41:34.045Z"
   },
   {
    "duration": 1908,
    "start_time": "2021-12-14T21:41:34.608Z"
   },
   {
    "duration": 217,
    "start_time": "2021-12-14T21:41:36.607Z"
   },
   {
    "duration": 382,
    "start_time": "2021-12-14T21:41:36.826Z"
   },
   {
    "duration": 24808,
    "start_time": "2021-12-14T21:41:37.210Z"
   },
   {
    "duration": 4,
    "start_time": "2021-12-14T21:42:02.020Z"
   },
   {
    "duration": 2988,
    "start_time": "2021-12-14T21:42:02.026Z"
   },
   {
    "duration": 3,
    "start_time": "2021-12-14T21:42:05.021Z"
   },
   {
    "duration": 16,
    "start_time": "2021-12-14T21:42:05.026Z"
   },
   {
    "duration": 4,
    "start_time": "2021-12-14T21:42:05.044Z"
   },
   {
    "duration": 11,
    "start_time": "2021-12-14T21:42:05.050Z"
   },
   {
    "duration": 6,
    "start_time": "2021-12-14T21:42:05.063Z"
   },
   {
    "duration": 36,
    "start_time": "2021-12-14T21:42:05.071Z"
   },
   {
    "duration": 207,
    "start_time": "2021-12-14T21:42:05.109Z"
   },
   {
    "duration": 37,
    "start_time": "2021-12-14T21:42:05.319Z"
   },
   {
    "duration": 11,
    "start_time": "2021-12-14T21:42:05.358Z"
   },
   {
    "duration": 11,
    "start_time": "2021-12-14T21:42:05.372Z"
   },
   {
    "duration": 30,
    "start_time": "2021-12-14T21:42:05.385Z"
   },
   {
    "duration": 1320,
    "start_time": "2021-12-14T21:42:05.418Z"
   },
   {
    "duration": 383,
    "start_time": "2021-12-14T21:42:06.741Z"
   },
   {
    "duration": 90,
    "start_time": "2021-12-14T21:42:07.126Z"
   },
   {
    "duration": 3782,
    "start_time": "2021-12-14T21:42:07.218Z"
   },
   {
    "duration": 156,
    "start_time": "2021-12-14T21:42:11.002Z"
   },
   {
    "duration": 7,
    "start_time": "2021-12-14T21:42:11.161Z"
   },
   {
    "duration": 36,
    "start_time": "2021-12-14T21:42:11.170Z"
   },
   {
    "duration": 7,
    "start_time": "2021-12-14T21:42:11.208Z"
   },
   {
    "duration": 12,
    "start_time": "2021-12-14T21:42:11.217Z"
   },
   {
    "duration": 828,
    "start_time": "2021-12-14T21:42:11.230Z"
   },
   {
    "duration": 1284,
    "start_time": "2021-12-14T21:42:12.060Z"
   },
   {
    "duration": 11,
    "start_time": "2021-12-14T21:42:13.346Z"
   },
   {
    "duration": 16,
    "start_time": "2021-12-14T22:01:31.723Z"
   },
   {
    "duration": -115,
    "start_time": "2021-12-14T22:03:28.458Z"
   },
   {
    "duration": 12,
    "start_time": "2021-12-14T22:03:33.925Z"
   },
   {
    "duration": 4,
    "start_time": "2021-12-14T22:03:41.619Z"
   },
   {
    "duration": 20,
    "start_time": "2021-12-14T22:03:47.527Z"
   },
   {
    "duration": 21203,
    "start_time": "2021-12-14T22:04:34.010Z"
   },
   {
    "duration": 4,
    "start_time": "2021-12-14T22:05:23.545Z"
   },
   {
    "duration": 1810,
    "start_time": "2021-12-14T22:06:12.207Z"
   },
   {
    "duration": 343,
    "start_time": "2021-12-14T22:06:31.245Z"
   },
   {
    "duration": 2278,
    "start_time": "2021-12-14T22:09:31.093Z"
   },
   {
    "duration": 2654,
    "start_time": "2021-12-14T22:09:42.720Z"
   },
   {
    "duration": 2429,
    "start_time": "2021-12-14T22:11:08.679Z"
   },
   {
    "duration": 4,
    "start_time": "2021-12-14T22:11:17.809Z"
   },
   {
    "duration": 47,
    "start_time": "2021-12-14T22:11:25.174Z"
   },
   {
    "duration": 4,
    "start_time": "2021-12-14T22:12:40.817Z"
   },
   {
    "duration": 4,
    "start_time": "2021-12-14T22:13:41.362Z"
   },
   {
    "duration": 8,
    "start_time": "2021-12-14T22:13:46.713Z"
   },
   {
    "duration": 5,
    "start_time": "2021-12-14T22:14:03.532Z"
   },
   {
    "duration": 353,
    "start_time": "2021-12-14T22:14:43.221Z"
   },
   {
    "duration": 35,
    "start_time": "2021-12-14T22:15:53.876Z"
   },
   {
    "duration": 16,
    "start_time": "2021-12-14T22:16:20.977Z"
   },
   {
    "duration": 17,
    "start_time": "2021-12-14T22:16:37.428Z"
   },
   {
    "duration": 9,
    "start_time": "2021-12-14T22:17:17.134Z"
   },
   {
    "duration": 7,
    "start_time": "2021-12-14T22:17:26.130Z"
   },
   {
    "duration": 13,
    "start_time": "2021-12-14T22:18:11.452Z"
   },
   {
    "duration": 7,
    "start_time": "2021-12-14T22:18:52.206Z"
   },
   {
    "duration": 11,
    "start_time": "2021-12-14T22:19:02.296Z"
   },
   {
    "duration": 165,
    "start_time": "2021-12-14T22:19:30.440Z"
   },
   {
    "duration": 24,
    "start_time": "2021-12-14T22:29:42.825Z"
   },
   {
    "duration": 30,
    "start_time": "2021-12-14T22:31:25.971Z"
   },
   {
    "duration": 31,
    "start_time": "2021-12-14T22:39:39.833Z"
   },
   {
    "duration": 45,
    "start_time": "2021-12-14T22:40:59.124Z"
   },
   {
    "duration": 5,
    "start_time": "2021-12-14T22:41:22.519Z"
   },
   {
    "duration": 358,
    "start_time": "2021-12-14T22:42:47.000Z"
   },
   {
    "duration": 4,
    "start_time": "2021-12-14T22:42:50.634Z"
   },
   {
    "duration": 24,
    "start_time": "2021-12-14T22:42:58.583Z"
   },
   {
    "duration": 26,
    "start_time": "2021-12-14T22:43:39.106Z"
   },
   {
    "duration": 4,
    "start_time": "2021-12-14T22:43:53.975Z"
   },
   {
    "duration": 8,
    "start_time": "2021-12-14T22:46:47.827Z"
   },
   {
    "duration": 7,
    "start_time": "2021-12-14T22:46:54.022Z"
   },
   {
    "duration": 8,
    "start_time": "2021-12-14T22:47:05.216Z"
   },
   {
    "duration": 7,
    "start_time": "2021-12-14T22:47:39.991Z"
   },
   {
    "duration": 1423,
    "start_time": "2021-12-14T22:47:56.384Z"
   },
   {
    "duration": 406,
    "start_time": "2021-12-14T22:48:15.700Z"
   },
   {
    "duration": 3189,
    "start_time": "2021-12-14T22:48:59.287Z"
   },
   {
    "duration": 3102,
    "start_time": "2021-12-14T22:49:35.482Z"
   },
   {
    "duration": 98,
    "start_time": "2021-12-14T22:49:52.520Z"
   },
   {
    "duration": 2058,
    "start_time": "2021-12-14T23:00:32.658Z"
   },
   {
    "duration": 5,
    "start_time": "2021-12-14T23:00:34.719Z"
   },
   {
    "duration": 217,
    "start_time": "2021-12-14T23:00:34.726Z"
   },
   {
    "duration": 6,
    "start_time": "2021-12-14T23:00:36.122Z"
   },
   {
    "duration": 9,
    "start_time": "2021-12-14T23:00:44.512Z"
   },
   {
    "duration": 6,
    "start_time": "2021-12-14T23:00:45.882Z"
   },
   {
    "duration": 6,
    "start_time": "2021-12-14T23:01:10.608Z"
   },
   {
    "duration": 4,
    "start_time": "2021-12-14T23:01:14.754Z"
   },
   {
    "duration": 6,
    "start_time": "2021-12-14T23:01:38.559Z"
   },
   {
    "duration": 1801,
    "start_time": "2021-12-14T23:01:48.104Z"
   },
   {
    "duration": 7,
    "start_time": "2021-12-14T23:01:49.908Z"
   },
   {
    "duration": 46,
    "start_time": "2021-12-14T23:01:50.682Z"
   },
   {
    "duration": 5,
    "start_time": "2021-12-14T23:01:53.011Z"
   },
   {
    "duration": 9,
    "start_time": "2021-12-14T23:01:54.798Z"
   },
   {
    "duration": 6,
    "start_time": "2021-12-14T23:01:55.540Z"
   },
   {
    "duration": 14,
    "start_time": "2021-12-14T23:02:02.623Z"
   },
   {
    "duration": 9,
    "start_time": "2021-12-14T23:02:17.049Z"
   },
   {
    "duration": 10,
    "start_time": "2021-12-14T23:02:18.273Z"
   },
   {
    "duration": 168,
    "start_time": "2021-12-14T23:02:34.509Z"
   },
   {
    "duration": 32,
    "start_time": "2021-12-14T23:04:07.447Z"
   },
   {
    "duration": 3,
    "start_time": "2021-12-14T23:04:23.499Z"
   },
   {
    "duration": 27,
    "start_time": "2021-12-14T23:04:25.066Z"
   },
   {
    "duration": 5,
    "start_time": "2021-12-14T23:04:36.167Z"
   },
   {
    "duration": 8,
    "start_time": "2021-12-14T23:04:39.503Z"
   },
   {
    "duration": 7,
    "start_time": "2021-12-14T23:04:40.280Z"
   },
   {
    "duration": 6,
    "start_time": "2021-12-14T23:04:50.849Z"
   },
   {
    "duration": 7,
    "start_time": "2021-12-14T23:04:57.901Z"
   },
   {
    "duration": 1200,
    "start_time": "2021-12-14T23:05:08.538Z"
   },
   {
    "duration": 298,
    "start_time": "2021-12-14T23:05:20.841Z"
   },
   {
    "duration": 3310,
    "start_time": "2021-12-14T23:05:34.955Z"
   },
   {
    "duration": 114,
    "start_time": "2021-12-14T23:05:48.696Z"
   },
   {
    "duration": 5,
    "start_time": "2021-12-14T23:07:36.250Z"
   },
   {
    "duration": 2926,
    "start_time": "2021-12-14T23:07:44.680Z"
   },
   {
    "duration": 5,
    "start_time": "2021-12-14T23:07:47.609Z"
   },
   {
    "duration": 44,
    "start_time": "2021-12-14T23:07:49.978Z"
   },
   {
    "duration": 6,
    "start_time": "2021-12-14T23:07:50.440Z"
   },
   {
    "duration": 20,
    "start_time": "2021-12-14T23:07:53.288Z"
   },
   {
    "duration": 8,
    "start_time": "2021-12-14T23:07:53.754Z"
   },
   {
    "duration": 18,
    "start_time": "2021-12-14T23:07:57.963Z"
   },
   {
    "duration": 10,
    "start_time": "2021-12-14T23:08:01.497Z"
   },
   {
    "duration": 14,
    "start_time": "2021-12-14T23:08:03.650Z"
   },
   {
    "duration": 174,
    "start_time": "2021-12-14T23:08:15.264Z"
   },
   {
    "duration": 50,
    "start_time": "2021-12-14T23:09:05.535Z"
   },
   {
    "duration": 4,
    "start_time": "2021-12-14T23:10:04.684Z"
   },
   {
    "duration": 38,
    "start_time": "2021-12-14T23:10:05.403Z"
   },
   {
    "duration": 6,
    "start_time": "2021-12-14T23:10:18.586Z"
   },
   {
    "duration": 10,
    "start_time": "2021-12-14T23:10:24.879Z"
   },
   {
    "duration": 7,
    "start_time": "2021-12-14T23:10:25.421Z"
   },
   {
    "duration": 6,
    "start_time": "2021-12-14T23:10:26.397Z"
   },
   {
    "duration": 7,
    "start_time": "2021-12-14T23:10:31.703Z"
   },
   {
    "duration": 1632,
    "start_time": "2021-12-14T23:10:37.580Z"
   },
   {
    "duration": 383,
    "start_time": "2021-12-14T23:10:44.130Z"
   },
   {
    "duration": 3249,
    "start_time": "2021-12-14T23:11:02.508Z"
   },
   {
    "duration": 111,
    "start_time": "2021-12-14T23:11:09.773Z"
   },
   {
    "duration": 1327,
    "start_time": "2021-12-14T23:14:05.164Z"
   },
   {
    "duration": 113319,
    "start_time": "2021-12-14T23:15:52.236Z"
   },
   {
    "duration": 3240,
    "start_time": "2021-12-14T23:17:56.663Z"
   },
   {
    "duration": 44501,
    "start_time": "2021-12-14T23:18:05.755Z"
   },
   {
    "duration": 4568,
    "start_time": "2021-12-15T08:36:32.822Z"
   },
   {
    "duration": 1528,
    "start_time": "2021-12-15T08:36:37.393Z"
   },
   {
    "duration": 97,
    "start_time": "2021-12-15T08:36:38.924Z"
   },
   {
    "duration": 5,
    "start_time": "2021-12-15T08:36:39.024Z"
   },
   {
    "duration": 80,
    "start_time": "2021-12-15T08:36:39.031Z"
   },
   {
    "duration": 24,
    "start_time": "2021-12-15T08:36:39.113Z"
   },
   {
    "duration": 48,
    "start_time": "2021-12-15T08:36:39.139Z"
   },
   {
    "duration": 24,
    "start_time": "2021-12-15T08:36:39.193Z"
   },
   {
    "duration": 13,
    "start_time": "2021-12-15T08:36:39.221Z"
   },
   {
    "duration": 12,
    "start_time": "2021-12-15T08:36:39.274Z"
   },
   {
    "duration": 89,
    "start_time": "2021-12-15T08:36:39.288Z"
   },
   {
    "duration": 13,
    "start_time": "2021-12-15T08:36:39.379Z"
   },
   {
    "duration": 120,
    "start_time": "2021-12-15T08:36:39.394Z"
   },
   {
    "duration": 58,
    "start_time": "2021-12-15T08:36:39.516Z"
   },
   {
    "duration": 48,
    "start_time": "2021-12-15T08:36:39.577Z"
   },
   {
    "duration": 7,
    "start_time": "2021-12-15T08:36:39.628Z"
   },
   {
    "duration": 22,
    "start_time": "2021-12-15T08:36:39.676Z"
   },
   {
    "duration": 17,
    "start_time": "2021-12-15T08:36:39.700Z"
   },
   {
    "duration": 17,
    "start_time": "2021-12-15T08:36:39.720Z"
   },
   {
    "duration": 58,
    "start_time": "2021-12-15T08:36:39.739Z"
   },
   {
    "duration": 23,
    "start_time": "2021-12-15T08:36:39.800Z"
   },
   {
    "duration": 5,
    "start_time": "2021-12-15T08:36:39.825Z"
   },
   {
    "duration": 2121,
    "start_time": "2021-12-15T08:36:39.836Z"
   },
   {
    "duration": 2261,
    "start_time": "2021-12-15T08:36:41.969Z"
   },
   {
    "duration": 5587,
    "start_time": "2021-12-15T08:36:44.232Z"
   },
   {
    "duration": 8,
    "start_time": "2021-12-15T08:36:49.821Z"
   },
   {
    "duration": 45,
    "start_time": "2021-12-15T08:36:49.831Z"
   },
   {
    "duration": 13,
    "start_time": "2021-12-15T08:36:49.879Z"
   },
   {
    "duration": 26,
    "start_time": "2021-12-15T08:36:49.894Z"
   },
   {
    "duration": 61,
    "start_time": "2021-12-15T08:36:49.923Z"
   },
   {
    "duration": 45,
    "start_time": "2021-12-15T08:36:49.988Z"
   },
   {
    "duration": 1246,
    "start_time": "2021-12-15T08:36:50.036Z"
   },
   {
    "duration": 4081,
    "start_time": "2021-12-15T08:36:51.284Z"
   },
   {
    "duration": 323,
    "start_time": "2021-12-15T08:36:55.369Z"
   },
   {
    "duration": 5348,
    "start_time": "2021-12-15T08:36:55.694Z"
   },
   {
    "duration": 4,
    "start_time": "2021-12-15T08:37:01.044Z"
   },
   {
    "duration": 75,
    "start_time": "2021-12-15T08:37:01.050Z"
   },
   {
    "duration": 28,
    "start_time": "2021-12-15T08:37:01.127Z"
   },
   {
    "duration": 56,
    "start_time": "2021-12-15T08:37:01.157Z"
   },
   {
    "duration": 27,
    "start_time": "2021-12-15T08:37:01.216Z"
   },
   {
    "duration": 36,
    "start_time": "2021-12-15T08:37:01.245Z"
   },
   {
    "duration": 2772,
    "start_time": "2021-12-15T08:37:01.284Z"
   },
   {
    "duration": 656,
    "start_time": "2021-12-15T08:37:04.058Z"
   },
   {
    "duration": 1740,
    "start_time": "2021-12-15T08:37:04.717Z"
   },
   {
    "duration": 4398,
    "start_time": "2021-12-15T08:37:06.459Z"
   },
   {
    "duration": 12007,
    "start_time": "2021-12-15T08:37:10.860Z"
   },
   {
    "duration": 855,
    "start_time": "2021-12-15T08:37:22.870Z"
   },
   {
    "duration": 115737,
    "start_time": "2021-12-15T08:37:23.728Z"
   },
   {
    "duration": 5,
    "start_time": "2021-12-15T08:39:19.467Z"
   },
   {
    "duration": 37116,
    "start_time": "2021-12-15T08:39:19.475Z"
   },
   {
    "duration": 5,
    "start_time": "2021-12-15T08:39:56.593Z"
   },
   {
    "duration": 152,
    "start_time": "2021-12-15T08:39:56.600Z"
   },
   {
    "duration": 29,
    "start_time": "2021-12-15T08:39:56.755Z"
   },
   {
    "duration": 5,
    "start_time": "2021-12-15T08:39:56.786Z"
   },
   {
    "duration": 3907,
    "start_time": "2021-12-15T08:39:56.793Z"
   },
   {
    "duration": 6287,
    "start_time": "2021-12-15T08:40:00.702Z"
   },
   {
    "duration": 102,
    "start_time": "2021-12-15T08:40:06.991Z"
   },
   {
    "duration": 95,
    "start_time": "2021-12-15T08:40:07.095Z"
   },
   {
    "duration": 3,
    "start_time": "2021-12-15T08:40:07.193Z"
   },
   {
    "duration": 15,
    "start_time": "2021-12-15T08:40:07.199Z"
   },
   {
    "duration": 26,
    "start_time": "2021-12-15T08:40:07.217Z"
   },
   {
    "duration": 42,
    "start_time": "2021-12-15T08:40:07.245Z"
   },
   {
    "duration": 28,
    "start_time": "2021-12-15T08:40:07.290Z"
   },
   {
    "duration": 51369,
    "start_time": "2021-12-15T08:40:07.321Z"
   },
   {
    "duration": 161,
    "start_time": "2021-12-15T08:40:58.693Z"
   },
   {
    "duration": 11059,
    "start_time": "2021-12-15T08:40:58.856Z"
   },
   {
    "duration": 103,
    "start_time": "2021-12-15T08:41:09.918Z"
   },
   {
    "duration": 8,
    "start_time": "2021-12-15T08:41:10.030Z"
   },
   {
    "duration": 29,
    "start_time": "2021-12-15T08:41:10.042Z"
   },
   {
    "duration": 2913,
    "start_time": "2021-12-15T08:41:10.074Z"
   },
   {
    "duration": 9,
    "start_time": "2021-12-15T08:41:13.076Z"
   },
   {
    "duration": 72464,
    "start_time": "2021-12-15T08:41:13.087Z"
   },
   {
    "duration": 783,
    "start_time": "2021-12-15T08:42:25.554Z"
   },
   {
    "duration": 2242,
    "start_time": "2021-12-15T08:42:26.340Z"
   },
   {
    "duration": 16,
    "start_time": "2021-12-15T08:42:28.586Z"
   },
   {
    "duration": 22835,
    "start_time": "2021-12-15T08:42:28.605Z"
   },
   {
    "duration": 6,
    "start_time": "2021-12-15T08:42:51.443Z"
   },
   {
    "duration": 2417,
    "start_time": "2021-12-15T08:42:51.451Z"
   },
   {
    "duration": 94,
    "start_time": "2021-12-15T08:42:53.874Z"
   },
   {
    "duration": 85,
    "start_time": "2021-12-15T08:42:53.971Z"
   },
   {
    "duration": 13,
    "start_time": "2021-12-15T08:42:54.059Z"
   },
   {
    "duration": 37,
    "start_time": "2021-12-15T08:42:54.075Z"
   },
   {
    "duration": 11,
    "start_time": "2021-12-15T08:42:54.116Z"
   },
   {
    "duration": 47,
    "start_time": "2021-12-15T08:42:54.130Z"
   },
   {
    "duration": 13,
    "start_time": "2021-12-15T08:42:54.180Z"
   },
   {
    "duration": 34,
    "start_time": "2021-12-15T08:42:54.196Z"
   },
   {
    "duration": 320,
    "start_time": "2021-12-15T08:42:54.233Z"
   },
   {
    "duration": 64,
    "start_time": "2021-12-15T08:42:54.556Z"
   },
   {
    "duration": 5,
    "start_time": "2021-12-15T08:42:54.622Z"
   },
   {
    "duration": 71,
    "start_time": "2021-12-15T08:42:54.629Z"
   },
   {
    "duration": 18,
    "start_time": "2021-12-15T08:42:54.702Z"
   },
   {
    "duration": 38,
    "start_time": "2021-12-15T08:42:54.722Z"
   },
   {
    "duration": 31,
    "start_time": "2021-12-15T08:42:54.762Z"
   },
   {
    "duration": 35,
    "start_time": "2021-12-15T08:42:54.795Z"
   },
   {
    "duration": 29,
    "start_time": "2021-12-15T08:42:54.833Z"
   },
   {
    "duration": 2004,
    "start_time": "2021-12-15T08:42:54.864Z"
   },
   {
    "duration": 398,
    "start_time": "2021-12-15T08:42:56.873Z"
   },
   {
    "duration": 464,
    "start_time": "2021-12-15T08:42:57.276Z"
   },
   {
    "duration": -1912,
    "start_time": "2021-12-15T08:42:59.655Z"
   },
   {
    "duration": -1913,
    "start_time": "2021-12-15T08:42:59.658Z"
   },
   {
    "duration": -1914,
    "start_time": "2021-12-15T08:42:59.660Z"
   },
   {
    "duration": -1914,
    "start_time": "2021-12-15T08:42:59.662Z"
   },
   {
    "duration": -1965,
    "start_time": "2021-12-15T08:42:59.714Z"
   },
   {
    "duration": -1965,
    "start_time": "2021-12-15T08:42:59.716Z"
   },
   {
    "duration": -1966,
    "start_time": "2021-12-15T08:42:59.718Z"
   },
   {
    "duration": -1966,
    "start_time": "2021-12-15T08:42:59.720Z"
   },
   {
    "duration": -1968,
    "start_time": "2021-12-15T08:42:59.723Z"
   },
   {
    "duration": -1968,
    "start_time": "2021-12-15T08:42:59.725Z"
   },
   {
    "duration": -1969,
    "start_time": "2021-12-15T08:42:59.728Z"
   },
   {
    "duration": 133,
    "start_time": "2021-12-15T09:17:20.949Z"
   },
   {
    "duration": 86,
    "start_time": "2021-12-15T09:17:25.617Z"
   },
   {
    "duration": 37,
    "start_time": "2021-12-15T09:17:27.521Z"
   },
   {
    "duration": 545,
    "start_time": "2021-12-15T09:17:49.403Z"
   },
   {
    "duration": 8,
    "start_time": "2021-12-15T09:17:54.047Z"
   },
   {
    "duration": 8,
    "start_time": "2021-12-15T09:18:00.704Z"
   },
   {
    "duration": 6,
    "start_time": "2021-12-15T09:19:28.988Z"
   },
   {
    "duration": 566,
    "start_time": "2021-12-15T09:19:33.718Z"
   },
   {
    "duration": 14,
    "start_time": "2021-12-15T09:19:44.847Z"
   },
   {
    "duration": 27,
    "start_time": "2021-12-15T09:19:47.604Z"
   },
   {
    "duration": 10,
    "start_time": "2021-12-15T09:19:50.434Z"
   },
   {
    "duration": 46913,
    "start_time": "2021-12-15T09:20:10.357Z"
   },
   {
    "duration": 159,
    "start_time": "2021-12-15T09:21:09.096Z"
   },
   {
    "duration": 312,
    "start_time": "2021-12-15T09:38:01.363Z"
   },
   {
    "duration": 314,
    "start_time": "2021-12-15T09:38:12.958Z"
   },
   {
    "duration": 373,
    "start_time": "2021-12-15T09:38:29.902Z"
   },
   {
    "duration": 56,
    "start_time": "2021-12-15T09:48:50.572Z"
   },
   {
    "duration": 13,
    "start_time": "2021-12-15T09:48:58.865Z"
   },
   {
    "duration": 17,
    "start_time": "2021-12-15T09:50:43.776Z"
   },
   {
    "duration": 9,
    "start_time": "2021-12-15T10:10:29.349Z"
   },
   {
    "duration": 305,
    "start_time": "2021-12-15T10:10:49.806Z"
   },
   {
    "duration": 8,
    "start_time": "2021-12-15T10:11:13.184Z"
   },
   {
    "duration": 1781,
    "start_time": "2021-12-15T10:11:15.104Z"
   },
   {
    "duration": 6,
    "start_time": "2021-12-15T10:11:45.226Z"
   },
   {
    "duration": 5,
    "start_time": "2021-12-15T10:27:48.525Z"
   },
   {
    "duration": 7,
    "start_time": "2021-12-15T10:27:57.223Z"
   },
   {
    "duration": 10,
    "start_time": "2021-12-15T10:28:10.070Z"
   },
   {
    "duration": 8,
    "start_time": "2021-12-15T10:29:06.783Z"
   },
   {
    "duration": 4179,
    "start_time": "2021-12-16T17:43:12.618Z"
   },
   {
    "duration": 1597,
    "start_time": "2021-12-16T17:43:16.800Z"
   },
   {
    "duration": 111,
    "start_time": "2021-12-16T17:43:18.400Z"
   },
   {
    "duration": 4,
    "start_time": "2021-12-16T17:43:18.514Z"
   },
   {
    "duration": 55,
    "start_time": "2021-12-16T17:43:18.519Z"
   },
   {
    "duration": 16,
    "start_time": "2021-12-16T17:43:18.576Z"
   },
   {
    "duration": 14,
    "start_time": "2021-12-16T17:43:18.594Z"
   },
   {
    "duration": 52,
    "start_time": "2021-12-16T17:43:18.610Z"
   },
   {
    "duration": 27,
    "start_time": "2021-12-16T17:43:18.664Z"
   },
   {
    "duration": 8,
    "start_time": "2021-12-16T17:43:18.693Z"
   },
   {
    "duration": 59,
    "start_time": "2021-12-16T17:43:18.703Z"
   },
   {
    "duration": 12,
    "start_time": "2021-12-16T17:43:18.764Z"
   },
   {
    "duration": 108,
    "start_time": "2021-12-16T17:43:18.778Z"
   },
   {
    "duration": 14,
    "start_time": "2021-12-16T17:43:18.887Z"
   },
   {
    "duration": 77,
    "start_time": "2021-12-16T17:43:18.903Z"
   },
   {
    "duration": 5,
    "start_time": "2021-12-16T17:43:18.982Z"
   },
   {
    "duration": 29,
    "start_time": "2021-12-16T17:43:18.989Z"
   },
   {
    "duration": 30,
    "start_time": "2021-12-16T17:43:19.020Z"
   },
   {
    "duration": 10,
    "start_time": "2021-12-16T17:43:19.052Z"
   },
   {
    "duration": 36,
    "start_time": "2021-12-16T17:43:19.064Z"
   },
   {
    "duration": 39,
    "start_time": "2021-12-16T17:43:19.102Z"
   },
   {
    "duration": 4,
    "start_time": "2021-12-16T17:43:19.143Z"
   },
   {
    "duration": 1641,
    "start_time": "2021-12-16T17:43:19.152Z"
   },
   {
    "duration": 2096,
    "start_time": "2021-12-16T17:43:20.797Z"
   },
   {
    "duration": 4267,
    "start_time": "2021-12-16T17:43:22.895Z"
   },
   {
    "duration": 6,
    "start_time": "2021-12-16T17:43:27.164Z"
   },
   {
    "duration": 22,
    "start_time": "2021-12-16T17:43:27.172Z"
   },
   {
    "duration": 15,
    "start_time": "2021-12-16T17:43:27.195Z"
   },
   {
    "duration": 8,
    "start_time": "2021-12-16T17:43:27.212Z"
   },
   {
    "duration": 49,
    "start_time": "2021-12-16T17:43:27.222Z"
   },
   {
    "duration": 34,
    "start_time": "2021-12-16T17:43:27.273Z"
   },
   {
    "duration": 1043,
    "start_time": "2021-12-16T17:43:27.309Z"
   },
   {
    "duration": 3534,
    "start_time": "2021-12-16T17:43:28.354Z"
   },
   {
    "duration": 90,
    "start_time": "2021-12-16T17:43:31.891Z"
   },
   {
    "duration": 3914,
    "start_time": "2021-12-16T17:43:31.983Z"
   },
   {
    "duration": 3,
    "start_time": "2021-12-16T17:43:35.899Z"
   },
   {
    "duration": 34,
    "start_time": "2021-12-16T17:43:35.903Z"
   },
   {
    "duration": 55,
    "start_time": "2021-12-16T17:43:35.939Z"
   },
   {
    "duration": 26,
    "start_time": "2021-12-16T17:43:35.996Z"
   },
   {
    "duration": 11,
    "start_time": "2021-12-16T17:43:36.023Z"
   },
   {
    "duration": 36,
    "start_time": "2021-12-16T17:43:36.035Z"
   },
   {
    "duration": 1773,
    "start_time": "2021-12-16T17:43:36.073Z"
   },
   {
    "duration": 420,
    "start_time": "2021-12-16T17:43:37.848Z"
   },
   {
    "duration": 1071,
    "start_time": "2021-12-16T17:43:38.270Z"
   },
   {
    "duration": 2918,
    "start_time": "2021-12-16T17:43:39.345Z"
   },
   {
    "duration": 7674,
    "start_time": "2021-12-16T17:43:42.265Z"
   },
   {
    "duration": 22,
    "start_time": "2021-12-16T17:43:49.944Z"
   },
   {
    "duration": 137574,
    "start_time": "2021-12-16T17:43:49.968Z"
   },
   {
    "duration": 4,
    "start_time": "2021-12-16T17:46:07.544Z"
   },
   {
    "duration": 39807,
    "start_time": "2021-12-16T17:46:07.550Z"
   },
   {
    "duration": 3,
    "start_time": "2021-12-16T17:46:47.359Z"
   },
   {
    "duration": 103,
    "start_time": "2021-12-16T17:46:47.364Z"
   },
   {
    "duration": 23,
    "start_time": "2021-12-16T17:46:47.469Z"
   },
   {
    "duration": 4,
    "start_time": "2021-12-16T17:46:47.494Z"
   },
   {
    "duration": 3519,
    "start_time": "2021-12-16T17:46:47.501Z"
   },
   {
    "duration": 5351,
    "start_time": "2021-12-16T17:46:51.022Z"
   },
   {
    "duration": 83,
    "start_time": "2021-12-16T17:46:56.375Z"
   },
   {
    "duration": 70,
    "start_time": "2021-12-16T17:46:56.460Z"
   },
   {
    "duration": 3,
    "start_time": "2021-12-16T17:46:56.544Z"
   },
   {
    "duration": 9,
    "start_time": "2021-12-16T17:46:56.550Z"
   },
   {
    "duration": 7,
    "start_time": "2021-12-16T17:46:56.561Z"
   },
   {
    "duration": 17,
    "start_time": "2021-12-16T17:46:56.570Z"
   },
   {
    "duration": 24,
    "start_time": "2021-12-16T17:46:56.589Z"
   },
   {
    "duration": 30,
    "start_time": "2021-12-16T17:46:56.616Z"
   },
   {
    "duration": 54200,
    "start_time": "2021-12-16T17:46:56.647Z"
   },
   {
    "duration": 101,
    "start_time": "2021-12-16T17:47:50.849Z"
   },
   {
    "duration": 8347,
    "start_time": "2021-12-16T17:47:50.952Z"
   },
   {
    "duration": 17,
    "start_time": "2021-12-16T17:47:59.307Z"
   },
   {
    "duration": 23,
    "start_time": "2021-12-16T17:47:59.327Z"
   },
   {
    "duration": 452,
    "start_time": "2021-12-16T17:47:59.352Z"
   },
   {
    "duration": -2418,
    "start_time": "2021-12-16T17:48:02.224Z"
   },
   {
    "duration": -2420,
    "start_time": "2021-12-16T17:48:02.227Z"
   },
   {
    "duration": -2458,
    "start_time": "2021-12-16T17:48:02.266Z"
   },
   {
    "duration": -2459,
    "start_time": "2021-12-16T17:48:02.268Z"
   },
   {
    "duration": -2461,
    "start_time": "2021-12-16T17:48:02.271Z"
   },
   {
    "duration": -2462,
    "start_time": "2021-12-16T17:48:02.273Z"
   },
   {
    "duration": -2462,
    "start_time": "2021-12-16T17:48:02.275Z"
   },
   {
    "duration": -2463,
    "start_time": "2021-12-16T17:48:02.277Z"
   },
   {
    "duration": -2470,
    "start_time": "2021-12-16T17:48:02.285Z"
   },
   {
    "duration": -2472,
    "start_time": "2021-12-16T17:48:02.288Z"
   },
   {
    "duration": -2473,
    "start_time": "2021-12-16T17:48:02.290Z"
   },
   {
    "duration": -2474,
    "start_time": "2021-12-16T17:48:02.292Z"
   },
   {
    "duration": -2475,
    "start_time": "2021-12-16T17:48:02.294Z"
   },
   {
    "duration": -2482,
    "start_time": "2021-12-16T17:48:02.303Z"
   },
   {
    "duration": -2484,
    "start_time": "2021-12-16T17:48:02.306Z"
   },
   {
    "duration": -2485,
    "start_time": "2021-12-16T17:48:02.308Z"
   },
   {
    "duration": -2487,
    "start_time": "2021-12-16T17:48:02.311Z"
   },
   {
    "duration": -2493,
    "start_time": "2021-12-16T17:48:02.318Z"
   },
   {
    "duration": -2495,
    "start_time": "2021-12-16T17:48:02.321Z"
   },
   {
    "duration": -2497,
    "start_time": "2021-12-16T17:48:02.323Z"
   },
   {
    "duration": -2499,
    "start_time": "2021-12-16T17:48:02.326Z"
   },
   {
    "duration": -2500,
    "start_time": "2021-12-16T17:48:02.328Z"
   },
   {
    "duration": -2507,
    "start_time": "2021-12-16T17:48:02.336Z"
   },
   {
    "duration": -2538,
    "start_time": "2021-12-16T17:48:02.368Z"
   },
   {
    "duration": -2538,
    "start_time": "2021-12-16T17:48:02.370Z"
   },
   {
    "duration": -2540,
    "start_time": "2021-12-16T17:48:02.373Z"
   },
   {
    "duration": -2541,
    "start_time": "2021-12-16T17:48:02.375Z"
   },
   {
    "duration": -2541,
    "start_time": "2021-12-16T17:48:02.377Z"
   },
   {
    "duration": -2549,
    "start_time": "2021-12-16T17:48:02.386Z"
   },
   {
    "duration": -2551,
    "start_time": "2021-12-16T17:48:02.389Z"
   },
   {
    "duration": -2551,
    "start_time": "2021-12-16T17:48:02.391Z"
   },
   {
    "duration": -2552,
    "start_time": "2021-12-16T17:48:02.393Z"
   },
   {
    "duration": -2564,
    "start_time": "2021-12-16T17:48:02.407Z"
   },
   {
    "duration": -2565,
    "start_time": "2021-12-16T17:48:02.409Z"
   },
   {
    "duration": -2567,
    "start_time": "2021-12-16T17:48:02.412Z"
   },
   {
    "duration": -2573,
    "start_time": "2021-12-16T17:48:02.420Z"
   },
   {
    "duration": -2574,
    "start_time": "2021-12-16T17:48:02.422Z"
   },
   {
    "duration": -2574,
    "start_time": "2021-12-16T17:48:02.424Z"
   },
   {
    "duration": -2575,
    "start_time": "2021-12-16T17:48:02.426Z"
   },
   {
    "duration": -2577,
    "start_time": "2021-12-16T17:48:02.429Z"
   },
   {
    "duration": -2583,
    "start_time": "2021-12-16T17:48:02.437Z"
   },
   {
    "duration": -2584,
    "start_time": "2021-12-16T17:48:02.439Z"
   },
   {
    "duration": -2585,
    "start_time": "2021-12-16T17:48:02.441Z"
   },
   {
    "duration": -2585,
    "start_time": "2021-12-16T17:48:02.443Z"
   },
   {
    "duration": -2586,
    "start_time": "2021-12-16T17:48:02.445Z"
   },
   {
    "duration": -2592,
    "start_time": "2021-12-16T17:48:02.453Z"
   },
   {
    "duration": 15,
    "start_time": "2021-12-16T17:48:31.951Z"
   },
   {
    "duration": 4077,
    "start_time": "2021-12-16T17:48:31.968Z"
   },
   {
    "duration": 5,
    "start_time": "2021-12-16T17:48:36.048Z"
   },
   {
    "duration": 52394,
    "start_time": "2021-12-16T17:48:36.055Z"
   },
   {
    "duration": 528,
    "start_time": "2021-12-16T17:49:28.451Z"
   },
   {
    "duration": 2070,
    "start_time": "2021-12-16T17:49:28.980Z"
   },
   {
    "duration": 11,
    "start_time": "2021-12-16T17:49:31.052Z"
   },
   {
    "duration": 19630,
    "start_time": "2021-12-16T17:49:31.064Z"
   },
   {
    "duration": 5,
    "start_time": "2021-12-16T17:49:50.698Z"
   },
   {
    "duration": 274,
    "start_time": "2021-12-16T17:49:50.706Z"
   },
   {
    "duration": -2419,
    "start_time": "2021-12-16T17:49:53.401Z"
   },
   {
    "duration": -2420,
    "start_time": "2021-12-16T17:49:53.403Z"
   },
   {
    "duration": -2421,
    "start_time": "2021-12-16T17:49:53.405Z"
   },
   {
    "duration": -2423,
    "start_time": "2021-12-16T17:49:53.408Z"
   },
   {
    "duration": -2424,
    "start_time": "2021-12-16T17:49:53.410Z"
   },
   {
    "duration": -2426,
    "start_time": "2021-12-16T17:49:53.413Z"
   },
   {
    "duration": -2459,
    "start_time": "2021-12-16T17:49:53.447Z"
   },
   {
    "duration": -2461,
    "start_time": "2021-12-16T17:49:53.450Z"
   },
   {
    "duration": -2463,
    "start_time": "2021-12-16T17:49:53.453Z"
   },
   {
    "duration": -2464,
    "start_time": "2021-12-16T17:49:53.455Z"
   },
   {
    "duration": -2465,
    "start_time": "2021-12-16T17:49:53.457Z"
   },
   {
    "duration": -2466,
    "start_time": "2021-12-16T17:49:53.459Z"
   },
   {
    "duration": -2467,
    "start_time": "2021-12-16T17:49:53.461Z"
   },
   {
    "duration": -2468,
    "start_time": "2021-12-16T17:49:53.463Z"
   },
   {
    "duration": -2468,
    "start_time": "2021-12-16T17:49:53.465Z"
   },
   {
    "duration": -2470,
    "start_time": "2021-12-16T17:49:53.468Z"
   },
   {
    "duration": -2470,
    "start_time": "2021-12-16T17:49:53.469Z"
   },
   {
    "duration": -2472,
    "start_time": "2021-12-16T17:49:53.472Z"
   },
   {
    "duration": -2472,
    "start_time": "2021-12-16T17:49:53.473Z"
   },
   {
    "duration": -2474,
    "start_time": "2021-12-16T17:49:53.476Z"
   },
   {
    "duration": -2475,
    "start_time": "2021-12-16T17:49:53.478Z"
   },
   {
    "duration": -2476,
    "start_time": "2021-12-16T17:49:53.480Z"
   },
   {
    "duration": -2477,
    "start_time": "2021-12-16T17:49:53.482Z"
   },
   {
    "duration": -2478,
    "start_time": "2021-12-16T17:49:53.484Z"
   },
   {
    "duration": -2479,
    "start_time": "2021-12-16T17:49:53.486Z"
   },
   {
    "duration": -2480,
    "start_time": "2021-12-16T17:49:53.488Z"
   },
   {
    "duration": -2481,
    "start_time": "2021-12-16T17:49:53.490Z"
   },
   {
    "duration": -2482,
    "start_time": "2021-12-16T17:49:53.492Z"
   },
   {
    "duration": -2483,
    "start_time": "2021-12-16T17:49:53.494Z"
   },
   {
    "duration": -2484,
    "start_time": "2021-12-16T17:49:53.496Z"
   },
   {
    "duration": -2485,
    "start_time": "2021-12-16T17:49:53.498Z"
   },
   {
    "duration": -2486,
    "start_time": "2021-12-16T17:49:53.500Z"
   },
   {
    "duration": -2487,
    "start_time": "2021-12-16T17:49:53.502Z"
   },
   {
    "duration": 5,
    "start_time": "2021-12-16T17:50:21.052Z"
   },
   {
    "duration": 2188,
    "start_time": "2021-12-16T17:50:34.164Z"
   },
   {
    "duration": 4,
    "start_time": "2021-12-16T17:50:36.355Z"
   },
   {
    "duration": 138,
    "start_time": "2021-12-16T17:50:36.446Z"
   },
   {
    "duration": 5,
    "start_time": "2021-12-16T17:50:36.586Z"
   },
   {
    "duration": 13,
    "start_time": "2021-12-16T17:50:36.592Z"
   },
   {
    "duration": 7,
    "start_time": "2021-12-16T17:50:36.607Z"
   },
   {
    "duration": 31,
    "start_time": "2021-12-16T17:50:36.616Z"
   },
   {
    "duration": 8,
    "start_time": "2021-12-16T17:50:36.649Z"
   },
   {
    "duration": 14,
    "start_time": "2021-12-16T17:50:36.660Z"
   },
   {
    "duration": 199,
    "start_time": "2021-12-16T17:50:36.677Z"
   },
   {
    "duration": 35,
    "start_time": "2021-12-16T17:50:36.878Z"
   },
   {
    "duration": 4,
    "start_time": "2021-12-16T17:50:36.915Z"
   },
   {
    "duration": 44,
    "start_time": "2021-12-16T17:50:36.921Z"
   },
   {
    "duration": 5,
    "start_time": "2021-12-16T17:50:36.967Z"
   },
   {
    "duration": 12,
    "start_time": "2021-12-16T17:50:36.974Z"
   },
   {
    "duration": 8,
    "start_time": "2021-12-16T17:50:36.988Z"
   },
   {
    "duration": 8,
    "start_time": "2021-12-16T17:50:36.998Z"
   },
   {
    "duration": 42,
    "start_time": "2021-12-16T17:50:37.008Z"
   },
   {
    "duration": 1697,
    "start_time": "2021-12-16T17:50:37.053Z"
   },
   {
    "duration": 398,
    "start_time": "2021-12-16T17:50:38.753Z"
   },
   {
    "duration": 383,
    "start_time": "2021-12-16T17:50:39.153Z"
   },
   {
    "duration": -2415,
    "start_time": "2021-12-16T17:50:41.953Z"
   },
   {
    "duration": -2416,
    "start_time": "2021-12-16T17:50:41.955Z"
   },
   {
    "duration": -2463,
    "start_time": "2021-12-16T17:50:42.003Z"
   },
   {
    "duration": -2465,
    "start_time": "2021-12-16T17:50:42.006Z"
   },
   {
    "duration": -2467,
    "start_time": "2021-12-16T17:50:42.009Z"
   },
   {
    "duration": -2468,
    "start_time": "2021-12-16T17:50:42.011Z"
   },
   {
    "duration": -2469,
    "start_time": "2021-12-16T17:50:42.013Z"
   },
   {
    "duration": -2470,
    "start_time": "2021-12-16T17:50:42.015Z"
   },
   {
    "duration": -2477,
    "start_time": "2021-12-16T17:50:42.023Z"
   },
   {
    "duration": -2479,
    "start_time": "2021-12-16T17:50:42.026Z"
   },
   {
    "duration": -2479,
    "start_time": "2021-12-16T17:50:42.028Z"
   },
   {
    "duration": -2479,
    "start_time": "2021-12-16T17:50:42.030Z"
   },
   {
    "duration": -2515,
    "start_time": "2021-12-16T17:50:42.067Z"
   },
   {
    "duration": 3289,
    "start_time": "2021-12-16T17:53:04.247Z"
   },
   {
    "duration": 106,
    "start_time": "2021-12-16T17:53:07.538Z"
   },
   {
    "duration": 1591,
    "start_time": "2021-12-16T17:53:07.646Z"
   },
   {
    "duration": 41213,
    "start_time": "2021-12-16T17:53:09.244Z"
   },
   {
    "duration": 306,
    "start_time": "2021-12-16T17:53:50.459Z"
   },
   {
    "duration": -2416,
    "start_time": "2021-12-16T17:53:53.183Z"
   },
   {
    "duration": -2418,
    "start_time": "2021-12-16T17:53:53.186Z"
   },
   {
    "duration": -2461,
    "start_time": "2021-12-16T17:53:53.230Z"
   },
   {
    "duration": -2463,
    "start_time": "2021-12-16T17:53:53.233Z"
   },
   {
    "duration": -2464,
    "start_time": "2021-12-16T17:53:53.235Z"
   },
   {
    "duration": -2467,
    "start_time": "2021-12-16T17:53:53.238Z"
   },
   {
    "duration": -2468,
    "start_time": "2021-12-16T17:53:53.240Z"
   },
   {
    "duration": -2470,
    "start_time": "2021-12-16T17:53:53.243Z"
   },
   {
    "duration": 9,
    "start_time": "2021-12-16T19:35:09.119Z"
   },
   {
    "duration": 37,
    "start_time": "2021-12-16T19:39:59.325Z"
   },
   {
    "duration": 307,
    "start_time": "2021-12-16T19:45:54.252Z"
   },
   {
    "duration": 8,
    "start_time": "2021-12-16T19:46:51.362Z"
   },
   {
    "duration": 480,
    "start_time": "2021-12-16T19:47:53.544Z"
   },
   {
    "duration": 14425,
    "start_time": "2021-12-16T19:48:13.119Z"
   },
   {
    "duration": 906,
    "start_time": "2021-12-16T19:49:15.888Z"
   },
   {
    "duration": 108,
    "start_time": "2021-12-16T19:49:40.864Z"
   },
   {
    "duration": 15506,
    "start_time": "2021-12-16T19:49:54.317Z"
   },
   {
    "duration": 10,
    "start_time": "2021-12-16T19:50:26.224Z"
   },
   {
    "duration": 14843,
    "start_time": "2021-12-16T19:51:03.258Z"
   },
   {
    "duration": 6,
    "start_time": "2021-12-16T19:52:33.127Z"
   },
   {
    "duration": 15284,
    "start_time": "2021-12-16T19:52:48.267Z"
   },
   {
    "duration": 14320,
    "start_time": "2021-12-16T19:56:40.872Z"
   },
   {
    "duration": 7,
    "start_time": "2021-12-16T19:57:22.885Z"
   },
   {
    "duration": 5,
    "start_time": "2021-12-16T19:58:42.882Z"
   },
   {
    "duration": 6,
    "start_time": "2021-12-16T19:58:45.545Z"
   },
   {
    "duration": 5,
    "start_time": "2021-12-16T19:58:51.116Z"
   },
   {
    "duration": 4472,
    "start_time": "2021-12-16T20:00:29.478Z"
   },
   {
    "duration": 7,
    "start_time": "2021-12-16T20:00:33.953Z"
   },
   {
    "duration": 139,
    "start_time": "2021-12-16T20:00:33.964Z"
   },
   {
    "duration": 5,
    "start_time": "2021-12-16T20:00:34.105Z"
   },
   {
    "duration": 83,
    "start_time": "2021-12-16T20:00:34.113Z"
   },
   {
    "duration": 32,
    "start_time": "2021-12-16T20:00:34.199Z"
   },
   {
    "duration": 38,
    "start_time": "2021-12-16T20:00:34.234Z"
   },
   {
    "duration": 24,
    "start_time": "2021-12-16T20:00:34.275Z"
   },
   {
    "duration": 13,
    "start_time": "2021-12-16T20:00:34.306Z"
   },
   {
    "duration": 10,
    "start_time": "2021-12-16T20:00:34.364Z"
   },
   {
    "duration": 48,
    "start_time": "2021-12-16T20:00:34.376Z"
   },
   {
    "duration": 13,
    "start_time": "2021-12-16T20:00:34.462Z"
   },
   {
    "duration": 116,
    "start_time": "2021-12-16T20:00:34.477Z"
   },
   {
    "duration": 17,
    "start_time": "2021-12-16T20:00:34.595Z"
   },
   {
    "duration": 89,
    "start_time": "2021-12-16T20:00:34.615Z"
   },
   {
    "duration": 7,
    "start_time": "2021-12-16T20:00:34.706Z"
   },
   {
    "duration": 61,
    "start_time": "2021-12-16T20:00:34.717Z"
   },
   {
    "duration": 18,
    "start_time": "2021-12-16T20:00:34.781Z"
   },
   {
    "duration": 18,
    "start_time": "2021-12-16T20:00:34.801Z"
   },
   {
    "duration": 62,
    "start_time": "2021-12-16T20:00:34.822Z"
   },
   {
    "duration": 20,
    "start_time": "2021-12-16T20:00:34.887Z"
   },
   {
    "duration": 55,
    "start_time": "2021-12-16T20:00:34.910Z"
   },
   {
    "duration": 7,
    "start_time": "2021-12-16T20:00:34.968Z"
   },
   {
    "duration": 6,
    "start_time": "2021-12-16T20:00:34.977Z"
   },
   {
    "duration": 2183,
    "start_time": "2021-12-16T20:00:34.986Z"
   },
   {
    "duration": 3319,
    "start_time": "2021-12-16T20:00:37.172Z"
   },
   {
    "duration": 5319,
    "start_time": "2021-12-16T20:00:40.499Z"
   },
   {
    "duration": 7,
    "start_time": "2021-12-16T20:00:45.822Z"
   },
   {
    "duration": 40,
    "start_time": "2021-12-16T20:00:45.833Z"
   },
   {
    "duration": 15,
    "start_time": "2021-12-16T20:00:45.876Z"
   },
   {
    "duration": 10,
    "start_time": "2021-12-16T20:00:45.894Z"
   },
   {
    "duration": 81,
    "start_time": "2021-12-16T20:00:45.907Z"
   },
   {
    "duration": 73,
    "start_time": "2021-12-16T20:00:45.992Z"
   },
   {
    "duration": 1249,
    "start_time": "2021-12-16T20:00:46.067Z"
   },
   {
    "duration": 3869,
    "start_time": "2021-12-16T20:00:47.318Z"
   },
   {
    "duration": 7,
    "start_time": "2021-12-16T20:00:51.190Z"
   },
   {
    "duration": 4312,
    "start_time": "2021-12-16T20:00:51.200Z"
   },
   {
    "duration": 4,
    "start_time": "2021-12-16T20:01:02.037Z"
   },
   {
    "duration": 6,
    "start_time": "2021-12-16T20:01:03.087Z"
   },
   {
    "duration": 23,
    "start_time": "2021-12-16T20:01:03.817Z"
   },
   {
    "duration": 12,
    "start_time": "2021-12-16T20:01:08.616Z"
   },
   {
    "duration": 9,
    "start_time": "2021-12-16T20:01:12.546Z"
   },
   {
    "duration": 343,
    "start_time": "2021-12-16T20:01:26.074Z"
   },
   {
    "duration": 293,
    "start_time": "2021-12-16T20:01:32.287Z"
   },
   {
    "duration": 291,
    "start_time": "2021-12-16T20:01:49.706Z"
   },
   {
    "duration": 288,
    "start_time": "2021-12-16T20:01:57.181Z"
   },
   {
    "duration": 288,
    "start_time": "2021-12-16T20:02:03.098Z"
   },
   {
    "duration": 8,
    "start_time": "2021-12-16T20:02:28.948Z"
   },
   {
    "duration": 618,
    "start_time": "2021-12-16T20:02:30.693Z"
   },
   {
    "duration": 9,
    "start_time": "2021-12-16T20:03:12.945Z"
   },
   {
    "duration": 695,
    "start_time": "2021-12-16T20:03:15.183Z"
   },
   {
    "duration": 6,
    "start_time": "2021-12-16T20:03:47.546Z"
   },
   {
    "duration": 5,
    "start_time": "2021-12-16T20:03:53.822Z"
   },
   {
    "duration": 6,
    "start_time": "2021-12-16T20:03:59.741Z"
   },
   {
    "duration": 6,
    "start_time": "2021-12-16T20:04:48.751Z"
   },
   {
    "duration": 333,
    "start_time": "2021-12-16T20:05:56.040Z"
   },
   {
    "duration": 99,
    "start_time": "2021-12-16T20:06:18.086Z"
   },
   {
    "duration": 12,
    "start_time": "2021-12-16T20:06:23.430Z"
   },
   {
    "duration": 612,
    "start_time": "2021-12-16T20:06:26.675Z"
   },
   {
    "duration": 11,
    "start_time": "2021-12-16T20:06:42.362Z"
   },
   {
    "duration": 8,
    "start_time": "2021-12-16T20:08:20.679Z"
   },
   {
    "duration": 309,
    "start_time": "2021-12-16T20:08:22.473Z"
   },
   {
    "duration": 10,
    "start_time": "2021-12-16T20:46:23.699Z"
   },
   {
    "duration": 2551,
    "start_time": "2021-12-16T20:46:31.761Z"
   },
   {
    "duration": 596,
    "start_time": "2021-12-16T20:46:38.584Z"
   },
   {
    "duration": 1716,
    "start_time": "2021-12-16T20:46:42.897Z"
   },
   {
    "duration": 4155,
    "start_time": "2021-12-16T20:46:50.920Z"
   },
   {
    "duration": 12201,
    "start_time": "2021-12-16T20:47:00.031Z"
   },
   {
    "duration": 39360,
    "start_time": "2021-12-16T20:47:26.928Z"
   },
   {
    "duration": 156,
    "start_time": "2021-12-16T20:48:22.639Z"
   },
   {
    "duration": 3707,
    "start_time": "2021-12-16T20:48:47.288Z"
   },
   {
    "duration": 19,
    "start_time": "2021-12-16T20:49:33.083Z"
   },
   {
    "duration": 40,
    "start_time": "2021-12-16T20:49:33.105Z"
   },
   {
    "duration": 63613,
    "start_time": "2021-12-16T20:49:47.498Z"
   },
   {
    "duration": 147,
    "start_time": "2021-12-16T20:50:56.581Z"
   },
   {
    "duration": 6,
    "start_time": "2021-12-16T21:02:50.492Z"
   },
   {
    "duration": 7,
    "start_time": "2021-12-16T21:03:09.036Z"
   },
   {
    "duration": 309,
    "start_time": "2021-12-16T21:03:11.820Z"
   },
   {
    "duration": 11,
    "start_time": "2021-12-16T21:03:15.516Z"
   },
   {
    "duration": 2641,
    "start_time": "2021-12-16T21:03:18.587Z"
   },
   {
    "duration": 557,
    "start_time": "2021-12-16T21:03:25.064Z"
   },
   {
    "duration": 1727,
    "start_time": "2021-12-16T21:03:28.912Z"
   },
   {
    "duration": 4102,
    "start_time": "2021-12-16T21:03:38.594Z"
   },
   {
    "duration": 11482,
    "start_time": "2021-12-16T21:03:50.157Z"
   },
   {
    "duration": 45899,
    "start_time": "2021-12-16T21:04:10.539Z"
   },
   {
    "duration": 4,
    "start_time": "2021-12-16T21:04:56.440Z"
   },
   {
    "duration": 165,
    "start_time": "2021-12-16T21:05:04.045Z"
   },
   {
    "duration": 3867,
    "start_time": "2021-12-16T21:05:47.232Z"
   },
   {
    "duration": 8,
    "start_time": "2021-12-16T21:06:31.821Z"
   },
   {
    "duration": 5,
    "start_time": "2021-12-16T21:08:39.652Z"
   },
   {
    "duration": 446,
    "start_time": "2021-12-16T21:12:06.169Z"
   },
   {
    "duration": 5,
    "start_time": "2021-12-16T21:13:34.424Z"
   },
   {
    "duration": 929,
    "start_time": "2021-12-16T21:13:51.768Z"
   },
   {
    "duration": 25055,
    "start_time": "2021-12-16T21:14:01.417Z"
   },
   {
    "duration": 2486,
    "start_time": "2021-12-16T21:15:26.977Z"
   },
   {
    "duration": 7,
    "start_time": "2021-12-16T21:15:29.467Z"
   },
   {
    "duration": 154,
    "start_time": "2021-12-16T21:15:29.481Z"
   },
   {
    "duration": 6,
    "start_time": "2021-12-16T21:15:29.638Z"
   },
   {
    "duration": 20,
    "start_time": "2021-12-16T21:15:29.669Z"
   },
   {
    "duration": 9,
    "start_time": "2021-12-16T21:15:32.965Z"
   },
   {
    "duration": 19,
    "start_time": "2021-12-16T21:15:38.542Z"
   },
   {
    "duration": 10,
    "start_time": "2021-12-16T21:15:42.117Z"
   },
   {
    "duration": 14,
    "start_time": "2021-12-16T21:15:45.277Z"
   },
   {
    "duration": 327,
    "start_time": "2021-12-16T21:15:51.295Z"
   },
   {
    "duration": 5,
    "start_time": "2021-12-16T21:27:15.473Z"
   },
   {
    "duration": 26,
    "start_time": "2021-12-16T21:27:46.579Z"
   },
   {
    "duration": 5,
    "start_time": "2021-12-16T21:28:05.726Z"
   },
   {
    "duration": 28,
    "start_time": "2021-12-16T21:28:08.659Z"
   },
   {
    "duration": 106,
    "start_time": "2021-12-16T21:28:58.425Z"
   },
   {
    "duration": 5,
    "start_time": "2021-12-16T21:29:03.675Z"
   },
   {
    "duration": 34,
    "start_time": "2021-12-16T21:29:07.950Z"
   },
   {
    "duration": 34008,
    "start_time": "2021-12-16T21:29:56.445Z"
   },
   {
    "duration": 163,
    "start_time": "2021-12-16T21:30:30.457Z"
   },
   {
    "duration": 8,
    "start_time": "2021-12-16T21:35:31.644Z"
   },
   {
    "duration": 9,
    "start_time": "2021-12-16T21:35:55.749Z"
   },
   {
    "duration": 11,
    "start_time": "2021-12-16T21:36:10.192Z"
   },
   {
    "duration": 5,
    "start_time": "2021-12-16T21:37:29.399Z"
   },
   {
    "duration": 28,
    "start_time": "2021-12-16T21:37:33.939Z"
   },
   {
    "duration": 3462,
    "start_time": "2021-12-16T21:39:41.590Z"
   },
   {
    "duration": 2447,
    "start_time": "2021-12-16T21:39:58.639Z"
   },
   {
    "duration": 64201,
    "start_time": "2021-12-16T21:40:25.017Z"
   },
   {
    "duration": 168,
    "start_time": "2021-12-16T21:41:34.555Z"
   },
   {
    "duration": 1190,
    "start_time": "2021-12-16T21:45:24.124Z"
   },
   {
    "duration": 18,
    "start_time": "2021-12-16T21:45:35.790Z"
   },
   {
    "duration": 5,
    "start_time": "2021-12-16T21:45:37.164Z"
   },
   {
    "duration": 14,
    "start_time": "2021-12-16T21:45:37.932Z"
   },
   {
    "duration": 158,
    "start_time": "2021-12-16T22:12:32.457Z"
   },
   {
    "duration": 159,
    "start_time": "2021-12-16T22:12:40.604Z"
   },
   {
    "duration": 146,
    "start_time": "2021-12-16T22:13:19.788Z"
   },
   {
    "duration": 155,
    "start_time": "2021-12-16T22:13:26.154Z"
   },
   {
    "duration": 169,
    "start_time": "2021-12-16T22:14:46.710Z"
   },
   {
    "duration": 148,
    "start_time": "2021-12-16T22:18:33.988Z"
   },
   {
    "duration": 300,
    "start_time": "2021-12-16T22:26:03.758Z"
   },
   {
    "duration": 8,
    "start_time": "2021-12-16T22:26:12.630Z"
   },
   {
    "duration": 302,
    "start_time": "2021-12-16T22:26:15.145Z"
   },
   {
    "duration": 9,
    "start_time": "2021-12-16T22:26:58.786Z"
   },
   {
    "duration": 292,
    "start_time": "2021-12-16T22:27:03.338Z"
   },
   {
    "duration": 294,
    "start_time": "2021-12-16T22:27:09.031Z"
   },
   {
    "duration": 336,
    "start_time": "2021-12-16T22:27:12.364Z"
   },
   {
    "duration": 9,
    "start_time": "2021-12-16T22:27:22.727Z"
   },
   {
    "duration": 294,
    "start_time": "2021-12-16T22:27:25.315Z"
   },
   {
    "duration": 9,
    "start_time": "2021-12-16T22:27:36.818Z"
   },
   {
    "duration": 304,
    "start_time": "2021-12-16T22:27:39.321Z"
   },
   {
    "duration": 9,
    "start_time": "2021-12-16T22:27:46.661Z"
   },
   {
    "duration": 301,
    "start_time": "2021-12-16T22:27:50.800Z"
   },
   {
    "duration": 9,
    "start_time": "2021-12-16T22:28:24.106Z"
   },
   {
    "duration": 294,
    "start_time": "2021-12-16T22:28:27.339Z"
   },
   {
    "duration": 9,
    "start_time": "2021-12-16T22:28:32.784Z"
   },
   {
    "duration": 309,
    "start_time": "2021-12-16T22:28:35.012Z"
   },
   {
    "duration": 9968,
    "start_time": "2021-12-16T22:29:12.824Z"
   },
   {
    "duration": 22,
    "start_time": "2021-12-16T22:29:30.920Z"
   },
   {
    "duration": 24,
    "start_time": "2021-12-16T22:30:43.681Z"
   },
   {
    "duration": 454,
    "start_time": "2021-12-16T22:30:56.665Z"
   },
   {
    "duration": 693,
    "start_time": "2021-12-16T22:31:36.783Z"
   },
   {
    "duration": 704,
    "start_time": "2021-12-16T22:31:47.034Z"
   },
   {
    "duration": 705,
    "start_time": "2021-12-16T22:31:53.080Z"
   },
   {
    "duration": 339,
    "start_time": "2021-12-16T22:32:16.031Z"
   },
   {
    "duration": 409,
    "start_time": "2021-12-16T22:32:55.968Z"
   },
   {
    "duration": 9,
    "start_time": "2021-12-16T22:33:31.299Z"
   },
   {
    "duration": 8,
    "start_time": "2021-12-16T22:33:37.028Z"
   },
   {
    "duration": 325,
    "start_time": "2021-12-16T22:33:47.494Z"
   },
   {
    "duration": 6,
    "start_time": "2021-12-16T22:34:09.763Z"
   },
   {
    "duration": 375,
    "start_time": "2021-12-16T22:34:31.860Z"
   },
   {
    "duration": 292,
    "start_time": "2021-12-16T22:34:36.387Z"
   },
   {
    "duration": 294,
    "start_time": "2021-12-16T22:34:41.388Z"
   },
   {
    "duration": 299,
    "start_time": "2021-12-16T22:34:55.358Z"
   },
   {
    "duration": 12,
    "start_time": "2021-12-16T22:35:18.539Z"
   },
   {
    "duration": 444,
    "start_time": "2021-12-16T22:35:22.084Z"
   },
   {
    "duration": 7,
    "start_time": "2021-12-16T22:36:49.664Z"
   },
   {
    "duration": 99,
    "start_time": "2021-12-16T22:37:11.185Z"
   },
   {
    "duration": 108,
    "start_time": "2021-12-16T22:37:19.091Z"
   },
   {
    "duration": 8,
    "start_time": "2021-12-16T22:37:33.311Z"
   },
   {
    "duration": 346,
    "start_time": "2021-12-16T22:37:38.180Z"
   },
   {
    "duration": 12,
    "start_time": "2021-12-16T22:37:56.058Z"
   },
   {
    "duration": 430,
    "start_time": "2021-12-16T22:37:58.824Z"
   },
   {
    "duration": 13,
    "start_time": "2021-12-16T22:38:15.540Z"
   },
   {
    "duration": 2876,
    "start_time": "2021-12-16T22:38:18.551Z"
   },
   {
    "duration": 554,
    "start_time": "2021-12-16T22:38:28.311Z"
   },
   {
    "duration": 1585,
    "start_time": "2021-12-16T22:38:32.706Z"
   },
   {
    "duration": 292,
    "start_time": "2021-12-16T22:38:54.346Z"
   },
   {
    "duration": 8,
    "start_time": "2021-12-16T22:38:58.784Z"
   },
   {
    "duration": 298,
    "start_time": "2021-12-16T22:39:01.208Z"
   },
   {
    "duration": 2884,
    "start_time": "2021-12-16T22:39:08.772Z"
   },
   {
    "duration": 1673,
    "start_time": "2021-12-16T22:39:15.791Z"
   },
   {
    "duration": 4290,
    "start_time": "2021-12-16T22:39:23.730Z"
   },
   {
    "duration": 12293,
    "start_time": "2021-12-16T22:39:32.553Z"
   },
   {
    "duration": 8,
    "start_time": "2021-12-16T22:40:13.569Z"
   },
   {
    "duration": 294,
    "start_time": "2021-12-16T22:40:18.900Z"
   },
   {
    "duration": 10,
    "start_time": "2021-12-16T22:40:26.572Z"
   },
   {
    "duration": 2176,
    "start_time": "2021-12-16T22:40:28.740Z"
   },
   {
    "duration": 359,
    "start_time": "2021-12-16T22:40:35.563Z"
   },
   {
    "duration": 1610,
    "start_time": "2021-12-16T22:40:39.097Z"
   },
   {
    "duration": 4111,
    "start_time": "2021-12-16T22:40:44.474Z"
   },
   {
    "duration": 11405,
    "start_time": "2021-12-16T22:40:52.607Z"
   },
   {
    "duration": 46296,
    "start_time": "2021-12-16T22:41:14.522Z"
   },
   {
    "duration": 5,
    "start_time": "2021-12-16T22:42:00.822Z"
   },
   {
    "duration": 146,
    "start_time": "2021-12-16T22:42:06.908Z"
   },
   {
    "duration": 8349,
    "start_time": "2021-12-16T22:42:16.417Z"
   },
   {
    "duration": 224,
    "start_time": "2021-12-16T22:42:27.659Z"
   },
   {
    "duration": 62679,
    "start_time": "2021-12-16T22:43:19.935Z"
   },
   {
    "duration": 157,
    "start_time": "2021-12-16T22:44:43.962Z"
   },
   {
    "duration": 38,
    "start_time": "2021-12-16T22:49:28.356Z"
   },
   {
    "duration": 38,
    "start_time": "2021-12-16T22:50:12.465Z"
   },
   {
    "duration": 7,
    "start_time": "2021-12-16T22:50:54.877Z"
   },
   {
    "duration": 308,
    "start_time": "2021-12-16T22:51:09.782Z"
   },
   {
    "duration": 10,
    "start_time": "2021-12-16T22:51:21.915Z"
   },
   {
    "duration": 8,
    "start_time": "2021-12-16T22:51:31.986Z"
   },
   {
    "duration": 42831,
    "start_time": "2021-12-16T22:52:17.502Z"
   },
   {
    "duration": 159,
    "start_time": "2021-12-16T22:53:00.336Z"
   },
   {
    "duration": 165,
    "start_time": "2021-12-16T22:58:17.638Z"
   },
   {
    "duration": 8884,
    "start_time": "2021-12-16T23:00:09.939Z"
   },
   {
    "duration": 8,
    "start_time": "2021-12-16T23:00:54.116Z"
   },
   {
    "duration": 343,
    "start_time": "2021-12-16T23:01:54.075Z"
   },
   {
    "duration": 306,
    "start_time": "2021-12-16T23:02:02.499Z"
   },
   {
    "duration": 335,
    "start_time": "2021-12-16T23:02:10.339Z"
   },
   {
    "duration": 312,
    "start_time": "2021-12-16T23:02:15.949Z"
   },
   {
    "duration": 330,
    "start_time": "2021-12-16T23:02:30.362Z"
   },
   {
    "duration": 314,
    "start_time": "2021-12-16T23:03:05.837Z"
   },
   {
    "duration": 308,
    "start_time": "2021-12-16T23:03:28.104Z"
   },
   {
    "duration": 11,
    "start_time": "2021-12-16T23:04:07.144Z"
   },
   {
    "duration": 13,
    "start_time": "2021-12-16T23:04:45.426Z"
   },
   {
    "duration": 16,
    "start_time": "2021-12-16T23:05:12.288Z"
   },
   {
    "duration": 43368,
    "start_time": "2021-12-16T23:05:23.813Z"
   },
   {
    "duration": 179,
    "start_time": "2021-12-16T23:06:07.184Z"
   },
   {
    "duration": 8885,
    "start_time": "2021-12-20T18:06:54.045Z"
   },
   {
    "duration": 1739,
    "start_time": "2021-12-20T18:07:02.935Z"
   },
   {
    "duration": 101,
    "start_time": "2021-12-20T18:07:04.676Z"
   },
   {
    "duration": 3,
    "start_time": "2021-12-20T18:07:04.779Z"
   },
   {
    "duration": 50,
    "start_time": "2021-12-20T18:07:04.784Z"
   },
   {
    "duration": 16,
    "start_time": "2021-12-20T18:07:04.835Z"
   },
   {
    "duration": 10,
    "start_time": "2021-12-20T18:07:04.854Z"
   },
   {
    "duration": 19,
    "start_time": "2021-12-20T18:07:04.866Z"
   },
   {
    "duration": 8,
    "start_time": "2021-12-20T18:07:04.887Z"
   },
   {
    "duration": 6,
    "start_time": "2021-12-20T18:07:04.897Z"
   },
   {
    "duration": 66,
    "start_time": "2021-12-20T18:07:04.905Z"
   },
   {
    "duration": 9,
    "start_time": "2021-12-20T18:07:04.972Z"
   },
   {
    "duration": 101,
    "start_time": "2021-12-20T18:07:04.983Z"
   },
   {
    "duration": 15,
    "start_time": "2021-12-20T18:07:05.086Z"
   },
   {
    "duration": 68,
    "start_time": "2021-12-20T18:07:05.103Z"
   },
   {
    "duration": 4,
    "start_time": "2021-12-20T18:07:05.173Z"
   },
   {
    "duration": 17,
    "start_time": "2021-12-20T18:07:05.178Z"
   },
   {
    "duration": 44,
    "start_time": "2021-12-20T18:07:05.197Z"
   },
   {
    "duration": 14,
    "start_time": "2021-12-20T18:07:05.243Z"
   },
   {
    "duration": 19,
    "start_time": "2021-12-20T18:07:05.259Z"
   },
   {
    "duration": 20,
    "start_time": "2021-12-20T18:07:05.280Z"
   },
   {
    "duration": 38,
    "start_time": "2021-12-20T18:07:05.304Z"
   },
   {
    "duration": 4,
    "start_time": "2021-12-20T18:07:05.345Z"
   },
   {
    "duration": 9,
    "start_time": "2021-12-20T18:07:05.351Z"
   },
   {
    "duration": 1435,
    "start_time": "2021-12-20T18:07:05.362Z"
   },
   {
    "duration": 1473,
    "start_time": "2021-12-20T18:07:06.799Z"
   },
   {
    "duration": 3597,
    "start_time": "2021-12-20T18:07:08.274Z"
   },
   {
    "duration": 5,
    "start_time": "2021-12-20T18:07:11.873Z"
   },
   {
    "duration": 14,
    "start_time": "2021-12-20T18:07:11.880Z"
   },
   {
    "duration": 11,
    "start_time": "2021-12-20T18:07:11.896Z"
   },
   {
    "duration": 7,
    "start_time": "2021-12-20T18:07:11.909Z"
   },
   {
    "duration": 42,
    "start_time": "2021-12-20T18:07:11.918Z"
   },
   {
    "duration": 29,
    "start_time": "2021-12-20T18:07:11.962Z"
   },
   {
    "duration": 879,
    "start_time": "2021-12-20T18:07:11.993Z"
   },
   {
    "duration": 3412,
    "start_time": "2021-12-20T18:07:12.873Z"
   },
   {
    "duration": 1007,
    "start_time": "2021-12-20T18:07:16.288Z"
   },
   {
    "duration": 3815,
    "start_time": "2021-12-20T18:07:17.297Z"
   },
   {
    "duration": 3,
    "start_time": "2021-12-20T18:07:21.114Z"
   },
   {
    "duration": 15,
    "start_time": "2021-12-20T18:07:21.119Z"
   },
   {
    "duration": 7,
    "start_time": "2021-12-20T18:07:21.136Z"
   },
   {
    "duration": 17,
    "start_time": "2021-12-20T18:07:21.145Z"
   },
   {
    "duration": 8,
    "start_time": "2021-12-20T18:07:21.164Z"
   },
   {
    "duration": 9,
    "start_time": "2021-12-20T18:07:21.173Z"
   },
   {
    "duration": 8,
    "start_time": "2021-12-20T18:07:21.184Z"
   },
   {
    "duration": 21,
    "start_time": "2021-12-20T18:07:21.194Z"
   },
   {
    "duration": 224,
    "start_time": "2021-12-20T18:07:21.217Z"
   },
   {
    "duration": 7,
    "start_time": "2021-12-20T18:07:21.442Z"
   },
   {
    "duration": 1456,
    "start_time": "2021-12-20T18:07:21.451Z"
   },
   {
    "duration": 275,
    "start_time": "2021-12-20T18:07:22.909Z"
   },
   {
    "duration": 1116,
    "start_time": "2021-12-20T18:07:23.185Z"
   },
   {
    "duration": 2991,
    "start_time": "2021-12-20T18:07:24.303Z"
   },
   {
    "duration": 8268,
    "start_time": "2021-12-20T18:07:27.296Z"
   },
   {
    "duration": 22,
    "start_time": "2021-12-20T18:07:35.567Z"
   },
   {
    "duration": 100686,
    "start_time": "2021-12-20T18:07:35.590Z"
   },
   {
    "duration": 3,
    "start_time": "2021-12-20T18:09:16.278Z"
   },
   {
    "duration": 37032,
    "start_time": "2021-12-20T18:09:16.283Z"
   },
   {
    "duration": 4,
    "start_time": "2021-12-20T18:09:53.317Z"
   },
   {
    "duration": 126,
    "start_time": "2021-12-20T18:09:53.322Z"
   },
   {
    "duration": 19,
    "start_time": "2021-12-20T18:09:53.450Z"
   },
   {
    "duration": 4,
    "start_time": "2021-12-20T18:09:53.471Z"
   },
   {
    "duration": 2576,
    "start_time": "2021-12-20T18:09:53.477Z"
   },
   {
    "duration": 4158,
    "start_time": "2021-12-20T18:09:56.055Z"
   },
   {
    "duration": 168,
    "start_time": "2021-12-20T18:10:00.216Z"
   },
   {
    "duration": 6,
    "start_time": "2021-12-20T18:10:00.387Z"
   },
   {
    "duration": 404,
    "start_time": "2021-12-20T18:10:00.395Z"
   },
   {
    "duration": -6660,
    "start_time": "2021-12-20T18:10:07.463Z"
   },
   {
    "duration": -6663,
    "start_time": "2021-12-20T18:10:07.468Z"
   },
   {
    "duration": -6664,
    "start_time": "2021-12-20T18:10:07.470Z"
   },
   {
    "duration": -6705,
    "start_time": "2021-12-20T18:10:07.511Z"
   },
   {
    "duration": -6707,
    "start_time": "2021-12-20T18:10:07.514Z"
   },
   {
    "duration": -6708,
    "start_time": "2021-12-20T18:10:07.517Z"
   },
   {
    "duration": -6709,
    "start_time": "2021-12-20T18:10:07.519Z"
   },
   {
    "duration": -6711,
    "start_time": "2021-12-20T18:10:07.522Z"
   },
   {
    "duration": -6712,
    "start_time": "2021-12-20T18:10:07.524Z"
   },
   {
    "duration": -6713,
    "start_time": "2021-12-20T18:10:07.526Z"
   },
   {
    "duration": -6713,
    "start_time": "2021-12-20T18:10:07.528Z"
   },
   {
    "duration": -6714,
    "start_time": "2021-12-20T18:10:07.530Z"
   },
   {
    "duration": -6721,
    "start_time": "2021-12-20T18:10:07.538Z"
   },
   {
    "duration": -6723,
    "start_time": "2021-12-20T18:10:07.541Z"
   },
   {
    "duration": -6724,
    "start_time": "2021-12-20T18:10:07.543Z"
   },
   {
    "duration": -6726,
    "start_time": "2021-12-20T18:10:07.546Z"
   },
   {
    "duration": -6726,
    "start_time": "2021-12-20T18:10:07.548Z"
   },
   {
    "duration": -6728,
    "start_time": "2021-12-20T18:10:07.551Z"
   },
   {
    "duration": -6729,
    "start_time": "2021-12-20T18:10:07.553Z"
   },
   {
    "duration": -6730,
    "start_time": "2021-12-20T18:10:07.555Z"
   },
   {
    "duration": -6730,
    "start_time": "2021-12-20T18:10:07.557Z"
   },
   {
    "duration": -6731,
    "start_time": "2021-12-20T18:10:07.560Z"
   },
   {
    "duration": -6732,
    "start_time": "2021-12-20T18:10:07.562Z"
   },
   {
    "duration": -6733,
    "start_time": "2021-12-20T18:10:07.564Z"
   },
   {
    "duration": -6734,
    "start_time": "2021-12-20T18:10:07.566Z"
   },
   {
    "duration": -6817,
    "start_time": "2021-12-20T18:10:07.650Z"
   },
   {
    "duration": -7010,
    "start_time": "2021-12-20T18:10:07.844Z"
   },
   {
    "duration": -7025,
    "start_time": "2021-12-20T18:10:07.860Z"
   },
   {
    "duration": -7025,
    "start_time": "2021-12-20T18:10:07.862Z"
   },
   {
    "duration": -7027,
    "start_time": "2021-12-20T18:10:07.865Z"
   },
   {
    "duration": -7029,
    "start_time": "2021-12-20T18:10:07.867Z"
   },
   {
    "duration": -7029,
    "start_time": "2021-12-20T18:10:07.869Z"
   },
   {
    "duration": -7030,
    "start_time": "2021-12-20T18:10:07.871Z"
   },
   {
    "duration": -7031,
    "start_time": "2021-12-20T18:10:07.873Z"
   },
   {
    "duration": -7032,
    "start_time": "2021-12-20T18:10:07.875Z"
   },
   {
    "duration": -7034,
    "start_time": "2021-12-20T18:10:07.878Z"
   },
   {
    "duration": -7034,
    "start_time": "2021-12-20T18:10:07.880Z"
   },
   {
    "duration": -7033,
    "start_time": "2021-12-20T18:10:07.882Z"
   },
   {
    "duration": -7033,
    "start_time": "2021-12-20T18:10:07.884Z"
   },
   {
    "duration": -7033,
    "start_time": "2021-12-20T18:10:07.886Z"
   },
   {
    "duration": -7034,
    "start_time": "2021-12-20T18:10:07.888Z"
   },
   {
    "duration": -7035,
    "start_time": "2021-12-20T18:10:07.891Z"
   },
   {
    "duration": -7036,
    "start_time": "2021-12-20T18:10:07.893Z"
   },
   {
    "duration": -7037,
    "start_time": "2021-12-20T18:10:07.895Z"
   },
   {
    "duration": -7037,
    "start_time": "2021-12-20T18:10:07.897Z"
   },
   {
    "duration": -7037,
    "start_time": "2021-12-20T18:10:07.899Z"
   },
   {
    "duration": -7038,
    "start_time": "2021-12-20T18:10:07.901Z"
   },
   {
    "duration": -7050,
    "start_time": "2021-12-20T18:10:07.915Z"
   },
   {
    "duration": -7052,
    "start_time": "2021-12-20T18:10:07.918Z"
   },
   {
    "duration": -7053,
    "start_time": "2021-12-20T18:10:07.921Z"
   },
   {
    "duration": -7054,
    "start_time": "2021-12-20T18:10:07.923Z"
   },
   {
    "duration": -7055,
    "start_time": "2021-12-20T18:10:07.926Z"
   },
   {
    "duration": -7054,
    "start_time": "2021-12-20T18:10:07.928Z"
   },
   {
    "duration": -7055,
    "start_time": "2021-12-20T18:10:07.931Z"
   },
   {
    "duration": -7056,
    "start_time": "2021-12-20T18:10:07.933Z"
   },
   {
    "duration": -7056,
    "start_time": "2021-12-20T18:10:07.935Z"
   },
   {
    "duration": -6997,
    "start_time": "2021-12-20T18:10:07.937Z"
   },
   {
    "duration": -6996,
    "start_time": "2021-12-20T18:10:07.939Z"
   },
   {
    "duration": -6997,
    "start_time": "2021-12-20T18:10:07.941Z"
   },
   {
    "duration": -7001,
    "start_time": "2021-12-20T18:10:07.947Z"
   },
   {
    "duration": 5,
    "start_time": "2021-12-20T18:11:38.566Z"
   },
   {
    "duration": 8,
    "start_time": "2021-12-20T18:11:38.573Z"
   },
   {
    "duration": 15,
    "start_time": "2021-12-20T18:11:38.583Z"
   },
   {
    "duration": 25,
    "start_time": "2021-12-20T18:11:38.601Z"
   },
   {
    "duration": 31,
    "start_time": "2021-12-20T18:11:38.628Z"
   },
   {
    "duration": 36798,
    "start_time": "2021-12-20T18:11:38.661Z"
   },
   {
    "duration": 108,
    "start_time": "2021-12-20T18:12:15.461Z"
   },
   {
    "duration": 25091,
    "start_time": "2021-12-20T18:12:15.572Z"
   },
   {
    "duration": 101,
    "start_time": "2021-12-20T18:12:40.667Z"
   },
   {
    "duration": 12,
    "start_time": "2021-12-20T18:12:40.770Z"
   },
   {
    "duration": 29702,
    "start_time": "2021-12-20T18:12:40.783Z"
   },
   {
    "duration": 103,
    "start_time": "2021-12-20T18:13:10.487Z"
   },
   {
    "duration": 7298,
    "start_time": "2021-12-20T18:13:10.592Z"
   },
   {
    "duration": 292,
    "start_time": "2021-12-20T18:13:17.893Z"
   },
   {
    "duration": 9,
    "start_time": "2021-12-20T18:13:18.188Z"
   },
   {
    "duration": 15,
    "start_time": "2021-12-20T18:13:18.199Z"
   },
   {
    "duration": 266,
    "start_time": "2021-12-20T18:13:18.216Z"
   },
   {
    "duration": -6665,
    "start_time": "2021-12-20T18:13:25.151Z"
   },
   {
    "duration": -6667,
    "start_time": "2021-12-20T18:13:25.154Z"
   },
   {
    "duration": -6667,
    "start_time": "2021-12-20T18:13:25.155Z"
   },
   {
    "duration": -6668,
    "start_time": "2021-12-20T18:13:25.157Z"
   },
   {
    "duration": -6669,
    "start_time": "2021-12-20T18:13:25.159Z"
   },
   {
    "duration": -6671,
    "start_time": "2021-12-20T18:13:25.162Z"
   },
   {
    "duration": -6712,
    "start_time": "2021-12-20T18:13:25.205Z"
   },
   {
    "duration": -6724,
    "start_time": "2021-12-20T18:13:25.218Z"
   },
   {
    "duration": -6725,
    "start_time": "2021-12-20T18:13:25.220Z"
   },
   {
    "duration": -6726,
    "start_time": "2021-12-20T18:13:25.222Z"
   },
   {
    "duration": -6727,
    "start_time": "2021-12-20T18:13:25.224Z"
   },
   {
    "duration": -6728,
    "start_time": "2021-12-20T18:13:25.226Z"
   },
   {
    "duration": -6729,
    "start_time": "2021-12-20T18:13:25.228Z"
   },
   {
    "duration": -6729,
    "start_time": "2021-12-20T18:13:25.230Z"
   },
   {
    "duration": -6730,
    "start_time": "2021-12-20T18:13:25.232Z"
   },
   {
    "duration": -6731,
    "start_time": "2021-12-20T18:13:25.234Z"
   },
   {
    "duration": -6732,
    "start_time": "2021-12-20T18:13:25.236Z"
   },
   {
    "duration": -6733,
    "start_time": "2021-12-20T18:13:25.238Z"
   },
   {
    "duration": -6733,
    "start_time": "2021-12-20T18:13:25.240Z"
   },
   {
    "duration": -6733,
    "start_time": "2021-12-20T18:13:25.242Z"
   },
   {
    "duration": -6734,
    "start_time": "2021-12-20T18:13:25.244Z"
   },
   {
    "duration": -6736,
    "start_time": "2021-12-20T18:13:25.247Z"
   },
   {
    "duration": -6736,
    "start_time": "2021-12-20T18:13:25.248Z"
   },
   {
    "duration": -6737,
    "start_time": "2021-12-20T18:13:25.250Z"
   },
   {
    "duration": -6738,
    "start_time": "2021-12-20T18:13:25.252Z"
   },
   {
    "duration": -6739,
    "start_time": "2021-12-20T18:13:25.254Z"
   },
   {
    "duration": -6740,
    "start_time": "2021-12-20T18:13:25.256Z"
   },
   {
    "duration": -6742,
    "start_time": "2021-12-20T18:13:25.259Z"
   },
   {
    "duration": -6742,
    "start_time": "2021-12-20T18:13:25.260Z"
   },
   {
    "duration": -6743,
    "start_time": "2021-12-20T18:13:25.262Z"
   },
   {
    "duration": -6745,
    "start_time": "2021-12-20T18:13:25.265Z"
   },
   {
    "duration": -6746,
    "start_time": "2021-12-20T18:13:25.267Z"
   },
   {
    "duration": -6729,
    "start_time": "2021-12-20T18:13:25.269Z"
   },
   {
    "duration": -6729,
    "start_time": "2021-12-20T18:13:25.271Z"
   },
   {
    "duration": -6730,
    "start_time": "2021-12-20T18:13:25.273Z"
   },
   {
    "duration": -6731,
    "start_time": "2021-12-20T18:13:25.275Z"
   },
   {
    "duration": -6731,
    "start_time": "2021-12-20T18:13:25.276Z"
   },
   {
    "duration": -6733,
    "start_time": "2021-12-20T18:13:25.279Z"
   },
   {
    "duration": -6733,
    "start_time": "2021-12-20T18:13:25.280Z"
   },
   {
    "duration": -6734,
    "start_time": "2021-12-20T18:13:25.282Z"
   },
   {
    "duration": -6735,
    "start_time": "2021-12-20T18:13:25.284Z"
   },
   {
    "duration": -6745,
    "start_time": "2021-12-20T18:13:25.296Z"
   },
   {
    "duration": -6751,
    "start_time": "2021-12-20T18:13:25.303Z"
   },
   {
    "duration": 17,
    "start_time": "2021-12-20T18:14:34.604Z"
   },
   {
    "duration": 2920,
    "start_time": "2021-12-20T18:14:34.623Z"
   },
   {
    "duration": 5,
    "start_time": "2021-12-20T18:14:37.545Z"
   },
   {
    "duration": 56833,
    "start_time": "2021-12-20T18:14:37.552Z"
   },
   {
    "duration": 612,
    "start_time": "2021-12-20T18:15:34.387Z"
   },
   {
    "duration": 1851,
    "start_time": "2021-12-20T18:15:35.001Z"
   },
   {
    "duration": 12,
    "start_time": "2021-12-20T18:15:36.855Z"
   },
   {
    "duration": 18864,
    "start_time": "2021-12-20T18:15:36.870Z"
   },
   {
    "duration": 2108,
    "start_time": "2021-12-20T18:15:55.736Z"
   },
   {
    "duration": 234,
    "start_time": "2021-12-20T18:15:57.846Z"
   },
   {
    "duration": 5,
    "start_time": "2021-12-20T18:15:58.082Z"
   },
   {
    "duration": 19,
    "start_time": "2021-12-20T18:15:58.089Z"
   },
   {
    "duration": 32,
    "start_time": "2021-12-20T18:15:58.110Z"
   },
   {
    "duration": 3,
    "start_time": "2021-12-20T18:15:58.144Z"
   },
   {
    "duration": 28,
    "start_time": "2021-12-20T18:15:58.149Z"
   },
   {
    "duration": 201,
    "start_time": "2021-12-20T18:15:58.179Z"
   },
   {
    "duration": 37,
    "start_time": "2021-12-20T18:15:58.382Z"
   },
   {
    "duration": 20,
    "start_time": "2021-12-20T18:15:58.421Z"
   },
   {
    "duration": 26,
    "start_time": "2021-12-20T18:15:58.443Z"
   },
   {
    "duration": 5,
    "start_time": "2021-12-20T18:15:58.470Z"
   },
   {
    "duration": 13,
    "start_time": "2021-12-20T18:15:58.477Z"
   },
   {
    "duration": 7,
    "start_time": "2021-12-20T18:15:58.492Z"
   },
   {
    "duration": 7,
    "start_time": "2021-12-20T18:15:58.503Z"
   },
   {
    "duration": 8,
    "start_time": "2021-12-20T18:15:58.542Z"
   },
   {
    "duration": 1393,
    "start_time": "2021-12-20T18:15:58.552Z"
   },
   {
    "duration": 393,
    "start_time": "2021-12-20T18:15:59.948Z"
   },
   {
    "duration": 289,
    "start_time": "2021-12-20T18:16:00.345Z"
   },
   {
    "duration": -6658,
    "start_time": "2021-12-20T18:16:07.294Z"
   },
   {
    "duration": -6666,
    "start_time": "2021-12-20T18:16:07.303Z"
   },
   {
    "duration": -6667,
    "start_time": "2021-12-20T18:16:07.305Z"
   },
   {
    "duration": -6713,
    "start_time": "2021-12-20T18:16:07.352Z"
   },
   {
    "duration": -6716,
    "start_time": "2021-12-20T18:16:07.356Z"
   },
   {
    "duration": -6717,
    "start_time": "2021-12-20T18:16:07.358Z"
   },
   {
    "duration": -6718,
    "start_time": "2021-12-20T18:16:07.360Z"
   },
   {
    "duration": -6719,
    "start_time": "2021-12-20T18:16:07.362Z"
   },
   {
    "duration": -6719,
    "start_time": "2021-12-20T18:16:07.364Z"
   },
   {
    "duration": -6719,
    "start_time": "2021-12-20T18:16:07.366Z"
   },
   {
    "duration": -6720,
    "start_time": "2021-12-20T18:16:07.368Z"
   },
   {
    "duration": -6720,
    "start_time": "2021-12-20T18:16:07.370Z"
   },
   {
    "duration": -6720,
    "start_time": "2021-12-20T18:16:07.372Z"
   },
   {
    "duration": 3531,
    "start_time": "2021-12-20T18:16:47.283Z"
   },
   {
    "duration": 137,
    "start_time": "2021-12-20T18:16:50.816Z"
   },
   {
    "duration": 1477,
    "start_time": "2021-12-20T18:16:50.955Z"
   },
   {
    "duration": 36536,
    "start_time": "2021-12-20T18:16:52.434Z"
   },
   {
    "duration": 355,
    "start_time": "2021-12-20T18:17:28.972Z"
   },
   {
    "duration": -6667,
    "start_time": "2021-12-20T18:17:35.996Z"
   },
   {
    "duration": -6668,
    "start_time": "2021-12-20T18:17:35.998Z"
   },
   {
    "duration": -6669,
    "start_time": "2021-12-20T18:17:36.000Z"
   },
   {
    "duration": -6670,
    "start_time": "2021-12-20T18:17:36.002Z"
   },
   {
    "duration": -6717,
    "start_time": "2021-12-20T18:17:36.050Z"
   },
   {
    "duration": -6718,
    "start_time": "2021-12-20T18:17:36.052Z"
   },
   {
    "duration": -6720,
    "start_time": "2021-12-20T18:17:36.055Z"
   },
   {
    "duration": -6722,
    "start_time": "2021-12-20T18:17:36.058Z"
   },
   {
    "duration": 4481,
    "start_time": "2021-12-21T07:19:13.277Z"
   },
   {
    "duration": 1535,
    "start_time": "2021-12-21T07:19:17.761Z"
   },
   {
    "duration": 101,
    "start_time": "2021-12-21T07:19:19.300Z"
   },
   {
    "duration": 4,
    "start_time": "2021-12-21T07:19:19.404Z"
   },
   {
    "duration": 64,
    "start_time": "2021-12-21T07:19:19.411Z"
   },
   {
    "duration": 49,
    "start_time": "2021-12-21T07:19:19.478Z"
   },
   {
    "duration": 11,
    "start_time": "2021-12-21T07:19:19.529Z"
   },
   {
    "duration": 22,
    "start_time": "2021-12-21T07:19:19.544Z"
   },
   {
    "duration": 10,
    "start_time": "2021-12-21T07:19:19.569Z"
   },
   {
    "duration": 8,
    "start_time": "2021-12-21T07:19:19.618Z"
   },
   {
    "duration": 45,
    "start_time": "2021-12-21T07:19:19.629Z"
   },
   {
    "duration": 47,
    "start_time": "2021-12-21T07:19:19.677Z"
   },
   {
    "duration": 109,
    "start_time": "2021-12-21T07:19:19.726Z"
   },
   {
    "duration": 17,
    "start_time": "2021-12-21T07:19:19.837Z"
   },
   {
    "duration": 85,
    "start_time": "2021-12-21T07:19:19.856Z"
   },
   {
    "duration": 6,
    "start_time": "2021-12-21T07:19:19.943Z"
   },
   {
    "duration": 20,
    "start_time": "2021-12-21T07:19:19.951Z"
   },
   {
    "duration": 50,
    "start_time": "2021-12-21T07:19:19.973Z"
   },
   {
    "duration": 16,
    "start_time": "2021-12-21T07:19:20.025Z"
   },
   {
    "duration": 27,
    "start_time": "2021-12-21T07:19:20.044Z"
   },
   {
    "duration": 46,
    "start_time": "2021-12-21T07:19:20.074Z"
   },
   {
    "duration": 23,
    "start_time": "2021-12-21T07:19:20.123Z"
   },
   {
    "duration": 4,
    "start_time": "2021-12-21T07:19:20.151Z"
   },
   {
    "duration": 9,
    "start_time": "2021-12-21T07:19:20.159Z"
   },
   {
    "duration": 2043,
    "start_time": "2021-12-21T07:19:20.170Z"
   },
   {
    "duration": 2138,
    "start_time": "2021-12-21T07:19:22.217Z"
   },
   {
    "duration": 5076,
    "start_time": "2021-12-21T07:19:24.357Z"
   },
   {
    "duration": 9,
    "start_time": "2021-12-21T07:19:29.435Z"
   },
   {
    "duration": 13,
    "start_time": "2021-12-21T07:19:29.446Z"
   },
   {
    "duration": 9,
    "start_time": "2021-12-21T07:19:29.462Z"
   },
   {
    "duration": 47,
    "start_time": "2021-12-21T07:19:29.473Z"
   },
   {
    "duration": 32,
    "start_time": "2021-12-21T07:19:29.523Z"
   },
   {
    "duration": 60,
    "start_time": "2021-12-21T07:19:29.558Z"
   },
   {
    "duration": 1190,
    "start_time": "2021-12-21T07:19:29.621Z"
   },
   {
    "duration": 3862,
    "start_time": "2021-12-21T07:19:30.814Z"
   },
   {
    "duration": 343,
    "start_time": "2021-12-21T07:19:34.679Z"
   },
   {
    "duration": 4558,
    "start_time": "2021-12-21T07:19:35.025Z"
   },
   {
    "duration": 3,
    "start_time": "2021-12-21T07:19:39.586Z"
   },
   {
    "duration": 8,
    "start_time": "2021-12-21T07:19:39.592Z"
   },
   {
    "duration": 15,
    "start_time": "2021-12-21T07:19:39.602Z"
   },
   {
    "duration": 17,
    "start_time": "2021-12-21T07:19:39.619Z"
   },
   {
    "duration": 10,
    "start_time": "2021-12-21T07:19:39.638Z"
   },
   {
    "duration": 7,
    "start_time": "2021-12-21T07:19:39.650Z"
   },
   {
    "duration": 9,
    "start_time": "2021-12-21T07:19:39.659Z"
   },
   {
    "duration": 49,
    "start_time": "2021-12-21T07:19:39.670Z"
   },
   {
    "duration": 299,
    "start_time": "2021-12-21T07:19:39.722Z"
   },
   {
    "duration": 11,
    "start_time": "2021-12-21T07:19:40.023Z"
   },
   {
    "duration": 2076,
    "start_time": "2021-12-21T07:19:40.037Z"
   },
   {
    "duration": 351,
    "start_time": "2021-12-21T07:19:42.117Z"
   },
   {
    "duration": 1634,
    "start_time": "2021-12-21T07:19:42.471Z"
   },
   {
    "duration": 4334,
    "start_time": "2021-12-21T07:19:44.107Z"
   },
   {
    "duration": 11450,
    "start_time": "2021-12-21T07:19:48.444Z"
   },
   {
    "duration": 33,
    "start_time": "2021-12-21T07:19:59.896Z"
   },
   {
    "duration": 107026,
    "start_time": "2021-12-21T07:19:59.932Z"
   },
   {
    "duration": 5,
    "start_time": "2021-12-21T07:21:46.960Z"
   },
   {
    "duration": 34182,
    "start_time": "2021-12-21T07:21:46.968Z"
   },
   {
    "duration": 5,
    "start_time": "2021-12-21T07:22:21.154Z"
   },
   {
    "duration": 156,
    "start_time": "2021-12-21T07:22:21.162Z"
   },
   {
    "duration": 23,
    "start_time": "2021-12-21T07:22:21.321Z"
   },
   {
    "duration": 6,
    "start_time": "2021-12-21T07:22:21.347Z"
   },
   {
    "duration": 3656,
    "start_time": "2021-12-21T07:22:21.356Z"
   },
   {
    "duration": 5768,
    "start_time": "2021-12-21T07:22:25.017Z"
   },
   {
    "duration": 168,
    "start_time": "2021-12-21T07:22:30.787Z"
   },
   {
    "duration": 4,
    "start_time": "2021-12-21T07:22:30.957Z"
   },
   {
    "duration": 461,
    "start_time": "2021-12-21T07:22:30.963Z"
   },
   {
    "duration": -64,
    "start_time": "2021-12-21T07:22:31.493Z"
   },
   {
    "duration": -65,
    "start_time": "2021-12-21T07:22:31.496Z"
   },
   {
    "duration": -67,
    "start_time": "2021-12-21T07:22:31.499Z"
   },
   {
    "duration": -94,
    "start_time": "2021-12-21T07:22:31.527Z"
   },
   {
    "duration": -96,
    "start_time": "2021-12-21T07:22:31.530Z"
   },
   {
    "duration": -96,
    "start_time": "2021-12-21T07:22:31.532Z"
   },
   {
    "duration": -106,
    "start_time": "2021-12-21T07:22:31.543Z"
   },
   {
    "duration": -107,
    "start_time": "2021-12-21T07:22:31.545Z"
   },
   {
    "duration": -108,
    "start_time": "2021-12-21T07:22:31.547Z"
   },
   {
    "duration": -109,
    "start_time": "2021-12-21T07:22:31.550Z"
   },
   {
    "duration": -117,
    "start_time": "2021-12-21T07:22:31.560Z"
   },
   {
    "duration": -119,
    "start_time": "2021-12-21T07:22:31.563Z"
   },
   {
    "duration": -119,
    "start_time": "2021-12-21T07:22:31.565Z"
   },
   {
    "duration": -130,
    "start_time": "2021-12-21T07:22:31.577Z"
   },
   {
    "duration": -130,
    "start_time": "2021-12-21T07:22:31.579Z"
   },
   {
    "duration": -138,
    "start_time": "2021-12-21T07:22:31.588Z"
   },
   {
    "duration": -162,
    "start_time": "2021-12-21T07:22:31.613Z"
   },
   {
    "duration": -165,
    "start_time": "2021-12-21T07:22:31.617Z"
   },
   {
    "duration": -174,
    "start_time": "2021-12-21T07:22:31.628Z"
   },
   {
    "duration": -189,
    "start_time": "2021-12-21T07:22:31.644Z"
   },
   {
    "duration": -191,
    "start_time": "2021-12-21T07:22:31.647Z"
   },
   {
    "duration": -192,
    "start_time": "2021-12-21T07:22:31.649Z"
   },
   {
    "duration": -201,
    "start_time": "2021-12-21T07:22:31.660Z"
   },
   {
    "duration": -202,
    "start_time": "2021-12-21T07:22:31.662Z"
   },
   {
    "duration": -204,
    "start_time": "2021-12-21T07:22:31.665Z"
   },
   {
    "duration": -206,
    "start_time": "2021-12-21T07:22:31.668Z"
   },
   {
    "duration": -216,
    "start_time": "2021-12-21T07:22:31.679Z"
   },
   {
    "duration": -164,
    "start_time": "2021-12-21T07:22:31.681Z"
   },
   {
    "duration": -165,
    "start_time": "2021-12-21T07:22:31.684Z"
   },
   {
    "duration": -283,
    "start_time": "2021-12-21T07:22:31.803Z"
   },
   {
    "duration": -285,
    "start_time": "2021-12-21T07:22:31.806Z"
   },
   {
    "duration": -419,
    "start_time": "2021-12-21T07:22:31.942Z"
   },
   {
    "duration": -420,
    "start_time": "2021-12-21T07:22:31.944Z"
   },
   {
    "duration": -421,
    "start_time": "2021-12-21T07:22:31.946Z"
   },
   {
    "duration": -422,
    "start_time": "2021-12-21T07:22:31.949Z"
   },
   {
    "duration": -456,
    "start_time": "2021-12-21T07:22:31.984Z"
   },
   {
    "duration": -484,
    "start_time": "2021-12-21T07:22:32.013Z"
   },
   {
    "duration": -485,
    "start_time": "2021-12-21T07:22:32.016Z"
   },
   {
    "duration": -507,
    "start_time": "2021-12-21T07:22:32.039Z"
   },
   {
    "duration": -508,
    "start_time": "2021-12-21T07:22:32.041Z"
   },
   {
    "duration": -510,
    "start_time": "2021-12-21T07:22:32.044Z"
   },
   {
    "duration": -510,
    "start_time": "2021-12-21T07:22:32.046Z"
   },
   {
    "duration": -527,
    "start_time": "2021-12-21T07:22:32.064Z"
   },
   {
    "duration": -545,
    "start_time": "2021-12-21T07:22:32.083Z"
   },
   {
    "duration": -555,
    "start_time": "2021-12-21T07:22:32.094Z"
   },
   {
    "duration": -555,
    "start_time": "2021-12-21T07:22:32.096Z"
   },
   {
    "duration": -556,
    "start_time": "2021-12-21T07:22:32.098Z"
   },
   {
    "duration": -558,
    "start_time": "2021-12-21T07:22:32.101Z"
   },
   {
    "duration": -566,
    "start_time": "2021-12-21T07:22:32.111Z"
   },
   {
    "duration": -567,
    "start_time": "2021-12-21T07:22:32.113Z"
   },
   {
    "duration": -568,
    "start_time": "2021-12-21T07:22:32.116Z"
   },
   {
    "duration": -578,
    "start_time": "2021-12-21T07:22:32.127Z"
   },
   {
    "duration": -652,
    "start_time": "2021-12-21T07:22:32.202Z"
   },
   {
    "duration": -660,
    "start_time": "2021-12-21T07:22:32.212Z"
   },
   {
    "duration": -598,
    "start_time": "2021-12-21T07:22:32.215Z"
   },
   {
    "duration": -600,
    "start_time": "2021-12-21T07:22:32.218Z"
   },
   {
    "duration": -608,
    "start_time": "2021-12-21T07:22:32.228Z"
   },
   {
    "duration": -608,
    "start_time": "2021-12-21T07:22:32.230Z"
   },
   {
    "duration": -611,
    "start_time": "2021-12-21T07:22:32.234Z"
   },
   {
    "duration": -619,
    "start_time": "2021-12-21T07:22:32.244Z"
   },
   {
    "duration": 5,
    "start_time": "2021-12-21T07:22:38.486Z"
   },
   {
    "duration": 6,
    "start_time": "2021-12-21T07:22:38.494Z"
   },
   {
    "duration": 15,
    "start_time": "2021-12-21T07:22:38.503Z"
   },
   {
    "duration": 9,
    "start_time": "2021-12-21T07:22:38.520Z"
   },
   {
    "duration": 31,
    "start_time": "2021-12-21T07:22:38.532Z"
   },
   {
    "duration": 72,
    "start_time": "2021-12-21T07:22:38.565Z"
   },
   {
    "duration": 44604,
    "start_time": "2021-12-21T07:22:38.639Z"
   },
   {
    "duration": 146,
    "start_time": "2021-12-21T07:23:23.247Z"
   },
   {
    "duration": 27639,
    "start_time": "2021-12-21T07:23:23.395Z"
   },
   {
    "duration": 160,
    "start_time": "2021-12-21T07:23:51.038Z"
   },
   {
    "duration": 26,
    "start_time": "2021-12-21T07:23:51.201Z"
   },
   {
    "duration": 33119,
    "start_time": "2021-12-21T07:23:51.229Z"
   },
   {
    "duration": 171,
    "start_time": "2021-12-21T07:24:24.351Z"
   },
   {
    "duration": 8728,
    "start_time": "2021-12-21T07:24:24.525Z"
   },
   {
    "duration": 23,
    "start_time": "2021-12-21T07:24:33.255Z"
   },
   {
    "duration": 7,
    "start_time": "2021-12-21T07:24:33.280Z"
   },
   {
    "duration": 16,
    "start_time": "2021-12-21T07:24:33.290Z"
   },
   {
    "duration": 310,
    "start_time": "2021-12-21T07:24:33.309Z"
   },
   {
    "duration": -56,
    "start_time": "2021-12-21T07:24:33.679Z"
   },
   {
    "duration": -60,
    "start_time": "2021-12-21T07:24:33.684Z"
   },
   {
    "duration": -92,
    "start_time": "2021-12-21T07:24:33.718Z"
   },
   {
    "duration": -94,
    "start_time": "2021-12-21T07:24:33.721Z"
   },
   {
    "duration": -95,
    "start_time": "2021-12-21T07:24:33.724Z"
   },
   {
    "duration": -96,
    "start_time": "2021-12-21T07:24:33.726Z"
   },
   {
    "duration": -97,
    "start_time": "2021-12-21T07:24:33.729Z"
   },
   {
    "duration": -98,
    "start_time": "2021-12-21T07:24:33.731Z"
   },
   {
    "duration": -98,
    "start_time": "2021-12-21T07:24:33.733Z"
   },
   {
    "duration": -99,
    "start_time": "2021-12-21T07:24:33.735Z"
   },
   {
    "duration": -100,
    "start_time": "2021-12-21T07:24:33.737Z"
   },
   {
    "duration": -100,
    "start_time": "2021-12-21T07:24:33.739Z"
   },
   {
    "duration": -101,
    "start_time": "2021-12-21T07:24:33.741Z"
   },
   {
    "duration": -101,
    "start_time": "2021-12-21T07:24:33.743Z"
   },
   {
    "duration": -102,
    "start_time": "2021-12-21T07:24:33.745Z"
   },
   {
    "duration": -102,
    "start_time": "2021-12-21T07:24:33.747Z"
   },
   {
    "duration": -103,
    "start_time": "2021-12-21T07:24:33.750Z"
   },
   {
    "duration": -104,
    "start_time": "2021-12-21T07:24:33.752Z"
   },
   {
    "duration": -114,
    "start_time": "2021-12-21T07:24:33.763Z"
   },
   {
    "duration": -120,
    "start_time": "2021-12-21T07:24:33.771Z"
   },
   {
    "duration": -142,
    "start_time": "2021-12-21T07:24:33.794Z"
   },
   {
    "duration": -161,
    "start_time": "2021-12-21T07:24:33.814Z"
   },
   {
    "duration": -163,
    "start_time": "2021-12-21T07:24:33.817Z"
   },
   {
    "duration": -164,
    "start_time": "2021-12-21T07:24:33.820Z"
   },
   {
    "duration": -165,
    "start_time": "2021-12-21T07:24:33.822Z"
   },
   {
    "duration": -166,
    "start_time": "2021-12-21T07:24:33.824Z"
   },
   {
    "duration": -167,
    "start_time": "2021-12-21T07:24:33.827Z"
   },
   {
    "duration": -112,
    "start_time": "2021-12-21T07:24:33.829Z"
   },
   {
    "duration": -112,
    "start_time": "2021-12-21T07:24:33.831Z"
   },
   {
    "duration": -113,
    "start_time": "2021-12-21T07:24:33.833Z"
   },
   {
    "duration": -113,
    "start_time": "2021-12-21T07:24:33.835Z"
   },
   {
    "duration": -114,
    "start_time": "2021-12-21T07:24:33.837Z"
   },
   {
    "duration": -115,
    "start_time": "2021-12-21T07:24:33.840Z"
   },
   {
    "duration": -116,
    "start_time": "2021-12-21T07:24:33.842Z"
   },
   {
    "duration": -116,
    "start_time": "2021-12-21T07:24:33.844Z"
   },
   {
    "duration": -117,
    "start_time": "2021-12-21T07:24:33.846Z"
   },
   {
    "duration": -117,
    "start_time": "2021-12-21T07:24:33.848Z"
   },
   {
    "duration": -118,
    "start_time": "2021-12-21T07:24:33.851Z"
   },
   {
    "duration": -119,
    "start_time": "2021-12-21T07:24:33.853Z"
   },
   {
    "duration": -129,
    "start_time": "2021-12-21T07:24:33.864Z"
   },
   {
    "duration": -131,
    "start_time": "2021-12-21T07:24:33.867Z"
   },
   {
    "duration": -131,
    "start_time": "2021-12-21T07:24:33.869Z"
   },
   {
    "duration": -133,
    "start_time": "2021-12-21T07:24:33.872Z"
   },
   {
    "duration": 27,
    "start_time": "2021-12-21T07:24:48.636Z"
   },
   {
    "duration": 3364,
    "start_time": "2021-12-21T07:24:48.666Z"
   },
   {
    "duration": 7,
    "start_time": "2021-12-21T07:24:52.033Z"
   },
   {
    "duration": 70644,
    "start_time": "2021-12-21T07:24:52.043Z"
   },
   {
    "duration": 734,
    "start_time": "2021-12-21T07:26:02.689Z"
   },
   {
    "duration": 2103,
    "start_time": "2021-12-21T07:26:03.425Z"
   },
   {
    "duration": 15,
    "start_time": "2021-12-21T07:26:05.530Z"
   },
   {
    "duration": 20841,
    "start_time": "2021-12-21T07:26:05.548Z"
   },
   {
    "duration": 2433,
    "start_time": "2021-12-21T07:26:26.392Z"
   },
   {
    "duration": 238,
    "start_time": "2021-12-21T07:26:28.829Z"
   },
   {
    "duration": 6,
    "start_time": "2021-12-21T07:26:29.070Z"
   },
   {
    "duration": 38,
    "start_time": "2021-12-21T07:26:29.079Z"
   },
   {
    "duration": 20,
    "start_time": "2021-12-21T07:26:29.119Z"
   },
   {
    "duration": 4,
    "start_time": "2021-12-21T07:26:29.142Z"
   },
   {
    "duration": 17,
    "start_time": "2021-12-21T07:26:29.148Z"
   },
   {
    "duration": 319,
    "start_time": "2021-12-21T07:26:29.167Z"
   },
   {
    "duration": 63,
    "start_time": "2021-12-21T07:26:29.488Z"
   },
   {
    "duration": 4,
    "start_time": "2021-12-21T07:26:29.553Z"
   },
   {
    "duration": 37,
    "start_time": "2021-12-21T07:26:29.559Z"
   },
   {
    "duration": 6,
    "start_time": "2021-12-21T07:26:29.618Z"
   },
   {
    "duration": 12,
    "start_time": "2021-12-21T07:26:29.626Z"
   },
   {
    "duration": 8,
    "start_time": "2021-12-21T07:26:29.640Z"
   },
   {
    "duration": 8,
    "start_time": "2021-12-21T07:26:29.653Z"
   },
   {
    "duration": 9,
    "start_time": "2021-12-21T07:26:29.664Z"
   },
   {
    "duration": 1801,
    "start_time": "2021-12-21T07:26:29.717Z"
   },
   {
    "duration": 396,
    "start_time": "2021-12-21T07:26:31.522Z"
   },
   {
    "duration": 269,
    "start_time": "2021-12-21T07:26:31.922Z"
   },
   {
    "duration": -54,
    "start_time": "2021-12-21T07:26:32.247Z"
   },
   {
    "duration": -54,
    "start_time": "2021-12-21T07:26:32.249Z"
   },
   {
    "duration": -98,
    "start_time": "2021-12-21T07:26:32.294Z"
   },
   {
    "duration": -107,
    "start_time": "2021-12-21T07:26:32.304Z"
   },
   {
    "duration": -109,
    "start_time": "2021-12-21T07:26:32.308Z"
   },
   {
    "duration": -110,
    "start_time": "2021-12-21T07:26:32.310Z"
   },
   {
    "duration": -111,
    "start_time": "2021-12-21T07:26:32.312Z"
   },
   {
    "duration": -111,
    "start_time": "2021-12-21T07:26:32.314Z"
   },
   {
    "duration": -112,
    "start_time": "2021-12-21T07:26:32.316Z"
   },
   {
    "duration": -113,
    "start_time": "2021-12-21T07:26:32.318Z"
   },
   {
    "duration": -115,
    "start_time": "2021-12-21T07:26:32.321Z"
   },
   {
    "duration": -123,
    "start_time": "2021-12-21T07:26:32.330Z"
   },
   {
    "duration": -123,
    "start_time": "2021-12-21T07:26:32.332Z"
   },
   {
    "duration": 5473,
    "start_time": "2021-12-21T07:27:08.644Z"
   },
   {
    "duration": 257,
    "start_time": "2021-12-21T07:27:14.120Z"
   },
   {
    "duration": 3161,
    "start_time": "2021-12-21T07:27:14.381Z"
   },
   {
    "duration": 35414,
    "start_time": "2021-12-21T07:27:17.545Z"
   },
   {
    "duration": 264,
    "start_time": "2021-12-21T07:27:52.962Z"
   },
   {
    "duration": -60,
    "start_time": "2021-12-21T07:27:53.289Z"
   },
   {
    "duration": -62,
    "start_time": "2021-12-21T07:27:53.293Z"
   },
   {
    "duration": -70,
    "start_time": "2021-12-21T07:27:53.302Z"
   },
   {
    "duration": -103,
    "start_time": "2021-12-21T07:27:53.336Z"
   },
   {
    "duration": -105,
    "start_time": "2021-12-21T07:27:53.339Z"
   },
   {
    "duration": -106,
    "start_time": "2021-12-21T07:27:53.341Z"
   },
   {
    "duration": -107,
    "start_time": "2021-12-21T07:27:53.344Z"
   },
   {
    "duration": -109,
    "start_time": "2021-12-21T07:27:53.347Z"
   },
   {
    "duration": 3468,
    "start_time": "2021-12-21T07:38:10.526Z"
   },
   {
    "duration": 1682,
    "start_time": "2021-12-21T07:38:13.998Z"
   },
   {
    "duration": 99,
    "start_time": "2021-12-21T07:38:15.683Z"
   },
   {
    "duration": 5,
    "start_time": "2021-12-21T07:38:15.784Z"
   },
   {
    "duration": 63,
    "start_time": "2021-12-21T07:38:15.791Z"
   },
   {
    "duration": 23,
    "start_time": "2021-12-21T07:38:15.856Z"
   },
   {
    "duration": 35,
    "start_time": "2021-12-21T07:38:15.882Z"
   },
   {
    "duration": 24,
    "start_time": "2021-12-21T07:38:15.921Z"
   },
   {
    "duration": 11,
    "start_time": "2021-12-21T07:38:15.947Z"
   },
   {
    "duration": 9,
    "start_time": "2021-12-21T07:38:15.960Z"
   },
   {
    "duration": 83,
    "start_time": "2021-12-21T07:38:15.971Z"
   },
   {
    "duration": 13,
    "start_time": "2021-12-21T07:38:16.056Z"
   },
   {
    "duration": 121,
    "start_time": "2021-12-21T07:38:16.072Z"
   },
   {
    "duration": 16,
    "start_time": "2021-12-21T07:38:16.218Z"
   },
   {
    "duration": 83,
    "start_time": "2021-12-21T07:38:16.236Z"
   },
   {
    "duration": 6,
    "start_time": "2021-12-21T07:38:16.321Z"
   },
   {
    "duration": 19,
    "start_time": "2021-12-21T07:38:16.329Z"
   },
   {
    "duration": 17,
    "start_time": "2021-12-21T07:38:16.350Z"
   },
   {
    "duration": 52,
    "start_time": "2021-12-21T07:38:16.369Z"
   },
   {
    "duration": 27,
    "start_time": "2021-12-21T07:38:16.424Z"
   },
   {
    "duration": 25,
    "start_time": "2021-12-21T07:38:16.453Z"
   },
   {
    "duration": 44,
    "start_time": "2021-12-21T07:38:16.480Z"
   },
   {
    "duration": 5,
    "start_time": "2021-12-21T07:38:16.531Z"
   },
   {
    "duration": 6,
    "start_time": "2021-12-21T07:38:16.539Z"
   },
   {
    "duration": 1970,
    "start_time": "2021-12-21T07:38:16.547Z"
   },
   {
    "duration": 2201,
    "start_time": "2021-12-21T07:38:18.519Z"
   },
   {
    "duration": 5410,
    "start_time": "2021-12-21T07:38:20.722Z"
   },
   {
    "duration": 7,
    "start_time": "2021-12-21T07:38:26.135Z"
   },
   {
    "duration": 14,
    "start_time": "2021-12-21T07:38:26.145Z"
   },
   {
    "duration": 10,
    "start_time": "2021-12-21T07:38:26.161Z"
   },
   {
    "duration": 48,
    "start_time": "2021-12-21T07:38:26.173Z"
   },
   {
    "duration": 32,
    "start_time": "2021-12-21T07:38:26.224Z"
   },
   {
    "duration": 64,
    "start_time": "2021-12-21T07:38:26.258Z"
   },
   {
    "duration": 1127,
    "start_time": "2021-12-21T07:38:26.325Z"
   },
   {
    "duration": 3640,
    "start_time": "2021-12-21T07:38:27.454Z"
   },
   {
    "duration": 192,
    "start_time": "2021-12-21T07:38:31.097Z"
   },
   {
    "duration": 3599,
    "start_time": "2021-12-21T07:38:31.291Z"
   },
   {
    "duration": 4,
    "start_time": "2021-12-21T07:38:34.893Z"
   },
   {
    "duration": 11,
    "start_time": "2021-12-21T07:38:34.899Z"
   },
   {
    "duration": 6,
    "start_time": "2021-12-21T07:38:34.917Z"
   },
   {
    "duration": 17,
    "start_time": "2021-12-21T07:38:34.925Z"
   },
   {
    "duration": 11,
    "start_time": "2021-12-21T07:38:34.944Z"
   },
   {
    "duration": 13,
    "start_time": "2021-12-21T07:38:34.957Z"
   },
   {
    "duration": 9,
    "start_time": "2021-12-21T07:38:34.972Z"
   },
   {
    "duration": 6,
    "start_time": "2021-12-21T07:38:35.017Z"
   },
   {
    "duration": 327,
    "start_time": "2021-12-21T07:38:35.026Z"
   },
   {
    "duration": 9,
    "start_time": "2021-12-21T07:38:35.355Z"
   },
   {
    "duration": 2705,
    "start_time": "2021-12-21T07:38:35.367Z"
   },
   {
    "duration": 577,
    "start_time": "2021-12-21T07:38:38.074Z"
   },
   {
    "duration": 4428,
    "start_time": "2021-12-21T07:38:38.654Z"
   },
   {
    "duration": 5248,
    "start_time": "2021-12-21T07:38:43.085Z"
   },
   {
    "duration": 11534,
    "start_time": "2021-12-21T07:38:48.336Z"
   },
   {
    "duration": 22,
    "start_time": "2021-12-21T07:38:59.873Z"
   },
   {
    "duration": 106573,
    "start_time": "2021-12-21T07:38:59.898Z"
   },
   {
    "duration": 5,
    "start_time": "2021-12-21T07:40:46.473Z"
   },
   {
    "duration": 3233,
    "start_time": "2021-12-21T07:40:46.480Z"
   },
   {
    "duration": -216,
    "start_time": "2021-12-21T07:40:49.937Z"
   },
   {
    "duration": -216,
    "start_time": "2021-12-21T07:40:49.939Z"
   },
   {
    "duration": -216,
    "start_time": "2021-12-21T07:40:49.941Z"
   },
   {
    "duration": -216,
    "start_time": "2021-12-21T07:40:49.944Z"
   },
   {
    "duration": -217,
    "start_time": "2021-12-21T07:40:49.946Z"
   },
   {
    "duration": -218,
    "start_time": "2021-12-21T07:40:49.948Z"
   },
   {
    "duration": -218,
    "start_time": "2021-12-21T07:40:49.950Z"
   },
   {
    "duration": -219,
    "start_time": "2021-12-21T07:40:49.952Z"
   },
   {
    "duration": -220,
    "start_time": "2021-12-21T07:40:49.954Z"
   },
   {
    "duration": -220,
    "start_time": "2021-12-21T07:40:49.956Z"
   },
   {
    "duration": -221,
    "start_time": "2021-12-21T07:40:49.958Z"
   },
   {
    "duration": -222,
    "start_time": "2021-12-21T07:40:49.960Z"
   },
   {
    "duration": -222,
    "start_time": "2021-12-21T07:40:49.962Z"
   },
   {
    "duration": -223,
    "start_time": "2021-12-21T07:40:49.964Z"
   },
   {
    "duration": -224,
    "start_time": "2021-12-21T07:40:49.966Z"
   },
   {
    "duration": -226,
    "start_time": "2021-12-21T07:40:49.969Z"
   },
   {
    "duration": -225,
    "start_time": "2021-12-21T07:40:49.970Z"
   },
   {
    "duration": -226,
    "start_time": "2021-12-21T07:40:49.972Z"
   },
   {
    "duration": -226,
    "start_time": "2021-12-21T07:40:49.974Z"
   },
   {
    "duration": -227,
    "start_time": "2021-12-21T07:40:49.976Z"
   },
   {
    "duration": -228,
    "start_time": "2021-12-21T07:40:49.978Z"
   },
   {
    "duration": -230,
    "start_time": "2021-12-21T07:40:49.981Z"
   },
   {
    "duration": -229,
    "start_time": "2021-12-21T07:40:49.982Z"
   },
   {
    "duration": -230,
    "start_time": "2021-12-21T07:40:49.984Z"
   },
   {
    "duration": -231,
    "start_time": "2021-12-21T07:40:49.986Z"
   },
   {
    "duration": -232,
    "start_time": "2021-12-21T07:40:49.988Z"
   },
   {
    "duration": -233,
    "start_time": "2021-12-21T07:40:49.990Z"
   },
   {
    "duration": -175,
    "start_time": "2021-12-21T07:40:49.992Z"
   },
   {
    "duration": -176,
    "start_time": "2021-12-21T07:40:49.994Z"
   },
   {
    "duration": -176,
    "start_time": "2021-12-21T07:40:49.996Z"
   },
   {
    "duration": -177,
    "start_time": "2021-12-21T07:40:49.998Z"
   },
   {
    "duration": -190,
    "start_time": "2021-12-21T07:40:50.012Z"
   },
   {
    "duration": -190,
    "start_time": "2021-12-21T07:40:50.014Z"
   },
   {
    "duration": -191,
    "start_time": "2021-12-21T07:40:50.016Z"
   },
   {
    "duration": -192,
    "start_time": "2021-12-21T07:40:50.018Z"
   },
   {
    "duration": -192,
    "start_time": "2021-12-21T07:40:50.020Z"
   },
   {
    "duration": -194,
    "start_time": "2021-12-21T07:40:50.023Z"
   },
   {
    "duration": -195,
    "start_time": "2021-12-21T07:40:50.025Z"
   },
   {
    "duration": -196,
    "start_time": "2021-12-21T07:40:50.027Z"
   },
   {
    "duration": -196,
    "start_time": "2021-12-21T07:40:50.029Z"
   },
   {
    "duration": -197,
    "start_time": "2021-12-21T07:40:50.031Z"
   },
   {
    "duration": -198,
    "start_time": "2021-12-21T07:40:50.033Z"
   },
   {
    "duration": -199,
    "start_time": "2021-12-21T07:40:50.035Z"
   },
   {
    "duration": -200,
    "start_time": "2021-12-21T07:40:50.037Z"
   },
   {
    "duration": -200,
    "start_time": "2021-12-21T07:40:50.039Z"
   },
   {
    "duration": -201,
    "start_time": "2021-12-21T07:40:50.041Z"
   },
   {
    "duration": -201,
    "start_time": "2021-12-21T07:40:50.042Z"
   },
   {
    "duration": -203,
    "start_time": "2021-12-21T07:40:50.045Z"
   },
   {
    "duration": -202,
    "start_time": "2021-12-21T07:40:50.046Z"
   },
   {
    "duration": -203,
    "start_time": "2021-12-21T07:40:50.048Z"
   },
   {
    "duration": -204,
    "start_time": "2021-12-21T07:40:50.050Z"
   },
   {
    "duration": -205,
    "start_time": "2021-12-21T07:40:50.052Z"
   },
   {
    "duration": -206,
    "start_time": "2021-12-21T07:40:50.054Z"
   },
   {
    "duration": -206,
    "start_time": "2021-12-21T07:40:50.056Z"
   },
   {
    "duration": -207,
    "start_time": "2021-12-21T07:40:50.058Z"
   },
   {
    "duration": -208,
    "start_time": "2021-12-21T07:40:50.060Z"
   },
   {
    "duration": -209,
    "start_time": "2021-12-21T07:40:50.062Z"
   },
   {
    "duration": -218,
    "start_time": "2021-12-21T07:40:50.072Z"
   },
   {
    "duration": -158,
    "start_time": "2021-12-21T07:40:50.074Z"
   },
   {
    "duration": -159,
    "start_time": "2021-12-21T07:40:50.077Z"
   },
   {
    "duration": -160,
    "start_time": "2021-12-21T07:40:50.079Z"
   },
   {
    "duration": -160,
    "start_time": "2021-12-21T07:40:50.081Z"
   },
   {
    "duration": -161,
    "start_time": "2021-12-21T07:40:50.083Z"
   },
   {
    "duration": -162,
    "start_time": "2021-12-21T07:40:50.085Z"
   },
   {
    "duration": -162,
    "start_time": "2021-12-21T07:40:50.087Z"
   },
   {
    "duration": -163,
    "start_time": "2021-12-21T07:40:50.089Z"
   },
   {
    "duration": -165,
    "start_time": "2021-12-21T07:40:50.092Z"
   },
   {
    "duration": -166,
    "start_time": "2021-12-21T07:40:50.095Z"
   },
   {
    "duration": 2697,
    "start_time": "2021-12-21T07:41:21.433Z"
   },
   {
    "duration": 3502,
    "start_time": "2021-12-21T07:43:37.811Z"
   },
   {
    "duration": 1533,
    "start_time": "2021-12-21T07:43:41.317Z"
   },
   {
    "duration": 95,
    "start_time": "2021-12-21T07:43:42.853Z"
   },
   {
    "duration": 4,
    "start_time": "2021-12-21T07:43:42.951Z"
   },
   {
    "duration": 70,
    "start_time": "2021-12-21T07:43:42.957Z"
   },
   {
    "duration": 23,
    "start_time": "2021-12-21T07:43:43.029Z"
   },
   {
    "duration": 14,
    "start_time": "2021-12-21T07:43:43.056Z"
   },
   {
    "duration": 54,
    "start_time": "2021-12-21T07:43:43.075Z"
   },
   {
    "duration": 13,
    "start_time": "2021-12-21T07:43:43.133Z"
   },
   {
    "duration": 11,
    "start_time": "2021-12-21T07:43:43.149Z"
   },
   {
    "duration": 88,
    "start_time": "2021-12-21T07:43:43.162Z"
   },
   {
    "duration": 11,
    "start_time": "2021-12-21T07:43:43.252Z"
   },
   {
    "duration": 119,
    "start_time": "2021-12-21T07:43:43.265Z"
   },
   {
    "duration": 39,
    "start_time": "2021-12-21T07:43:43.386Z"
   },
   {
    "duration": 43,
    "start_time": "2021-12-21T07:43:43.427Z"
   },
   {
    "duration": 45,
    "start_time": "2021-12-21T07:43:43.472Z"
   },
   {
    "duration": 18,
    "start_time": "2021-12-21T07:43:43.519Z"
   },
   {
    "duration": 15,
    "start_time": "2021-12-21T07:43:43.540Z"
   },
   {
    "duration": 15,
    "start_time": "2021-12-21T07:43:43.558Z"
   },
   {
    "duration": 57,
    "start_time": "2021-12-21T07:43:43.575Z"
   },
   {
    "duration": 34,
    "start_time": "2021-12-21T07:43:43.634Z"
   },
   {
    "duration": 23,
    "start_time": "2021-12-21T07:43:43.671Z"
   },
   {
    "duration": 23,
    "start_time": "2021-12-21T07:43:43.700Z"
   },
   {
    "duration": 12,
    "start_time": "2021-12-21T07:43:43.726Z"
   },
   {
    "duration": 1987,
    "start_time": "2021-12-21T07:43:43.740Z"
   },
   {
    "duration": 2428,
    "start_time": "2021-12-21T07:43:45.730Z"
   },
   {
    "duration": 5262,
    "start_time": "2021-12-21T07:43:48.161Z"
   },
   {
    "duration": 7,
    "start_time": "2021-12-21T07:43:53.425Z"
   },
   {
    "duration": 13,
    "start_time": "2021-12-21T07:43:53.434Z"
   },
   {
    "duration": 10,
    "start_time": "2021-12-21T07:43:53.449Z"
   },
   {
    "duration": 10,
    "start_time": "2021-12-21T07:43:53.461Z"
   },
   {
    "duration": 76,
    "start_time": "2021-12-21T07:43:53.473Z"
   },
   {
    "duration": 39,
    "start_time": "2021-12-21T07:43:53.551Z"
   },
   {
    "duration": 1282,
    "start_time": "2021-12-21T07:43:53.592Z"
   },
   {
    "duration": 3493,
    "start_time": "2021-12-21T07:43:54.876Z"
   },
   {
    "duration": 132,
    "start_time": "2021-12-21T07:43:58.372Z"
   },
   {
    "duration": 4509,
    "start_time": "2021-12-21T07:43:58.506Z"
   },
   {
    "duration": 5,
    "start_time": "2021-12-21T07:44:03.018Z"
   },
   {
    "duration": 24,
    "start_time": "2021-12-21T07:44:03.026Z"
   },
   {
    "duration": 12,
    "start_time": "2021-12-21T07:44:03.053Z"
   },
   {
    "duration": 9,
    "start_time": "2021-12-21T07:44:03.068Z"
   },
   {
    "duration": 352,
    "start_time": "2021-12-21T07:44:03.079Z"
   },
   {
    "duration": 10,
    "start_time": "2021-12-21T07:44:03.433Z"
   },
   {
    "duration": 2730,
    "start_time": "2021-12-21T07:44:03.446Z"
   },
   {
    "duration": 623,
    "start_time": "2021-12-21T07:44:06.178Z"
   },
   {
    "duration": 4250,
    "start_time": "2021-12-21T07:44:06.804Z"
   },
   {
    "duration": 4802,
    "start_time": "2021-12-21T07:44:11.056Z"
   },
   {
    "duration": 10886,
    "start_time": "2021-12-21T07:44:15.860Z"
   },
   {
    "duration": 23,
    "start_time": "2021-12-21T07:44:26.748Z"
   },
   {
    "duration": 109272,
    "start_time": "2021-12-21T07:44:26.774Z"
   },
   {
    "duration": 4,
    "start_time": "2021-12-21T07:46:16.049Z"
   },
   {
    "duration": 3069,
    "start_time": "2021-12-21T07:46:16.055Z"
   },
   {
    "duration": -194,
    "start_time": "2021-12-21T07:46:19.323Z"
   },
   {
    "duration": -204,
    "start_time": "2021-12-21T07:46:19.334Z"
   },
   {
    "duration": -205,
    "start_time": "2021-12-21T07:46:19.337Z"
   },
   {
    "duration": -206,
    "start_time": "2021-12-21T07:46:19.339Z"
   },
   {
    "duration": -208,
    "start_time": "2021-12-21T07:46:19.342Z"
   },
   {
    "duration": -208,
    "start_time": "2021-12-21T07:46:19.344Z"
   },
   {
    "duration": -209,
    "start_time": "2021-12-21T07:46:19.346Z"
   },
   {
    "duration": -211,
    "start_time": "2021-12-21T07:46:19.349Z"
   },
   {
    "duration": -211,
    "start_time": "2021-12-21T07:46:19.351Z"
   },
   {
    "duration": -212,
    "start_time": "2021-12-21T07:46:19.353Z"
   },
   {
    "duration": -212,
    "start_time": "2021-12-21T07:46:19.355Z"
   },
   {
    "duration": -214,
    "start_time": "2021-12-21T07:46:19.358Z"
   },
   {
    "duration": -215,
    "start_time": "2021-12-21T07:46:19.360Z"
   },
   {
    "duration": -215,
    "start_time": "2021-12-21T07:46:19.362Z"
   },
   {
    "duration": -216,
    "start_time": "2021-12-21T07:46:19.364Z"
   },
   {
    "duration": -217,
    "start_time": "2021-12-21T07:46:19.366Z"
   },
   {
    "duration": -217,
    "start_time": "2021-12-21T07:46:19.368Z"
   },
   {
    "duration": -219,
    "start_time": "2021-12-21T07:46:19.371Z"
   },
   {
    "duration": -219,
    "start_time": "2021-12-21T07:46:19.373Z"
   },
   {
    "duration": -220,
    "start_time": "2021-12-21T07:46:19.375Z"
   },
   {
    "duration": -221,
    "start_time": "2021-12-21T07:46:19.377Z"
   },
   {
    "duration": -221,
    "start_time": "2021-12-21T07:46:19.379Z"
   },
   {
    "duration": -222,
    "start_time": "2021-12-21T07:46:19.381Z"
   },
   {
    "duration": -223,
    "start_time": "2021-12-21T07:46:19.384Z"
   },
   {
    "duration": -224,
    "start_time": "2021-12-21T07:46:19.386Z"
   },
   {
    "duration": -170,
    "start_time": "2021-12-21T07:46:19.388Z"
   },
   {
    "duration": -173,
    "start_time": "2021-12-21T07:46:19.392Z"
   },
   {
    "duration": -173,
    "start_time": "2021-12-21T07:46:19.394Z"
   },
   {
    "duration": -175,
    "start_time": "2021-12-21T07:46:19.397Z"
   },
   {
    "duration": -175,
    "start_time": "2021-12-21T07:46:19.399Z"
   },
   {
    "duration": -176,
    "start_time": "2021-12-21T07:46:19.402Z"
   },
   {
    "duration": -178,
    "start_time": "2021-12-21T07:46:19.405Z"
   },
   {
    "duration": -194,
    "start_time": "2021-12-21T07:46:19.422Z"
   },
   {
    "duration": -198,
    "start_time": "2021-12-21T07:46:19.428Z"
   },
   {
    "duration": -200,
    "start_time": "2021-12-21T07:46:19.431Z"
   },
   {
    "duration": -201,
    "start_time": "2021-12-21T07:46:19.434Z"
   },
   {
    "duration": -203,
    "start_time": "2021-12-21T07:46:19.437Z"
   },
   {
    "duration": -204,
    "start_time": "2021-12-21T07:46:19.440Z"
   },
   {
    "duration": -206,
    "start_time": "2021-12-21T07:46:19.444Z"
   },
   {
    "duration": -208,
    "start_time": "2021-12-21T07:46:19.447Z"
   },
   {
    "duration": -209,
    "start_time": "2021-12-21T07:46:19.450Z"
   },
   {
    "duration": -211,
    "start_time": "2021-12-21T07:46:19.453Z"
   },
   {
    "duration": -212,
    "start_time": "2021-12-21T07:46:19.455Z"
   },
   {
    "duration": -213,
    "start_time": "2021-12-21T07:46:19.458Z"
   },
   {
    "duration": -213,
    "start_time": "2021-12-21T07:46:19.460Z"
   },
   {
    "duration": -215,
    "start_time": "2021-12-21T07:46:19.463Z"
   },
   {
    "duration": -215,
    "start_time": "2021-12-21T07:46:19.465Z"
   },
   {
    "duration": -217,
    "start_time": "2021-12-21T07:46:19.468Z"
   },
   {
    "duration": -217,
    "start_time": "2021-12-21T07:46:19.470Z"
   },
   {
    "duration": -219,
    "start_time": "2021-12-21T07:46:19.473Z"
   },
   {
    "duration": -219,
    "start_time": "2021-12-21T07:46:19.475Z"
   },
   {
    "duration": -161,
    "start_time": "2021-12-21T07:46:19.478Z"
   },
   {
    "duration": -161,
    "start_time": "2021-12-21T07:46:19.480Z"
   },
   {
    "duration": -162,
    "start_time": "2021-12-21T07:46:19.483Z"
   },
   {
    "duration": -163,
    "start_time": "2021-12-21T07:46:19.485Z"
   },
   {
    "duration": -164,
    "start_time": "2021-12-21T07:46:19.488Z"
   },
   {
    "duration": -180,
    "start_time": "2021-12-21T07:46:19.505Z"
   },
   {
    "duration": -181,
    "start_time": "2021-12-21T07:46:19.508Z"
   },
   {
    "duration": -182,
    "start_time": "2021-12-21T07:46:19.510Z"
   },
   {
    "duration": -182,
    "start_time": "2021-12-21T07:46:19.512Z"
   },
   {
    "duration": -203,
    "start_time": "2021-12-21T07:46:19.534Z"
   },
   {
    "duration": -223,
    "start_time": "2021-12-21T07:46:19.556Z"
   },
   {
    "duration": -244,
    "start_time": "2021-12-21T07:46:19.578Z"
   },
   {
    "duration": -245,
    "start_time": "2021-12-21T07:46:19.580Z"
   },
   {
    "duration": -247,
    "start_time": "2021-12-21T07:46:19.584Z"
   },
   {
    "duration": -250,
    "start_time": "2021-12-21T07:46:19.588Z"
   },
   {
    "duration": -252,
    "start_time": "2021-12-21T07:46:19.592Z"
   },
   {
    "duration": -254,
    "start_time": "2021-12-21T07:46:19.596Z"
   },
   {
    "duration": 21,
    "start_time": "2021-12-21T07:47:22.871Z"
   },
   {
    "duration": 4,
    "start_time": "2021-12-21T07:47:23.057Z"
   },
   {
    "duration": 3650,
    "start_time": "2021-12-21T07:47:24.726Z"
   },
   {
    "duration": 5931,
    "start_time": "2021-12-21T07:47:34.068Z"
   },
   {
    "duration": 181,
    "start_time": "2021-12-21T07:47:40.002Z"
   },
   {
    "duration": 4,
    "start_time": "2021-12-21T07:49:40.216Z"
   },
   {
    "duration": 5,
    "start_time": "2021-12-21T07:49:40.922Z"
   },
   {
    "duration": 6,
    "start_time": "2021-12-21T07:49:41.389Z"
   },
   {
    "duration": 14,
    "start_time": "2021-12-21T07:49:42.503Z"
   },
   {
    "duration": 10,
    "start_time": "2021-12-21T07:49:42.761Z"
   },
   {
    "duration": 30,
    "start_time": "2021-12-21T07:49:42.937Z"
   },
   {
    "duration": 26,
    "start_time": "2021-12-21T07:49:43.076Z"
   },
   {
    "duration": 3386,
    "start_time": "2021-12-21T07:49:43.215Z"
   },
   {
    "duration": -231,
    "start_time": "2021-12-21T07:49:46.835Z"
   },
   {
    "duration": 17253,
    "start_time": "2021-12-21T07:53:59.146Z"
   },
   {
    "duration": 198,
    "start_time": "2021-12-21T07:54:19.122Z"
   },
   {
    "duration": 6366,
    "start_time": "2021-12-21T07:54:32.695Z"
   },
   {
    "duration": 175,
    "start_time": "2021-12-21T07:54:39.063Z"
   },
   {
    "duration": 361,
    "start_time": "2021-12-21T07:54:56.065Z"
   },
   {
    "duration": 16,
    "start_time": "2021-12-21T07:55:05.711Z"
   },
   {
    "duration": 10001,
    "start_time": "2021-12-21T07:55:06.188Z"
   },
   {
    "duration": 179,
    "start_time": "2021-12-21T07:55:16.192Z"
   },
   {
    "duration": 17557,
    "start_time": "2021-12-21T07:59:59.428Z"
   },
   {
    "duration": 216,
    "start_time": "2021-12-21T08:00:16.988Z"
   },
   {
    "duration": 9203,
    "start_time": "2021-12-21T08:00:36.748Z"
   },
   {
    "duration": 269,
    "start_time": "2021-12-21T08:00:45.955Z"
   },
   {
    "duration": 10146,
    "start_time": "2021-12-21T08:01:21.253Z"
   },
   {
    "duration": 276,
    "start_time": "2021-12-21T08:01:31.402Z"
   },
   {
    "duration": 4255,
    "start_time": "2021-12-21T08:02:26.915Z"
   },
   {
    "duration": 24,
    "start_time": "2021-12-21T08:02:31.174Z"
   },
   {
    "duration": 4,
    "start_time": "2021-12-21T08:02:31.202Z"
   },
   {
    "duration": 285,
    "start_time": "2021-12-21T08:02:31.209Z"
   },
   {
    "duration": -92,
    "start_time": "2021-12-21T08:02:31.590Z"
   },
   {
    "duration": -93,
    "start_time": "2021-12-21T08:02:31.592Z"
   },
   {
    "duration": -94,
    "start_time": "2021-12-21T08:02:31.595Z"
   },
   {
    "duration": -95,
    "start_time": "2021-12-21T08:02:31.597Z"
   },
   {
    "duration": -101,
    "start_time": "2021-12-21T08:02:31.605Z"
   },
   {
    "duration": -103,
    "start_time": "2021-12-21T08:02:31.608Z"
   },
   {
    "duration": -103,
    "start_time": "2021-12-21T08:02:31.610Z"
   },
   {
    "duration": -134,
    "start_time": "2021-12-21T08:02:31.642Z"
   },
   {
    "duration": -142,
    "start_time": "2021-12-21T08:02:31.651Z"
   },
   {
    "duration": -144,
    "start_time": "2021-12-21T08:02:31.654Z"
   },
   {
    "duration": -144,
    "start_time": "2021-12-21T08:02:31.656Z"
   },
   {
    "duration": -145,
    "start_time": "2021-12-21T08:02:31.658Z"
   },
   {
    "duration": -146,
    "start_time": "2021-12-21T08:02:31.660Z"
   },
   {
    "duration": -146,
    "start_time": "2021-12-21T08:02:31.662Z"
   },
   {
    "duration": -147,
    "start_time": "2021-12-21T08:02:31.664Z"
   },
   {
    "duration": -148,
    "start_time": "2021-12-21T08:02:31.666Z"
   },
   {
    "duration": -148,
    "start_time": "2021-12-21T08:02:31.668Z"
   },
   {
    "duration": -149,
    "start_time": "2021-12-21T08:02:31.670Z"
   },
   {
    "duration": -150,
    "start_time": "2021-12-21T08:02:31.672Z"
   },
   {
    "duration": -150,
    "start_time": "2021-12-21T08:02:31.674Z"
   },
   {
    "duration": -152,
    "start_time": "2021-12-21T08:02:31.677Z"
   },
   {
    "duration": -161,
    "start_time": "2021-12-21T08:02:31.687Z"
   },
   {
    "duration": -161,
    "start_time": "2021-12-21T08:02:31.689Z"
   },
   {
    "duration": -162,
    "start_time": "2021-12-21T08:02:31.691Z"
   },
   {
    "duration": -164,
    "start_time": "2021-12-21T08:02:31.694Z"
   },
   {
    "duration": -163,
    "start_time": "2021-12-21T08:02:31.695Z"
   },
   {
    "duration": -165,
    "start_time": "2021-12-21T08:02:31.698Z"
   },
   {
    "duration": -165,
    "start_time": "2021-12-21T08:02:31.700Z"
   },
   {
    "duration": -192,
    "start_time": "2021-12-21T08:02:31.728Z"
   },
   {
    "duration": -199,
    "start_time": "2021-12-21T08:02:31.736Z"
   },
   {
    "duration": -200,
    "start_time": "2021-12-21T08:02:31.738Z"
   },
   {
    "duration": -205,
    "start_time": "2021-12-21T08:02:31.745Z"
   },
   {
    "duration": -207,
    "start_time": "2021-12-21T08:02:31.748Z"
   },
   {
    "duration": -227,
    "start_time": "2021-12-21T08:02:31.769Z"
   },
   {
    "duration": -228,
    "start_time": "2021-12-21T08:02:31.772Z"
   },
   {
    "duration": -229,
    "start_time": "2021-12-21T08:02:31.774Z"
   },
   {
    "duration": -231,
    "start_time": "2021-12-21T08:02:31.777Z"
   },
   {
    "duration": -231,
    "start_time": "2021-12-21T08:02:31.779Z"
   },
   {
    "duration": -232,
    "start_time": "2021-12-21T08:02:31.781Z"
   },
   {
    "duration": -233,
    "start_time": "2021-12-21T08:02:31.783Z"
   },
   {
    "duration": -233,
    "start_time": "2021-12-21T08:02:31.785Z"
   },
   {
    "duration": -234,
    "start_time": "2021-12-21T08:02:31.787Z"
   },
   {
    "duration": -235,
    "start_time": "2021-12-21T08:02:31.789Z"
   },
   {
    "duration": 27,
    "start_time": "2021-12-21T08:03:13.465Z"
   },
   {
    "duration": 4728,
    "start_time": "2021-12-21T08:03:13.495Z"
   },
   {
    "duration": 6,
    "start_time": "2021-12-21T08:03:18.226Z"
   },
   {
    "duration": 105090,
    "start_time": "2021-12-21T08:03:18.234Z"
   },
   {
    "duration": 792,
    "start_time": "2021-12-21T08:05:03.326Z"
   },
   {
    "duration": 2302,
    "start_time": "2021-12-21T08:05:04.121Z"
   },
   {
    "duration": 19,
    "start_time": "2021-12-21T08:05:06.426Z"
   },
   {
    "duration": 22640,
    "start_time": "2021-12-21T08:05:06.450Z"
   },
   {
    "duration": 2541,
    "start_time": "2021-12-21T08:05:29.094Z"
   },
   {
    "duration": 243,
    "start_time": "2021-12-21T08:05:31.640Z"
   },
   {
    "duration": 6,
    "start_time": "2021-12-21T08:05:31.886Z"
   },
   {
    "duration": 34,
    "start_time": "2021-12-21T08:05:31.894Z"
   },
   {
    "duration": 20,
    "start_time": "2021-12-21T08:05:31.930Z"
   },
   {
    "duration": 3,
    "start_time": "2021-12-21T08:05:31.952Z"
   },
   {
    "duration": 15,
    "start_time": "2021-12-21T08:05:31.958Z"
   },
   {
    "duration": 313,
    "start_time": "2021-12-21T08:05:31.975Z"
   },
   {
    "duration": 63,
    "start_time": "2021-12-21T08:05:32.290Z"
   },
   {
    "duration": 4,
    "start_time": "2021-12-21T08:05:32.355Z"
   },
   {
    "duration": 55,
    "start_time": "2021-12-21T08:05:32.362Z"
   },
   {
    "duration": 7,
    "start_time": "2021-12-21T08:05:32.420Z"
   },
   {
    "duration": 14,
    "start_time": "2021-12-21T08:05:32.429Z"
   },
   {
    "duration": 8,
    "start_time": "2021-12-21T08:05:32.445Z"
   },
   {
    "duration": 8,
    "start_time": "2021-12-21T08:05:32.458Z"
   },
   {
    "duration": 50,
    "start_time": "2021-12-21T08:05:32.469Z"
   },
   {
    "duration": 4699,
    "start_time": "2021-12-21T08:05:32.521Z"
   },
   {
    "duration": 494,
    "start_time": "2021-12-21T08:05:37.224Z"
   },
   {
    "duration": 276,
    "start_time": "2021-12-21T08:05:37.722Z"
   },
   {
    "duration": -90,
    "start_time": "2021-12-21T08:05:38.091Z"
   },
   {
    "duration": -91,
    "start_time": "2021-12-21T08:05:38.093Z"
   },
   {
    "duration": -152,
    "start_time": "2021-12-21T08:05:38.156Z"
   },
   {
    "duration": -162,
    "start_time": "2021-12-21T08:05:38.167Z"
   },
   {
    "duration": -163,
    "start_time": "2021-12-21T08:05:38.170Z"
   },
   {
    "duration": -164,
    "start_time": "2021-12-21T08:05:38.172Z"
   },
   {
    "duration": -165,
    "start_time": "2021-12-21T08:05:38.174Z"
   },
   {
    "duration": -166,
    "start_time": "2021-12-21T08:05:38.176Z"
   },
   {
    "duration": -166,
    "start_time": "2021-12-21T08:05:38.178Z"
   },
   {
    "duration": -167,
    "start_time": "2021-12-21T08:05:38.180Z"
   },
   {
    "duration": -168,
    "start_time": "2021-12-21T08:05:38.182Z"
   },
   {
    "duration": -176,
    "start_time": "2021-12-21T08:05:38.192Z"
   },
   {
    "duration": -177,
    "start_time": "2021-12-21T08:05:38.194Z"
   },
   {
    "duration": 2369,
    "start_time": "2021-12-21T08:16:07.574Z"
   },
   {
    "duration": 232,
    "start_time": "2021-12-21T08:16:09.947Z"
   },
   {
    "duration": 6,
    "start_time": "2021-12-21T08:16:10.182Z"
   },
   {
    "duration": 32,
    "start_time": "2021-12-21T08:16:10.191Z"
   },
   {
    "duration": 18,
    "start_time": "2021-12-21T08:16:10.226Z"
   },
   {
    "duration": 4,
    "start_time": "2021-12-21T08:22:23.952Z"
   },
   {
    "duration": 14,
    "start_time": "2021-12-21T08:22:24.397Z"
   },
   {
    "duration": 283,
    "start_time": "2021-12-21T08:22:25.942Z"
   },
   {
    "duration": 2861,
    "start_time": "2021-12-21T08:25:52.156Z"
   },
   {
    "duration": 214,
    "start_time": "2021-12-21T08:25:55.020Z"
   },
   {
    "duration": 8,
    "start_time": "2021-12-21T08:25:55.238Z"
   },
   {
    "duration": 13,
    "start_time": "2021-12-21T08:25:55.249Z"
   },
   {
    "duration": 19,
    "start_time": "2021-12-21T08:25:55.264Z"
   },
   {
    "duration": 4,
    "start_time": "2021-12-21T08:25:57.934Z"
   },
   {
    "duration": 13,
    "start_time": "2021-12-21T08:25:58.189Z"
   },
   {
    "duration": 267,
    "start_time": "2021-12-21T08:26:02.351Z"
   },
   {
    "duration": 2386,
    "start_time": "2021-12-21T08:26:48.539Z"
   },
   {
    "duration": 255,
    "start_time": "2021-12-21T08:26:50.929Z"
   },
   {
    "duration": 6,
    "start_time": "2021-12-21T08:26:51.187Z"
   },
   {
    "duration": 35,
    "start_time": "2021-12-21T08:26:51.195Z"
   },
   {
    "duration": 18,
    "start_time": "2021-12-21T08:26:51.232Z"
   },
   {
    "duration": 4,
    "start_time": "2021-12-21T08:26:51.253Z"
   },
   {
    "duration": 14,
    "start_time": "2021-12-21T08:26:51.292Z"
   },
   {
    "duration": 273,
    "start_time": "2021-12-21T08:26:52.874Z"
   },
   {
    "duration": 2566,
    "start_time": "2021-12-21T08:27:05.252Z"
   },
   {
    "duration": 171,
    "start_time": "2021-12-21T08:27:07.822Z"
   },
   {
    "duration": 7,
    "start_time": "2021-12-21T08:27:07.996Z"
   },
   {
    "duration": 14,
    "start_time": "2021-12-21T08:27:08.019Z"
   },
   {
    "duration": 54,
    "start_time": "2021-12-21T08:27:08.036Z"
   },
   {
    "duration": 43,
    "start_time": "2021-12-21T08:27:08.092Z"
   },
   {
    "duration": 70,
    "start_time": "2021-12-21T08:27:08.137Z"
   },
   {
    "duration": 323,
    "start_time": "2021-12-21T08:27:10.469Z"
   },
   {
    "duration": 2523,
    "start_time": "2021-12-21T08:27:37.317Z"
   },
   {
    "duration": 168,
    "start_time": "2021-12-21T08:27:39.918Z"
   },
   {
    "duration": 7,
    "start_time": "2021-12-21T08:27:40.088Z"
   },
   {
    "duration": 14,
    "start_time": "2021-12-21T08:27:40.116Z"
   },
   {
    "duration": 19,
    "start_time": "2021-12-21T08:27:40.133Z"
   },
   {
    "duration": 4,
    "start_time": "2021-12-21T08:27:40.154Z"
   },
   {
    "duration": 14,
    "start_time": "2021-12-21T08:27:40.160Z"
   },
   {
    "duration": 307,
    "start_time": "2021-12-21T08:27:40.903Z"
   },
   {
    "duration": 3484,
    "start_time": "2021-12-21T08:28:27.738Z"
   },
   {
    "duration": 1542,
    "start_time": "2021-12-21T08:28:31.226Z"
   },
   {
    "duration": 97,
    "start_time": "2021-12-21T08:28:32.770Z"
   },
   {
    "duration": 5,
    "start_time": "2021-12-21T08:28:32.869Z"
   },
   {
    "duration": 64,
    "start_time": "2021-12-21T08:28:32.876Z"
   },
   {
    "duration": 23,
    "start_time": "2021-12-21T08:28:32.942Z"
   },
   {
    "duration": 13,
    "start_time": "2021-12-21T08:28:32.967Z"
   },
   {
    "duration": 50,
    "start_time": "2021-12-21T08:28:32.984Z"
   },
   {
    "duration": 10,
    "start_time": "2021-12-21T08:28:33.036Z"
   },
   {
    "duration": 23,
    "start_time": "2021-12-21T08:28:33.049Z"
   },
   {
    "duration": 67,
    "start_time": "2021-12-21T08:28:33.075Z"
   },
   {
    "duration": 10,
    "start_time": "2021-12-21T08:28:33.145Z"
   },
   {
    "duration": 118,
    "start_time": "2021-12-21T08:28:33.157Z"
   },
   {
    "duration": 46,
    "start_time": "2021-12-21T08:28:33.278Z"
   },
   {
    "duration": 43,
    "start_time": "2021-12-21T08:28:33.327Z"
   },
   {
    "duration": 7,
    "start_time": "2021-12-21T08:28:33.372Z"
   },
   {
    "duration": 53,
    "start_time": "2021-12-21T08:28:33.381Z"
   },
   {
    "duration": 16,
    "start_time": "2021-12-21T08:28:33.437Z"
   },
   {
    "duration": 17,
    "start_time": "2021-12-21T08:28:33.455Z"
   },
   {
    "duration": 61,
    "start_time": "2021-12-21T08:28:33.474Z"
   },
   {
    "duration": 21,
    "start_time": "2021-12-21T08:28:33.538Z"
   },
   {
    "duration": 24,
    "start_time": "2021-12-21T08:28:33.562Z"
   },
   {
    "duration": 5,
    "start_time": "2021-12-21T08:28:33.620Z"
   },
   {
    "duration": 5,
    "start_time": "2021-12-21T08:28:33.629Z"
   },
   {
    "duration": 2017,
    "start_time": "2021-12-21T08:28:33.637Z"
   },
   {
    "duration": 2276,
    "start_time": "2021-12-21T08:28:35.657Z"
   },
   {
    "duration": 5820,
    "start_time": "2021-12-21T08:28:37.935Z"
   },
   {
    "duration": 9,
    "start_time": "2021-12-21T08:28:43.758Z"
   },
   {
    "duration": 14,
    "start_time": "2021-12-21T08:28:43.771Z"
   },
   {
    "duration": 10,
    "start_time": "2021-12-21T08:28:43.818Z"
   },
   {
    "duration": 8,
    "start_time": "2021-12-21T08:28:43.831Z"
   },
   {
    "duration": 32,
    "start_time": "2021-12-21T08:28:43.841Z"
   },
   {
    "duration": 89,
    "start_time": "2021-12-21T08:28:43.876Z"
   },
   {
    "duration": 1124,
    "start_time": "2021-12-21T08:28:43.967Z"
   },
   {
    "duration": 3760,
    "start_time": "2021-12-21T08:28:45.094Z"
   },
   {
    "duration": 171,
    "start_time": "2021-12-21T08:28:48.858Z"
   },
   {
    "duration": 3874,
    "start_time": "2021-12-21T08:28:49.032Z"
   },
   {
    "duration": 8,
    "start_time": "2021-12-21T08:28:52.909Z"
   },
   {
    "duration": 20,
    "start_time": "2021-12-21T08:28:52.920Z"
   },
   {
    "duration": 10,
    "start_time": "2021-12-21T08:28:52.943Z"
   },
   {
    "duration": 8,
    "start_time": "2021-12-21T08:28:52.956Z"
   },
   {
    "duration": 334,
    "start_time": "2021-12-21T08:28:52.967Z"
   },
   {
    "duration": 19,
    "start_time": "2021-12-21T08:28:53.304Z"
   },
   {
    "duration": 2649,
    "start_time": "2021-12-21T08:28:53.326Z"
   },
   {
    "duration": 654,
    "start_time": "2021-12-21T08:28:55.977Z"
   },
   {
    "duration": 4186,
    "start_time": "2021-12-21T08:28:56.633Z"
   },
   {
    "duration": 5367,
    "start_time": "2021-12-21T08:29:00.822Z"
   },
   {
    "duration": 10904,
    "start_time": "2021-12-21T08:29:06.192Z"
   },
   {
    "duration": 28,
    "start_time": "2021-12-21T08:29:17.099Z"
   },
   {
    "duration": 3,
    "start_time": "2021-12-21T08:29:17.130Z"
   },
   {
    "duration": 3735,
    "start_time": "2021-12-21T08:29:17.136Z"
   },
   {
    "duration": 6067,
    "start_time": "2021-12-21T08:29:20.874Z"
   },
   {
    "duration": 179,
    "start_time": "2021-12-21T08:29:26.944Z"
   },
   {
    "duration": 5,
    "start_time": "2021-12-21T08:29:27.126Z"
   },
   {
    "duration": 5,
    "start_time": "2021-12-21T08:29:27.134Z"
   },
   {
    "duration": 6,
    "start_time": "2021-12-21T08:29:27.142Z"
   },
   {
    "duration": 18,
    "start_time": "2021-12-21T08:29:27.150Z"
   },
   {
    "duration": 53,
    "start_time": "2021-12-21T08:29:27.170Z"
   },
   {
    "duration": 34,
    "start_time": "2021-12-21T08:29:27.226Z"
   },
   {
    "duration": 59,
    "start_time": "2021-12-21T08:29:27.262Z"
   },
   {
    "duration": 16652,
    "start_time": "2021-12-21T08:29:27.323Z"
   },
   {
    "duration": 215,
    "start_time": "2021-12-21T08:29:43.977Z"
   },
   {
    "duration": 6347,
    "start_time": "2021-12-21T08:29:44.194Z"
   },
   {
    "duration": 179,
    "start_time": "2021-12-21T08:29:50.543Z"
   },
   {
    "duration": 16,
    "start_time": "2021-12-21T08:29:50.725Z"
   },
   {
    "duration": 10186,
    "start_time": "2021-12-21T08:29:50.743Z"
   },
   {
    "duration": 182,
    "start_time": "2021-12-21T08:30:00.932Z"
   },
   {
    "duration": 3803,
    "start_time": "2021-12-21T08:30:01.124Z"
   },
   {
    "duration": 24,
    "start_time": "2021-12-21T08:30:04.931Z"
   },
   {
    "duration": 22,
    "start_time": "2021-12-21T08:30:04.957Z"
   },
   {
    "duration": 7,
    "start_time": "2021-12-21T08:30:04.981Z"
   },
   {
    "duration": 79702,
    "start_time": "2021-12-21T08:30:04.990Z"
   },
   {
    "duration": 747,
    "start_time": "2021-12-21T08:31:24.694Z"
   },
   {
    "duration": 17,
    "start_time": "2021-12-21T08:31:25.443Z"
   },
   {
    "duration": 22861,
    "start_time": "2021-12-21T08:31:25.462Z"
   },
   {
    "duration": 2413,
    "start_time": "2021-12-21T08:31:48.326Z"
   },
   {
    "duration": 167,
    "start_time": "2021-12-21T08:31:50.818Z"
   },
   {
    "duration": 6,
    "start_time": "2021-12-21T08:31:50.987Z"
   },
   {
    "duration": 36,
    "start_time": "2021-12-21T08:31:50.995Z"
   },
   {
    "duration": 19,
    "start_time": "2021-12-21T08:31:51.033Z"
   },
   {
    "duration": 4,
    "start_time": "2021-12-21T08:31:51.054Z"
   },
   {
    "duration": 19,
    "start_time": "2021-12-21T08:31:51.060Z"
   },
   {
    "duration": 311,
    "start_time": "2021-12-21T08:31:51.118Z"
   },
   {
    "duration": 52,
    "start_time": "2021-12-21T08:31:51.432Z"
   },
   {
    "duration": 4,
    "start_time": "2021-12-21T08:31:51.486Z"
   },
   {
    "duration": 58,
    "start_time": "2021-12-21T08:31:51.492Z"
   },
   {
    "duration": 6,
    "start_time": "2021-12-21T08:31:51.553Z"
   },
   {
    "duration": 12,
    "start_time": "2021-12-21T08:31:51.561Z"
   },
   {
    "duration": 8,
    "start_time": "2021-12-21T08:31:51.575Z"
   },
   {
    "duration": 38,
    "start_time": "2021-12-21T08:31:51.585Z"
   },
   {
    "duration": 10,
    "start_time": "2021-12-21T08:31:51.626Z"
   },
   {
    "duration": 6782,
    "start_time": "2021-12-21T08:31:51.638Z"
   },
   {
    "duration": 495,
    "start_time": "2021-12-21T08:31:58.424Z"
   },
   {
    "duration": 506,
    "start_time": "2021-12-21T08:31:58.922Z"
   },
   {
    "duration": -96,
    "start_time": "2021-12-21T08:31:59.528Z"
   },
   {
    "duration": -96,
    "start_time": "2021-12-21T08:31:59.530Z"
   },
   {
    "duration": -102,
    "start_time": "2021-12-21T08:31:59.538Z"
   },
   {
    "duration": -141,
    "start_time": "2021-12-21T08:31:59.579Z"
   },
   {
    "duration": -142,
    "start_time": "2021-12-21T08:31:59.582Z"
   },
   {
    "duration": -141,
    "start_time": "2021-12-21T08:31:59.584Z"
   },
   {
    "duration": -142,
    "start_time": "2021-12-21T08:31:59.587Z"
   },
   {
    "duration": -142,
    "start_time": "2021-12-21T08:31:59.589Z"
   },
   {
    "duration": -142,
    "start_time": "2021-12-21T08:31:59.591Z"
   },
   {
    "duration": -142,
    "start_time": "2021-12-21T08:31:59.594Z"
   },
   {
    "duration": -142,
    "start_time": "2021-12-21T08:31:59.596Z"
   },
   {
    "duration": -142,
    "start_time": "2021-12-21T08:31:59.598Z"
   },
   {
    "duration": -142,
    "start_time": "2021-12-21T08:31:59.600Z"
   },
   {
    "duration": 15,
    "start_time": "2021-12-21T08:33:12.749Z"
   },
   {
    "duration": 40,
    "start_time": "2021-12-21T08:34:10.309Z"
   },
   {
    "duration": 351,
    "start_time": "2021-12-21T08:35:45.802Z"
   },
   {
    "duration": 485,
    "start_time": "2021-12-21T08:40:33.113Z"
   },
   {
    "duration": 277,
    "start_time": "2021-12-21T08:41:11.750Z"
   },
   {
    "duration": 34,
    "start_time": "2021-12-21T08:41:58.806Z"
   },
   {
    "duration": 33,
    "start_time": "2021-12-21T08:42:10.591Z"
   },
   {
    "duration": 233,
    "start_time": "2021-12-21T08:42:15.887Z"
   },
   {
    "duration": 9,
    "start_time": "2021-12-21T08:42:42.252Z"
   },
   {
    "duration": 266,
    "start_time": "2021-12-21T08:43:24.053Z"
   },
   {
    "duration": 13,
    "start_time": "2021-12-21T08:43:56.466Z"
   },
   {
    "duration": 13,
    "start_time": "2021-12-21T08:44:00.767Z"
   },
   {
    "duration": 413,
    "start_time": "2021-12-21T08:44:16.772Z"
   },
   {
    "duration": 425,
    "start_time": "2021-12-21T08:44:42.645Z"
   },
   {
    "duration": 455,
    "start_time": "2021-12-21T08:45:06.466Z"
   },
   {
    "duration": 437,
    "start_time": "2021-12-21T08:45:51.605Z"
   },
   {
    "duration": 435,
    "start_time": "2021-12-21T08:46:11.335Z"
   },
   {
    "duration": 1418,
    "start_time": "2021-12-21T08:47:40.566Z"
   },
   {
    "duration": 1800,
    "start_time": "2021-12-21T08:47:48.852Z"
   },
   {
    "duration": 1775,
    "start_time": "2021-12-21T08:48:09.646Z"
   },
   {
    "duration": 1965,
    "start_time": "2021-12-21T08:48:15.185Z"
   },
   {
    "duration": 2013,
    "start_time": "2021-12-21T08:48:56.426Z"
   },
   {
    "duration": 389,
    "start_time": "2021-12-21T09:02:36.302Z"
   },
   {
    "duration": 1491,
    "start_time": "2021-12-21T09:03:21.674Z"
   },
   {
    "duration": 757,
    "start_time": "2021-12-21T09:03:43.067Z"
   },
   {
    "duration": 2371,
    "start_time": "2021-12-21T09:03:53.084Z"
   },
   {
    "duration": 493,
    "start_time": "2021-12-21T09:04:03.685Z"
   },
   {
    "duration": 6,
    "start_time": "2021-12-21T09:05:32.438Z"
   },
   {
    "duration": 6,
    "start_time": "2021-12-21T09:05:45.081Z"
   },
   {
    "duration": 4,
    "start_time": "2021-12-21T09:06:01.538Z"
   },
   {
    "duration": 246,
    "start_time": "2021-12-21T09:06:28.011Z"
   },
   {
    "duration": 9744,
    "start_time": "2021-12-21T09:07:03.467Z"
   },
   {
    "duration": 10185,
    "start_time": "2021-12-21T09:07:44.610Z"
   },
   {
    "duration": 11277,
    "start_time": "2021-12-21T09:08:08.772Z"
   },
   {
    "duration": 454,
    "start_time": "2021-12-21T09:09:28.259Z"
   },
   {
    "duration": 11276,
    "start_time": "2021-12-21T09:09:33.310Z"
   },
   {
    "duration": 3786,
    "start_time": "2021-12-21T09:10:28.182Z"
   },
   {
    "duration": 293,
    "start_time": "2021-12-21T09:12:42.419Z"
   },
   {
    "duration": 10091,
    "start_time": "2021-12-21T09:12:47.075Z"
   },
   {
    "duration": 10137,
    "start_time": "2021-12-21T09:13:04.704Z"
   },
   {
    "duration": 9355,
    "start_time": "2021-12-21T09:14:46.147Z"
   },
   {
    "duration": 3035,
    "start_time": "2021-12-21T09:15:03.287Z"
   },
   {
    "duration": 3104,
    "start_time": "2021-12-21T09:15:15.422Z"
   },
   {
    "duration": 3180,
    "start_time": "2021-12-21T09:15:42.676Z"
   },
   {
    "duration": 281,
    "start_time": "2021-12-21T09:16:04.956Z"
   },
   {
    "duration": 325,
    "start_time": "2021-12-21T09:16:14.967Z"
   },
   {
    "duration": 307,
    "start_time": "2021-12-21T09:16:47.170Z"
   },
   {
    "duration": 3245,
    "start_time": "2021-12-21T09:16:50.223Z"
   },
   {
    "duration": 2984,
    "start_time": "2021-12-21T09:17:07.192Z"
   },
   {
    "duration": 1047,
    "start_time": "2021-12-21T09:19:11.897Z"
   },
   {
    "duration": 518,
    "start_time": "2021-12-21T09:19:21.995Z"
   },
   {
    "duration": 544,
    "start_time": "2021-12-21T09:19:25.622Z"
   },
   {
    "duration": 516,
    "start_time": "2021-12-21T09:19:32.723Z"
   },
   {
    "duration": 372,
    "start_time": "2021-12-21T09:19:41.506Z"
   },
   {
    "duration": 632,
    "start_time": "2021-12-21T09:19:56.212Z"
   },
   {
    "duration": 479,
    "start_time": "2021-12-21T09:21:45.675Z"
   },
   {
    "duration": 494,
    "start_time": "2021-12-21T09:21:53.602Z"
   },
   {
    "duration": 1631,
    "start_time": "2021-12-21T09:21:58.408Z"
   },
   {
    "duration": 437,
    "start_time": "2021-12-21T09:22:33.346Z"
   },
   {
    "duration": 208,
    "start_time": "2021-12-21T09:22:52.993Z"
   },
   {
    "duration": 214,
    "start_time": "2021-12-21T09:23:08.037Z"
   },
   {
    "duration": 307,
    "start_time": "2021-12-21T09:23:40.333Z"
   },
   {
    "duration": 225,
    "start_time": "2021-12-21T09:23:49.722Z"
   },
   {
    "duration": 23,
    "start_time": "2021-12-21T09:24:00.511Z"
   },
   {
    "duration": 337,
    "start_time": "2021-12-21T09:30:26.484Z"
   },
   {
    "duration": 567,
    "start_time": "2021-12-21T09:31:13.221Z"
   },
   {
    "duration": 1142,
    "start_time": "2021-12-21T09:31:17.894Z"
   },
   {
    "duration": 961,
    "start_time": "2021-12-21T09:34:08.082Z"
   },
   {
    "duration": 982,
    "start_time": "2021-12-21T09:34:29.218Z"
   },
   {
    "duration": 1219,
    "start_time": "2021-12-21T09:34:43.949Z"
   },
   {
    "duration": 1042,
    "start_time": "2021-12-21T09:35:17.850Z"
   },
   {
    "duration": 1040,
    "start_time": "2021-12-21T09:35:23.702Z"
   },
   {
    "duration": 1031,
    "start_time": "2021-12-21T09:35:28.358Z"
   },
   {
    "duration": 3321,
    "start_time": "2021-12-21T09:38:47.099Z"
   },
   {
    "duration": 203,
    "start_time": "2021-12-21T09:38:50.428Z"
   },
   {
    "duration": 7,
    "start_time": "2021-12-21T09:38:50.634Z"
   },
   {
    "duration": 19,
    "start_time": "2021-12-21T09:38:50.644Z"
   },
   {
    "duration": 53,
    "start_time": "2021-12-21T09:38:50.666Z"
   },
   {
    "duration": 4,
    "start_time": "2021-12-21T09:38:50.722Z"
   },
   {
    "duration": 32,
    "start_time": "2021-12-21T09:38:50.728Z"
   },
   {
    "duration": 308,
    "start_time": "2021-12-21T09:38:50.764Z"
   },
   {
    "duration": 46,
    "start_time": "2021-12-21T09:38:52.031Z"
   },
   {
    "duration": 2477,
    "start_time": "2021-12-21T09:38:53.350Z"
   },
   {
    "duration": 5,
    "start_time": "2021-12-21T09:38:55.831Z"
   },
   {
    "duration": 1119,
    "start_time": "2021-12-21T09:38:55.840Z"
   },
   {
    "duration": 2826,
    "start_time": "2021-12-21T09:41:18.317Z"
   },
   {
    "duration": 243,
    "start_time": "2021-12-21T09:41:21.148Z"
   },
   {
    "duration": 8,
    "start_time": "2021-12-21T09:41:21.394Z"
   },
   {
    "duration": 15,
    "start_time": "2021-12-21T09:41:21.420Z"
   },
   {
    "duration": 21,
    "start_time": "2021-12-21T09:41:21.437Z"
   },
   {
    "duration": 5,
    "start_time": "2021-12-21T09:41:21.461Z"
   },
   {
    "duration": 62,
    "start_time": "2021-12-21T09:41:21.469Z"
   },
   {
    "duration": 326,
    "start_time": "2021-12-21T09:41:21.535Z"
   },
   {
    "duration": 56,
    "start_time": "2021-12-21T09:41:30.712Z"
   },
   {
    "duration": 1925,
    "start_time": "2021-12-21T09:41:31.678Z"
   },
   {
    "duration": 4,
    "start_time": "2021-12-21T09:41:49.024Z"
   },
   {
    "duration": 850,
    "start_time": "2021-12-21T09:41:49.343Z"
   },
   {
    "duration": 554,
    "start_time": "2021-12-21T09:44:13.745Z"
   },
   {
    "duration": 384,
    "start_time": "2021-12-21T09:44:26.756Z"
   },
   {
    "duration": 10,
    "start_time": "2021-12-21T09:44:39.961Z"
   },
   {
    "duration": 2484,
    "start_time": "2021-12-21T09:44:55.543Z"
   },
   {
    "duration": 250,
    "start_time": "2021-12-21T09:44:58.031Z"
   },
   {
    "duration": 6,
    "start_time": "2021-12-21T09:44:58.284Z"
   },
   {
    "duration": 27,
    "start_time": "2021-12-21T09:44:58.293Z"
   },
   {
    "duration": 19,
    "start_time": "2021-12-21T09:44:58.322Z"
   },
   {
    "duration": 4,
    "start_time": "2021-12-21T09:44:58.692Z"
   },
   {
    "duration": 15,
    "start_time": "2021-12-21T09:44:58.866Z"
   },
   {
    "duration": 331,
    "start_time": "2021-12-21T09:45:00.960Z"
   },
   {
    "duration": 44,
    "start_time": "2021-12-21T09:45:17.960Z"
   },
   {
    "duration": 1984,
    "start_time": "2021-12-21T09:45:19.360Z"
   },
   {
    "duration": 4,
    "start_time": "2021-12-21T09:45:21.347Z"
   },
   {
    "duration": 1082,
    "start_time": "2021-12-21T09:45:22.165Z"
   },
   {
    "duration": 927,
    "start_time": "2021-12-21T09:46:17.308Z"
   },
   {
    "duration": 2439,
    "start_time": "2021-12-21T09:50:43.392Z"
   },
   {
    "duration": 255,
    "start_time": "2021-12-21T09:50:45.835Z"
   },
   {
    "duration": 6,
    "start_time": "2021-12-21T09:50:46.093Z"
   },
   {
    "duration": 14,
    "start_time": "2021-12-21T09:50:46.117Z"
   },
   {
    "duration": 20,
    "start_time": "2021-12-21T09:50:46.134Z"
   },
   {
    "duration": 4,
    "start_time": "2021-12-21T09:50:46.157Z"
   },
   {
    "duration": 54,
    "start_time": "2021-12-21T09:50:46.163Z"
   },
   {
    "duration": 300,
    "start_time": "2021-12-21T09:50:47.705Z"
   },
   {
    "duration": 40,
    "start_time": "2021-12-21T09:50:51.616Z"
   },
   {
    "duration": 1735,
    "start_time": "2021-12-21T09:50:53.196Z"
   },
   {
    "duration": 4,
    "start_time": "2021-12-21T09:50:54.950Z"
   },
   {
    "duration": 837,
    "start_time": "2021-12-21T09:50:55.699Z"
   },
   {
    "duration": 1040,
    "start_time": "2021-12-21T09:52:16.281Z"
   },
   {
    "duration": 965,
    "start_time": "2021-12-21T09:52:57.854Z"
   },
   {
    "duration": 826,
    "start_time": "2021-12-21T09:53:18.576Z"
   },
   {
    "duration": 809,
    "start_time": "2021-12-21T09:53:23.092Z"
   },
   {
    "duration": 4547,
    "start_time": "2021-12-21T09:54:08.234Z"
   },
   {
    "duration": 1856,
    "start_time": "2021-12-21T09:54:12.785Z"
   },
   {
    "duration": 97,
    "start_time": "2021-12-21T09:54:14.644Z"
   },
   {
    "duration": 5,
    "start_time": "2021-12-21T09:54:14.744Z"
   },
   {
    "duration": 75,
    "start_time": "2021-12-21T09:54:14.751Z"
   },
   {
    "duration": 22,
    "start_time": "2021-12-21T09:54:14.829Z"
   },
   {
    "duration": 11,
    "start_time": "2021-12-21T09:54:14.854Z"
   },
   {
    "duration": 60,
    "start_time": "2021-12-21T09:54:14.868Z"
   },
   {
    "duration": 10,
    "start_time": "2021-12-21T09:54:14.932Z"
   },
   {
    "duration": 8,
    "start_time": "2021-12-21T09:54:14.945Z"
   },
   {
    "duration": 94,
    "start_time": "2021-12-21T09:54:14.956Z"
   },
   {
    "duration": 12,
    "start_time": "2021-12-21T09:54:15.053Z"
   },
   {
    "duration": 128,
    "start_time": "2021-12-21T09:54:15.067Z"
   },
   {
    "duration": 19,
    "start_time": "2021-12-21T09:54:15.218Z"
   },
   {
    "duration": 89,
    "start_time": "2021-12-21T09:54:15.239Z"
   },
   {
    "duration": 6,
    "start_time": "2021-12-21T09:54:15.330Z"
   },
   {
    "duration": 23,
    "start_time": "2021-12-21T09:54:15.339Z"
   },
   {
    "duration": 17,
    "start_time": "2021-12-21T09:54:15.364Z"
   },
   {
    "duration": 50,
    "start_time": "2021-12-21T09:54:15.383Z"
   },
   {
    "duration": 28,
    "start_time": "2021-12-21T09:54:15.436Z"
   },
   {
    "duration": 31,
    "start_time": "2021-12-21T09:54:15.466Z"
   },
   {
    "duration": 39,
    "start_time": "2021-12-21T09:54:15.500Z"
   },
   {
    "duration": 12,
    "start_time": "2021-12-21T09:54:15.542Z"
   },
   {
    "duration": 8,
    "start_time": "2021-12-21T09:54:15.557Z"
   },
   {
    "duration": 2146,
    "start_time": "2021-12-21T09:54:15.568Z"
   },
   {
    "duration": 2192,
    "start_time": "2021-12-21T09:54:17.718Z"
   },
   {
    "duration": 5372,
    "start_time": "2021-12-21T09:54:19.922Z"
   },
   {
    "duration": 19,
    "start_time": "2021-12-21T09:54:25.298Z"
   },
   {
    "duration": 14,
    "start_time": "2021-12-21T09:54:25.320Z"
   },
   {
    "duration": 11,
    "start_time": "2021-12-21T09:54:25.336Z"
   },
   {
    "duration": 8,
    "start_time": "2021-12-21T09:54:25.349Z"
   },
   {
    "duration": 95,
    "start_time": "2021-12-21T09:54:25.360Z"
   },
   {
    "duration": 66,
    "start_time": "2021-12-21T09:54:25.458Z"
   },
   {
    "duration": 1336,
    "start_time": "2021-12-21T09:54:25.526Z"
   },
   {
    "duration": 5820,
    "start_time": "2021-12-21T09:54:26.864Z"
   },
   {
    "duration": 138,
    "start_time": "2021-12-21T09:54:32.687Z"
   },
   {
    "duration": 5359,
    "start_time": "2021-12-21T09:54:32.828Z"
   },
   {
    "duration": 3,
    "start_time": "2021-12-21T09:54:38.190Z"
   },
   {
    "duration": 29,
    "start_time": "2021-12-21T09:54:38.195Z"
   },
   {
    "duration": 11,
    "start_time": "2021-12-21T09:54:38.226Z"
   },
   {
    "duration": 9,
    "start_time": "2021-12-21T09:54:38.239Z"
   },
   {
    "duration": 339,
    "start_time": "2021-12-21T09:54:38.250Z"
   },
   {
    "duration": 10,
    "start_time": "2021-12-21T09:54:38.591Z"
   },
   {
    "duration": 2762,
    "start_time": "2021-12-21T09:54:38.617Z"
   },
   {
    "duration": 632,
    "start_time": "2021-12-21T09:54:41.382Z"
   },
   {
    "duration": 4309,
    "start_time": "2021-12-21T09:54:42.018Z"
   },
   {
    "duration": 5095,
    "start_time": "2021-12-21T09:54:46.329Z"
   },
   {
    "duration": 12328,
    "start_time": "2021-12-21T09:54:51.426Z"
   },
   {
    "duration": 18,
    "start_time": "2021-12-21T09:55:03.757Z"
   },
   {
    "duration": 5,
    "start_time": "2021-12-21T09:55:03.778Z"
   },
   {
    "duration": 3907,
    "start_time": "2021-12-21T09:55:03.786Z"
   },
   {
    "duration": 6325,
    "start_time": "2021-12-21T09:55:07.696Z"
   },
   {
    "duration": 179,
    "start_time": "2021-12-21T09:55:14.023Z"
   },
   {
    "duration": 3,
    "start_time": "2021-12-21T09:55:14.204Z"
   },
   {
    "duration": 6,
    "start_time": "2021-12-21T09:55:14.216Z"
   },
   {
    "duration": 10,
    "start_time": "2021-12-21T09:55:14.224Z"
   },
   {
    "duration": 19,
    "start_time": "2021-12-21T09:55:14.237Z"
   },
   {
    "duration": 9,
    "start_time": "2021-12-21T09:55:14.259Z"
   },
   {
    "duration": 63,
    "start_time": "2021-12-21T09:55:14.270Z"
   },
   {
    "duration": 24,
    "start_time": "2021-12-21T09:55:14.336Z"
   },
   {
    "duration": 17307,
    "start_time": "2021-12-21T09:55:14.362Z"
   },
   {
    "duration": 212,
    "start_time": "2021-12-21T09:55:31.672Z"
   },
   {
    "duration": 6740,
    "start_time": "2021-12-21T09:55:31.887Z"
   },
   {
    "duration": 175,
    "start_time": "2021-12-21T09:55:38.630Z"
   },
   {
    "duration": 20,
    "start_time": "2021-12-21T09:55:38.807Z"
   },
   {
    "duration": 11176,
    "start_time": "2021-12-21T09:55:38.829Z"
   },
   {
    "duration": 181,
    "start_time": "2021-12-21T09:55:50.008Z"
   },
   {
    "duration": 5868,
    "start_time": "2021-12-21T09:55:50.192Z"
   },
   {
    "duration": 23,
    "start_time": "2021-12-21T09:55:56.063Z"
   },
   {
    "duration": 24,
    "start_time": "2021-12-21T09:55:56.088Z"
   },
   {
    "duration": 7,
    "start_time": "2021-12-21T09:55:56.115Z"
   },
   {
    "duration": 84134,
    "start_time": "2021-12-21T09:55:56.125Z"
   },
   {
    "duration": 862,
    "start_time": "2021-12-21T09:57:20.262Z"
   },
   {
    "duration": 17,
    "start_time": "2021-12-21T09:57:21.126Z"
   },
   {
    "duration": 26146,
    "start_time": "2021-12-21T09:57:21.146Z"
   },
   {
    "duration": 2633,
    "start_time": "2021-12-21T09:57:47.295Z"
   },
   {
    "duration": 252,
    "start_time": "2021-12-21T09:57:49.932Z"
   },
   {
    "duration": 8,
    "start_time": "2021-12-21T09:57:50.187Z"
   },
   {
    "duration": 33,
    "start_time": "2021-12-21T09:57:50.197Z"
   },
   {
    "duration": 20,
    "start_time": "2021-12-21T09:57:50.233Z"
   },
   {
    "duration": 4,
    "start_time": "2021-12-21T09:57:50.264Z"
   },
   {
    "duration": 47,
    "start_time": "2021-12-21T09:57:50.270Z"
   },
   {
    "duration": 313,
    "start_time": "2021-12-21T09:57:50.320Z"
   },
   {
    "duration": 40,
    "start_time": "2021-12-21T09:57:50.636Z"
   },
   {
    "duration": 2036,
    "start_time": "2021-12-21T09:57:50.678Z"
   },
   {
    "duration": 4,
    "start_time": "2021-12-21T09:57:52.718Z"
   },
   {
    "duration": 913,
    "start_time": "2021-12-21T09:57:52.725Z"
   },
   {
    "duration": 24,
    "start_time": "2021-12-21T09:57:53.640Z"
   },
   {
    "duration": 5866,
    "start_time": "2021-12-21T09:57:53.666Z"
   },
   {
    "duration": 10,
    "start_time": "2021-12-21T09:57:59.535Z"
   },
   {
    "duration": 9,
    "start_time": "2021-12-21T09:57:59.547Z"
   },
   {
    "duration": 70,
    "start_time": "2021-12-21T09:57:59.558Z"
   },
   {
    "duration": 8,
    "start_time": "2021-12-21T09:57:59.631Z"
   },
   {
    "duration": 12,
    "start_time": "2021-12-21T09:57:59.642Z"
   },
   {
    "duration": 9,
    "start_time": "2021-12-21T09:57:59.657Z"
   },
   {
    "duration": 49,
    "start_time": "2021-12-21T09:57:59.668Z"
   },
   {
    "duration": 10,
    "start_time": "2021-12-21T09:57:59.719Z"
   },
   {
    "duration": 7688,
    "start_time": "2021-12-21T09:57:59.731Z"
   },
   {
    "duration": 396,
    "start_time": "2021-12-21T09:58:07.423Z"
   },
   {
    "duration": 964,
    "start_time": "2021-12-21T09:58:07.825Z"
   },
   {
    "duration": -165,
    "start_time": "2021-12-21T09:58:08.957Z"
   },
   {
    "duration": -217,
    "start_time": "2021-12-21T09:58:09.010Z"
   },
   {
    "duration": -218,
    "start_time": "2021-12-21T09:58:09.013Z"
   },
   {
    "duration": -219,
    "start_time": "2021-12-21T09:58:09.016Z"
   },
   {
    "duration": -220,
    "start_time": "2021-12-21T09:58:09.018Z"
   },
   {
    "duration": -221,
    "start_time": "2021-12-21T09:58:09.021Z"
   },
   {
    "duration": -221,
    "start_time": "2021-12-21T09:58:09.023Z"
   },
   {
    "duration": -222,
    "start_time": "2021-12-21T09:58:09.025Z"
   },
   {
    "duration": -222,
    "start_time": "2021-12-21T09:58:09.027Z"
   },
   {
    "duration": -223,
    "start_time": "2021-12-21T09:58:09.029Z"
   },
   {
    "duration": -224,
    "start_time": "2021-12-21T09:58:09.032Z"
   },
   {
    "duration": -232,
    "start_time": "2021-12-21T09:58:09.041Z"
   },
   {
    "duration": -232,
    "start_time": "2021-12-21T09:58:09.043Z"
   },
   {
    "duration": 7,
    "start_time": "2021-12-21T10:00:48.995Z"
   },
   {
    "duration": 4259,
    "start_time": "2021-12-21T10:01:22.964Z"
   },
   {
    "duration": 471,
    "start_time": "2021-12-21T10:18:26.522Z"
   },
   {
    "duration": 4166,
    "start_time": "2021-12-21T10:18:45.698Z"
   },
   {
    "duration": 1782,
    "start_time": "2021-12-21T10:18:49.870Z"
   },
   {
    "duration": 171,
    "start_time": "2021-12-21T10:18:51.655Z"
   },
   {
    "duration": 6,
    "start_time": "2021-12-21T10:18:51.829Z"
   },
   {
    "duration": 87,
    "start_time": "2021-12-21T10:18:51.838Z"
   },
   {
    "duration": 31,
    "start_time": "2021-12-21T10:18:51.928Z"
   },
   {
    "duration": 17,
    "start_time": "2021-12-21T10:18:51.963Z"
   },
   {
    "duration": 47,
    "start_time": "2021-12-21T10:18:51.986Z"
   },
   {
    "duration": 13,
    "start_time": "2021-12-21T10:18:52.038Z"
   },
   {
    "duration": 9,
    "start_time": "2021-12-21T10:18:52.054Z"
   },
   {
    "duration": 71,
    "start_time": "2021-12-21T10:18:52.069Z"
   },
   {
    "duration": 14,
    "start_time": "2021-12-21T10:18:52.143Z"
   },
   {
    "duration": 104,
    "start_time": "2021-12-21T10:18:52.159Z"
   },
   {
    "duration": 24,
    "start_time": "2021-12-21T10:18:52.265Z"
   },
   {
    "duration": 79,
    "start_time": "2021-12-21T10:18:52.292Z"
   },
   {
    "duration": 8,
    "start_time": "2021-12-21T10:18:52.374Z"
   },
   {
    "duration": 19,
    "start_time": "2021-12-21T10:18:52.384Z"
   },
   {
    "duration": 25,
    "start_time": "2021-12-21T10:18:52.407Z"
   },
   {
    "duration": 21,
    "start_time": "2021-12-21T10:18:52.435Z"
   },
   {
    "duration": 28,
    "start_time": "2021-12-21T10:18:52.458Z"
   },
   {
    "duration": 35,
    "start_time": "2021-12-21T10:18:52.489Z"
   },
   {
    "duration": 27,
    "start_time": "2021-12-21T10:18:52.527Z"
   },
   {
    "duration": 6,
    "start_time": "2021-12-21T10:18:52.563Z"
   },
   {
    "duration": 11,
    "start_time": "2021-12-21T10:18:52.572Z"
   },
   {
    "duration": 2955,
    "start_time": "2021-12-21T10:18:52.587Z"
   },
   {
    "duration": 2397,
    "start_time": "2021-12-21T10:18:55.546Z"
   },
   {
    "duration": 5622,
    "start_time": "2021-12-21T10:18:57.946Z"
   },
   {
    "duration": 8,
    "start_time": "2021-12-21T10:19:03.571Z"
   },
   {
    "duration": 45,
    "start_time": "2021-12-21T10:19:03.583Z"
   },
   {
    "duration": 20,
    "start_time": "2021-12-21T10:19:03.632Z"
   },
   {
    "duration": 8,
    "start_time": "2021-12-21T10:19:03.655Z"
   },
   {
    "duration": 66,
    "start_time": "2021-12-21T10:19:03.666Z"
   },
   {
    "duration": 46,
    "start_time": "2021-12-21T10:19:03.735Z"
   },
   {
    "duration": 1200,
    "start_time": "2021-12-21T10:19:03.783Z"
   },
   {
    "duration": 5913,
    "start_time": "2021-12-21T10:19:04.985Z"
   },
   {
    "duration": 157,
    "start_time": "2021-12-21T10:19:10.901Z"
   },
   {
    "duration": 4455,
    "start_time": "2021-12-21T10:19:11.061Z"
   },
   {
    "duration": 6,
    "start_time": "2021-12-21T10:19:15.519Z"
   },
   {
    "duration": 27,
    "start_time": "2021-12-21T10:19:15.529Z"
   },
   {
    "duration": 15,
    "start_time": "2021-12-21T10:19:15.560Z"
   },
   {
    "duration": 40,
    "start_time": "2021-12-21T10:19:15.577Z"
   },
   {
    "duration": 327,
    "start_time": "2021-12-21T10:19:15.620Z"
   },
   {
    "duration": 12,
    "start_time": "2021-12-21T10:19:15.950Z"
   },
   {
    "duration": 2914,
    "start_time": "2021-12-21T10:19:15.965Z"
   },
   {
    "duration": 651,
    "start_time": "2021-12-21T10:19:18.881Z"
   },
   {
    "duration": 4512,
    "start_time": "2021-12-21T10:19:19.535Z"
   },
   {
    "duration": 5562,
    "start_time": "2021-12-21T10:19:24.050Z"
   },
   {
    "duration": 11343,
    "start_time": "2021-12-21T10:19:29.618Z"
   },
   {
    "duration": 49,
    "start_time": "2021-12-21T10:19:40.963Z"
   },
   {
    "duration": 4,
    "start_time": "2021-12-21T10:19:41.015Z"
   },
   {
    "duration": 3821,
    "start_time": "2021-12-21T10:19:41.021Z"
   },
   {
    "duration": 7614,
    "start_time": "2021-12-21T10:19:44.845Z"
   },
   {
    "duration": 187,
    "start_time": "2021-12-21T10:19:52.462Z"
   },
   {
    "duration": 5,
    "start_time": "2021-12-21T10:19:52.652Z"
   },
   {
    "duration": 7,
    "start_time": "2021-12-21T10:19:52.660Z"
   },
   {
    "duration": 14,
    "start_time": "2021-12-21T10:19:52.669Z"
   },
   {
    "duration": 45,
    "start_time": "2021-12-21T10:19:52.686Z"
   },
   {
    "duration": 12,
    "start_time": "2021-12-21T10:19:52.734Z"
   },
   {
    "duration": 78,
    "start_time": "2021-12-21T10:19:52.749Z"
   },
   {
    "duration": 28,
    "start_time": "2021-12-21T10:19:52.829Z"
   },
   {
    "duration": 17676,
    "start_time": "2021-12-21T10:19:52.860Z"
   },
   {
    "duration": 223,
    "start_time": "2021-12-21T10:20:10.539Z"
   },
   {
    "duration": 6605,
    "start_time": "2021-12-21T10:20:10.765Z"
   },
   {
    "duration": 203,
    "start_time": "2021-12-21T10:20:17.372Z"
   },
   {
    "duration": 16,
    "start_time": "2021-12-21T10:20:17.578Z"
   },
   {
    "duration": 10353,
    "start_time": "2021-12-21T10:20:17.596Z"
   },
   {
    "duration": 191,
    "start_time": "2021-12-21T10:20:27.951Z"
   },
   {
    "duration": 4513,
    "start_time": "2021-12-21T10:20:28.152Z"
   },
   {
    "duration": 32,
    "start_time": "2021-12-21T10:20:32.668Z"
   },
   {
    "duration": 27,
    "start_time": "2021-12-21T10:20:32.702Z"
   },
   {
    "duration": 7,
    "start_time": "2021-12-21T10:20:32.732Z"
   },
   {
    "duration": 89777,
    "start_time": "2021-12-21T10:20:32.742Z"
   },
   {
    "duration": 851,
    "start_time": "2021-12-21T10:22:02.521Z"
   },
   {
    "duration": 16,
    "start_time": "2021-12-21T10:22:03.375Z"
   },
   {
    "duration": 23189,
    "start_time": "2021-12-21T10:22:03.393Z"
   },
   {
    "duration": 2537,
    "start_time": "2021-12-21T10:22:26.585Z"
   },
   {
    "duration": 256,
    "start_time": "2021-12-21T10:22:29.126Z"
   },
   {
    "duration": 6,
    "start_time": "2021-12-21T10:22:29.387Z"
   },
   {
    "duration": 29,
    "start_time": "2021-12-21T10:22:29.395Z"
   },
   {
    "duration": 20,
    "start_time": "2021-12-21T10:22:29.426Z"
   },
   {
    "duration": 4,
    "start_time": "2021-12-21T10:22:29.448Z"
   },
   {
    "duration": 17,
    "start_time": "2021-12-21T10:22:29.454Z"
   },
   {
    "duration": 310,
    "start_time": "2021-12-21T10:22:29.473Z"
   },
   {
    "duration": 48,
    "start_time": "2021-12-21T10:22:29.785Z"
   },
   {
    "duration": 1890,
    "start_time": "2021-12-21T10:22:29.835Z"
   },
   {
    "duration": 4,
    "start_time": "2021-12-21T10:22:31.727Z"
   },
   {
    "duration": 849,
    "start_time": "2021-12-21T10:22:31.734Z"
   },
   {
    "duration": 4032,
    "start_time": "2021-12-21T10:22:32.585Z"
   },
   {
    "duration": 955,
    "start_time": "2021-12-21T10:23:39.251Z"
   },
   {
    "duration": 1739,
    "start_time": "2021-12-21T10:23:55.524Z"
   },
   {
    "duration": 1847,
    "start_time": "2021-12-21T10:24:09.039Z"
   },
   {
    "duration": 987,
    "start_time": "2021-12-21T10:24:48.478Z"
   },
   {
    "duration": 3986,
    "start_time": "2021-12-21T10:24:56.015Z"
   },
   {
    "duration": 265,
    "start_time": "2021-12-21T10:37:57.465Z"
   },
   {
    "duration": 7,
    "start_time": "2021-12-21T10:40:37.813Z"
   },
   {
    "duration": 60,
    "start_time": "2021-12-21T10:41:29.134Z"
   },
   {
    "duration": 39,
    "start_time": "2021-12-21T10:42:00.659Z"
   },
   {
    "duration": 314,
    "start_time": "2021-12-21T10:45:51.647Z"
   },
   {
    "duration": 40,
    "start_time": "2021-12-21T10:45:54.882Z"
   },
   {
    "duration": 6671,
    "start_time": "2021-12-21T10:46:04.973Z"
   },
   {
    "duration": 14,
    "start_time": "2021-12-21T10:46:35.762Z"
   },
   {
    "duration": 36,
    "start_time": "2021-12-21T10:46:41.836Z"
   },
   {
    "duration": 410,
    "start_time": "2021-12-21T10:47:07.977Z"
   },
   {
    "duration": 264,
    "start_time": "2021-12-21T10:47:45.293Z"
   },
   {
    "duration": 289,
    "start_time": "2021-12-21T10:48:21.513Z"
   },
   {
    "duration": 36,
    "start_time": "2021-12-21T10:48:41.027Z"
   },
   {
    "duration": 275,
    "start_time": "2021-12-21T10:48:51.057Z"
   },
   {
    "duration": 556,
    "start_time": "2021-12-21T10:49:20.915Z"
   },
   {
    "duration": 37,
    "start_time": "2021-12-21T10:49:49.038Z"
   },
   {
    "duration": 15,
    "start_time": "2021-12-21T10:50:00.951Z"
   },
   {
    "duration": 979,
    "start_time": "2021-12-21T10:50:23.341Z"
   },
   {
    "duration": 1116,
    "start_time": "2021-12-21T10:51:31.522Z"
   },
   {
    "duration": 2898,
    "start_time": "2021-12-21T10:52:28.202Z"
   },
   {
    "duration": 307,
    "start_time": "2021-12-21T10:58:21.752Z"
   },
   {
    "duration": 3008,
    "start_time": "2021-12-21T10:58:28.714Z"
   },
   {
    "duration": 2426,
    "start_time": "2021-12-21T11:02:30.020Z"
   },
   {
    "duration": 2778,
    "start_time": "2021-12-21T11:03:13.676Z"
   },
   {
    "duration": 2751,
    "start_time": "2021-12-21T11:04:49.294Z"
   },
   {
    "duration": 4268,
    "start_time": "2021-12-21T11:06:22.795Z"
   },
   {
    "duration": 4540,
    "start_time": "2021-12-21T11:08:15.633Z"
   },
   {
    "duration": 4376,
    "start_time": "2021-12-21T11:08:26.654Z"
   },
   {
    "duration": 2540,
    "start_time": "2021-12-21T11:14:13.004Z"
   },
   {
    "duration": 239,
    "start_time": "2021-12-21T11:14:15.547Z"
   },
   {
    "duration": 7,
    "start_time": "2021-12-21T11:14:15.789Z"
   },
   {
    "duration": 15,
    "start_time": "2021-12-21T11:14:15.819Z"
   },
   {
    "duration": 18,
    "start_time": "2021-12-21T11:14:15.837Z"
   },
   {
    "duration": 5,
    "start_time": "2021-12-21T11:14:15.858Z"
   },
   {
    "duration": 58,
    "start_time": "2021-12-21T11:14:15.866Z"
   },
   {
    "duration": 288,
    "start_time": "2021-12-21T11:14:15.928Z"
   },
   {
    "duration": 7,
    "start_time": "2021-12-21T11:14:17.849Z"
   },
   {
    "duration": 37,
    "start_time": "2021-12-21T11:14:18.412Z"
   },
   {
    "duration": 15,
    "start_time": "2021-12-21T11:14:19.803Z"
   },
   {
    "duration": 5846,
    "start_time": "2021-12-21T11:14:21.001Z"
   },
   {
    "duration": 3885,
    "start_time": "2021-12-21T11:23:13.655Z"
   },
   {
    "duration": 1524,
    "start_time": "2021-12-21T11:23:17.543Z"
   },
   {
    "duration": 99,
    "start_time": "2021-12-21T11:23:19.070Z"
   },
   {
    "duration": 5,
    "start_time": "2021-12-21T11:23:19.171Z"
   },
   {
    "duration": 62,
    "start_time": "2021-12-21T11:23:19.179Z"
   },
   {
    "duration": 23,
    "start_time": "2021-12-21T11:23:19.243Z"
   },
   {
    "duration": 11,
    "start_time": "2021-12-21T11:23:19.269Z"
   },
   {
    "duration": 53,
    "start_time": "2021-12-21T11:23:19.282Z"
   },
   {
    "duration": 10,
    "start_time": "2021-12-21T11:23:19.340Z"
   },
   {
    "duration": 7,
    "start_time": "2021-12-21T11:23:19.354Z"
   },
   {
    "duration": 85,
    "start_time": "2021-12-21T11:23:19.363Z"
   },
   {
    "duration": 12,
    "start_time": "2021-12-21T11:23:19.450Z"
   },
   {
    "duration": 127,
    "start_time": "2021-12-21T11:23:19.465Z"
   },
   {
    "duration": 44,
    "start_time": "2021-12-21T11:23:19.594Z"
   },
   {
    "duration": 93,
    "start_time": "2021-12-21T11:23:19.641Z"
   },
   {
    "duration": 5,
    "start_time": "2021-12-21T11:23:19.736Z"
   },
   {
    "duration": 19,
    "start_time": "2021-12-21T11:23:19.744Z"
   },
   {
    "duration": 51,
    "start_time": "2021-12-21T11:23:19.766Z"
   },
   {
    "duration": 17,
    "start_time": "2021-12-21T11:23:19.819Z"
   },
   {
    "duration": 28,
    "start_time": "2021-12-21T11:23:19.839Z"
   },
   {
    "duration": 51,
    "start_time": "2021-12-21T11:23:19.870Z"
   },
   {
    "duration": 27,
    "start_time": "2021-12-21T11:23:19.923Z"
   },
   {
    "duration": 6,
    "start_time": "2021-12-21T11:23:19.953Z"
   },
   {
    "duration": 21,
    "start_time": "2021-12-21T11:23:19.962Z"
   },
   {
    "duration": 2178,
    "start_time": "2021-12-21T11:23:19.986Z"
   },
   {
    "duration": 2184,
    "start_time": "2021-12-21T11:23:22.166Z"
   },
   {
    "duration": 5316,
    "start_time": "2021-12-21T11:23:24.357Z"
   },
   {
    "duration": 7,
    "start_time": "2021-12-21T11:23:29.676Z"
   },
   {
    "duration": 35,
    "start_time": "2021-12-21T11:23:29.685Z"
   },
   {
    "duration": 11,
    "start_time": "2021-12-21T11:23:29.722Z"
   },
   {
    "duration": 10,
    "start_time": "2021-12-21T11:23:29.735Z"
   },
   {
    "duration": 34,
    "start_time": "2021-12-21T11:23:29.748Z"
   },
   {
    "duration": 66,
    "start_time": "2021-12-21T11:23:29.784Z"
   },
   {
    "duration": 1145,
    "start_time": "2021-12-21T11:23:29.852Z"
   },
   {
    "duration": 3468,
    "start_time": "2021-12-21T11:23:30.999Z"
   },
   {
    "duration": 138,
    "start_time": "2021-12-21T11:23:34.471Z"
   },
   {
    "duration": 3728,
    "start_time": "2021-12-21T11:23:34.611Z"
   },
   {
    "duration": 4,
    "start_time": "2021-12-21T11:23:38.342Z"
   },
   {
    "duration": 30,
    "start_time": "2021-12-21T11:23:38.348Z"
   },
   {
    "duration": 8,
    "start_time": "2021-12-21T11:23:38.381Z"
   },
   {
    "duration": 344,
    "start_time": "2021-12-21T11:23:38.392Z"
   },
   {
    "duration": 9,
    "start_time": "2021-12-21T11:23:38.738Z"
   },
   {
    "duration": 2646,
    "start_time": "2021-12-21T11:23:38.749Z"
   },
   {
    "duration": 4146,
    "start_time": "2021-12-21T11:23:41.398Z"
   },
   {
    "duration": 4939,
    "start_time": "2021-12-21T11:23:45.547Z"
   },
   {
    "duration": 11944,
    "start_time": "2021-12-21T11:23:50.488Z"
   },
   {
    "duration": 40,
    "start_time": "2021-12-21T11:24:02.444Z"
   },
   {
    "duration": 6,
    "start_time": "2021-12-21T11:24:02.487Z"
   },
   {
    "duration": 3953,
    "start_time": "2021-12-21T11:24:02.497Z"
   },
   {
    "duration": 6972,
    "start_time": "2021-12-21T11:24:06.452Z"
   },
   {
    "duration": 177,
    "start_time": "2021-12-21T11:24:13.427Z"
   },
   {
    "duration": 11,
    "start_time": "2021-12-21T11:24:13.606Z"
   },
   {
    "duration": 6,
    "start_time": "2021-12-21T11:24:13.619Z"
   },
   {
    "duration": 9,
    "start_time": "2021-12-21T11:24:13.627Z"
   },
   {
    "duration": 16,
    "start_time": "2021-12-21T11:24:13.638Z"
   },
   {
    "duration": 11,
    "start_time": "2021-12-21T11:24:13.656Z"
   },
   {
    "duration": 68,
    "start_time": "2021-12-21T11:24:13.669Z"
   },
   {
    "duration": 26,
    "start_time": "2021-12-21T11:24:13.739Z"
   },
   {
    "duration": 17850,
    "start_time": "2021-12-21T11:24:13.768Z"
   },
   {
    "duration": 224,
    "start_time": "2021-12-21T11:24:31.621Z"
   },
   {
    "duration": 6460,
    "start_time": "2021-12-21T11:24:31.847Z"
   },
   {
    "duration": 183,
    "start_time": "2021-12-21T11:24:38.310Z"
   },
   {
    "duration": 38,
    "start_time": "2021-12-21T11:24:38.495Z"
   },
   {
    "duration": 10106,
    "start_time": "2021-12-21T11:24:38.536Z"
   },
   {
    "duration": 177,
    "start_time": "2021-12-21T11:24:48.645Z"
   },
   {
    "duration": 5171,
    "start_time": "2021-12-22T09:05:08.752Z"
   },
   {
    "duration": 1464,
    "start_time": "2021-12-22T09:05:13.926Z"
   },
   {
    "duration": 100,
    "start_time": "2021-12-22T09:05:15.392Z"
   },
   {
    "duration": 4,
    "start_time": "2021-12-22T09:05:15.494Z"
   },
   {
    "duration": 50,
    "start_time": "2021-12-22T09:05:15.499Z"
   },
   {
    "duration": 15,
    "start_time": "2021-12-22T09:05:15.551Z"
   },
   {
    "duration": 16,
    "start_time": "2021-12-22T09:05:15.567Z"
   },
   {
    "duration": 24,
    "start_time": "2021-12-22T09:05:15.586Z"
   },
   {
    "duration": 8,
    "start_time": "2021-12-22T09:05:15.612Z"
   },
   {
    "duration": 22,
    "start_time": "2021-12-22T09:05:15.622Z"
   },
   {
    "duration": 35,
    "start_time": "2021-12-22T09:05:15.646Z"
   },
   {
    "duration": 9,
    "start_time": "2021-12-22T09:05:15.683Z"
   },
   {
    "duration": 92,
    "start_time": "2021-12-22T09:05:15.694Z"
   },
   {
    "duration": 12,
    "start_time": "2021-12-22T09:05:15.788Z"
   },
   {
    "duration": 78,
    "start_time": "2021-12-22T09:05:15.801Z"
   },
   {
    "duration": 5,
    "start_time": "2021-12-22T09:05:15.881Z"
   },
   {
    "duration": 26,
    "start_time": "2021-12-22T09:05:15.888Z"
   },
   {
    "duration": 32,
    "start_time": "2021-12-22T09:05:15.916Z"
   },
   {
    "duration": 13,
    "start_time": "2021-12-22T09:05:15.951Z"
   },
   {
    "duration": 24,
    "start_time": "2021-12-22T09:05:15.966Z"
   },
   {
    "duration": 24,
    "start_time": "2021-12-22T09:05:15.992Z"
   },
   {
    "duration": 17,
    "start_time": "2021-12-22T09:05:16.018Z"
   },
   {
    "duration": 3,
    "start_time": "2021-12-22T09:05:16.044Z"
   },
   {
    "duration": 9,
    "start_time": "2021-12-22T09:05:16.050Z"
   },
   {
    "duration": 1385,
    "start_time": "2021-12-22T09:05:16.061Z"
   },
   {
    "duration": 1444,
    "start_time": "2021-12-22T09:05:17.448Z"
   },
   {
    "duration": 3538,
    "start_time": "2021-12-22T09:05:18.894Z"
   },
   {
    "duration": 9,
    "start_time": "2021-12-22T09:05:22.434Z"
   },
   {
    "duration": 14,
    "start_time": "2021-12-22T09:05:22.445Z"
   },
   {
    "duration": 8,
    "start_time": "2021-12-22T09:05:22.461Z"
   },
   {
    "duration": 13,
    "start_time": "2021-12-22T09:05:22.470Z"
   },
   {
    "duration": 28,
    "start_time": "2021-12-22T09:05:22.484Z"
   },
   {
    "duration": 50,
    "start_time": "2021-12-22T09:05:22.513Z"
   },
   {
    "duration": 782,
    "start_time": "2021-12-22T09:05:22.565Z"
   },
   {
    "duration": 6030,
    "start_time": "2021-12-22T09:05:23.349Z"
   },
   {
    "duration": 490,
    "start_time": "2021-12-22T09:05:29.382Z"
   },
   {
    "duration": 5887,
    "start_time": "2021-12-22T09:05:29.874Z"
   },
   {
    "duration": 3,
    "start_time": "2021-12-22T09:05:35.764Z"
   },
   {
    "duration": 19,
    "start_time": "2021-12-22T09:05:35.769Z"
   },
   {
    "duration": 6,
    "start_time": "2021-12-22T09:05:35.790Z"
   },
   {
    "duration": 217,
    "start_time": "2021-12-22T09:05:35.798Z"
   },
   {
    "duration": 8,
    "start_time": "2021-12-22T09:05:36.018Z"
   },
   {
    "duration": 1885,
    "start_time": "2021-12-22T09:05:36.028Z"
   },
   {
    "duration": 1070,
    "start_time": "2021-12-22T09:05:37.915Z"
   },
   {
    "duration": 3004,
    "start_time": "2021-12-22T09:05:38.987Z"
   },
   {
    "duration": 8234,
    "start_time": "2021-12-22T09:05:41.993Z"
   },
   {
    "duration": 130,
    "start_time": "2021-12-22T09:05:50.229Z"
   },
   {
    "duration": 4,
    "start_time": "2021-12-22T09:05:50.361Z"
   },
   {
    "duration": 2435,
    "start_time": "2021-12-22T09:05:50.367Z"
   },
   {
    "duration": 3925,
    "start_time": "2021-12-22T09:05:52.803Z"
   },
   {
    "duration": 111,
    "start_time": "2021-12-22T09:05:56.730Z"
   },
   {
    "duration": 3,
    "start_time": "2021-12-22T09:05:56.843Z"
   },
   {
    "duration": 10,
    "start_time": "2021-12-22T09:05:56.848Z"
   },
   {
    "duration": 15,
    "start_time": "2021-12-22T09:05:56.859Z"
   },
   {
    "duration": 12,
    "start_time": "2021-12-22T09:05:56.876Z"
   },
   {
    "duration": 12,
    "start_time": "2021-12-22T09:05:56.890Z"
   },
   {
    "duration": 40,
    "start_time": "2021-12-22T09:05:56.903Z"
   },
   {
    "duration": 20,
    "start_time": "2021-12-22T09:05:56.944Z"
   },
   {
    "duration": 11871,
    "start_time": "2021-12-22T09:05:56.966Z"
   },
   {
    "duration": 138,
    "start_time": "2021-12-22T09:06:08.842Z"
   },
   {
    "duration": 4774,
    "start_time": "2021-12-22T09:06:08.982Z"
   },
   {
    "duration": 109,
    "start_time": "2021-12-22T09:06:13.758Z"
   },
   {
    "duration": 11,
    "start_time": "2021-12-22T09:06:13.869Z"
   },
   {
    "duration": 7146,
    "start_time": "2021-12-22T09:06:13.882Z"
   },
   {
    "duration": 114,
    "start_time": "2021-12-22T09:06:21.030Z"
   },
   {
    "duration": 396,
    "start_time": "2021-12-22T09:07:36.598Z"
   },
   {
    "duration": 9569,
    "start_time": "2021-12-22T09:07:50.018Z"
   },
   {
    "duration": 356,
    "start_time": "2021-12-22T09:08:29.983Z"
   },
   {
    "duration": 2825,
    "start_time": "2021-12-22T09:09:20.028Z"
   },
   {
    "duration": 293,
    "start_time": "2021-12-22T09:09:26.134Z"
   },
   {
    "duration": 655,
    "start_time": "2021-12-22T09:09:39.088Z"
   },
   {
    "duration": 299,
    "start_time": "2021-12-22T09:14:16.124Z"
   },
   {
    "duration": 2045,
    "start_time": "2021-12-22T09:14:36.708Z"
   },
   {
    "duration": 2049,
    "start_time": "2021-12-22T09:14:50.211Z"
   },
   {
    "duration": 3773,
    "start_time": "2021-12-22T09:15:25.260Z"
   },
   {
    "duration": 294,
    "start_time": "2021-12-22T09:15:41.233Z"
   },
   {
    "duration": 4055,
    "start_time": "2021-12-22T09:20:09.683Z"
   },
   {
    "duration": 291,
    "start_time": "2021-12-22T09:20:20.318Z"
   },
   {
    "duration": 309,
    "start_time": "2021-12-22T09:22:49.253Z"
   },
   {
    "duration": 3,
    "start_time": "2021-12-22T09:22:52.906Z"
   },
   {
    "duration": 302,
    "start_time": "2021-12-22T09:22:59.316Z"
   },
   {
    "duration": 616,
    "start_time": "2021-12-22T09:23:32.148Z"
   },
   {
    "duration": 4106,
    "start_time": "2021-12-22T09:25:53.197Z"
   },
   {
    "duration": 338,
    "start_time": "2021-12-22T09:26:04.894Z"
   },
   {
    "duration": 3880,
    "start_time": "2021-12-22T09:27:01.226Z"
   },
   {
    "duration": 313,
    "start_time": "2021-12-22T09:27:07.493Z"
   },
   {
    "duration": 3751,
    "start_time": "2021-12-22T09:28:52.601Z"
   },
   {
    "duration": 599,
    "start_time": "2021-12-22T09:28:57.313Z"
   },
   {
    "duration": 481,
    "start_time": "2021-12-22T09:38:45.020Z"
   },
   {
    "duration": 416,
    "start_time": "2021-12-22T09:39:04.528Z"
   },
   {
    "duration": 2416,
    "start_time": "2021-12-22T09:39:14.211Z"
   },
   {
    "duration": 361,
    "start_time": "2021-12-22T09:39:21.530Z"
   },
   {
    "duration": 286,
    "start_time": "2021-12-22T09:39:48.679Z"
   },
   {
    "duration": 103,
    "start_time": "2021-12-22T09:39:54.051Z"
   },
   {
    "duration": 3,
    "start_time": "2021-12-22T09:39:57.801Z"
   },
   {
    "duration": 933,
    "start_time": "2021-12-22T09:40:04.738Z"
   },
   {
    "duration": 306,
    "start_time": "2021-12-22T09:40:26.150Z"
   },
   {
    "duration": 3022,
    "start_time": "2021-12-22T09:41:14.361Z"
   },
   {
    "duration": 753,
    "start_time": "2021-12-22T09:41:18.563Z"
   },
   {
    "duration": 295,
    "start_time": "2021-12-22T09:41:24.581Z"
   },
   {
    "duration": 5863,
    "start_time": "2021-12-22T09:42:40.500Z"
   },
   {
    "duration": 7539,
    "start_time": "2021-12-22T09:42:58.932Z"
   },
   {
    "duration": 384,
    "start_time": "2021-12-22T09:43:09.582Z"
   },
   {
    "duration": 305,
    "start_time": "2021-12-22T09:43:49.720Z"
   },
   {
    "duration": 5383,
    "start_time": "2021-12-22T09:43:58.218Z"
   },
   {
    "duration": 7486,
    "start_time": "2021-12-22T09:44:04.356Z"
   },
   {
    "duration": 296,
    "start_time": "2021-12-22T09:44:11.844Z"
   },
   {
    "duration": 4918,
    "start_time": "2021-12-22T09:46:39.756Z"
   },
   {
    "duration": 316,
    "start_time": "2021-12-22T09:46:55.443Z"
   },
   {
    "duration": 331,
    "start_time": "2021-12-22T09:47:58.782Z"
   },
   {
    "duration": 309,
    "start_time": "2021-12-22T09:48:13.778Z"
   },
   {
    "duration": 2624,
    "start_time": "2021-12-22T11:30:45.043Z"
   },
   {
    "duration": 1115,
    "start_time": "2021-12-22T11:30:47.669Z"
   },
   {
    "duration": 95,
    "start_time": "2021-12-22T11:30:48.786Z"
   },
   {
    "duration": 3,
    "start_time": "2021-12-22T11:30:48.883Z"
   },
   {
    "duration": 40,
    "start_time": "2021-12-22T11:30:48.887Z"
   },
   {
    "duration": 13,
    "start_time": "2021-12-22T11:30:48.929Z"
   },
   {
    "duration": 12,
    "start_time": "2021-12-22T11:30:48.943Z"
   },
   {
    "duration": 16,
    "start_time": "2021-12-22T11:30:48.957Z"
   },
   {
    "duration": 8,
    "start_time": "2021-12-22T11:30:48.975Z"
   },
   {
    "duration": 5,
    "start_time": "2021-12-22T11:30:48.985Z"
   },
   {
    "duration": 56,
    "start_time": "2021-12-22T11:30:48.992Z"
   },
   {
    "duration": 9,
    "start_time": "2021-12-22T11:30:49.049Z"
   },
   {
    "duration": 51,
    "start_time": "2021-12-22T11:30:49.059Z"
   },
   {
    "duration": 38,
    "start_time": "2021-12-22T11:30:49.111Z"
   },
   {
    "duration": 26,
    "start_time": "2021-12-22T11:30:49.151Z"
   },
   {
    "duration": 3,
    "start_time": "2021-12-22T11:30:49.179Z"
   },
   {
    "duration": 14,
    "start_time": "2021-12-22T11:30:49.183Z"
   },
   {
    "duration": 43,
    "start_time": "2021-12-22T11:30:49.198Z"
   },
   {
    "duration": 10,
    "start_time": "2021-12-22T11:30:49.243Z"
   },
   {
    "duration": 16,
    "start_time": "2021-12-22T11:30:49.255Z"
   },
   {
    "duration": 14,
    "start_time": "2021-12-22T11:30:49.272Z"
   },
   {
    "duration": 15,
    "start_time": "2021-12-22T11:30:49.287Z"
   },
   {
    "duration": 3,
    "start_time": "2021-12-22T11:30:49.306Z"
   },
   {
    "duration": 32,
    "start_time": "2021-12-22T11:30:49.311Z"
   },
   {
    "duration": 1202,
    "start_time": "2021-12-22T11:30:49.344Z"
   },
   {
    "duration": 1183,
    "start_time": "2021-12-22T11:30:50.547Z"
   },
   {
    "duration": 2886,
    "start_time": "2021-12-22T11:30:51.732Z"
   },
   {
    "duration": 4,
    "start_time": "2021-12-22T11:30:54.619Z"
   },
   {
    "duration": 24,
    "start_time": "2021-12-22T11:30:54.625Z"
   },
   {
    "duration": 7,
    "start_time": "2021-12-22T11:30:54.651Z"
   },
   {
    "duration": 5,
    "start_time": "2021-12-22T11:30:54.660Z"
   },
   {
    "duration": 24,
    "start_time": "2021-12-22T11:30:54.666Z"
   },
   {
    "duration": 22,
    "start_time": "2021-12-22T11:30:54.691Z"
   },
   {
    "duration": 690,
    "start_time": "2021-12-22T11:30:54.714Z"
   },
   {
    "duration": 2409,
    "start_time": "2021-12-22T11:30:55.406Z"
   },
   {
    "duration": 87,
    "start_time": "2021-12-22T11:30:57.818Z"
   },
   {
    "duration": 2549,
    "start_time": "2021-12-22T11:30:57.906Z"
   },
   {
    "duration": 3,
    "start_time": "2021-12-22T11:31:00.456Z"
   },
   {
    "duration": 18,
    "start_time": "2021-12-22T11:31:00.461Z"
   },
   {
    "duration": 5,
    "start_time": "2021-12-22T11:31:00.481Z"
   },
   {
    "duration": 200,
    "start_time": "2021-12-22T11:31:00.487Z"
   },
   {
    "duration": 8,
    "start_time": "2021-12-22T11:31:00.689Z"
   },
   {
    "duration": 2063,
    "start_time": "2021-12-22T11:31:00.698Z"
   },
   {
    "duration": 2646,
    "start_time": "2021-12-22T11:31:02.762Z"
   },
   {
    "duration": 3324,
    "start_time": "2021-12-22T11:31:05.410Z"
   },
   {
    "duration": 7357,
    "start_time": "2021-12-22T11:31:08.736Z"
   },
   {
    "duration": 17,
    "start_time": "2021-12-22T11:31:16.095Z"
   },
   {
    "duration": 3,
    "start_time": "2021-12-22T11:31:16.113Z"
   },
   {
    "duration": 2153,
    "start_time": "2021-12-22T11:31:16.117Z"
   },
   {
    "duration": 3552,
    "start_time": "2021-12-22T11:31:18.271Z"
   },
   {
    "duration": 106,
    "start_time": "2021-12-22T11:31:21.824Z"
   },
   {
    "duration": 2,
    "start_time": "2021-12-22T11:31:21.932Z"
   },
   {
    "duration": 4,
    "start_time": "2021-12-22T11:31:21.941Z"
   },
   {
    "duration": 13,
    "start_time": "2021-12-22T11:31:21.946Z"
   },
   {
    "duration": 21,
    "start_time": "2021-12-22T11:31:21.960Z"
   },
   {
    "duration": 7,
    "start_time": "2021-12-22T11:31:21.982Z"
   },
   {
    "duration": 21,
    "start_time": "2021-12-22T11:31:21.990Z"
   },
   {
    "duration": 29,
    "start_time": "2021-12-22T11:31:22.012Z"
   },
   {
    "duration": 9623,
    "start_time": "2021-12-22T11:31:22.043Z"
   },
   {
    "duration": 132,
    "start_time": "2021-12-22T11:31:31.668Z"
   },
   {
    "duration": 3622,
    "start_time": "2021-12-22T11:31:31.802Z"
   },
   {
    "duration": 104,
    "start_time": "2021-12-22T11:31:35.426Z"
   },
   {
    "duration": 2299,
    "start_time": "2021-12-22T11:31:35.532Z"
   },
   {
    "duration": 35,
    "start_time": "2021-12-22T11:31:37.833Z"
   },
   {
    "duration": 12,
    "start_time": "2021-12-22T11:31:37.869Z"
   },
   {
    "duration": 5724,
    "start_time": "2021-12-22T11:31:37.882Z"
   },
   {
    "duration": 105,
    "start_time": "2021-12-22T11:31:43.607Z"
   },
   {
    "duration": 363,
    "start_time": "2021-12-22T11:34:48.450Z"
   },
   {
    "duration": 3,
    "start_time": "2021-12-22T11:36:07.688Z"
   },
   {
    "duration": 273,
    "start_time": "2021-12-22T11:36:10.511Z"
   },
   {
    "duration": 762,
    "start_time": "2021-12-22T11:36:19.347Z"
   },
   {
    "duration": 333,
    "start_time": "2021-12-22T11:36:48.800Z"
   },
   {
    "duration": 410,
    "start_time": "2021-12-22T11:38:54.955Z"
   },
   {
    "duration": 321,
    "start_time": "2021-12-22T11:39:15.822Z"
   },
   {
    "duration": 87,
    "start_time": "2021-12-22T11:40:58.459Z"
   },
   {
    "duration": 457,
    "start_time": "2021-12-22T11:41:01.056Z"
   },
   {
    "duration": 121,
    "start_time": "2021-12-22T11:42:07.891Z"
   },
   {
    "duration": 113,
    "start_time": "2021-12-22T11:42:30.462Z"
   },
   {
    "duration": 405,
    "start_time": "2021-12-22T11:42:56.765Z"
   },
   {
    "duration": 5,
    "start_time": "2021-12-22T11:44:38.888Z"
   },
   {
    "duration": 385,
    "start_time": "2021-12-22T11:44:43.149Z"
   },
   {
    "duration": 7,
    "start_time": "2021-12-22T11:56:00.336Z"
   },
   {
    "duration": 6,
    "start_time": "2021-12-22T11:57:05.803Z"
   },
   {
    "duration": 484,
    "start_time": "2021-12-22T11:57:10.451Z"
   },
   {
    "duration": 1264,
    "start_time": "2021-12-22T11:58:19.822Z"
   },
   {
    "duration": 3,
    "start_time": "2021-12-22T12:01:15.484Z"
   },
   {
    "duration": 11531,
    "start_time": "2021-12-22T12:01:24.297Z"
   },
   {
    "duration": 99,
    "start_time": "2021-12-22T12:02:13.590Z"
   },
   {
    "duration": 10666,
    "start_time": "2021-12-22T12:03:16.850Z"
   },
   {
    "duration": 95,
    "start_time": "2021-12-22T12:03:32.381Z"
   },
   {
    "duration": 3,
    "start_time": "2021-12-22T12:09:58.915Z"
   },
   {
    "duration": 294,
    "start_time": "2021-12-22T12:10:26.626Z"
   },
   {
    "duration": 3,
    "start_time": "2021-12-22T12:10:53.588Z"
   },
   {
    "duration": 18719,
    "start_time": "2021-12-22T12:11:48.262Z"
   },
   {
    "duration": 115,
    "start_time": "2021-12-22T12:12:06.984Z"
   },
   {
    "duration": 3,
    "start_time": "2021-12-22T12:13:32.152Z"
   },
   {
    "duration": 2,
    "start_time": "2021-12-22T12:13:51.190Z"
   },
   {
    "duration": 5972,
    "start_time": "2021-12-22T12:14:01.541Z"
   },
   {
    "duration": 17750,
    "start_time": "2021-12-22T12:14:15.325Z"
   },
   {
    "duration": 2655,
    "start_time": "2021-12-22T12:48:03.257Z"
   },
   {
    "duration": 1192,
    "start_time": "2021-12-22T12:48:05.915Z"
   },
   {
    "duration": 97,
    "start_time": "2021-12-22T12:48:07.109Z"
   },
   {
    "duration": 3,
    "start_time": "2021-12-22T12:48:07.208Z"
   },
   {
    "duration": 51,
    "start_time": "2021-12-22T12:48:07.212Z"
   },
   {
    "duration": 14,
    "start_time": "2021-12-22T12:48:07.264Z"
   },
   {
    "duration": 16,
    "start_time": "2021-12-22T12:48:07.279Z"
   },
   {
    "duration": 16,
    "start_time": "2021-12-22T12:48:07.297Z"
   },
   {
    "duration": 27,
    "start_time": "2021-12-22T12:48:07.316Z"
   },
   {
    "duration": 7,
    "start_time": "2021-12-22T12:48:07.345Z"
   },
   {
    "duration": 54,
    "start_time": "2021-12-22T12:48:07.353Z"
   },
   {
    "duration": 7,
    "start_time": "2021-12-22T12:48:07.409Z"
   },
   {
    "duration": 84,
    "start_time": "2021-12-22T12:48:07.417Z"
   },
   {
    "duration": 40,
    "start_time": "2021-12-22T12:48:07.502Z"
   },
   {
    "duration": 37,
    "start_time": "2021-12-22T12:48:07.544Z"
   },
   {
    "duration": 5,
    "start_time": "2021-12-22T12:48:07.583Z"
   },
   {
    "duration": 15,
    "start_time": "2021-12-22T12:48:07.590Z"
   },
   {
    "duration": 38,
    "start_time": "2021-12-22T12:48:07.607Z"
   },
   {
    "duration": 14,
    "start_time": "2021-12-22T12:48:07.647Z"
   },
   {
    "duration": 20,
    "start_time": "2021-12-22T12:48:07.663Z"
   },
   {
    "duration": 14,
    "start_time": "2021-12-22T12:48:07.684Z"
   },
   {
    "duration": 15,
    "start_time": "2021-12-22T12:48:07.700Z"
   },
   {
    "duration": 26,
    "start_time": "2021-12-22T12:48:07.717Z"
   },
   {
    "duration": 17,
    "start_time": "2021-12-22T12:48:07.745Z"
   },
   {
    "duration": 1145,
    "start_time": "2021-12-22T12:48:07.763Z"
   },
   {
    "duration": 1422,
    "start_time": "2021-12-22T12:48:08.910Z"
   },
   {
    "duration": 3206,
    "start_time": "2021-12-22T12:48:10.335Z"
   },
   {
    "duration": 6,
    "start_time": "2021-12-22T12:48:13.544Z"
   },
   {
    "duration": 29,
    "start_time": "2021-12-22T12:48:13.552Z"
   },
   {
    "duration": 10,
    "start_time": "2021-12-22T12:48:13.583Z"
   },
   {
    "duration": 12,
    "start_time": "2021-12-22T12:48:13.594Z"
   },
   {
    "duration": 23,
    "start_time": "2021-12-22T12:48:13.607Z"
   },
   {
    "duration": 32,
    "start_time": "2021-12-22T12:48:13.631Z"
   },
   {
    "duration": 776,
    "start_time": "2021-12-22T12:48:13.665Z"
   },
   {
    "duration": 2931,
    "start_time": "2021-12-22T12:48:14.443Z"
   },
   {
    "duration": 89,
    "start_time": "2021-12-22T12:48:17.377Z"
   },
   {
    "duration": 2770,
    "start_time": "2021-12-22T12:48:17.468Z"
   },
   {
    "duration": 4,
    "start_time": "2021-12-22T12:48:20.242Z"
   },
   {
    "duration": 27,
    "start_time": "2021-12-22T12:48:20.247Z"
   },
   {
    "duration": 5,
    "start_time": "2021-12-22T12:48:20.276Z"
   },
   {
    "duration": 206,
    "start_time": "2021-12-22T12:48:20.282Z"
   },
   {
    "duration": 8,
    "start_time": "2021-12-22T12:48:20.489Z"
   },
   {
    "duration": 2066,
    "start_time": "2021-12-22T12:48:20.498Z"
   },
   {
    "duration": 2641,
    "start_time": "2021-12-22T12:48:22.566Z"
   },
   {
    "duration": 3428,
    "start_time": "2021-12-22T12:48:25.209Z"
   },
   {
    "duration": 7939,
    "start_time": "2021-12-22T12:48:28.642Z"
   },
   {
    "duration": 30,
    "start_time": "2021-12-22T12:48:36.583Z"
   },
   {
    "duration": 3,
    "start_time": "2021-12-22T12:48:36.614Z"
   },
   {
    "duration": 2197,
    "start_time": "2021-12-22T12:48:36.619Z"
   },
   {
    "duration": 3565,
    "start_time": "2021-12-22T12:48:38.818Z"
   },
   {
    "duration": 115,
    "start_time": "2021-12-22T12:48:42.385Z"
   },
   {
    "duration": 2,
    "start_time": "2021-12-22T12:48:42.502Z"
   },
   {
    "duration": 27,
    "start_time": "2021-12-22T12:48:42.506Z"
   },
   {
    "duration": 42,
    "start_time": "2021-12-22T12:48:42.535Z"
   },
   {
    "duration": 26,
    "start_time": "2021-12-22T12:48:42.579Z"
   },
   {
    "duration": 7,
    "start_time": "2021-12-22T12:48:42.606Z"
   },
   {
    "duration": 42,
    "start_time": "2021-12-22T12:48:42.614Z"
   },
   {
    "duration": 17,
    "start_time": "2021-12-22T12:48:42.658Z"
   },
   {
    "duration": 10510,
    "start_time": "2021-12-22T12:48:42.677Z"
   },
   {
    "duration": 137,
    "start_time": "2021-12-22T12:48:53.189Z"
   },
   {
    "duration": 3988,
    "start_time": "2021-12-22T12:48:53.328Z"
   },
   {
    "duration": 112,
    "start_time": "2021-12-22T12:48:57.318Z"
   },
   {
    "duration": 2904,
    "start_time": "2021-12-22T12:48:57.432Z"
   },
   {
    "duration": 36,
    "start_time": "2021-12-22T12:49:00.339Z"
   },
   {
    "duration": 3,
    "start_time": "2021-12-22T12:49:00.377Z"
   },
   {
    "duration": 10787,
    "start_time": "2021-12-22T12:49:00.382Z"
   },
   {
    "duration": 113,
    "start_time": "2021-12-22T12:49:11.170Z"
   },
   {
    "duration": 18541,
    "start_time": "2021-12-22T12:49:11.285Z"
   },
   {
    "duration": 114,
    "start_time": "2021-12-22T12:49:29.827Z"
   },
   {
    "duration": 12,
    "start_time": "2021-12-22T12:49:29.943Z"
   },
   {
    "duration": 6538,
    "start_time": "2021-12-22T12:49:29.958Z"
   },
   {
    "duration": 114,
    "start_time": "2021-12-22T12:49:36.498Z"
   },
   {
    "duration": 3,
    "start_time": "2021-12-22T13:43:42.336Z"
   },
   {
    "duration": 79,
    "start_time": "2021-12-22T14:15:27.006Z"
   },
   {
    "duration": 5,
    "start_time": "2021-12-22T14:15:35.816Z"
   },
   {
    "duration": 2727,
    "start_time": "2021-12-22T15:06:50.160Z"
   },
   {
    "duration": 1254,
    "start_time": "2021-12-22T15:06:52.890Z"
   },
   {
    "duration": 99,
    "start_time": "2021-12-22T15:06:54.146Z"
   },
   {
    "duration": 3,
    "start_time": "2021-12-22T15:06:54.247Z"
   },
   {
    "duration": 45,
    "start_time": "2021-12-22T15:06:54.253Z"
   },
   {
    "duration": 41,
    "start_time": "2021-12-22T15:06:54.300Z"
   },
   {
    "duration": 9,
    "start_time": "2021-12-22T15:06:54.343Z"
   },
   {
    "duration": 16,
    "start_time": "2021-12-22T15:06:54.355Z"
   },
   {
    "duration": 8,
    "start_time": "2021-12-22T15:06:54.373Z"
   },
   {
    "duration": 5,
    "start_time": "2021-12-22T15:06:54.383Z"
   },
   {
    "duration": 76,
    "start_time": "2021-12-22T15:06:54.390Z"
   },
   {
    "duration": 11,
    "start_time": "2021-12-22T15:06:54.468Z"
   },
   {
    "duration": 105,
    "start_time": "2021-12-22T15:06:54.481Z"
   },
   {
    "duration": 14,
    "start_time": "2021-12-22T15:06:54.587Z"
   },
   {
    "duration": 66,
    "start_time": "2021-12-22T15:06:54.603Z"
   },
   {
    "duration": 5,
    "start_time": "2021-12-22T15:06:54.671Z"
   },
   {
    "duration": 15,
    "start_time": "2021-12-22T15:06:54.678Z"
   },
   {
    "duration": 47,
    "start_time": "2021-12-22T15:06:54.695Z"
   },
   {
    "duration": 12,
    "start_time": "2021-12-22T15:06:54.744Z"
   },
   {
    "duration": 19,
    "start_time": "2021-12-22T15:06:54.758Z"
   },
   {
    "duration": 23,
    "start_time": "2021-12-22T15:06:54.779Z"
   },
   {
    "duration": 40,
    "start_time": "2021-12-22T15:06:54.804Z"
   },
   {
    "duration": 5,
    "start_time": "2021-12-22T15:06:54.849Z"
   },
   {
    "duration": 8,
    "start_time": "2021-12-22T15:06:54.857Z"
   },
   {
    "duration": 1417,
    "start_time": "2021-12-22T15:06:54.867Z"
   },
   {
    "duration": 1475,
    "start_time": "2021-12-22T15:06:56.286Z"
   },
   {
    "duration": 3342,
    "start_time": "2021-12-22T15:06:57.762Z"
   },
   {
    "duration": 7,
    "start_time": "2021-12-22T15:07:01.107Z"
   },
   {
    "duration": 65,
    "start_time": "2021-12-22T15:07:01.115Z"
   },
   {
    "duration": 50,
    "start_time": "2021-12-22T15:07:01.182Z"
   },
   {
    "duration": 31,
    "start_time": "2021-12-22T15:07:01.233Z"
   },
   {
    "duration": 67,
    "start_time": "2021-12-22T15:07:01.266Z"
   },
   {
    "duration": 52,
    "start_time": "2021-12-22T15:07:01.335Z"
   },
   {
    "duration": 854,
    "start_time": "2021-12-22T15:07:01.389Z"
   },
   {
    "duration": 3274,
    "start_time": "2021-12-22T15:07:02.245Z"
   },
   {
    "duration": 98,
    "start_time": "2021-12-22T15:07:05.522Z"
   },
   {
    "duration": 2963,
    "start_time": "2021-12-22T15:07:05.622Z"
   },
   {
    "duration": 3,
    "start_time": "2021-12-22T15:07:08.587Z"
   },
   {
    "duration": 19,
    "start_time": "2021-12-22T15:07:08.591Z"
   },
   {
    "duration": 6,
    "start_time": "2021-12-22T15:07:08.611Z"
   },
   {
    "duration": 203,
    "start_time": "2021-12-22T15:07:08.618Z"
   },
   {
    "duration": 8,
    "start_time": "2021-12-22T15:07:08.822Z"
   },
   {
    "duration": 2104,
    "start_time": "2021-12-22T15:07:08.842Z"
   },
   {
    "duration": 2971,
    "start_time": "2021-12-22T15:07:10.948Z"
   },
   {
    "duration": 3690,
    "start_time": "2021-12-22T15:07:13.922Z"
   },
   {
    "duration": 8169,
    "start_time": "2021-12-22T15:07:17.614Z"
   },
   {
    "duration": 30,
    "start_time": "2021-12-22T15:07:25.785Z"
   },
   {
    "duration": 3,
    "start_time": "2021-12-22T15:07:25.817Z"
   },
   {
    "duration": 2444,
    "start_time": "2021-12-22T15:07:25.822Z"
   },
   {
    "duration": 3630,
    "start_time": "2021-12-22T15:07:28.272Z"
   },
   {
    "duration": 131,
    "start_time": "2021-12-22T15:07:31.904Z"
   },
   {
    "duration": 5,
    "start_time": "2021-12-22T15:07:32.041Z"
   },
   {
    "duration": 11,
    "start_time": "2021-12-22T15:07:32.049Z"
   },
   {
    "duration": 16,
    "start_time": "2021-12-22T15:07:32.062Z"
   },
   {
    "duration": 29,
    "start_time": "2021-12-22T15:07:32.081Z"
   },
   {
    "duration": 18,
    "start_time": "2021-12-22T15:07:32.112Z"
   },
   {
    "duration": 29,
    "start_time": "2021-12-22T15:07:32.132Z"
   },
   {
    "duration": 24,
    "start_time": "2021-12-22T15:07:32.163Z"
   },
   {
    "duration": 11357,
    "start_time": "2021-12-22T15:07:32.189Z"
   },
   {
    "duration": 172,
    "start_time": "2021-12-22T15:07:43.548Z"
   },
   {
    "duration": 4633,
    "start_time": "2021-12-22T15:07:43.722Z"
   },
   {
    "duration": 126,
    "start_time": "2021-12-22T15:07:48.357Z"
   },
   {
    "duration": 2742,
    "start_time": "2021-12-22T15:07:48.485Z"
   },
   {
    "duration": 38,
    "start_time": "2021-12-22T15:07:51.230Z"
   },
   {
    "duration": 3,
    "start_time": "2021-12-22T15:07:51.270Z"
   },
   {
    "duration": 11531,
    "start_time": "2021-12-22T15:07:51.275Z"
   },
   {
    "duration": 121,
    "start_time": "2021-12-22T15:08:02.808Z"
   },
   {
    "duration": 19899,
    "start_time": "2021-12-22T15:08:02.934Z"
   },
   {
    "duration": 124,
    "start_time": "2021-12-22T15:08:22.835Z"
   },
   {
    "duration": 9,
    "start_time": "2021-12-22T15:08:22.961Z"
   },
   {
    "duration": 6435,
    "start_time": "2021-12-22T15:08:22.972Z"
   },
   {
    "duration": 120,
    "start_time": "2021-12-22T15:08:29.408Z"
   },
   {
    "duration": 4,
    "start_time": "2021-12-22T15:08:29.530Z"
   },
   {
    "duration": 5523,
    "start_time": "2021-12-26T11:40:48.181Z"
   },
   {
    "duration": 1479,
    "start_time": "2021-12-26T11:40:53.707Z"
   },
   {
    "duration": 112,
    "start_time": "2021-12-26T11:40:55.191Z"
   },
   {
    "duration": 4,
    "start_time": "2021-12-26T11:40:55.305Z"
   },
   {
    "duration": 63,
    "start_time": "2021-12-26T11:40:55.312Z"
   },
   {
    "duration": 22,
    "start_time": "2021-12-26T11:40:55.377Z"
   },
   {
    "duration": 12,
    "start_time": "2021-12-26T11:40:55.401Z"
   },
   {
    "duration": 54,
    "start_time": "2021-12-26T11:40:55.417Z"
   },
   {
    "duration": 11,
    "start_time": "2021-12-26T11:40:55.474Z"
   },
   {
    "duration": 8,
    "start_time": "2021-12-26T11:40:55.487Z"
   },
   {
    "duration": 83,
    "start_time": "2021-12-26T11:40:55.498Z"
   },
   {
    "duration": 14,
    "start_time": "2021-12-26T11:40:55.583Z"
   },
   {
    "duration": 169,
    "start_time": "2021-12-26T11:40:55.600Z"
   },
   {
    "duration": 20,
    "start_time": "2021-12-26T11:40:55.772Z"
   },
   {
    "duration": 90,
    "start_time": "2021-12-26T11:40:55.794Z"
   },
   {
    "duration": 6,
    "start_time": "2021-12-26T11:40:55.886Z"
   },
   {
    "duration": 18,
    "start_time": "2021-12-26T11:40:55.895Z"
   },
   {
    "duration": 53,
    "start_time": "2021-12-26T11:40:55.915Z"
   },
   {
    "duration": 18,
    "start_time": "2021-12-26T11:40:55.970Z"
   },
   {
    "duration": 27,
    "start_time": "2021-12-26T11:40:55.990Z"
   },
   {
    "duration": 46,
    "start_time": "2021-12-26T11:40:56.019Z"
   },
   {
    "duration": 24,
    "start_time": "2021-12-26T11:40:56.068Z"
   },
   {
    "duration": 4,
    "start_time": "2021-12-26T11:40:56.098Z"
   },
   {
    "duration": 6,
    "start_time": "2021-12-26T11:40:56.106Z"
   },
   {
    "duration": 2027,
    "start_time": "2021-12-26T11:40:56.116Z"
   },
   {
    "duration": 2159,
    "start_time": "2021-12-26T11:40:58.146Z"
   },
   {
    "duration": 5194,
    "start_time": "2021-12-26T11:41:00.308Z"
   },
   {
    "duration": 7,
    "start_time": "2021-12-26T11:41:05.505Z"
   },
   {
    "duration": 16,
    "start_time": "2021-12-26T11:41:05.515Z"
   },
   {
    "duration": 10,
    "start_time": "2021-12-26T11:41:05.564Z"
   },
   {
    "duration": 9,
    "start_time": "2021-12-26T11:41:05.576Z"
   },
   {
    "duration": 35,
    "start_time": "2021-12-26T11:41:05.587Z"
   },
   {
    "duration": 66,
    "start_time": "2021-12-26T11:41:05.624Z"
   },
   {
    "duration": 1266,
    "start_time": "2021-12-26T11:41:05.692Z"
   },
   {
    "duration": 4634,
    "start_time": "2021-12-26T11:41:06.963Z"
   },
   {
    "duration": 272,
    "start_time": "2021-12-26T11:41:11.600Z"
   },
   {
    "duration": 5446,
    "start_time": "2021-12-26T11:41:11.875Z"
   },
   {
    "duration": 4,
    "start_time": "2021-12-26T11:41:17.324Z"
   },
   {
    "duration": 38,
    "start_time": "2021-12-26T11:41:17.331Z"
   },
   {
    "duration": 11,
    "start_time": "2021-12-26T11:41:17.372Z"
   },
   {
    "duration": 430,
    "start_time": "2021-12-26T11:41:17.386Z"
   },
   {
    "duration": 12,
    "start_time": "2021-12-26T11:41:17.819Z"
   },
   {
    "duration": 3743,
    "start_time": "2021-12-26T11:41:17.833Z"
   },
   {
    "duration": 2235,
    "start_time": "2021-12-26T11:41:21.579Z"
   },
   {
    "duration": 4662,
    "start_time": "2021-12-26T11:41:23.816Z"
   },
   {
    "duration": 11864,
    "start_time": "2021-12-26T11:41:28.480Z"
   },
   {
    "duration": 27,
    "start_time": "2021-12-26T11:41:40.347Z"
   },
   {
    "duration": 4,
    "start_time": "2021-12-26T11:41:40.377Z"
   },
   {
    "duration": 3674,
    "start_time": "2021-12-26T11:41:40.383Z"
   },
   {
    "duration": 5769,
    "start_time": "2021-12-26T11:41:44.062Z"
   },
   {
    "duration": 170,
    "start_time": "2021-12-26T11:41:49.834Z"
   },
   {
    "duration": 3,
    "start_time": "2021-12-26T11:41:50.007Z"
   },
   {
    "duration": 7,
    "start_time": "2021-12-26T11:41:50.013Z"
   },
   {
    "duration": 9,
    "start_time": "2021-12-26T11:41:50.022Z"
   },
   {
    "duration": 38,
    "start_time": "2021-12-26T11:41:50.034Z"
   },
   {
    "duration": 10,
    "start_time": "2021-12-26T11:41:50.075Z"
   },
   {
    "duration": 31,
    "start_time": "2021-12-26T11:41:50.088Z"
   },
   {
    "duration": 64,
    "start_time": "2021-12-26T11:41:50.122Z"
   },
   {
    "duration": 16952,
    "start_time": "2021-12-26T11:41:50.189Z"
   },
   {
    "duration": 222,
    "start_time": "2021-12-26T11:42:07.144Z"
   },
   {
    "duration": 6544,
    "start_time": "2021-12-26T11:42:07.369Z"
   },
   {
    "duration": 166,
    "start_time": "2021-12-26T11:42:13.916Z"
   },
   {
    "duration": 11468,
    "start_time": "2021-12-26T11:42:14.085Z"
   },
   {
    "duration": 680,
    "start_time": "2021-12-26T11:42:25.556Z"
   },
   {
    "duration": -893,
    "start_time": "2021-12-26T11:42:27.133Z"
   },
   {
    "duration": -895,
    "start_time": "2021-12-26T11:42:27.136Z"
   },
   {
    "duration": -894,
    "start_time": "2021-12-26T11:42:27.137Z"
   },
   {
    "duration": -895,
    "start_time": "2021-12-26T11:42:27.139Z"
   },
   {
    "duration": -896,
    "start_time": "2021-12-26T11:42:27.141Z"
   },
   {
    "duration": -896,
    "start_time": "2021-12-26T11:42:27.143Z"
   },
   {
    "duration": -895,
    "start_time": "2021-12-26T11:42:27.145Z"
   },
   {
    "duration": -896,
    "start_time": "2021-12-26T11:42:27.147Z"
   },
   {
    "duration": -895,
    "start_time": "2021-12-26T11:42:27.148Z"
   },
   {
    "duration": 3828,
    "start_time": "2021-12-26T11:53:11.564Z"
   },
   {
    "duration": 2099,
    "start_time": "2021-12-26T11:53:15.396Z"
   },
   {
    "duration": 133,
    "start_time": "2021-12-26T11:53:17.500Z"
   },
   {
    "duration": 6,
    "start_time": "2021-12-26T11:53:17.636Z"
   },
   {
    "duration": 62,
    "start_time": "2021-12-26T11:53:17.645Z"
   },
   {
    "duration": 24,
    "start_time": "2021-12-26T11:53:17.709Z"
   },
   {
    "duration": 12,
    "start_time": "2021-12-26T11:53:17.764Z"
   },
   {
    "duration": 22,
    "start_time": "2021-12-26T11:53:17.780Z"
   },
   {
    "duration": 10,
    "start_time": "2021-12-26T11:53:17.805Z"
   },
   {
    "duration": 51,
    "start_time": "2021-12-26T11:53:17.817Z"
   },
   {
    "duration": 52,
    "start_time": "2021-12-26T11:53:17.870Z"
   },
   {
    "duration": 15,
    "start_time": "2021-12-26T11:53:17.964Z"
   },
   {
    "duration": 120,
    "start_time": "2021-12-26T11:53:17.981Z"
   },
   {
    "duration": 20,
    "start_time": "2021-12-26T11:53:18.103Z"
   },
   {
    "duration": 47,
    "start_time": "2021-12-26T11:53:18.164Z"
   },
   {
    "duration": 5,
    "start_time": "2021-12-26T11:53:18.214Z"
   },
   {
    "duration": 57,
    "start_time": "2021-12-26T11:53:18.221Z"
   },
   {
    "duration": 17,
    "start_time": "2021-12-26T11:53:18.280Z"
   },
   {
    "duration": 16,
    "start_time": "2021-12-26T11:53:18.299Z"
   },
   {
    "duration": 63,
    "start_time": "2021-12-26T11:53:18.317Z"
   },
   {
    "duration": 31,
    "start_time": "2021-12-26T11:53:18.382Z"
   },
   {
    "duration": 24,
    "start_time": "2021-12-26T11:53:18.416Z"
   },
   {
    "duration": 5,
    "start_time": "2021-12-26T11:53:18.466Z"
   },
   {
    "duration": 7,
    "start_time": "2021-12-26T11:53:18.477Z"
   },
   {
    "duration": 2836,
    "start_time": "2021-12-26T11:53:18.486Z"
   },
   {
    "duration": 3051,
    "start_time": "2021-12-26T11:53:21.325Z"
   },
   {
    "duration": 6780,
    "start_time": "2021-12-26T11:53:24.379Z"
   },
   {
    "duration": 11,
    "start_time": "2021-12-26T11:53:31.164Z"
   },
   {
    "duration": 21,
    "start_time": "2021-12-26T11:53:31.178Z"
   },
   {
    "duration": 11,
    "start_time": "2021-12-26T11:53:31.202Z"
   },
   {
    "duration": 56,
    "start_time": "2021-12-26T11:53:31.215Z"
   },
   {
    "duration": 53,
    "start_time": "2021-12-26T11:53:31.274Z"
   },
   {
    "duration": 74,
    "start_time": "2021-12-26T11:53:31.330Z"
   },
   {
    "duration": 1442,
    "start_time": "2021-12-26T11:53:31.407Z"
   },
   {
    "duration": 4108,
    "start_time": "2021-12-26T11:53:32.852Z"
   },
   {
    "duration": 200,
    "start_time": "2021-12-26T11:53:36.963Z"
   },
   {
    "duration": 4309,
    "start_time": "2021-12-26T11:53:37.165Z"
   },
   {
    "duration": 5,
    "start_time": "2021-12-26T11:53:41.477Z"
   },
   {
    "duration": 25,
    "start_time": "2021-12-26T11:53:41.484Z"
   },
   {
    "duration": 11,
    "start_time": "2021-12-26T11:53:41.513Z"
   },
   {
    "duration": 346,
    "start_time": "2021-12-26T11:53:41.526Z"
   },
   {
    "duration": 11,
    "start_time": "2021-12-26T11:53:41.874Z"
   },
   {
    "duration": 2715,
    "start_time": "2021-12-26T11:53:41.888Z"
   },
   {
    "duration": 4099,
    "start_time": "2021-12-26T11:53:44.607Z"
   },
   {
    "duration": 4906,
    "start_time": "2021-12-26T11:53:48.716Z"
   },
   {
    "duration": 13183,
    "start_time": "2021-12-26T11:53:53.624Z"
   },
   {
    "duration": 28,
    "start_time": "2021-12-26T11:54:06.810Z"
   },
   {
    "duration": 5,
    "start_time": "2021-12-26T11:54:06.841Z"
   },
   {
    "duration": 5108,
    "start_time": "2021-12-26T11:54:06.849Z"
   },
   {
    "duration": 8105,
    "start_time": "2021-12-26T11:54:11.963Z"
   },
   {
    "duration": 251,
    "start_time": "2021-12-26T11:54:20.071Z"
   },
   {
    "duration": 4,
    "start_time": "2021-12-26T11:54:20.325Z"
   },
   {
    "duration": 7,
    "start_time": "2021-12-26T11:54:20.332Z"
   },
   {
    "duration": 8,
    "start_time": "2021-12-26T11:54:20.363Z"
   },
   {
    "duration": 17,
    "start_time": "2021-12-26T11:54:20.373Z"
   },
   {
    "duration": 13,
    "start_time": "2021-12-26T11:54:20.392Z"
   },
   {
    "duration": 72,
    "start_time": "2021-12-26T11:54:20.407Z"
   },
   {
    "duration": 25,
    "start_time": "2021-12-26T11:54:20.481Z"
   },
   {
    "duration": 16855,
    "start_time": "2021-12-26T11:54:20.509Z"
   },
   {
    "duration": 216,
    "start_time": "2021-12-26T11:54:37.367Z"
   },
   {
    "duration": 6619,
    "start_time": "2021-12-26T11:54:37.586Z"
   },
   {
    "duration": 460,
    "start_time": "2021-12-26T11:54:44.208Z"
   },
   {
    "duration": 3936,
    "start_time": "2021-12-26T11:54:44.671Z"
   },
   {
    "duration": 61,
    "start_time": "2021-12-26T11:54:48.610Z"
   },
   {
    "duration": 5,
    "start_time": "2021-12-26T11:54:48.674Z"
   },
   {
    "duration": 15807,
    "start_time": "2021-12-26T11:54:48.682Z"
   },
   {
    "duration": 183,
    "start_time": "2021-12-26T11:55:04.492Z"
   },
   {
    "duration": 23326,
    "start_time": "2021-12-26T11:55:04.685Z"
   },
   {
    "duration": 183,
    "start_time": "2021-12-26T11:55:28.014Z"
   },
   {
    "duration": 16,
    "start_time": "2021-12-26T11:55:28.200Z"
   },
   {
    "duration": 10303,
    "start_time": "2021-12-26T11:55:28.218Z"
   },
   {
    "duration": 181,
    "start_time": "2021-12-26T11:55:38.524Z"
   },
   {
    "duration": 7,
    "start_time": "2021-12-26T11:55:38.708Z"
   },
   {
    "duration": 6,
    "start_time": "2021-12-26T14:37:32.755Z"
   }
  ],
  "kernelspec": {
   "display_name": "Python 3 (ipykernel)",
   "language": "python",
   "name": "python3"
  },
  "language_info": {
   "codemirror_mode": {
    "name": "ipython",
    "version": 3
   },
   "file_extension": ".py",
   "mimetype": "text/x-python",
   "name": "python",
   "nbconvert_exporter": "python",
   "pygments_lexer": "ipython3",
   "version": "3.9.7"
  },
  "toc": {
   "base_numbering": 1,
   "nav_menu": {},
   "number_sections": true,
   "sideBar": true,
   "skip_h1_title": true,
   "title_cell": "Table of Contents",
   "title_sidebar": "Contents",
   "toc_cell": false,
   "toc_position": {},
   "toc_section_display": true,
   "toc_window_display": false
  }
 },
 "nbformat": 4,
 "nbformat_minor": 2
}
